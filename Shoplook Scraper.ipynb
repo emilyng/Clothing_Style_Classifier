{
 "cells": [
  {
   "cell_type": "code",
   "execution_count": 1,
   "metadata": {
    "ExecuteTime": {
     "end_time": "2020-09-11T03:09:45.545769Z",
     "start_time": "2020-09-11T03:09:43.754548Z"
    }
   },
   "outputs": [],
   "source": [
    "from bs4 import BeautifulSoup\n",
    "import requests\n",
    "import time, os\n",
    "import io\n",
    "from PIL import Image\n",
    "import hashlib\n",
    "\n",
    "import pandas as pd\n",
    "from tqdm import tqdm\n",
    "from time import sleep\n",
    "\n",
    "from selenium import webdriver\n",
    "from selenium.webdriver.common.keys import Keys\n",
    "\n",
    "chromedriver = \"/Applications/chromedriver\" # path to the chromedriver executable\n",
    "os.environ[\"webdriver.chrome.driver\"] = chromedriver"
   ]
  },
  {
   "cell_type": "code",
   "execution_count": 2,
   "metadata": {
    "ExecuteTime": {
     "end_time": "2020-09-11T03:09:46.053822Z",
     "start_time": "2020-09-11T03:09:46.044554Z"
    }
   },
   "outputs": [],
   "source": [
    "'''\n",
    "Code credit: \n",
    "https://medium.com/swlh/web-scraping-stock-images-using-google-selenium-and-python-8b825ba649b9\n",
    "'''\n",
    "def persist_image(folder_path:str,url:str):\n",
    "    try:\n",
    "        image_content = requests.get(url).content\n",
    "        \n",
    "    except Exception as e:\n",
    "        print(f\"ERROR - Could not download {url} - {e}\")\n",
    "    try:\n",
    "        image_file = io.BytesIO(image_content)\n",
    "        image = Image.open(image_file).convert('RGB')\n",
    "        file_path = os.path.join(folder_path, hashlib.sha1(url.encode('utf-8')).hexdigest()[:10] + '.jpg')\n",
    "        with open(file_path, 'wb') as f:\n",
    "            image.save(f, \"JPEG\", quality=85)\n",
    "        print(f\"SUCCESS - saved {url} - as {file_path}\")\n",
    "    except Exception as e:\n",
    "        print(f\"ERROR - Could not save {url} - {e}\")"
   ]
  },
  {
   "cell_type": "code",
   "execution_count": 3,
   "metadata": {
    "ExecuteTime": {
     "end_time": "2020-09-11T03:09:47.405769Z",
     "start_time": "2020-09-11T03:09:47.394731Z"
    }
   },
   "outputs": [],
   "source": [
    "class ContextItem:\n",
    "    \n",
    "    def __init__(self, ctx_item):\n",
    "        self.contents = ctx_item\n",
    "        self.index = None\n",
    "        self.brand = None\n",
    "        self.name = None\n",
    "        self.price = None\n",
    "        self.likes = None\n",
    "        self.product_url = None\n",
    "        self.image_url = None\n",
    "        self.image_path = None\n",
    "        \n",
    "    def get_data(self, i):\n",
    "        self.index = i\n",
    "        \n",
    "        try:\n",
    "            self.brand = self.contents.find(class_='brand').get_text()\n",
    "        except:\n",
    "            pass\n",
    "        \n",
    "        try:\n",
    "            self.name = self.contents.find(class_='description').get_text()\n",
    "        except:\n",
    "            pass\n",
    "               \n",
    "        try:\n",
    "            self.price = float(self.contents.find(class_='price').get_text()[1:])\n",
    "        except:\n",
    "            pass\n",
    "        \n",
    "        try:\n",
    "            self.likes = int(self.contents.find(class_='like-count').get_text().strip())\n",
    "        except:\n",
    "            pass\n",
    "        \n",
    "        self.product_url = 'https://shoplook.io'+ self.contents.a.get('href')\n",
    "        self.image_url = self.contents.img['src']\n",
    "        self.image_path = os.path.join(hashlib.sha1(self.image_url.encode('utf-8')).hexdigest()[:10] + '.jpg')\n",
    "                "
   ]
  },
  {
   "cell_type": "code",
   "execution_count": 4,
   "metadata": {
    "ExecuteTime": {
     "end_time": "2020-09-11T03:10:10.238043Z",
     "start_time": "2020-09-11T03:09:53.696520Z"
    }
   },
   "outputs": [],
   "source": [
    "url = 'https://shoplook.io/discover/all/search?sort=trending&q=' + 'date night'\n",
    "driver = webdriver.Chrome(chromedriver)\n",
    "driver.get(url)"
   ]
  },
  {
   "cell_type": "code",
   "execution_count": 5,
   "metadata": {
    "ExecuteTime": {
     "end_time": "2020-09-11T03:11:16.780965Z",
     "start_time": "2020-09-11T03:11:15.022310Z"
    }
   },
   "outputs": [],
   "source": [
    "#need to manually scroll and then form the soup\n",
    "soup = BeautifulSoup(driver.page_source, 'lxml')\n",
    "\n",
    "items = soup.find_all('a', class_='feed-outfit')\n",
    "hrefs = list()\n",
    "for item in items:\n",
    "    hrefs.append(item.get('href'))"
   ]
  },
  {
   "cell_type": "code",
   "execution_count": 6,
   "metadata": {
    "ExecuteTime": {
     "end_time": "2020-09-11T03:11:17.688039Z",
     "start_time": "2020-09-11T03:11:17.670338Z"
    }
   },
   "outputs": [
    {
     "data": {
      "text/plain": [
       "300"
      ]
     },
     "execution_count": 6,
     "metadata": {},
     "output_type": "execute_result"
    }
   ],
   "source": [
    "len(hrefs)"
   ]
  },
  {
   "cell_type": "code",
   "execution_count": 9,
   "metadata": {
    "ExecuteTime": {
     "end_time": "2020-09-11T03:32:32.273578Z",
     "start_time": "2020-09-11T03:13:27.692319Z"
    },
    "scrolled": true
   },
   "outputs": [
    {
     "name": "stderr",
     "output_type": "stream",
     "text": [
      "\r",
      "  0%|          | 0/300 [00:00<?, ?it/s]"
     ]
    },
    {
     "name": "stdout",
     "output_type": "stream",
     "text": [
      "SUCCESS - saved https://d2bzx2vuetkzse.cloudfront.net/fit-in/0x450/unshoppable_producs/c0d9ecb5-bbd2-4480-9cd4-2358f2e5ff4c.jpeg - as ./shoplook/data/images/date_night/814c08ef4f.jpg\n",
      "SUCCESS - saved https://d2bzx2vuetkzse.cloudfront.net/fit-in/0x450/unshoppable_producs/fd93a771-3591-48f5-9557-38810e0694b0.jpeg - as ./shoplook/data/images/date_night/321731602d.jpg\n",
      "SUCCESS - saved https://d2bzx2vuetkzse.cloudfront.net/fit-in/0x450/unshoppable_producs/6da27dd7-646d-404c-931f-e966a4ba8159.jpeg - as ./shoplook/data/images/date_night/bd814fbbba.jpg\n",
      "SUCCESS - saved https://d2bzx2vuetkzse.cloudfront.net/fit-in/0x450/unshoppable_producs/79c7b727-39a0-40b4-8ec5-299e42c76aa0.jpeg - as ./shoplook/data/images/date_night/a76312684f.jpg\n",
      "SUCCESS - saved https://d2bzx2vuetkzse.cloudfront.net/fit-in/0x450/unshoppable_producs/187731a8-c250-4fc7-969a-5feaa8373136.jpeg - as ./shoplook/data/images/date_night/67ba6a0045.jpg\n",
      "SUCCESS - saved https://d2bzx2vuetkzse.cloudfront.net/fit-in/0x450/unshoppable_producs/3e8a7d5c-7048-4bd1-b54a-51bd0ff4ffa6.jpeg - as ./shoplook/data/images/date_night/50e7b445aa.jpg\n",
      "SUCCESS - saved https://d2bzx2vuetkzse.cloudfront.net/fit-in/0x450/unshoppable_producs/536353c0-18ad-4f25-b5fa-658e2e83178a.jpeg - as ./shoplook/data/images/date_night/a31bd9339f.jpg\n",
      "SUCCESS - saved https://d2bzx2vuetkzse.cloudfront.net/fit-in/0x450/unshoppable_producs/80fa3b16-5710-428d-90c8-1b4e9190ad45.jpg - as ./shoplook/data/images/date_night/3ec38679ae.jpg\n",
      "SUCCESS - saved https://d2bzx2vuetkzse.cloudfront.net/fit-in/0x450/unshoppable_producs/9fc17d07-7644-4678-96fb-b5c710b4b4ee.jpeg - as ./shoplook/data/images/date_night/eb0babffd5.jpg\n",
      "SUCCESS - saved https://d2bzx2vuetkzse.cloudfront.net/fit-in/0x450/unshoppable_producs/546701ef-6221-4e24-ba31-2c59614d7d45.jpeg - as ./shoplook/data/images/date_night/cbd4817cf8.jpg\n",
      "SUCCESS - saved https://d2bzx2vuetkzse.cloudfront.net/fit-in/0x450/unshoppable_producs/f643c264-ef64-4859-8460-e8ac3835a94d.jpeg - as ./shoplook/data/images/date_night/d0d3d35a48.jpg\n",
      "SUCCESS - saved https://d2bzx2vuetkzse.cloudfront.net/fit-in/0x450/unshoppable_producs/493e43d7-b488-4a80-bb5a-fecd6b3b9d5e.jpeg - as ./shoplook/data/images/date_night/1ae4d3c9ac.jpg\n"
     ]
    },
    {
     "name": "stderr",
     "output_type": "stream",
     "text": [
      "\r",
      "  0%|          | 1/300 [00:14<1:13:43, 14.79s/it]"
     ]
    },
    {
     "name": "stdout",
     "output_type": "stream",
     "text": [
      "SUCCESS - saved https://d2bzx2vuetkzse.cloudfront.net/fit-in/0x450/unshoppable_producs/5e342609-60e5-4619-8fce-e8f65b6797ec.jpg - as ./shoplook/data/images/date_night/a343070d5e.jpg\n",
      "SUCCESS - saved https://d2bzx2vuetkzse.cloudfront.net/fit-in/0x450/unshoppable_producs/2df621f0-2968-4fd1-8410-8204110cbab6.jpg - as ./shoplook/data/images/date_night/17ebec6622.jpg\n",
      "SUCCESS - saved https://d2bzx2vuetkzse.cloudfront.net/fit-in/0x450/unshoppable_producs/99954f0a-8abf-43fe-b219-01feb6e425a2.jpeg - as ./shoplook/data/images/date_night/1924c09900.jpg\n"
     ]
    },
    {
     "name": "stderr",
     "output_type": "stream",
     "text": [
      "/Users/emilyng/anaconda3/envs/metis/lib/python3.8/site-packages/PIL/Image.py:959: UserWarning: Palette images with Transparency expressed in bytes should be converted to RGBA images\n",
      "  warnings.warn(\n"
     ]
    },
    {
     "name": "stdout",
     "output_type": "stream",
     "text": [
      "SUCCESS - saved https://d2bzx2vuetkzse.cloudfront.net/fit-in/0x450/unshoppable_producs/f99239bf-fbb0-4891-8054-9e6a138b8fc8.png - as ./shoplook/data/images/date_night/158b585590.jpg\n",
      "SUCCESS - saved https://d2bzx2vuetkzse.cloudfront.net/fit-in/0x450/unshoppable_producs/cbdfad6a-0e63-4b47-915e-3f8c534d9110.jpeg - as ./shoplook/data/images/date_night/28ea82f1e4.jpg\n",
      "SUCCESS - saved https://d2bzx2vuetkzse.cloudfront.net/fit-in/0x450/unshoppable_producs/3a118b7c-85ec-4f13-bd3c-efa0adb90563.jpeg - as ./shoplook/data/images/date_night/2ac35b4083.jpg\n",
      "SUCCESS - saved https://d2bzx2vuetkzse.cloudfront.net/fit-in/0x450/unshoppable_producs/80a7efa5-3b20-4a9c-a1b6-ccd93e632712.jpeg - as ./shoplook/data/images/date_night/046cd78972.jpg\n",
      "SUCCESS - saved https://d2bzx2vuetkzse.cloudfront.net/fit-in/0x450/unshoppable_producs/d7e9a427-ded3-4a07-a88e-c10c858cc6b7.jpeg - as ./shoplook/data/images/date_night/50fdebe403.jpg\n",
      "SUCCESS - saved https://d2bzx2vuetkzse.cloudfront.net/fit-in/0x450/unshoppable_producs/9ab474e7-7560-4b08-90ef-c61cb4b15da1.jpeg - as ./shoplook/data/images/date_night/d9e8471cc4.jpg\n",
      "SUCCESS - saved https://d2bzx2vuetkzse.cloudfront.net/fit-in/0x450/unshoppable_producs/b603efa7-89a0-48e3-acee-2a50801cd409.jpeg - as ./shoplook/data/images/date_night/89fe1b8e86.jpg\n",
      "SUCCESS - saved https://d2bzx2vuetkzse.cloudfront.net/fit-in/0x450/unshoppable_producs/46bb12d9-d811-44ab-aa90-eb9a4e0e7816.jpeg - as ./shoplook/data/images/date_night/78b0b508a5.jpg\n",
      "SUCCESS - saved https://d2bzx2vuetkzse.cloudfront.net/fit-in/0x450/unshoppable_producs/bf7c5d1a-0c33-4828-af82-606b57aaa699.jpeg - as ./shoplook/data/images/date_night/5cb02b6ac9.jpg\n",
      "SUCCESS - saved https://d2bzx2vuetkzse.cloudfront.net/fit-in/0x450/unshoppable_producs/f4ce2709-b134-4ac1-9f60-195380100924.jpeg - as ./shoplook/data/images/date_night/98887b72f5.jpg\n",
      "SUCCESS - saved https://d2bzx2vuetkzse.cloudfront.net/fit-in/0x450/unshoppable_producs/81143dae-5c6a-42c1-a627-6ec6b810e34d.jpeg - as ./shoplook/data/images/date_night/719adae109.jpg\n",
      "SUCCESS - saved https://d2bzx2vuetkzse.cloudfront.net/fit-in/0x450/unshoppable_producs/e296b533-5e61-44ae-9d66-1745ed403996.jpeg - as ./shoplook/data/images/date_night/1da940576d.jpg\n",
      "SUCCESS - saved https://d2bzx2vuetkzse.cloudfront.net/fit-in/0x450/unshoppable_producs/ea1a0b05-5ea8-400d-b0bf-9e662811e7da.jpeg - as ./shoplook/data/images/date_night/953a377c81.jpg\n",
      "SUCCESS - saved https://d2bzx2vuetkzse.cloudfront.net/fit-in/0x450/unshoppable_producs/fe51b140-c25d-4879-a3dd-7dff58806e0a.png - as ./shoplook/data/images/date_night/a89d434b70.jpg\n"
     ]
    },
    {
     "name": "stderr",
     "output_type": "stream",
     "text": [
      "\r",
      "  1%|          | 2/300 [00:34<1:20:49, 16.27s/it]"
     ]
    },
    {
     "name": "stdout",
     "output_type": "stream",
     "text": [
      "SUCCESS - saved https://d2bzx2vuetkzse.cloudfront.net/fit-in/0x450/unshoppable_producs/8f575186-768b-404d-91da-35436d876e0e.jpeg - as ./shoplook/data/images/date_night/a4e1a7cf64.jpg\n",
      "SUCCESS - saved https://d2bzx2vuetkzse.cloudfront.net/fit-in/0x450/unshoppable_producs/e0589e78-c189-4e10-9428-94bfd2acfab0.jpeg - as ./shoplook/data/images/date_night/0141ea4b53.jpg\n",
      "SUCCESS - saved https://d2bzx2vuetkzse.cloudfront.net/fit-in/0x450/unshoppable_producs/670787e3-b0e9-474d-a2f1-e49f3c90283a.jpeg - as ./shoplook/data/images/date_night/b3c323a000.jpg\n",
      "SUCCESS - saved https://d2bzx2vuetkzse.cloudfront.net/fit-in/0x450/unshoppable_producs/57fbffc5-b699-4561-a76c-82b1faaa2616.jpeg - as ./shoplook/data/images/date_night/b262ae85d7.jpg\n",
      "SUCCESS - saved https://d2bzx2vuetkzse.cloudfront.net/fit-in/0x450/unshoppable_producs/def24e09-20e8-4701-b258-01771fc35e4e.jpeg - as ./shoplook/data/images/date_night/6e1a240e29.jpg\n"
     ]
    },
    {
     "name": "stderr",
     "output_type": "stream",
     "text": [
      "\r",
      "  1%|          | 3/300 [00:48<1:16:32, 15.46s/it]"
     ]
    },
    {
     "name": "stdout",
     "output_type": "stream",
     "text": [
      "SUCCESS - saved https://d2bzx2vuetkzse.cloudfront.net/fit-in/0x450/unshoppable_producs/d5649fec-639f-4fdd-a9f5-0073ed29bea5.jpeg - as ./shoplook/data/images/date_night/40a3d528a8.jpg\n",
      "SUCCESS - saved https://d2bzx2vuetkzse.cloudfront.net/fit-in/0x450/unshoppable_producs/9d01a021-0661-423a-b95e-7c8b35f5cfb0.jpg - as ./shoplook/data/images/date_night/7a5d527213.jpg\n",
      "SUCCESS - saved https://d2bzx2vuetkzse.cloudfront.net/fit-in/0x450/unshoppable_producs/e63f5a38-c262-4f05-849c-fca670a3d410.jpg - as ./shoplook/data/images/date_night/7bca92521e.jpg\n",
      "SUCCESS - saved https://d2bzx2vuetkzse.cloudfront.net/fit-in/0x450/unshoppable_producs/08b8443d-8697-42d3-8b48-bbfd6d5ceb10.jpg - as ./shoplook/data/images/date_night/292eb6bb53.jpg\n",
      "SUCCESS - saved https://d2bzx2vuetkzse.cloudfront.net/fit-in/0x450/unshoppable_producs/b180cadc-f346-46e8-a9ee-95c02da0531b.jpg - as ./shoplook/data/images/date_night/a603addd84.jpg\n",
      "SUCCESS - saved https://d2bzx2vuetkzse.cloudfront.net/fit-in/0x450/unshoppable_producs/dbd6fe57-b523-4126-9e09-d6cff88c154d.jpg - as ./shoplook/data/images/date_night/183b4cf327.jpg\n",
      "SUCCESS - saved https://d2bzx2vuetkzse.cloudfront.net/fit-in/0x450/unshoppable_producs/ea6517b9-362e-4c29-9752-48bae9e4e6c5.jpg - as ./shoplook/data/images/date_night/a10fc0f6b7.jpg\n",
      "SUCCESS - saved https://d2bzx2vuetkzse.cloudfront.net/fit-in/0x450/unshoppable_producs/3dac3e69-b0ff-4146-85dd-9143edb82812.jpg - as ./shoplook/data/images/date_night/c732c5bc0b.jpg\n",
      "SUCCESS - saved https://d2bzx2vuetkzse.cloudfront.net/fit-in/0x450/unshoppable_producs/16abbccf-0c73-40da-8b79-3ebed0933d04.jpg - as ./shoplook/data/images/date_night/71ed9980a3.jpg\n",
      "SUCCESS - saved https://d2bzx2vuetkzse.cloudfront.net/fit-in/0x450/unshoppable_producs/20d51a19-e28a-4140-923f-432702ad2822.jpeg - as ./shoplook/data/images/date_night/f3cb4fe2a9.jpg\n",
      "SUCCESS - saved https://d2bzx2vuetkzse.cloudfront.net/fit-in/0x450/unshoppable_producs/174fbb7c-5907-43e2-8335-465d47bd5209.jpg - as ./shoplook/data/images/date_night/b863df2d6d.jpg\n",
      "SUCCESS - saved https://d2bzx2vuetkzse.cloudfront.net/fit-in/0x450/unshoppable_producs/ff34c27c-7cc0-488a-9eb2-307a8b1ff847.jpeg - as ./shoplook/data/images/date_night/8e3b967e12.jpg\n",
      "SUCCESS - saved https://d2bzx2vuetkzse.cloudfront.net/fit-in/0x450/unshoppable_producs/51e305fc-d891-440f-8d57-67618245dce5.jpeg - as ./shoplook/data/images/date_night/1d52f7e7a9.jpg\n"
     ]
    },
    {
     "name": "stderr",
     "output_type": "stream",
     "text": [
      "\r",
      "  1%|▏         | 4/300 [01:02<1:14:34, 15.12s/it]"
     ]
    },
    {
     "name": "stdout",
     "output_type": "stream",
     "text": [
      "SUCCESS - saved https://d2bzx2vuetkzse.cloudfront.net/fit-in/0x450/unshoppable_producs/5eb8de25-3acc-4dcf-abad-faa75acb319c.webp - as ./shoplook/data/images/date_night/e4299a2467.jpg\n",
      "SUCCESS - saved https://d2bzx2vuetkzse.cloudfront.net/fit-in/0x450/unshoppable_producs/fca96185-f94e-4457-9be0-451d8965a712.jpg - as ./shoplook/data/images/date_night/d3053b8f26.jpg\n",
      "SUCCESS - saved https://d2bzx2vuetkzse.cloudfront.net/fit-in/0x450/unshoppable_producs/b2ba69c1-5356-4f6c-8aaa-d565b99b1467.jpeg - as ./shoplook/data/images/date_night/45b54d32a0.jpg\n",
      "SUCCESS - saved https://d2bzx2vuetkzse.cloudfront.net/fit-in/0x450/unshoppable_producs/81f176cf-b964-4ad1-9ec2-ff1fbc8dc6a3.jpeg - as ./shoplook/data/images/date_night/cf6c187560.jpg\n",
      "SUCCESS - saved https://d2bzx2vuetkzse.cloudfront.net/fit-in/0x450/unshoppable_producs/e107e354-4359-46a3-9a65-cb1c3f6b52d5.jpeg - as ./shoplook/data/images/date_night/5e9f2143c6.jpg\n",
      "SUCCESS - saved https://d2bzx2vuetkzse.cloudfront.net/fit-in/0x450/unshoppable_producs/bce55eb7-1fa4-46fd-92dc-f04c244c2c95.jpeg - as ./shoplook/data/images/date_night/a9bf3a809f.jpg\n",
      "SUCCESS - saved https://d2bzx2vuetkzse.cloudfront.net/fit-in/0x450/unshoppable_producs/2f26c02f-89af-490f-863e-16825730e19a.jpeg - as ./shoplook/data/images/date_night/2e973a579e.jpg\n",
      "SUCCESS - saved https://d2bzx2vuetkzse.cloudfront.net/fit-in/0x450/unshoppable_producs/85b5e096-f05f-4759-8872-6cab2e812ab3.jpeg - as ./shoplook/data/images/date_night/263bb5bc5c.jpg\n"
     ]
    },
    {
     "name": "stderr",
     "output_type": "stream",
     "text": [
      "\r",
      "  2%|▏         | 5/300 [01:14<1:09:09, 14.07s/it]"
     ]
    },
    {
     "name": "stdout",
     "output_type": "stream",
     "text": [
      "SUCCESS - saved https://d2bzx2vuetkzse.cloudfront.net/fit-in/0x450/unshoppable_producs/950fa122-df3a-438f-8196-2f9dd16ccd88.jpeg - as ./shoplook/data/images/date_night/4d10a3fd6d.jpg\n",
      "SUCCESS - saved https://d2bzx2vuetkzse.cloudfront.net/fit-in/0x450/unshoppable_producs/6c764844-11f4-4ac3-ac08-b033b1681744.jpeg - as ./shoplook/data/images/date_night/2cb19d7378.jpg\n",
      "SUCCESS - saved https://d2bzx2vuetkzse.cloudfront.net/fit-in/0x450/unshoppable_producs/d2986843-4f4a-4838-a3ff-278bc86b60f3.jpeg - as ./shoplook/data/images/date_night/58c76cddcf.jpg\n",
      "SUCCESS - saved https://d2bzx2vuetkzse.cloudfront.net/fit-in/0x450/unshoppable_producs/0e40b657-cc08-471e-a7df-60bc5d534b9a.jpg - as ./shoplook/data/images/date_night/24328d62d4.jpg\n",
      "SUCCESS - saved https://d2bzx2vuetkzse.cloudfront.net/fit-in/0x450/unshoppable_producs/0fd21be9-5874-4b70-9baa-bc865ddf3cba.jpeg - as ./shoplook/data/images/date_night/f8ff8fd1eb.jpg\n",
      "SUCCESS - saved https://d2bzx2vuetkzse.cloudfront.net/fit-in/0x450/unshoppable_producs/58407fe4-1893-47c0-bc8d-3a5571f9532d.jpeg - as ./shoplook/data/images/date_night/81b82f4b46.jpg\n"
     ]
    },
    {
     "name": "stderr",
     "output_type": "stream",
     "text": [
      "\r",
      "  2%|▏         | 6/300 [01:26<1:06:57, 13.66s/it]"
     ]
    },
    {
     "name": "stdout",
     "output_type": "stream",
     "text": [
      "SUCCESS - saved https://d2bzx2vuetkzse.cloudfront.net/fit-in/0x450/unshoppable_producs/38d2ef5c-7b1f-49ff-9a8b-c7905782441b.jpeg - as ./shoplook/data/images/date_night/88591e6a07.jpg\n",
      "SUCCESS - saved https://d2bzx2vuetkzse.cloudfront.net/fit-in/0x450/unshoppable_producs/c2119b45-443e-426e-aa0c-809a0710cd51.jpg - as ./shoplook/data/images/date_night/1af8409b84.jpg\n",
      "SUCCESS - saved https://d2bzx2vuetkzse.cloudfront.net/fit-in/0x450/unshoppable_producs/755f3eb0-fdbc-45f5-93bb-ce4c592d7312.jpeg - as ./shoplook/data/images/date_night/db79625822.jpg\n",
      "SUCCESS - saved https://d2bzx2vuetkzse.cloudfront.net/fit-in/0x450/unshoppable_producs/5cb463a0-d90a-447e-849f-c6b01ecda33a.jpeg - as ./shoplook/data/images/date_night/86ec0b92c1.jpg\n",
      "SUCCESS - saved https://d2bzx2vuetkzse.cloudfront.net/fit-in/0x450/unshoppable_producs/c64fa796-6324-4a6e-9e7f-f2a41eb3564f.jpeg - as ./shoplook/data/images/date_night/0aeece0433.jpg\n",
      "SUCCESS - saved https://d2bzx2vuetkzse.cloudfront.net/fit-in/0x450/unshoppable_producs/c6e2c21b-9f97-4825-85a4-b4e66cd7f2c4.jpeg - as ./shoplook/data/images/date_night/8354cef887.jpg\n",
      "SUCCESS - saved https://d2bzx2vuetkzse.cloudfront.net/fit-in/0x450/unshoppable_producs/c9d16fa7-2120-43ab-8843-4e8fdd5d4d7f.jpeg - as ./shoplook/data/images/date_night/c5d0f817de.jpg\n"
     ]
    },
    {
     "name": "stderr",
     "output_type": "stream",
     "text": [
      "\r",
      "  2%|▏         | 7/300 [01:40<1:06:09, 13.55s/it]"
     ]
    },
    {
     "name": "stdout",
     "output_type": "stream",
     "text": [
      "SUCCESS - saved https://d2bzx2vuetkzse.cloudfront.net/fit-in/0x450/unshoppable_producs/ecd201f8-26b2-4e1a-ac91-f8ad6cf783c3.jpeg - as ./shoplook/data/images/date_night/a172e6cdb1.jpg\n",
      "SUCCESS - saved https://d2bzx2vuetkzse.cloudfront.net/fit-in/0x450/unshoppable_producs/e3ef60d0-a00d-4abf-90e9-8aa0e65d4265.jpeg - as ./shoplook/data/images/date_night/3c65290b9d.jpg\n",
      "SUCCESS - saved https://d2bzx2vuetkzse.cloudfront.net/fit-in/0x450/unshoppable_producs/1efbbb52-d17c-4904-8285-c35e1c0ebb1f.jpeg - as ./shoplook/data/images/date_night/a87f599a9f.jpg\n",
      "SUCCESS - saved https://d2bzx2vuetkzse.cloudfront.net/fit-in/0x450/unshoppable_producs/56db7f61-2da7-4904-adc6-e340ad21f294.jpeg - as ./shoplook/data/images/date_night/4590a0e3d0.jpg\n",
      "SUCCESS - saved https://d2bzx2vuetkzse.cloudfront.net/fit-in/0x450/unshoppable_producs/e0e571ed-2b71-45bb-a4e8-f247f44de68c.jpeg - as ./shoplook/data/images/date_night/b8890daf63.jpg\n"
     ]
    },
    {
     "name": "stderr",
     "output_type": "stream",
     "text": [
      "\r",
      "  3%|▎         | 8/300 [01:52<1:04:33, 13.27s/it]"
     ]
    },
    {
     "name": "stdout",
     "output_type": "stream",
     "text": [
      "SUCCESS - saved https://d2bzx2vuetkzse.cloudfront.net/fit-in/0x450/unshoppable_producs/bee24d02-9b6c-4fdf-8499-a0d5ae2a9137.jpeg - as ./shoplook/data/images/date_night/31c0e94daa.jpg\n",
      "SUCCESS - saved https://d2bzx2vuetkzse.cloudfront.net/fit-in/0x450/unshoppable_producs/7ce526da-5869-4f7b-9e3e-f8bbece15cb4.jpg - as ./shoplook/data/images/date_night/2685a452f6.jpg\n",
      "SUCCESS - saved https://d2bzx2vuetkzse.cloudfront.net/fit-in/0x450/unshoppable_producs/e69702ed-d842-473c-aa9b-fcbef24e4d17.jpeg - as ./shoplook/data/images/date_night/749fea38fd.jpg\n",
      "SUCCESS - saved https://d2bzx2vuetkzse.cloudfront.net/fit-in/0x450/unshoppable_producs/6be4483a-2152-43dd-ae15-ea60b5667aab.webp - as ./shoplook/data/images/date_night/bb49f81617.jpg\n",
      "SUCCESS - saved https://d2bzx2vuetkzse.cloudfront.net/fit-in/0x450/unshoppable_producs/5e91e46c-f152-49b6-b99d-67a6d0fc174c.jpeg - as ./shoplook/data/images/date_night/c23f529017.jpg\n"
     ]
    },
    {
     "name": "stderr",
     "output_type": "stream",
     "text": [
      "\r",
      "  3%|▎         | 9/300 [02:09<1:09:33, 14.34s/it]"
     ]
    },
    {
     "name": "stdout",
     "output_type": "stream",
     "text": [
      "SUCCESS - saved https://d2bzx2vuetkzse.cloudfront.net/fit-in/0x450/unshoppable_producs/3cc65c98-7287-4e04-84fa-a12b1d4852f6.jpg - as ./shoplook/data/images/date_night/628f7e9aa5.jpg\n",
      "SUCCESS - saved https://d2bzx2vuetkzse.cloudfront.net/fit-in/0x450/unshoppable_producs/d6cff35e-ec21-41f1-8813-0cd78f9a68b0.jpeg - as ./shoplook/data/images/date_night/9e956918e8.jpg\n",
      "SUCCESS - saved https://d2bzx2vuetkzse.cloudfront.net/fit-in/0x450/unshoppable_producs/083a04c1-9fa4-4750-8577-506ac3ee1323.jpeg - as ./shoplook/data/images/date_night/c0a88a9e84.jpg\n"
     ]
    },
    {
     "name": "stderr",
     "output_type": "stream",
     "text": [
      "\r",
      "  3%|▎         | 10/300 [02:21<1:06:16, 13.71s/it]"
     ]
    },
    {
     "name": "stdout",
     "output_type": "stream",
     "text": [
      "SUCCESS - saved https://d2bzx2vuetkzse.cloudfront.net/fit-in/0x450/unshoppable_producs/eed598df-4fd0-4aa8-82d5-e078b73b9987.jpg - as ./shoplook/data/images/date_night/3e7ce104ec.jpg\n",
      "SUCCESS - saved https://d2bzx2vuetkzse.cloudfront.net/fit-in/0x450/unshoppable_producs/6a4ae2eb-dcd3-4f1a-a25d-a5b17b3197b5.jpg - as ./shoplook/data/images/date_night/fbb20f9573.jpg\n",
      "SUCCESS - saved https://d2bzx2vuetkzse.cloudfront.net/fit-in/0x450/unshoppable_producs/166f3098-9782-493d-9a17-8187ae5f4683.jpg - as ./shoplook/data/images/date_night/1a5132a020.jpg\n",
      "SUCCESS - saved https://d2bzx2vuetkzse.cloudfront.net/fit-in/0x450/unshoppable_producs/c23da497-a04f-45ce-badf-def417de0363.jpeg - as ./shoplook/data/images/date_night/4dc2ddfc68.jpg\n",
      "SUCCESS - saved https://d2bzx2vuetkzse.cloudfront.net/fit-in/0x450/unshoppable_producs/b2a12487-c5cb-4397-aca8-c2c812e0cc83.jpeg - as ./shoplook/data/images/date_night/cfd198aa78.jpg\n",
      "SUCCESS - saved https://d2bzx2vuetkzse.cloudfront.net/fit-in/0x450/unshoppable_producs/16b24849-6bda-46d6-954f-2313048f0d58.jpeg - as ./shoplook/data/images/date_night/c1459c6aff.jpg\n",
      "SUCCESS - saved https://d2bzx2vuetkzse.cloudfront.net/fit-in/0x450/unshoppable_producs/8a8dddc9-fb7f-4d6d-bf87-8983b952334b.jpeg - as ./shoplook/data/images/date_night/aa358daae0.jpg\n",
      "SUCCESS - saved https://d2bzx2vuetkzse.cloudfront.net/fit-in/0x450/unshoppable_producs/6d5df7c4-11cb-4d5d-916a-9b3dcb153cb2.jpeg - as ./shoplook/data/images/date_night/5f37c6d83d.jpg\n",
      "SUCCESS - saved https://d2bzx2vuetkzse.cloudfront.net/fit-in/0x450/unshoppable_producs/e23b67ce-0a0d-4828-9f60-3fb43ee1a1be.jpeg - as ./shoplook/data/images/date_night/ee238ecdc2.jpg\n"
     ]
    },
    {
     "name": "stderr",
     "output_type": "stream",
     "text": [
      "\r",
      "  4%|▎         | 11/300 [02:37<1:09:29, 14.43s/it]"
     ]
    },
    {
     "name": "stdout",
     "output_type": "stream",
     "text": [
      "SUCCESS - saved https://d2bzx2vuetkzse.cloudfront.net/fit-in/0x450/unshoppable_producs/531fb629-5c7b-479f-9370-a1604acb5a53.jpeg - as ./shoplook/data/images/date_night/9a200c0d1d.jpg\n",
      "SUCCESS - saved https://d2bzx2vuetkzse.cloudfront.net/fit-in/0x450/unshoppable_producs/933b02f0-3ec7-48bd-bed0-3adfa830fddd.jpg - as ./shoplook/data/images/date_night/b5acc01b77.jpg\n",
      "SUCCESS - saved https://d2bzx2vuetkzse.cloudfront.net/fit-in/0x450/unshoppable_producs/2b0be08a-f2c9-47c5-858d-21fee22c4ffa.jpg - as ./shoplook/data/images/date_night/7c981cf483.jpg\n",
      "SUCCESS - saved https://d2bzx2vuetkzse.cloudfront.net/fit-in/0x450/unshoppable_producs/27e93e64-6b27-4621-a682-d3a578df1424.jpg - as ./shoplook/data/images/date_night/2dd3d1345e.jpg\n",
      "SUCCESS - saved https://d2bzx2vuetkzse.cloudfront.net/fit-in/0x450/unshoppable_producs/003b9464-5d9e-4c50-bb08-68912689d46e.jpg - as ./shoplook/data/images/date_night/c636673f3d.jpg\n",
      "SUCCESS - saved https://d2bzx2vuetkzse.cloudfront.net/fit-in/0x450/unshoppable_producs/ffaecb0b-acd3-43ce-8ccc-3bd40d80a8ba.jpg - as ./shoplook/data/images/date_night/59474a4495.jpg\n",
      "SUCCESS - saved https://d2bzx2vuetkzse.cloudfront.net/fit-in/0x450/unshoppable_producs/3dc9d9f3-a641-4e33-9ea5-bfc4baded050.jpeg - as ./shoplook/data/images/date_night/0af10a3a4b.jpg\n",
      "SUCCESS - saved https://d2bzx2vuetkzse.cloudfront.net/fit-in/0x450/unshoppable_producs/8d5b86e2-0943-418f-86cc-6026d631c4e4.jpeg - as ./shoplook/data/images/date_night/1521d3fdc9.jpg\n",
      "SUCCESS - saved https://d2bzx2vuetkzse.cloudfront.net/fit-in/0x450/unshoppable_producs/613dce15-1cec-475d-8412-985573cc3ba5.jpeg - as ./shoplook/data/images/date_night/c2214e9e7b.jpg\n",
      "SUCCESS - saved https://d2bzx2vuetkzse.cloudfront.net/fit-in/0x450/unshoppable_producs/7963eab7-4dd0-4973-b8cd-e3a644fcd97f.jpeg - as ./shoplook/data/images/date_night/26abe4c3a6.jpg\n"
     ]
    },
    {
     "name": "stderr",
     "output_type": "stream",
     "text": [
      "\r",
      "  4%|▍         | 12/300 [02:51<1:08:05, 14.19s/it]"
     ]
    },
    {
     "name": "stdout",
     "output_type": "stream",
     "text": [
      "SUCCESS - saved https://d2bzx2vuetkzse.cloudfront.net/fit-in/0x450/unshoppable_producs/4e27bf8b-ceaf-4ebf-bcd9-e76ab1f76ca9.jpg - as ./shoplook/data/images/date_night/b161167035.jpg\n",
      "SUCCESS - saved https://d2bzx2vuetkzse.cloudfront.net/fit-in/0x450/unshoppable_producs/609e99a2-1470-4435-89a2-2c8d6e0f7679.jpg - as ./shoplook/data/images/date_night/8524efc3d9.jpg\n",
      "SUCCESS - saved https://d2bzx2vuetkzse.cloudfront.net/fit-in/0x450/unshoppable_producs/bdbf82de-5b5f-49a7-8622-30efaf67a457.jpeg - as ./shoplook/data/images/date_night/5b5600f942.jpg\n",
      "SUCCESS - saved https://d2bzx2vuetkzse.cloudfront.net/fit-in/0x450/unshoppable_producs/093d5c12-935d-4a0f-bd23-856951d81faa.jpg - as ./shoplook/data/images/date_night/d62d6d8745.jpg\n",
      "SUCCESS - saved https://d2bzx2vuetkzse.cloudfront.net/fit-in/0x450/unshoppable_producs/a32cfd11-0513-4460-9ce4-00934b2bf253.jpeg - as ./shoplook/data/images/date_night/684fbd809b.jpg\n",
      "SUCCESS - saved https://d2bzx2vuetkzse.cloudfront.net/fit-in/0x450/unshoppable_producs/96ca3cd3-9b74-4b69-8efc-3a0d8cd40a2c.jpeg - as ./shoplook/data/images/date_night/91ce37cc76.jpg\n"
     ]
    },
    {
     "name": "stderr",
     "output_type": "stream",
     "text": [
      "\r",
      "  4%|▍         | 13/300 [03:05<1:07:16, 14.06s/it]"
     ]
    },
    {
     "name": "stdout",
     "output_type": "stream",
     "text": [
      "SUCCESS - saved https://d2bzx2vuetkzse.cloudfront.net/fit-in/0x450/unshoppable_producs/c804ed4d-dc01-4bcb-a80d-2438f1993e3d.jpg - as ./shoplook/data/images/date_night/c015a75e30.jpg\n",
      "SUCCESS - saved https://d2bzx2vuetkzse.cloudfront.net/fit-in/0x450/unshoppable_producs/42c64728-a8b3-4fb2-a8c6-541fc4687d51.jpeg - as ./shoplook/data/images/date_night/e869379f3f.jpg\n",
      "SUCCESS - saved https://d2bzx2vuetkzse.cloudfront.net/fit-in/0x450/unshoppable_producs/55b5fe4d-713c-4f0f-af68-2dd682a8834a.png - as ./shoplook/data/images/date_night/089d09de8c.jpg\n",
      "SUCCESS - saved https://d2bzx2vuetkzse.cloudfront.net/fit-in/0x450/unshoppable_producs/bce6ee25-98fc-46b0-9090-3a7b855f1ec0.jpg - as ./shoplook/data/images/date_night/e6e25bce52.jpg\n",
      "SUCCESS - saved https://d2bzx2vuetkzse.cloudfront.net/fit-in/0x450/unshoppable_producs/037590c9-266d-4e58-9e5f-334554903bd7.jpeg - as ./shoplook/data/images/date_night/ef68db0ce1.jpg\n",
      "SUCCESS - saved https://d2bzx2vuetkzse.cloudfront.net/fit-in/0x450/unshoppable_producs/3de88aab-4138-4786-b652-a6e3b1cc001a.jpeg - as ./shoplook/data/images/date_night/79c05ffd16.jpg\n",
      "SUCCESS - saved https://d2bzx2vuetkzse.cloudfront.net/fit-in/0x450/unshoppable_producs/4c5b5ca8-707a-4971-b3ff-565efa446427.jpeg - as ./shoplook/data/images/date_night/7aaa4acfc5.jpg\n",
      "SUCCESS - saved https://d2bzx2vuetkzse.cloudfront.net/fit-in/0x450/unshoppable_producs/6bd1b64a-9e9f-4c3b-b9ac-d8402bb71522.jpeg - as ./shoplook/data/images/date_night/0f2511e12e.jpg\n",
      "SUCCESS - saved https://d2bzx2vuetkzse.cloudfront.net/fit-in/0x450/unshoppable_producs/36045359-42f2-497a-b76b-3afe4282fa20.jpeg - as ./shoplook/data/images/date_night/b4756c71f2.jpg\n",
      "SUCCESS - saved https://d2bzx2vuetkzse.cloudfront.net/fit-in/0x450/unshoppable_producs/ffaecb0b-acd3-43ce-8ccc-3bd40d80a8ba.jpg - as ./shoplook/data/images/date_night/59474a4495.jpg\n"
     ]
    },
    {
     "name": "stderr",
     "output_type": "stream",
     "text": [
      "\r",
      "  5%|▍         | 14/300 [03:20<1:08:38, 14.40s/it]"
     ]
    },
    {
     "name": "stdout",
     "output_type": "stream",
     "text": [
      "SUCCESS - saved https://d2bzx2vuetkzse.cloudfront.net/fit-in/0x450/unshoppable_producs/b79d446b-53aa-4058-9df2-1d93b886a1c6.jpeg - as ./shoplook/data/images/date_night/8433a33f09.jpg\n",
      "SUCCESS - saved https://d2bzx2vuetkzse.cloudfront.net/fit-in/0x450/unshoppable_producs/7badf4c2-e72d-4a4c-b7e2-17c8d60a9e86.jpg - as ./shoplook/data/images/date_night/7df733f7b4.jpg\n",
      "SUCCESS - saved https://d2bzx2vuetkzse.cloudfront.net/fit-in/0x450/unshoppable_producs/c124e489-4504-4c4d-955c-d120fcf9e557.jpg - as ./shoplook/data/images/date_night/333a0038d1.jpg\n",
      "SUCCESS - saved https://d2bzx2vuetkzse.cloudfront.net/fit-in/0x450/unshoppable_producs/8a0e7fc3-d0a2-4979-a0de-aef2b838a127.jpg - as ./shoplook/data/images/date_night/6565bcb861.jpg\n",
      "SUCCESS - saved https://d2bzx2vuetkzse.cloudfront.net/fit-in/0x450/unshoppable_producs/7b7bf334-231f-436c-85fb-915f22620dd5.jpeg - as ./shoplook/data/images/date_night/8dd22856a7.jpg\n",
      "SUCCESS - saved https://d2bzx2vuetkzse.cloudfront.net/fit-in/0x450/unshoppable_producs/cada78f0-ae60-4973-b73f-cf8fb9c169e0.png - as ./shoplook/data/images/date_night/f460f2d759.jpg\n",
      "SUCCESS - saved https://d2bzx2vuetkzse.cloudfront.net/fit-in/0x450/unshoppable_producs/538de82e-304a-4e90-affe-53f3c1c0fc34.jpeg - as ./shoplook/data/images/date_night/0b0dbe7cac.jpg\n"
     ]
    },
    {
     "name": "stderr",
     "output_type": "stream",
     "text": [
      "\r",
      "  5%|▌         | 15/300 [03:33<1:06:32, 14.01s/it]"
     ]
    },
    {
     "name": "stdout",
     "output_type": "stream",
     "text": [
      "SUCCESS - saved https://d2bzx2vuetkzse.cloudfront.net/fit-in/0x450/unshoppable_producs/99b49ecb-93cd-48c8-bcba-d27e1c10b97e.jpeg - as ./shoplook/data/images/date_night/133d7ed3ab.jpg\n",
      "SUCCESS - saved https://d2bzx2vuetkzse.cloudfront.net/fit-in/0x450/unshoppable_producs/56b3e8bd-4787-4edd-a8a0-04c5c218d395.jpeg - as ./shoplook/data/images/date_night/449f25abf0.jpg\n",
      "SUCCESS - saved https://d2bzx2vuetkzse.cloudfront.net/fit-in/0x450/unshoppable_producs/43a6f88b-0e7b-4593-9d1a-0adf605f185f.jpeg - as ./shoplook/data/images/date_night/6f3c36a5b3.jpg\n",
      "SUCCESS - saved https://d2bzx2vuetkzse.cloudfront.net/fit-in/0x450/unshoppable_producs/ada31c33-ce92-4534-97fe-910cd65cb012.jpeg - as ./shoplook/data/images/date_night/0c1c662f1b.jpg\n",
      "SUCCESS - saved https://d2bzx2vuetkzse.cloudfront.net/fit-in/0x450/unshoppable_producs/804eea2d-eaa7-4be2-908b-997affeff117.jpeg - as ./shoplook/data/images/date_night/801737b85c.jpg\n"
     ]
    },
    {
     "name": "stderr",
     "output_type": "stream",
     "text": [
      "\r",
      "  5%|▌         | 16/300 [03:56<1:18:46, 16.64s/it]"
     ]
    },
    {
     "name": "stdout",
     "output_type": "stream",
     "text": [
      "SUCCESS - saved https://d2bzx2vuetkzse.cloudfront.net/fit-in/0x450/unshoppable_producs/75676c32-d00a-462d-a310-6feeddeed2d7.jpeg - as ./shoplook/data/images/date_night/0b7e2b7041.jpg\n",
      "SUCCESS - saved https://d2bzx2vuetkzse.cloudfront.net/fit-in/0x450/unshoppable_producs/d53dc6cb-f647-4c92-b4f8-05cba0182a57.jpg - as ./shoplook/data/images/date_night/ff73edc18b.jpg\n",
      "SUCCESS - saved https://d2bzx2vuetkzse.cloudfront.net/fit-in/0x450/unshoppable_producs/90926176-2971-4486-a72b-34aa2f1b820f.jpg - as ./shoplook/data/images/date_night/8c78861736.jpg\n",
      "SUCCESS - saved https://d2bzx2vuetkzse.cloudfront.net/fit-in/0x450/unshoppable_producs/1bcb577b-2566-46a0-8d54-2ac8907ec3b5.jpg - as ./shoplook/data/images/date_night/99a2ba22fa.jpg\n",
      "SUCCESS - saved https://d2bzx2vuetkzse.cloudfront.net/fit-in/0x450/unshoppable_producs/b51531ac-eb67-4113-9943-dda1b600bcd8.jpg - as ./shoplook/data/images/date_night/4048606a48.jpg\n",
      "SUCCESS - saved https://d2bzx2vuetkzse.cloudfront.net/fit-in/0x450/unshoppable_producs/e7f8f0e0-84b6-4225-b8ae-05df35e99fc5.jpg - as ./shoplook/data/images/date_night/daa75503f5.jpg\n",
      "SUCCESS - saved https://d2bzx2vuetkzse.cloudfront.net/fit-in/0x450/unshoppable_producs/68aa6c5c-2697-486e-96dd-fd1ad04b7e03.jpg - as ./shoplook/data/images/date_night/b515ffd747.jpg\n",
      "SUCCESS - saved https://d2bzx2vuetkzse.cloudfront.net/fit-in/0x450/unshoppable_producs/d66567ed-673f-4b3e-bcf5-27d7449b1134.jpg - as ./shoplook/data/images/date_night/b3655e8869.jpg\n",
      "SUCCESS - saved https://d2bzx2vuetkzse.cloudfront.net/fit-in/0x450/unshoppable_producs/0d0e713b-d239-4e52-9d11-e7fc2efacdc3.jpg - as ./shoplook/data/images/date_night/4ba59119ef.jpg\n",
      "SUCCESS - saved https://d2bzx2vuetkzse.cloudfront.net/fit-in/0x450/unshoppable_producs/094feb23-d0d0-4971-9ebd-8704845c6710.jpg - as ./shoplook/data/images/date_night/b75725aa0c.jpg\n"
     ]
    },
    {
     "name": "stderr",
     "output_type": "stream",
     "text": [
      "\r",
      "  6%|▌         | 17/300 [04:12<1:17:14, 16.38s/it]"
     ]
    },
    {
     "name": "stdout",
     "output_type": "stream",
     "text": [
      "SUCCESS - saved https://d2bzx2vuetkzse.cloudfront.net/fit-in/0x450/unshoppable_producs/d70de348-aa5e-4cb6-80a5-97b915d28731.jpg - as ./shoplook/data/images/date_night/54f1e85830.jpg\n",
      "SUCCESS - saved https://d2bzx2vuetkzse.cloudfront.net/fit-in/0x450/unshoppable_producs/144ed01d-a0c3-4c84-b7ec-275306ca40d3.jpeg - as ./shoplook/data/images/date_night/e70e7ea383.jpg\n",
      "SUCCESS - saved https://d2bzx2vuetkzse.cloudfront.net/fit-in/0x450/unshoppable_producs/7f7feb6d-623f-4696-a120-37cf6e7575ac.png - as ./shoplook/data/images/date_night/43bcbce65b.jpg\n",
      "SUCCESS - saved https://d2bzx2vuetkzse.cloudfront.net/fit-in/0x450/unshoppable_producs/487fce71-763b-4688-9455-a0e25081ddd6.jpeg - as ./shoplook/data/images/date_night/1ba307ba4b.jpg\n",
      "SUCCESS - saved https://d2bzx2vuetkzse.cloudfront.net/fit-in/0x450/unshoppable_producs/510a9bac-4165-489b-ab44-b47e98c1ffb6.jpeg - as ./shoplook/data/images/date_night/2653667fba.jpg\n",
      "SUCCESS - saved https://d2bzx2vuetkzse.cloudfront.net/fit-in/0x450/unshoppable_producs/c9c9347d-f57d-4acf-b99a-9b2ddcebdcdd.jpeg - as ./shoplook/data/images/date_night/c59cee3cd0.jpg\n",
      "SUCCESS - saved https://d2bzx2vuetkzse.cloudfront.net/fit-in/0x450/unshoppable_producs/53965232-306b-4d54-b8e0-29cf478da442.jpg - as ./shoplook/data/images/date_night/522510d31d.jpg\n",
      "SUCCESS - saved https://d2bzx2vuetkzse.cloudfront.net/fit-in/0x450/unshoppable_producs/08f5a991-b455-417a-9084-600a0a5a5a84.jpeg - as ./shoplook/data/images/date_night/f13b61616b.jpg\n",
      "SUCCESS - saved https://d2bzx2vuetkzse.cloudfront.net/fit-in/0x450/unshoppable_producs/33226af6-f200-4a1d-895f-ae32d059d15c.jpeg - as ./shoplook/data/images/date_night/19cc65a934.jpg\n",
      "SUCCESS - saved https://d2bzx2vuetkzse.cloudfront.net/fit-in/0x450/unshoppable_producs/ea948ec2-a32b-44aa-ba2a-71fab470d57c.png - as ./shoplook/data/images/date_night/63c095ec33.jpg\n",
      "SUCCESS - saved https://d2bzx2vuetkzse.cloudfront.net/fit-in/0x450/unshoppable_producs/eb0f2097-3ca7-4013-8b50-cfe31b39e946.jpg - as ./shoplook/data/images/date_night/2c512c4907.jpg\n",
      "SUCCESS - saved https://d2bzx2vuetkzse.cloudfront.net/fit-in/0x450/unshoppable_producs/9c9577c9-0c1b-4f0a-8419-db602651c123.png - as ./shoplook/data/images/date_night/2c8e927bf4.jpg\n",
      "SUCCESS - saved https://d2bzx2vuetkzse.cloudfront.net/fit-in/0x450/unshoppable_producs/34d92465-ebbd-4c06-9e7e-c3305df563a5.png - as ./shoplook/data/images/date_night/e654ec9a5e.jpg\n",
      "SUCCESS - saved https://d2bzx2vuetkzse.cloudfront.net/fit-in/0x450/unshoppable_producs/b8f15fdf-6fbb-44ca-9de4-b3e754b881fd.jpeg - as ./shoplook/data/images/date_night/c00e4d22a4.jpg\n",
      "SUCCESS - saved https://d2bzx2vuetkzse.cloudfront.net/fit-in/0x450/unshoppable_producs/cde04ec8-e030-4c79-83c5-d1ed8c6860b4.jpeg - as ./shoplook/data/images/date_night/eb8475797e.jpg\n",
      "SUCCESS - saved https://d2bzx2vuetkzse.cloudfront.net/fit-in/0x450/unshoppable_producs/7b272a59-de9e-4f0f-9345-8d528b2d1422.jpeg - as ./shoplook/data/images/date_night/bfbef6b7f0.jpg\n",
      "SUCCESS - saved https://d2bzx2vuetkzse.cloudfront.net/fit-in/0x450/unshoppable_producs/973820e9-4a73-4d03-838b-f5ec929be29a.jpeg - as ./shoplook/data/images/date_night/efa894fb68.jpg\n",
      "SUCCESS - saved https://d2bzx2vuetkzse.cloudfront.net/fit-in/0x450/unshoppable_producs/89237033-00d9-469a-8815-9cd8e88c8e72.png - as ./shoplook/data/images/date_night/e0e35e619f.jpg\n",
      "SUCCESS - saved https://d2bzx2vuetkzse.cloudfront.net/fit-in/0x450/unshoppable_producs/09dfa299-68b8-46e3-8929-4e7118fd8f70.jpeg - as ./shoplook/data/images/date_night/2d44e8bc92.jpg\n",
      "SUCCESS - saved https://d2bzx2vuetkzse.cloudfront.net/fit-in/0x450/unshoppable_producs/8ba8ec4b-d934-4c01-a470-6f940ca80f3c.jpeg - as ./shoplook/data/images/date_night/e6914b411c.jpg\n",
      "SUCCESS - saved https://d2bzx2vuetkzse.cloudfront.net/fit-in/0x450/unshoppable_producs/ac667141-9801-4be8-b8d3-10bcf1275b5a.jpeg - as ./shoplook/data/images/date_night/98b568e92f.jpg\n",
      "SUCCESS - saved https://d2bzx2vuetkzse.cloudfront.net/fit-in/0x450/unshoppable_producs/a635a03a-a643-4326-8ab8-f0a881519f9c.webp - as ./shoplook/data/images/date_night/b942797d68.jpg\n",
      "SUCCESS - saved https://d2bzx2vuetkzse.cloudfront.net/fit-in/0x450/unshoppable_producs/1787c158-ee7b-4968-a51d-2b3b43dfd7ce.jpeg - as ./shoplook/data/images/date_night/5212e5d526.jpg\n",
      "SUCCESS - saved https://d2bzx2vuetkzse.cloudfront.net/fit-in/0x450/unshoppable_producs/004e4ecf-31cf-487d-9180-6b08de767b26.jpeg - as ./shoplook/data/images/date_night/0d2d917382.jpg\n",
      "SUCCESS - saved https://d2bzx2vuetkzse.cloudfront.net/fit-in/0x450/unshoppable_producs/bc6fdbcf-bb37-4665-a5c6-04d7e1609a07.jpeg - as ./shoplook/data/images/date_night/309c5001e8.jpg\n",
      "SUCCESS - saved https://d2bzx2vuetkzse.cloudfront.net/fit-in/0x450/unshoppable_producs/ea2cbb1e-1190-4d50-b165-5de95f43e022.jpeg - as ./shoplook/data/images/date_night/c108b491a9.jpg\n",
      "SUCCESS - saved https://d2bzx2vuetkzse.cloudfront.net/fit-in/0x450/unshoppable_producs/42c79fac-819b-4802-80bc-6b851b076fa9.jpeg - as ./shoplook/data/images/date_night/532ee3b05d.jpg\n"
     ]
    },
    {
     "name": "stderr",
     "output_type": "stream",
     "text": [
      "\r",
      "  6%|▌         | 18/300 [04:33<1:23:32, 17.78s/it]"
     ]
    },
    {
     "name": "stdout",
     "output_type": "stream",
     "text": [
      "SUCCESS - saved https://d2bzx2vuetkzse.cloudfront.net/fit-in/0x450/unshoppable_producs/44dc45b3-07b7-4581-bedc-252a70669af3.jpeg - as ./shoplook/data/images/date_night/2cba299a7d.jpg\n",
      "SUCCESS - saved https://d2bzx2vuetkzse.cloudfront.net/fit-in/0x450/unshoppable_producs/c961196d-d858-4131-a149-3d668afa5e23.jpeg - as ./shoplook/data/images/date_night/3af9c47f11.jpg\n",
      "SUCCESS - saved https://d2bzx2vuetkzse.cloudfront.net/fit-in/0x450/unshoppable_producs/c6fb1855-b357-4227-8222-99e2cae780ab.webp - as ./shoplook/data/images/date_night/c67d08f874.jpg\n",
      "SUCCESS - saved https://d2bzx2vuetkzse.cloudfront.net/fit-in/0x450/unshoppable_producs/709748bb-a6cf-4324-834c-0177a9897332.jpeg - as ./shoplook/data/images/date_night/dd804fee3a.jpg\n",
      "SUCCESS - saved https://d2bzx2vuetkzse.cloudfront.net/fit-in/0x450/unshoppable_producs/1be2c609-740c-41b3-b3f6-600b0cc904a3.jpeg - as ./shoplook/data/images/date_night/6d6f4285dd.jpg\n",
      "SUCCESS - saved https://d2bzx2vuetkzse.cloudfront.net/fit-in/0x450/unshoppable_producs/bc499025-9360-466e-b045-66dd6bdee98b.jpeg - as ./shoplook/data/images/date_night/9313f9134f.jpg\n",
      "SUCCESS - saved https://d2bzx2vuetkzse.cloudfront.net/fit-in/0x450/unshoppable_producs/e6a47890-bb84-4203-8c4d-74b3c35b19a3.jpeg - as ./shoplook/data/images/date_night/55e921d88d.jpg\n"
     ]
    },
    {
     "name": "stderr",
     "output_type": "stream",
     "text": [
      "\r",
      "  6%|▋         | 19/300 [04:46<1:16:50, 16.41s/it]"
     ]
    },
    {
     "name": "stdout",
     "output_type": "stream",
     "text": [
      "SUCCESS - saved https://d2bzx2vuetkzse.cloudfront.net/fit-in/0x450/unshoppable_producs/b74bc300-59a8-493a-b775-85e94d3fd8e4.jpeg - as ./shoplook/data/images/date_night/4dce0d3e51.jpg\n",
      "SUCCESS - saved https://d2bzx2vuetkzse.cloudfront.net/fit-in/0x450/unshoppable_producs/a56ec6b9-bc58-4385-a368-bf033911f6c6.jpg - as ./shoplook/data/images/date_night/a18af9fe47.jpg\n",
      "SUCCESS - saved https://d2bzx2vuetkzse.cloudfront.net/fit-in/0x450/unshoppable_producs/007d7954-c9b1-421a-ae0d-b66741cea1b3.jpg - as ./shoplook/data/images/date_night/ad6d2562d7.jpg\n",
      "SUCCESS - saved https://d2bzx2vuetkzse.cloudfront.net/fit-in/0x450/unshoppable_producs/6d6a14ae-46b5-4aaf-a1af-0a81aebea89b.jpeg - as ./shoplook/data/images/date_night/1d1e338f2f.jpg\n",
      "SUCCESS - saved https://d2bzx2vuetkzse.cloudfront.net/fit-in/0x450/unshoppable_producs/ddda7688-d15c-437f-94a9-330d09ecad27.jpeg - as ./shoplook/data/images/date_night/ee8877ce83.jpg\n",
      "SUCCESS - saved https://d2bzx2vuetkzse.cloudfront.net/fit-in/0x450/unshoppable_producs/d39ab29e-4809-498b-bca5-ce654a075195.jpeg - as ./shoplook/data/images/date_night/14b56b1cfd.jpg\n",
      "SUCCESS - saved https://d2bzx2vuetkzse.cloudfront.net/fit-in/0x450/unshoppable_producs/bd9c3e5a-3ef9-4914-b8c5-c96784c40601.jpeg - as ./shoplook/data/images/date_night/1501700e47.jpg\n"
     ]
    },
    {
     "name": "stderr",
     "output_type": "stream",
     "text": [
      "\r",
      "  7%|▋         | 20/300 [04:57<1:09:41, 14.93s/it]"
     ]
    },
    {
     "name": "stdout",
     "output_type": "stream",
     "text": [
      "SUCCESS - saved https://d2bzx2vuetkzse.cloudfront.net/fit-in/0x450/unshoppable_producs/fffeb77f-812d-4897-a872-62dcb00f4330.jpeg - as ./shoplook/data/images/date_night/2aba5e5d6c.jpg\n",
      "SUCCESS - saved https://d2bzx2vuetkzse.cloudfront.net/fit-in/0x450/unshoppable_producs/a7d0ef8f-5506-42df-87d4-daa237dcb795.jpeg - as ./shoplook/data/images/date_night/f9ff8e4b0f.jpg\n",
      "SUCCESS - saved https://d2bzx2vuetkzse.cloudfront.net/fit-in/0x450/unshoppable_producs/5fe98cc7-f2f8-4136-874d-ebcd98be2e3a.jpeg - as ./shoplook/data/images/date_night/eb3db9299e.jpg\n",
      "SUCCESS - saved https://d2bzx2vuetkzse.cloudfront.net/fit-in/0x450/unshoppable_producs/15f5dc1c-9efc-4f76-9cb2-3f3e26387a2b.jpeg - as ./shoplook/data/images/date_night/a93e78aa76.jpg\n",
      "SUCCESS - saved https://d2bzx2vuetkzse.cloudfront.net/fit-in/0x450/unshoppable_producs/7756d488-124e-4d5f-b6f1-ed2bcc894d25.jpeg - as ./shoplook/data/images/date_night/d8faf28bbc.jpg\n",
      "SUCCESS - saved https://d2bzx2vuetkzse.cloudfront.net/fit-in/0x450/unshoppable_producs/57eaadc4-9d87-4b52-be30-1b45d22eac1a.jpeg - as ./shoplook/data/images/date_night/3120914e27.jpg\n"
     ]
    },
    {
     "name": "stderr",
     "output_type": "stream",
     "text": [
      "\r",
      "  7%|▋         | 21/300 [05:09<1:05:07, 14.01s/it]"
     ]
    },
    {
     "name": "stdout",
     "output_type": "stream",
     "text": [
      "SUCCESS - saved https://d2bzx2vuetkzse.cloudfront.net/fit-in/0x450/unshoppable_producs/419e2554-0e0c-4d29-a2f8-a3a56ecf6c56.jpeg - as ./shoplook/data/images/date_night/652b443c3b.jpg\n",
      "SUCCESS - saved https://d2bzx2vuetkzse.cloudfront.net/fit-in/0x450/unshoppable_producs/d5aa55bd-8fce-4ead-8c29-810b0eb4c094.jpeg - as ./shoplook/data/images/date_night/e5da0a49cf.jpg\n",
      "SUCCESS - saved https://d2bzx2vuetkzse.cloudfront.net/fit-in/0x450/unshoppable_producs/c81ac12b-43fb-4f40-93e0-1dda14c0f853.png - as ./shoplook/data/images/date_night/590a287ba6.jpg\n",
      "SUCCESS - saved https://d2bzx2vuetkzse.cloudfront.net/fit-in/0x450/unshoppable_producs/716e80e2-aa97-4fe6-8154-63544f0b6cd9.png - as ./shoplook/data/images/date_night/5a1d10a809.jpg\n",
      "SUCCESS - saved https://d2bzx2vuetkzse.cloudfront.net/fit-in/0x450/unshoppable_producs/2582f4a4-3b2e-4f2a-8764-769b3b6cbe69.png - as ./shoplook/data/images/date_night/3fa8e64809.jpg\n",
      "SUCCESS - saved https://d2bzx2vuetkzse.cloudfront.net/fit-in/0x450/unshoppable_producs/34e83935-e42f-4fcf-9725-8d49a83666e7.png - as ./shoplook/data/images/date_night/92aeb78aea.jpg\n",
      "SUCCESS - saved https://d2bzx2vuetkzse.cloudfront.net/fit-in/0x450/unshoppable_producs/6a7ac135-6525-4035-b35b-3ebf757c2d26.jpeg - as ./shoplook/data/images/date_night/e4673da326.jpg\n",
      "SUCCESS - saved https://d2bzx2vuetkzse.cloudfront.net/fit-in/0x450/unshoppable_producs/6ff04837-9d48-481e-a5b9-0d7a309edde8.jpeg - as ./shoplook/data/images/date_night/43823bd71e.jpg\n",
      "SUCCESS - saved https://d2bzx2vuetkzse.cloudfront.net/fit-in/0x450/unshoppable_producs/cba6b58f-e82b-4afe-b273-49f88865281d.jpeg - as ./shoplook/data/images/date_night/c1d6463b8c.jpg\n",
      "SUCCESS - saved https://d2bzx2vuetkzse.cloudfront.net/fit-in/0x450/unshoppable_producs/60d6136d-d2cd-43ed-9fb4-813874058562.png - as ./shoplook/data/images/date_night/9a98593582.jpg\n",
      "SUCCESS - saved https://d2bzx2vuetkzse.cloudfront.net/fit-in/0x450/unshoppable_producs/4d390fcb-85ec-45d0-9df8-82b95ce90c3a.png - as ./shoplook/data/images/date_night/87d31bbf5b.jpg\n",
      "SUCCESS - saved https://d2bzx2vuetkzse.cloudfront.net/fit-in/0x450/unshoppable_producs/cd6896b3-8ace-4bb1-a6fe-141c9aef4384.jpeg - as ./shoplook/data/images/date_night/004b126554.jpg\n",
      "SUCCESS - saved https://d2bzx2vuetkzse.cloudfront.net/fit-in/0x450/unshoppable_producs/19025c71-0064-463e-a1b6-868aaee5e426.jpeg - as ./shoplook/data/images/date_night/ac4f51b9c9.jpg\n",
      "SUCCESS - saved https://d2bzx2vuetkzse.cloudfront.net/fit-in/0x450/unshoppable_producs/b305390b-f3ae-4cae-aab6-50120b09ff5a.png - as ./shoplook/data/images/date_night/fa760ea4a7.jpg\n",
      "SUCCESS - saved https://d2bzx2vuetkzse.cloudfront.net/fit-in/0x450/unshoppable_producs/ac2118de-fac6-4b59-a9cd-94936055b9ac.jpeg - as ./shoplook/data/images/date_night/2e898fbf6e.jpg\n",
      "SUCCESS - saved https://d2bzx2vuetkzse.cloudfront.net/fit-in/0x450/unshoppable_producs/486126de-0911-4e89-8d58-75a554fff667.jpeg - as ./shoplook/data/images/date_night/9db702159e.jpg\n",
      "SUCCESS - saved https://d2bzx2vuetkzse.cloudfront.net/fit-in/0x450/unshoppable_producs/b387bd40-a6ab-41da-8db0-2e5821d47ae4.jpeg - as ./shoplook/data/images/date_night/0ba4d467b6.jpg\n",
      "SUCCESS - saved https://d2bzx2vuetkzse.cloudfront.net/fit-in/0x450/unshoppable_producs/cc26cced-8f4d-43e8-9404-78b64ac246da.jpeg - as ./shoplook/data/images/date_night/1ccf94169e.jpg\n"
     ]
    },
    {
     "name": "stderr",
     "output_type": "stream",
     "text": [
      "\r",
      "  7%|▋         | 22/300 [05:24<1:05:57, 14.23s/it]"
     ]
    },
    {
     "name": "stdout",
     "output_type": "stream",
     "text": [
      "SUCCESS - saved https://d2bzx2vuetkzse.cloudfront.net/fit-in/0x450/unshoppable_producs/12958bf5-fd12-4a09-9998-b1d4c5e75e21.jpg - as ./shoplook/data/images/date_night/d4004b4478.jpg\n",
      "SUCCESS - saved https://d2bzx2vuetkzse.cloudfront.net/fit-in/0x450/unshoppable_producs/52ffa2ba-bb38-496a-931e-293fee1083d9.jpg - as ./shoplook/data/images/date_night/2cabbf87e0.jpg\n",
      "SUCCESS - saved https://d2bzx2vuetkzse.cloudfront.net/fit-in/0x450/unshoppable_producs/7f7feb6d-623f-4696-a120-37cf6e7575ac.png - as ./shoplook/data/images/date_night/43bcbce65b.jpg\n",
      "SUCCESS - saved https://d2bzx2vuetkzse.cloudfront.net/fit-in/0x450/unshoppable_producs/6b9d1869-83e7-479e-87e0-9732decfb56a.jpg - as ./shoplook/data/images/date_night/d663118f35.jpg\n",
      "SUCCESS - saved https://d2bzx2vuetkzse.cloudfront.net/fit-in/0x450/unshoppable_producs/b1b2bef0-d4f4-4317-9b3b-c5df2a3375d1.jpeg - as ./shoplook/data/images/date_night/c6e64d3006.jpg\n",
      "SUCCESS - saved https://d2bzx2vuetkzse.cloudfront.net/fit-in/0x450/unshoppable_producs/ede16bf4-26d2-4a58-b882-3acd7b7f9bd9.jpeg - as ./shoplook/data/images/date_night/3ae203980f.jpg\n",
      "SUCCESS - saved https://d2bzx2vuetkzse.cloudfront.net/fit-in/0x450/unshoppable_producs/973820e9-4a73-4d03-838b-f5ec929be29a.jpeg - as ./shoplook/data/images/date_night/efa894fb68.jpg\n",
      "SUCCESS - saved https://d2bzx2vuetkzse.cloudfront.net/fit-in/0x450/unshoppable_producs/1371687b-ddc1-4385-a5ef-4dbe79b92533.jpeg - as ./shoplook/data/images/date_night/b02aca08f7.jpg\n",
      "SUCCESS - saved https://d2bzx2vuetkzse.cloudfront.net/fit-in/0x450/unshoppable_producs/1086de7a-db79-4269-9a6d-1e25f99388ae.jpeg - as ./shoplook/data/images/date_night/f88fa73c73.jpg\n",
      "SUCCESS - saved https://d2bzx2vuetkzse.cloudfront.net/fit-in/0x450/unshoppable_producs/b46c07eb-eeff-445b-9bfe-fe3f182757b4.jpeg - as ./shoplook/data/images/date_night/df31d87986.jpg\n",
      "SUCCESS - saved https://d2bzx2vuetkzse.cloudfront.net/fit-in/0x450/unshoppable_producs/fccbab12-4649-4379-a274-05242be4fe87.jpeg - as ./shoplook/data/images/date_night/b6fee213a5.jpg\n",
      "SUCCESS - saved https://d2bzx2vuetkzse.cloudfront.net/fit-in/0x450/unshoppable_producs/55af2e04-5957-49ff-b24c-4f351c66ffbb.png - as ./shoplook/data/images/date_night/2b6d545060.jpg\n",
      "SUCCESS - saved https://d2bzx2vuetkzse.cloudfront.net/fit-in/0x450/unshoppable_producs/2cca74cd-9e37-4bfe-8dde-8df32a655fbe.jpeg - as ./shoplook/data/images/date_night/035a2cd4cf.jpg\n",
      "SUCCESS - saved https://d2bzx2vuetkzse.cloudfront.net/fit-in/0x450/unshoppable_producs/3508d16b-862d-402b-a4f4-78821acca16b.jpeg - as ./shoplook/data/images/date_night/efbd9342bc.jpg\n",
      "SUCCESS - saved https://d2bzx2vuetkzse.cloudfront.net/fit-in/0x450/unshoppable_producs/b9081386-9415-46c3-9430-17f8de4fd9fb.jpeg - as ./shoplook/data/images/date_night/baf4066a12.jpg\n",
      "SUCCESS - saved https://d2bzx2vuetkzse.cloudfront.net/fit-in/0x450/unshoppable_producs/912cbe7c-4eb9-46c1-9f95-a538b2546542.jpeg - as ./shoplook/data/images/date_night/9defe51e12.jpg\n"
     ]
    },
    {
     "name": "stderr",
     "output_type": "stream",
     "text": [
      "\r",
      "  8%|▊         | 23/300 [05:38<1:05:55, 14.28s/it]"
     ]
    },
    {
     "name": "stdout",
     "output_type": "stream",
     "text": [
      "SUCCESS - saved https://d2bzx2vuetkzse.cloudfront.net/fit-in/0x450/unshoppable_producs/8eb6bf27-d703-4ecb-a1b3-da2caff97655.jpeg - as ./shoplook/data/images/date_night/43718f0e4c.jpg\n",
      "SUCCESS - saved https://d2bzx2vuetkzse.cloudfront.net/fit-in/0x450/unshoppable_producs/cbdfad6a-0e63-4b47-915e-3f8c534d9110.jpeg - as ./shoplook/data/images/date_night/28ea82f1e4.jpg\n",
      "SUCCESS - saved https://d2bzx2vuetkzse.cloudfront.net/fit-in/0x450/unshoppable_producs/be17373f-34e8-49b2-a39c-3d0aeb0520ae.jpeg - as ./shoplook/data/images/date_night/f29c0bae85.jpg\n",
      "SUCCESS - saved https://d2bzx2vuetkzse.cloudfront.net/fit-in/0x450/unshoppable_producs/844cab1a-2ce5-42d5-98a4-362fa9261428.jpeg - as ./shoplook/data/images/date_night/9d7e406739.jpg\n",
      "SUCCESS - saved https://d2bzx2vuetkzse.cloudfront.net/fit-in/0x450/unshoppable_producs/61eeb820-a08b-4a1b-be08-b55483bdc6ad.jpeg - as ./shoplook/data/images/date_night/11b1fd3f44.jpg\n",
      "SUCCESS - saved https://d2bzx2vuetkzse.cloudfront.net/fit-in/0x450/unshoppable_producs/7333a060-862f-404d-ad50-4f404cc09b5c.jpeg - as ./shoplook/data/images/date_night/65cc9e793b.jpg\n",
      "SUCCESS - saved https://d2bzx2vuetkzse.cloudfront.net/fit-in/0x450/unshoppable_producs/7206a339-e12e-4423-ba02-ba730dcb79f2.jpeg - as ./shoplook/data/images/date_night/fe7665f648.jpg\n",
      "SUCCESS - saved https://d2bzx2vuetkzse.cloudfront.net/fit-in/0x450/unshoppable_producs/df26ef63-bc77-4636-bbfd-7a00db001885.jpeg - as ./shoplook/data/images/date_night/20921ea3cd.jpg\n",
      "SUCCESS - saved https://d2bzx2vuetkzse.cloudfront.net/fit-in/0x450/unshoppable_producs/ae346946-078f-44f0-8468-7b8f51835ff8.jpeg - as ./shoplook/data/images/date_night/0b59d72331.jpg\n"
     ]
    },
    {
     "name": "stderr",
     "output_type": "stream",
     "text": [
      "\r",
      "  8%|▊         | 24/300 [05:52<1:05:14, 14.18s/it]"
     ]
    },
    {
     "name": "stdout",
     "output_type": "stream",
     "text": [
      "SUCCESS - saved https://d2bzx2vuetkzse.cloudfront.net/fit-in/0x450/unshoppable_producs/1b149f7a-67ff-4909-856f-950b0e288b70.jpeg - as ./shoplook/data/images/date_night/49b58f6077.jpg\n",
      "SUCCESS - saved https://d2bzx2vuetkzse.cloudfront.net/fit-in/0x450/unshoppable_producs/4b4a1c57-99a6-42ed-8545-f1ace2714bae.jpg - as ./shoplook/data/images/date_night/9842883d13.jpg\n",
      "SUCCESS - saved https://d2bzx2vuetkzse.cloudfront.net/fit-in/0x450/unshoppable_producs/c20c5b1f-5aa5-428e-89d9-18c6f4595604.png - as ./shoplook/data/images/date_night/72f8e10ec0.jpg\n",
      "SUCCESS - saved https://d2bzx2vuetkzse.cloudfront.net/fit-in/0x450/unshoppable_producs/b925a1df-3f36-45dc-a8d8-47f8205bf008.jpeg - as ./shoplook/data/images/date_night/71a29e49e5.jpg\n",
      "SUCCESS - saved https://d2bzx2vuetkzse.cloudfront.net/fit-in/0x450/unshoppable_producs/0ddaad5a-1e0e-480f-a943-fd22fcd0c4c0.png - as ./shoplook/data/images/date_night/d3eb8157ed.jpg\n",
      "SUCCESS - saved https://d2bzx2vuetkzse.cloudfront.net/fit-in/0x450/unshoppable_producs/29a902e9-ad0b-43b2-ba6f-81a98e715979.jpeg - as ./shoplook/data/images/date_night/40ac794fa1.jpg\n",
      "SUCCESS - saved https://d2bzx2vuetkzse.cloudfront.net/fit-in/0x450/unshoppable_producs/6a72a430-e077-4253-980d-16d672428f8d.jpeg - as ./shoplook/data/images/date_night/00ce6f9700.jpg\n",
      "SUCCESS - saved https://d2bzx2vuetkzse.cloudfront.net/fit-in/0x450/unshoppable_producs/a0daa610-042d-4015-9055-5664e21d1690.jpeg - as ./shoplook/data/images/date_night/c3818489e2.jpg\n",
      "SUCCESS - saved https://d2bzx2vuetkzse.cloudfront.net/fit-in/0x450/unshoppable_producs/121a1e1f-04bc-465b-9950-8e710f1fd0a5.jpeg - as ./shoplook/data/images/date_night/09f1701b81.jpg\n",
      "SUCCESS - saved https://d2bzx2vuetkzse.cloudfront.net/fit-in/0x450/unshoppable_producs/205dfc70-a351-428d-a42a-279ebb07e2b4.jpeg - as ./shoplook/data/images/date_night/53156729e5.jpg\n"
     ]
    },
    {
     "name": "stderr",
     "output_type": "stream",
     "text": [
      "\r",
      "  8%|▊         | 25/300 [06:04<1:01:25, 13.40s/it]"
     ]
    },
    {
     "name": "stdout",
     "output_type": "stream",
     "text": [
      "SUCCESS - saved https://d2bzx2vuetkzse.cloudfront.net/fit-in/0x450/unshoppable_producs/b491a28c-22ac-4d4f-9795-107919298046.jpeg - as ./shoplook/data/images/date_night/e0a2df2eb2.jpg\n",
      "SUCCESS - saved https://d2bzx2vuetkzse.cloudfront.net/fit-in/0x450/unshoppable_producs/a437b5e4-976a-4870-a388-6b37798b9a9d.jpg - as ./shoplook/data/images/date_night/c05b2a3c6f.jpg\n",
      "SUCCESS - saved https://d2bzx2vuetkzse.cloudfront.net/fit-in/0x450/unshoppable_producs/cfa77ae4-705b-44a5-bf37-2aa8c53768ce.jpeg - as ./shoplook/data/images/date_night/2df077a120.jpg\n",
      "SUCCESS - saved https://d2bzx2vuetkzse.cloudfront.net/fit-in/0x450/unshoppable_producs/c2633655-f1ee-4ffa-861e-82fdf3c55b6b.jpeg - as ./shoplook/data/images/date_night/456d3ba65c.jpg\n",
      "SUCCESS - saved https://d2bzx2vuetkzse.cloudfront.net/fit-in/0x450/unshoppable_producs/4f616dc5-d974-477d-bab7-21b97965cb61.jpeg - as ./shoplook/data/images/date_night/48abc25a63.jpg\n"
     ]
    },
    {
     "name": "stderr",
     "output_type": "stream",
     "text": [
      "\r",
      "  9%|▊         | 26/300 [06:16<1:00:11, 13.18s/it]"
     ]
    },
    {
     "name": "stdout",
     "output_type": "stream",
     "text": [
      "SUCCESS - saved https://d2bzx2vuetkzse.cloudfront.net/fit-in/0x450/unshoppable_producs/740abf28-d4cd-4588-a402-ae87975cd4f7.jpeg - as ./shoplook/data/images/date_night/72ca3b8ad6.jpg\n",
      "SUCCESS - saved https://d2bzx2vuetkzse.cloudfront.net/fit-in/0x450/unshoppable_producs/e2172e97-5f6a-4903-9131-45fbe56a6f8b.jpg - as ./shoplook/data/images/date_night/0fe3966311.jpg\n",
      "SUCCESS - saved https://d2bzx2vuetkzse.cloudfront.net/fit-in/0x450/unshoppable_producs/1c78c992-6674-45a2-9d43-d358d82d683e.png - as ./shoplook/data/images/date_night/ac5b55450e.jpg\n",
      "SUCCESS - saved https://d2bzx2vuetkzse.cloudfront.net/fit-in/0x450/unshoppable_producs/6045f1a3-878e-43e9-80cb-831f39aeddb5.jpeg - as ./shoplook/data/images/date_night/723a3c2a59.jpg\n",
      "SUCCESS - saved https://d2bzx2vuetkzse.cloudfront.net/fit-in/0x450/unshoppable_producs/b4c2eef5-ddca-4a39-bcc1-b32601647c65.webp - as ./shoplook/data/images/date_night/0155ebaa2a.jpg\n",
      "SUCCESS - saved https://d2bzx2vuetkzse.cloudfront.net/fit-in/0x450/unshoppable_producs/3f0b8dff-8f94-49ca-87ba-17f9a05c1428.jpeg - as ./shoplook/data/images/date_night/4490ca450d.jpg\n"
     ]
    },
    {
     "name": "stderr",
     "output_type": "stream",
     "text": [
      "\r",
      "  9%|▉         | 27/300 [06:26<55:30, 12.20s/it]  "
     ]
    },
    {
     "name": "stdout",
     "output_type": "stream",
     "text": [
      "SUCCESS - saved https://d2bzx2vuetkzse.cloudfront.net/fit-in/0x450/unshoppable_producs/318a7281-38f6-42c7-a4f9-c0051b74fc33.jpeg - as ./shoplook/data/images/date_night/05296c7e04.jpg\n",
      "SUCCESS - saved https://d2bzx2vuetkzse.cloudfront.net/fit-in/0x450/unshoppable_producs/547e0868-3a6f-485f-9455-c16fcd65bf36.jpeg - as ./shoplook/data/images/date_night/d0d71c3517.jpg\n",
      "SUCCESS - saved https://d2bzx2vuetkzse.cloudfront.net/fit-in/0x450/unshoppable_producs/9c99b512-62af-4bc3-97c4-2dcffaee4953.jpeg - as ./shoplook/data/images/date_night/795ade17c8.jpg\n",
      "SUCCESS - saved https://d2bzx2vuetkzse.cloudfront.net/fit-in/0x450/unshoppable_producs/c614fec5-dab5-4933-8a51-305fdc2091a6.jpeg - as ./shoplook/data/images/date_night/022b38226e.jpg\n"
     ]
    },
    {
     "name": "stderr",
     "output_type": "stream",
     "text": [
      "\r",
      "  9%|▉         | 28/300 [06:44<1:01:59, 13.67s/it]"
     ]
    },
    {
     "name": "stdout",
     "output_type": "stream",
     "text": [
      "SUCCESS - saved https://d2bzx2vuetkzse.cloudfront.net/fit-in/0x450/unshoppable_producs/e34bd6a4-12fe-458f-84db-1d7cabe30d42.jpeg - as ./shoplook/data/images/date_night/32ee120acb.jpg\n",
      "SUCCESS - saved https://d2bzx2vuetkzse.cloudfront.net/fit-in/0x450/unshoppable_producs/2be7d1f8-2e9e-429a-9d8f-d8d6bf9751ec.webp - as ./shoplook/data/images/date_night/5d679ff858.jpg\n",
      "SUCCESS - saved https://d2bzx2vuetkzse.cloudfront.net/fit-in/0x450/unshoppable_producs/4f828118-31ba-4775-a915-d3dbaf210c9a.jpeg - as ./shoplook/data/images/date_night/4e0ad6d556.jpg\n",
      "SUCCESS - saved https://d2bzx2vuetkzse.cloudfront.net/fit-in/0x450/unshoppable_producs/dc089cb6-de22-445a-a322-261d6623e562.jpeg - as ./shoplook/data/images/date_night/309f481cbe.jpg\n",
      "SUCCESS - saved https://d2bzx2vuetkzse.cloudfront.net/fit-in/0x450/unshoppable_producs/6d489234-53d9-43fb-be95-b06a16679b51.jpeg - as ./shoplook/data/images/date_night/d683ca46d2.jpg\n"
     ]
    },
    {
     "name": "stderr",
     "output_type": "stream",
     "text": [
      "\r",
      " 10%|▉         | 29/300 [06:56<1:00:36, 13.42s/it]"
     ]
    },
    {
     "name": "stdout",
     "output_type": "stream",
     "text": [
      "SUCCESS - saved https://d2bzx2vuetkzse.cloudfront.net/fit-in/0x450/unshoppable_producs/97a354a6-f7a4-4fac-93f1-26c4d5ad5652.jpeg - as ./shoplook/data/images/date_night/b660edf6dd.jpg\n",
      "SUCCESS - saved https://d2bzx2vuetkzse.cloudfront.net/fit-in/0x450/unshoppable_producs/b0b6a97f-319e-44a9-9c3c-44991a2d5061.jpeg - as ./shoplook/data/images/date_night/4319d735c9.jpg\n",
      "SUCCESS - saved https://d2bzx2vuetkzse.cloudfront.net/fit-in/0x450/unshoppable_producs/c08d1db0-f018-449f-801f-6f58af093dd6.jpeg - as ./shoplook/data/images/date_night/07f3aebb6f.jpg\n",
      "SUCCESS - saved https://d2bzx2vuetkzse.cloudfront.net/fit-in/0x450/unshoppable_producs/9f4d38c6-3454-413a-a55c-bdfb40e63327.jpeg - as ./shoplook/data/images/date_night/ede52321f5.jpg\n",
      "SUCCESS - saved https://d2bzx2vuetkzse.cloudfront.net/fit-in/0x450/unshoppable_producs/4b5622f0-4b8b-488f-b60e-04ba154e2df6.jpeg - as ./shoplook/data/images/date_night/f1db9e8136.jpg\n",
      "SUCCESS - saved https://d2bzx2vuetkzse.cloudfront.net/fit-in/0x450/unshoppable_producs/68292bb1-568b-4cce-b532-0c4b903f3766.jpeg - as ./shoplook/data/images/date_night/ec32bbf606.jpg\n",
      "SUCCESS - saved https://d2bzx2vuetkzse.cloudfront.net/fit-in/0x450/unshoppable_producs/f8603b94-7f59-407d-bc55-4bf8f78da6ab.jpeg - as ./shoplook/data/images/date_night/1e9e9bce33.jpg\n",
      "SUCCESS - saved https://d2bzx2vuetkzse.cloudfront.net/fit-in/0x450/unshoppable_producs/246af7db-a818-4da8-aa58-ef1bb3ac21e3.jpeg - as ./shoplook/data/images/date_night/8b0c37971e.jpg\n"
     ]
    },
    {
     "name": "stderr",
     "output_type": "stream",
     "text": [
      "\r",
      " 10%|█         | 30/300 [07:08<58:06, 12.91s/it]  "
     ]
    },
    {
     "name": "stdout",
     "output_type": "stream",
     "text": [
      "SUCCESS - saved https://d2bzx2vuetkzse.cloudfront.net/fit-in/0x450/unshoppable_producs/2be7d1f8-2e9e-429a-9d8f-d8d6bf9751ec.webp - as ./shoplook/data/images/date_night/5d679ff858.jpg\n",
      "SUCCESS - saved https://d2bzx2vuetkzse.cloudfront.net/fit-in/0x450/unshoppable_producs/4f828118-31ba-4775-a915-d3dbaf210c9a.jpeg - as ./shoplook/data/images/date_night/4e0ad6d556.jpg\n",
      "SUCCESS - saved https://d2bzx2vuetkzse.cloudfront.net/fit-in/0x450/unshoppable_producs/dc089cb6-de22-445a-a322-261d6623e562.jpeg - as ./shoplook/data/images/date_night/309f481cbe.jpg\n",
      "SUCCESS - saved https://d2bzx2vuetkzse.cloudfront.net/fit-in/0x450/unshoppable_producs/6d489234-53d9-43fb-be95-b06a16679b51.jpeg - as ./shoplook/data/images/date_night/d683ca46d2.jpg\n",
      "SUCCESS - saved https://d2bzx2vuetkzse.cloudfront.net/fit-in/0x450/unshoppable_producs/97a354a6-f7a4-4fac-93f1-26c4d5ad5652.jpeg - as ./shoplook/data/images/date_night/b660edf6dd.jpg\n"
     ]
    },
    {
     "name": "stderr",
     "output_type": "stream",
     "text": [
      "\r",
      " 10%|█         | 31/300 [07:18<53:27, 11.92s/it]"
     ]
    },
    {
     "name": "stdout",
     "output_type": "stream",
     "text": [
      "SUCCESS - saved https://d2bzx2vuetkzse.cloudfront.net/fit-in/0x450/unshoppable_producs/b0b6a97f-319e-44a9-9c3c-44991a2d5061.jpeg - as ./shoplook/data/images/date_night/4319d735c9.jpg\n",
      "SUCCESS - saved https://d2bzx2vuetkzse.cloudfront.net/fit-in/0x450/unshoppable_producs/c08d1db0-f018-449f-801f-6f58af093dd6.jpeg - as ./shoplook/data/images/date_night/07f3aebb6f.jpg\n",
      "SUCCESS - saved https://d2bzx2vuetkzse.cloudfront.net/fit-in/0x450/unshoppable_producs/9f4d38c6-3454-413a-a55c-bdfb40e63327.jpeg - as ./shoplook/data/images/date_night/ede52321f5.jpg\n",
      "SUCCESS - saved https://d2bzx2vuetkzse.cloudfront.net/fit-in/0x450/unshoppable_producs/4b5622f0-4b8b-488f-b60e-04ba154e2df6.jpeg - as ./shoplook/data/images/date_night/f1db9e8136.jpg\n",
      "SUCCESS - saved https://d2bzx2vuetkzse.cloudfront.net/fit-in/0x450/unshoppable_producs/68292bb1-568b-4cce-b532-0c4b903f3766.jpeg - as ./shoplook/data/images/date_night/ec32bbf606.jpg\n",
      "SUCCESS - saved https://d2bzx2vuetkzse.cloudfront.net/fit-in/0x450/unshoppable_producs/f8603b94-7f59-407d-bc55-4bf8f78da6ab.jpeg - as ./shoplook/data/images/date_night/1e9e9bce33.jpg\n"
     ]
    },
    {
     "name": "stderr",
     "output_type": "stream",
     "text": [
      "\r",
      " 11%|█         | 32/300 [07:27<50:03, 11.21s/it]"
     ]
    },
    {
     "name": "stdout",
     "output_type": "stream",
     "text": [
      "SUCCESS - saved https://d2bzx2vuetkzse.cloudfront.net/fit-in/0x450/unshoppable_producs/246af7db-a818-4da8-aa58-ef1bb3ac21e3.jpeg - as ./shoplook/data/images/date_night/8b0c37971e.jpg\n",
      "SUCCESS - saved https://d2bzx2vuetkzse.cloudfront.net/fit-in/0x450/unshoppable_producs/47fa4ef8-dae9-4a6f-9092-f88878612403.jpeg - as ./shoplook/data/images/date_night/5827839465.jpg\n",
      "SUCCESS - saved https://d2bzx2vuetkzse.cloudfront.net/fit-in/0x450/unshoppable_producs/955500f7-fad1-492c-823e-7b539607cdb0.jpeg - as ./shoplook/data/images/date_night/f7d935baf7.jpg\n",
      "SUCCESS - saved https://d2bzx2vuetkzse.cloudfront.net/fit-in/0x450/unshoppable_producs/e52aac3e-7ce7-4dc4-be85-370f06a45e7e.jpeg - as ./shoplook/data/images/date_night/98754a2c4c.jpg\n",
      "SUCCESS - saved https://d2bzx2vuetkzse.cloudfront.net/fit-in/0x450/unshoppable_producs/f624e320-50e5-4204-9d25-0b4e082b20f8.jpeg - as ./shoplook/data/images/date_night/b824e9ad3e.jpg\n",
      "SUCCESS - saved https://d2bzx2vuetkzse.cloudfront.net/fit-in/0x450/unshoppable_producs/bcedb5c4-6de3-4217-a8ef-8ec5c4b208ff.jpeg - as ./shoplook/data/images/date_night/1b172da292.jpg\n",
      "SUCCESS - saved https://d2bzx2vuetkzse.cloudfront.net/fit-in/0x450/unshoppable_producs/b9ef88db-dc1e-46b4-b1f8-4d2010e717f4.jpeg - as ./shoplook/data/images/date_night/7aab6ca3df.jpg\n"
     ]
    },
    {
     "name": "stderr",
     "output_type": "stream",
     "text": [
      "\r",
      " 11%|█         | 33/300 [07:39<50:19, 11.31s/it]"
     ]
    },
    {
     "name": "stdout",
     "output_type": "stream",
     "text": [
      "SUCCESS - saved https://d2bzx2vuetkzse.cloudfront.net/fit-in/0x450/unshoppable_producs/d0b5fd67-d58d-453c-80d7-380406f4b5f9.jpeg - as ./shoplook/data/images/date_night/34d86ba880.jpg\n",
      "SUCCESS - saved https://d2bzx2vuetkzse.cloudfront.net/fit-in/0x450/unshoppable_producs/d6f2bea9-a824-4ed3-9976-2ef6e08e00b5.webp - as ./shoplook/data/images/date_night/6f816173a2.jpg\n",
      "SUCCESS - saved https://d2bzx2vuetkzse.cloudfront.net/fit-in/0x450/unshoppable_producs/02fdbf92-3351-4b25-a623-3d098a3d365b.jpeg - as ./shoplook/data/images/date_night/642dc5b321.jpg\n",
      "SUCCESS - saved https://d2bzx2vuetkzse.cloudfront.net/fit-in/0x450/unshoppable_producs/812f6387-e334-4ff1-9a20-1b28127aa492.jpeg - as ./shoplook/data/images/date_night/95b9f9f78d.jpg\n",
      "SUCCESS - saved https://d2bzx2vuetkzse.cloudfront.net/fit-in/0x450/unshoppable_producs/c4c105c0-7b4d-438c-aedd-2bca9fda119e.jpeg - as ./shoplook/data/images/date_night/8f5ae41e58.jpg\n",
      "SUCCESS - saved https://d2bzx2vuetkzse.cloudfront.net/fit-in/0x450/unshoppable_producs/51f12a9e-59a6-442a-b31f-ee67378ec607.jpeg - as ./shoplook/data/images/date_night/74b137f464.jpg\n",
      "SUCCESS - saved https://d2bzx2vuetkzse.cloudfront.net/fit-in/0x450/unshoppable_producs/7fcb2cfb-9b89-4273-bc70-02d64d3d5429.jpeg - as ./shoplook/data/images/date_night/683705939d.jpg\n",
      "SUCCESS - saved https://d2bzx2vuetkzse.cloudfront.net/fit-in/0x450/unshoppable_producs/12769801-0e98-435a-a4fe-697827a7e7f8.jpeg - as ./shoplook/data/images/date_night/82e361577c.jpg\n",
      "SUCCESS - saved https://d2bzx2vuetkzse.cloudfront.net/fit-in/0x450/unshoppable_producs/e1d0b0ef-864f-4254-a7c0-2496530a1ca2.jpeg - as ./shoplook/data/images/date_night/74eb5e96e5.jpg\n",
      "SUCCESS - saved https://d2bzx2vuetkzse.cloudfront.net/fit-in/0x450/unshoppable_producs/256c1155-43eb-421c-93f8-dcca6d94f81b.jpeg - as ./shoplook/data/images/date_night/dcffb63e61.jpg\n"
     ]
    },
    {
     "name": "stderr",
     "output_type": "stream",
     "text": [
      "\r",
      " 11%|█▏        | 34/300 [07:52<52:06, 11.75s/it]"
     ]
    },
    {
     "name": "stdout",
     "output_type": "stream",
     "text": [
      "SUCCESS - saved https://d2bzx2vuetkzse.cloudfront.net/fit-in/0x450/unshoppable_producs/1288ff1b-f15a-454d-9cc2-1c511d5c666b.jpeg - as ./shoplook/data/images/date_night/0072a0bd9c.jpg\n",
      "SUCCESS - saved https://d2bzx2vuetkzse.cloudfront.net/fit-in/0x450/unshoppable_producs/5b9bd538-ecf0-4c0c-800b-0e68d7c1fdb2.jpg - as ./shoplook/data/images/date_night/187be5bf16.jpg\n",
      "SUCCESS - saved https://d2bzx2vuetkzse.cloudfront.net/fit-in/0x450/unshoppable_producs/8fa390e2-8729-4b9d-bc76-bc157ab96778.jpeg - as ./shoplook/data/images/date_night/31b7d772b2.jpg\n",
      "SUCCESS - saved https://d2bzx2vuetkzse.cloudfront.net/fit-in/0x450/unshoppable_producs/af23a5f5-b5c5-48dc-bd57-4a93810350f3.jpeg - as ./shoplook/data/images/date_night/205e4c9c06.jpg\n",
      "SUCCESS - saved https://d2bzx2vuetkzse.cloudfront.net/fit-in/0x450/unshoppable_producs/6ce54536-5945-4b7d-aa21-324b3509dee3.jpeg - as ./shoplook/data/images/date_night/6d47333abc.jpg\n",
      "SUCCESS - saved https://d2bzx2vuetkzse.cloudfront.net/fit-in/0x450/unshoppable_producs/bd8495c6-d63d-4522-897c-183707bead18.jpeg - as ./shoplook/data/images/date_night/05974983e0.jpg\n",
      "SUCCESS - saved https://d2bzx2vuetkzse.cloudfront.net/fit-in/0x450/unshoppable_producs/031de761-db58-4d87-9bab-f38f8c30c2ae.jpeg - as ./shoplook/data/images/date_night/f9fee9d37e.jpg\n",
      "SUCCESS - saved https://d2bzx2vuetkzse.cloudfront.net/fit-in/0x450/unshoppable_producs/7563a7b0-35cb-4f41-b8d8-4fe8eaa208f5.jpeg - as ./shoplook/data/images/date_night/de55841a4a.jpg\n",
      "SUCCESS - saved https://d2bzx2vuetkzse.cloudfront.net/fit-in/0x450/unshoppable_producs/982d4a6a-c9b3-43d5-9928-975d62d62512.webp - as ./shoplook/data/images/date_night/eddebec6c5.jpg\n"
     ]
    },
    {
     "name": "stderr",
     "output_type": "stream",
     "text": [
      "\r",
      " 12%|█▏        | 35/300 [08:04<52:18, 11.84s/it]"
     ]
    },
    {
     "name": "stdout",
     "output_type": "stream",
     "text": [
      "SUCCESS - saved https://d2bzx2vuetkzse.cloudfront.net/fit-in/0x450/unshoppable_producs/c601b84f-88fa-492a-9c80-0e94f5c21c1b.jpeg - as ./shoplook/data/images/date_night/fd4223c20c.jpg\n",
      "SUCCESS - saved https://d2bzx2vuetkzse.cloudfront.net/fit-in/0x450/unshoppable_producs/f697fc36-793b-4c45-8e28-506c6c7675d2.jpeg - as ./shoplook/data/images/date_night/32221a1e51.jpg\n",
      "SUCCESS - saved https://d2bzx2vuetkzse.cloudfront.net/fit-in/0x450/unshoppable_producs/aca77cc8-7234-4cea-9efe-f16c27a703db.jpeg - as ./shoplook/data/images/date_night/a566285045.jpg\n",
      "SUCCESS - saved https://d2bzx2vuetkzse.cloudfront.net/fit-in/0x450/unshoppable_producs/0aad719d-2a4d-497e-af14-b43e781947ce.jpeg - as ./shoplook/data/images/date_night/9b4d224a9e.jpg\n",
      "SUCCESS - saved https://d2bzx2vuetkzse.cloudfront.net/fit-in/0x450/unshoppable_producs/3a424435-ea76-48ea-8788-3ac210419dda.jpeg - as ./shoplook/data/images/date_night/183c393bac.jpg\n",
      "SUCCESS - saved https://d2bzx2vuetkzse.cloudfront.net/fit-in/0x450/unshoppable_producs/3b823109-ebe6-470b-a200-40ac08b75252.jpeg - as ./shoplook/data/images/date_night/afb5a5200f.jpg\n",
      "SUCCESS - saved https://d2bzx2vuetkzse.cloudfront.net/fit-in/0x450/unshoppable_producs/4fdaf286-773d-4067-8950-8d4be6b7b930.jpeg - as ./shoplook/data/images/date_night/03d41e01c8.jpg\n"
     ]
    },
    {
     "name": "stderr",
     "output_type": "stream",
     "text": [
      "\r",
      " 12%|█▏        | 36/300 [08:15<52:02, 11.83s/it]"
     ]
    },
    {
     "name": "stdout",
     "output_type": "stream",
     "text": [
      "SUCCESS - saved https://d2bzx2vuetkzse.cloudfront.net/fit-in/0x450/unshoppable_producs/8e6e2cac-7ad0-4709-a02c-a5e3b17e2f9e.jpg - as ./shoplook/data/images/date_night/b78ae15c4f.jpg\n",
      "SUCCESS - saved https://d2bzx2vuetkzse.cloudfront.net/fit-in/0x450/unshoppable_producs/161a93d1-9929-4a84-8010-a0588dfe5f61.jpg - as ./shoplook/data/images/date_night/5a317c22b9.jpg\n",
      "SUCCESS - saved https://d2bzx2vuetkzse.cloudfront.net/fit-in/0x450/unshoppable_producs/af7e16f0-859e-4d53-b6cd-2e3f1f5dec57.jpeg - as ./shoplook/data/images/date_night/c7a37a9439.jpg\n",
      "SUCCESS - saved https://d2bzx2vuetkzse.cloudfront.net/fit-in/0x450/unshoppable_producs/f9b23449-556a-4d05-ac9d-ddd246e42dc8.jpeg - as ./shoplook/data/images/date_night/3898804eba.jpg\n",
      "SUCCESS - saved https://d2bzx2vuetkzse.cloudfront.net/fit-in/0x450/unshoppable_producs/2d772ae7-effe-48cf-b222-c143cf6718f2.jpeg - as ./shoplook/data/images/date_night/cad3aedcda.jpg\n",
      "SUCCESS - saved https://d2bzx2vuetkzse.cloudfront.net/fit-in/0x450/unshoppable_producs/e47e429e-f49f-4de5-acf3-136203b59b06.jpg - as ./shoplook/data/images/date_night/5134e295f0.jpg\n"
     ]
    },
    {
     "name": "stderr",
     "output_type": "stream",
     "text": [
      "\r",
      " 12%|█▏        | 37/300 [08:25<49:03, 11.19s/it]"
     ]
    },
    {
     "name": "stdout",
     "output_type": "stream",
     "text": [
      "SUCCESS - saved https://d2bzx2vuetkzse.cloudfront.net/fit-in/0x450/unshoppable_producs/e36fa964-d345-4220-a094-e1fa20497efc.jpeg - as ./shoplook/data/images/date_night/49ee43c89f.jpg\n",
      "SUCCESS - saved https://d2bzx2vuetkzse.cloudfront.net/fit-in/0x450/unshoppable_producs/145e119b-b3c3-4bed-a887-0f49259e6c21.jpg - as ./shoplook/data/images/date_night/de6671c3ae.jpg\n",
      "SUCCESS - saved https://d2bzx2vuetkzse.cloudfront.net/fit-in/0x450/unshoppable_producs/43fac034-7135-4cfe-a3dc-a2d3b31c2782.jpg - as ./shoplook/data/images/date_night/6d628407c8.jpg\n",
      "SUCCESS - saved https://d2bzx2vuetkzse.cloudfront.net/fit-in/0x450/unshoppable_producs/7a6132e3-fcae-4e18-975f-fb7aeb8dfe6c.pngcharsetUTF-8 - as ./shoplook/data/images/date_night/328790148f.jpg\n",
      "SUCCESS - saved https://d2bzx2vuetkzse.cloudfront.net/fit-in/0x450/unshoppable_producs/cf577797-2495-4e47-b284-ee25fe3b8d2e.jpeg - as ./shoplook/data/images/date_night/b6ba880c55.jpg\n",
      "SUCCESS - saved https://d2bzx2vuetkzse.cloudfront.net/fit-in/0x450/unshoppable_producs/9ca427a3-a685-4471-8179-c879c507dd25.jpg - as ./shoplook/data/images/date_night/7f57d2ff4c.jpg\n",
      "SUCCESS - saved https://d2bzx2vuetkzse.cloudfront.net/fit-in/0x450/unshoppable_producs/f6f44396-6ac1-406d-8084-f0a4986de8eb.jpeg - as ./shoplook/data/images/date_night/98359ce844.jpg\n",
      "SUCCESS - saved https://d2bzx2vuetkzse.cloudfront.net/fit-in/0x450/unshoppable_producs/852e50a7-90dd-4553-8704-cf42206ac494.jpeg - as ./shoplook/data/images/date_night/fe23570083.jpg\n",
      "SUCCESS - saved https://d2bzx2vuetkzse.cloudfront.net/fit-in/0x450/unshoppable_producs/943d6305-a9d3-457a-8833-4310afa1dd21.jpeg - as ./shoplook/data/images/date_night/6d24ca2474.jpg\n",
      "SUCCESS - saved https://d2bzx2vuetkzse.cloudfront.net/fit-in/0x450/unshoppable_producs/253bfc01-48e1-4136-ae83-de4500dfe02b.png - as ./shoplook/data/images/date_night/c5fe379422.jpg\n",
      "SUCCESS - saved https://d2bzx2vuetkzse.cloudfront.net/fit-in/0x450/unshoppable_producs/01fde102-b46b-436b-83e0-17624dab5312.jpeg - as ./shoplook/data/images/date_night/c4b94916d6.jpg\n",
      "SUCCESS - saved https://d2bzx2vuetkzse.cloudfront.net/fit-in/0x450/unshoppable_producs/d39137c3-dfcd-4036-9dc2-6defb129376d.jpeg - as ./shoplook/data/images/date_night/7edceeb444.jpg\n",
      "SUCCESS - saved https://d2bzx2vuetkzse.cloudfront.net/fit-in/0x450/unshoppable_producs/8c647c14-021f-4118-94bb-2b3b47777c9c.jpeg - as ./shoplook/data/images/date_night/e33468b900.jpg\n",
      "SUCCESS - saved https://d2bzx2vuetkzse.cloudfront.net/fit-in/0x450/unshoppable_producs/ade1f192-531d-4f70-b000-b8f488e71c60.jpeg - as ./shoplook/data/images/date_night/d9e49a94e4.jpg\n",
      "SUCCESS - saved https://d2bzx2vuetkzse.cloudfront.net/fit-in/0x450/unshoppable_producs/3c9b6c8a-63e1-47c1-82b4-5b970c98e7b1.jpeg - as ./shoplook/data/images/date_night/f2a5a67c72.jpg\n",
      "SUCCESS - saved https://d2bzx2vuetkzse.cloudfront.net/fit-in/0x450/unshoppable_producs/1d45dc44-6c4b-40ac-b8e3-8dce09c50996.jpeg - as ./shoplook/data/images/date_night/1d3bcfce8f.jpg\n",
      "SUCCESS - saved https://d2bzx2vuetkzse.cloudfront.net/fit-in/0x450/unshoppable_producs/b8726b01-c4ff-42ec-a521-26b3ce31d3d0.jpeg - as ./shoplook/data/images/date_night/302bc9dccd.jpg\n",
      "SUCCESS - saved https://d2bzx2vuetkzse.cloudfront.net/fit-in/0x450/unshoppable_producs/a0fc7eff-cd61-4ced-ae8b-317a03e050fb.jpeg - as ./shoplook/data/images/date_night/638f866f02.jpg\n"
     ]
    },
    {
     "name": "stderr",
     "output_type": "stream",
     "text": [
      "\r",
      " 13%|█▎        | 38/300 [08:40<54:21, 12.45s/it]"
     ]
    },
    {
     "name": "stdout",
     "output_type": "stream",
     "text": [
      "SUCCESS - saved https://d2bzx2vuetkzse.cloudfront.net/fit-in/0x450/unshoppable_producs/7550bd9b-cff9-4c98-9e0f-2c1a1539897b.jpeg - as ./shoplook/data/images/date_night/a46b5ab6bc.jpg\n",
      "SUCCESS - saved https://d2bzx2vuetkzse.cloudfront.net/fit-in/0x450/unshoppable_producs/482c76cc-8bc6-415d-918c-a863548d6a21.jpg - as ./shoplook/data/images/date_night/c831b4c67b.jpg\n",
      "SUCCESS - saved https://d2bzx2vuetkzse.cloudfront.net/fit-in/0x450/unshoppable_producs/fc13e4b4-6ef7-4f22-8860-75e92f223502.jpg - as ./shoplook/data/images/date_night/1e6dada083.jpg\n",
      "SUCCESS - saved https://d2bzx2vuetkzse.cloudfront.net/fit-in/0x450/unshoppable_producs/f7b1d2a8-66a7-4428-a046-ef3684773f63.jpeg - as ./shoplook/data/images/date_night/b949d53cd8.jpg\n",
      "SUCCESS - saved https://d2bzx2vuetkzse.cloudfront.net/fit-in/0x450/unshoppable_producs/cda028c2-995c-4d54-beab-e59d017ae222.jpeg - as ./shoplook/data/images/date_night/626f4cc5b7.jpg\n",
      "SUCCESS - saved https://d2bzx2vuetkzse.cloudfront.net/fit-in/0x450/unshoppable_producs/7eea2463-7987-4117-8e11-2fe4404d01e7.jpg - as ./shoplook/data/images/date_night/47576928f1.jpg\n",
      "SUCCESS - saved https://d2bzx2vuetkzse.cloudfront.net/fit-in/0x450/unshoppable_producs/9a8b8786-174f-4f58-9925-dff0eadb3bc4.jpeg - as ./shoplook/data/images/date_night/336d797c91.jpg\n",
      "SUCCESS - saved https://d2bzx2vuetkzse.cloudfront.net/fit-in/0x450/unshoppable_producs/eb9b7af1-84db-4eb4-b6c1-75294969cdbd.jpeg - as ./shoplook/data/images/date_night/2fcc969fb9.jpg\n",
      "SUCCESS - saved https://d2bzx2vuetkzse.cloudfront.net/fit-in/0x450/unshoppable_producs/7093ba53-3f15-4126-a650-88a726983491.jpeg - as ./shoplook/data/images/date_night/de91cec73f.jpg\n",
      "SUCCESS - saved https://d2bzx2vuetkzse.cloudfront.net/fit-in/0x450/unshoppable_producs/dbb0fa50-3ff8-41bd-8d01-a102fbef8153.jpeg - as ./shoplook/data/images/date_night/0d9fb59077.jpg\n",
      "SUCCESS - saved https://d2bzx2vuetkzse.cloudfront.net/fit-in/0x450/unshoppable_producs/b495dfc6-38b5-48c1-9352-8daad04b37ae.jpeg - as ./shoplook/data/images/date_night/447871de89.jpg\n"
     ]
    },
    {
     "name": "stderr",
     "output_type": "stream",
     "text": [
      "\r",
      " 13%|█▎        | 39/300 [08:56<58:36, 13.47s/it]"
     ]
    },
    {
     "name": "stdout",
     "output_type": "stream",
     "text": [
      "SUCCESS - saved https://d2bzx2vuetkzse.cloudfront.net/fit-in/0x450/unshoppable_producs/8a2ecf12-76c6-4d57-92d3-18230b836ba9.jpeg - as ./shoplook/data/images/date_night/9578b04ef5.jpg\n",
      "SUCCESS - saved https://d2bzx2vuetkzse.cloudfront.net/fit-in/0x450/unshoppable_producs/5b9bd538-ecf0-4c0c-800b-0e68d7c1fdb2.jpg - as ./shoplook/data/images/date_night/187be5bf16.jpg\n",
      "SUCCESS - saved https://d2bzx2vuetkzse.cloudfront.net/fit-in/0x450/unshoppable_producs/ec8019b4-9216-4c44-bdff-d3793b4955af.jpg - as ./shoplook/data/images/date_night/287b282580.jpg\n",
      "SUCCESS - saved https://d2bzx2vuetkzse.cloudfront.net/fit-in/0x450/unshoppable_producs/a8a24048-9451-46d5-8a43-d204c747fae4.jpg - as ./shoplook/data/images/date_night/42e35b3c68.jpg\n",
      "SUCCESS - saved https://d2bzx2vuetkzse.cloudfront.net/fit-in/0x450/unshoppable_producs/1c7624a3-7e9e-4fcc-ba52-1c9cbba88987.jpeg - as ./shoplook/data/images/date_night/9b3d68975a.jpg\n",
      "SUCCESS - saved https://d2bzx2vuetkzse.cloudfront.net/fit-in/0x450/unshoppable_producs/2138bae1-585f-4db5-9494-678dbb282fe2.jpeg - as ./shoplook/data/images/date_night/b8e47350f3.jpg\n",
      "SUCCESS - saved https://d2bzx2vuetkzse.cloudfront.net/fit-in/0x450/unshoppable_producs/26654699-0f29-4b41-9819-20d29809075d.jpeg - as ./shoplook/data/images/date_night/2829399421.jpg\n",
      "SUCCESS - saved https://d2bzx2vuetkzse.cloudfront.net/fit-in/0x450/unshoppable_producs/8537b05e-8f92-41ed-96e9-d4a10196dba9.jpeg - as ./shoplook/data/images/date_night/eea1dd5cfa.jpg\n",
      "SUCCESS - saved https://d2bzx2vuetkzse.cloudfront.net/fit-in/0x450/unshoppable_producs/124e2992-1251-48e1-8207-0c7393366a95.jpeg - as ./shoplook/data/images/date_night/c2a1ba9b34.jpg\n"
     ]
    },
    {
     "name": "stderr",
     "output_type": "stream",
     "text": [
      "\r",
      " 13%|█▎        | 40/300 [09:11<1:00:16, 13.91s/it]"
     ]
    },
    {
     "name": "stdout",
     "output_type": "stream",
     "text": [
      "SUCCESS - saved https://d2bzx2vuetkzse.cloudfront.net/fit-in/0x450/unshoppable_producs/d9da33fa-fcda-48b3-8fde-57a4cb3b2c02.jpg - as ./shoplook/data/images/date_night/7ca34efe41.jpg\n",
      "SUCCESS - saved https://d2bzx2vuetkzse.cloudfront.net/fit-in/0x450/unshoppable_producs/5ba4db87-5ef4-45a9-afc1-ef93d36ee87b.jpg - as ./shoplook/data/images/date_night/86ef7440fb.jpg\n",
      "SUCCESS - saved https://d2bzx2vuetkzse.cloudfront.net/fit-in/0x450/unshoppable_producs/6b52202a-4cfb-487a-9280-c8edc883ef60.jpeg - as ./shoplook/data/images/date_night/51598cccd7.jpg\n",
      "SUCCESS - saved https://d2bzx2vuetkzse.cloudfront.net/fit-in/0x450/unshoppable_producs/c778a94f-be64-4744-8018-e5c2b82591a7.jpeg - as ./shoplook/data/images/date_night/17ef972904.jpg\n",
      "SUCCESS - saved https://d2bzx2vuetkzse.cloudfront.net/fit-in/0x450/unshoppable_producs/38e9224c-1230-4d3b-922d-808ebec3ba4a.jpeg - as ./shoplook/data/images/date_night/8f1ec0ea46.jpg\n",
      "SUCCESS - saved https://d2bzx2vuetkzse.cloudfront.net/fit-in/0x450/unshoppable_producs/7bab3903-70fb-483a-bb22-024e24fb510f.jpeg - as ./shoplook/data/images/date_night/6fe0db9769.jpg\n",
      "SUCCESS - saved https://d2bzx2vuetkzse.cloudfront.net/fit-in/0x450/unshoppable_producs/c3007eac-5d20-4f7b-a30b-cc8ea988adf5.jpeg - as ./shoplook/data/images/date_night/dcef6d7f54.jpg\n",
      "SUCCESS - saved https://d2bzx2vuetkzse.cloudfront.net/fit-in/0x450/unshoppable_producs/0fcdfdf4-486b-4ca7-86f1-23cebb2197b6.jpg - as ./shoplook/data/images/date_night/99ce596376.jpg\n",
      "SUCCESS - saved https://d2bzx2vuetkzse.cloudfront.net/fit-in/0x450/unshoppable_producs/d50eb4c8-5c02-4b95-b71e-6f7aa8dea708.jpeg - as ./shoplook/data/images/date_night/706255f25c.jpg\n",
      "SUCCESS - saved https://d2bzx2vuetkzse.cloudfront.net/fit-in/0x450/unshoppable_producs/69a7b408-08ea-4564-9ebd-c25459697420.jpg - as ./shoplook/data/images/date_night/129dd0a686.jpg\n",
      "SUCCESS - saved https://d2bzx2vuetkzse.cloudfront.net/fit-in/0x450/unshoppable_producs/50807fcd-7466-45fc-8a1f-567f50b05129.jpg - as ./shoplook/data/images/date_night/5a16216501.jpg\n"
     ]
    },
    {
     "name": "stderr",
     "output_type": "stream",
     "text": [
      "\r",
      " 14%|█▎        | 41/300 [09:27<1:02:30, 14.48s/it]"
     ]
    },
    {
     "name": "stdout",
     "output_type": "stream",
     "text": [
      "SUCCESS - saved https://d2bzx2vuetkzse.cloudfront.net/fit-in/0x450/unshoppable_producs/05ef5c36-a3c4-48fc-a020-fa475d635807.jpeg - as ./shoplook/data/images/date_night/8c3ad44b53.jpg\n",
      "SUCCESS - saved https://d2bzx2vuetkzse.cloudfront.net/fit-in/0x450/unshoppable_producs/f1965507-8fe2-4833-a250-4d2f4da33759.jpg - as ./shoplook/data/images/date_night/6fa3759bc3.jpg\n",
      "SUCCESS - saved https://d2bzx2vuetkzse.cloudfront.net/fit-in/0x450/unshoppable_producs/adcac0e2-e559-44d9-bffe-62ef612086a0.jpeg - as ./shoplook/data/images/date_night/7db0df6edb.jpg\n",
      "SUCCESS - saved https://d2bzx2vuetkzse.cloudfront.net/fit-in/0x450/unshoppable_producs/771a7cd1-459a-4bbb-a6a4-98db121b66f0.jpeg - as ./shoplook/data/images/date_night/d882c9902a.jpg\n",
      "SUCCESS - saved https://d2bzx2vuetkzse.cloudfront.net/fit-in/0x450/unshoppable_producs/4243d00c-7e16-4169-a59a-537faea07ba0.jpeg - as ./shoplook/data/images/date_night/25847b41c6.jpg\n",
      "SUCCESS - saved https://d2bzx2vuetkzse.cloudfront.net/fit-in/0x450/unshoppable_producs/fdfaba73-0e27-40f3-87a1-c32c02dc796a.jpeg - as ./shoplook/data/images/date_night/8632380b95.jpg\n",
      "SUCCESS - saved https://d2bzx2vuetkzse.cloudfront.net/fit-in/0x450/unshoppable_producs/dac25c7f-44d7-449d-b334-3ba68189132f.jpeg - as ./shoplook/data/images/date_night/9dc835c033.jpg\n",
      "SUCCESS - saved https://d2bzx2vuetkzse.cloudfront.net/fit-in/0x450/unshoppable_producs/2e86e6c4-5178-4f5b-80da-7ac982673fc4.jpeg - as ./shoplook/data/images/date_night/9e3e363655.jpg\n"
     ]
    },
    {
     "name": "stderr",
     "output_type": "stream",
     "text": [
      "\r",
      " 14%|█▍        | 42/300 [09:40<59:44, 13.90s/it]  "
     ]
    },
    {
     "name": "stdout",
     "output_type": "stream",
     "text": [
      "SUCCESS - saved https://d2bzx2vuetkzse.cloudfront.net/fit-in/0x450/unshoppable_producs/2038a727-8bee-4b2c-9e63-789591550293.jpeg - as ./shoplook/data/images/date_night/872d73e2bc.jpg\n",
      "SUCCESS - saved https://d2bzx2vuetkzse.cloudfront.net/fit-in/0x450/unshoppable_producs/c30e3a06-f137-4cc0-b92e-b7afa7ade74b.jpg - as ./shoplook/data/images/date_night/456dc50438.jpg\n",
      "SUCCESS - saved https://d2bzx2vuetkzse.cloudfront.net/fit-in/0x450/unshoppable_producs/f4294207-c3ab-4659-977d-ae24858a308b.jpg - as ./shoplook/data/images/date_night/b466db7382.jpg\n",
      "SUCCESS - saved https://d2bzx2vuetkzse.cloudfront.net/fit-in/0x450/unshoppable_producs/4623c7e6-317c-47ed-907e-09e70d10629a.jpeg - as ./shoplook/data/images/date_night/6fdc9ad5b0.jpg\n",
      "SUCCESS - saved https://d2bzx2vuetkzse.cloudfront.net/fit-in/0x450/unshoppable_producs/bb054c2e-9d0f-41e0-9890-b7f48344272b.jpeg - as ./shoplook/data/images/date_night/1f6a7342fb.jpg\n",
      "SUCCESS - saved https://d2bzx2vuetkzse.cloudfront.net/fit-in/0x450/unshoppable_producs/269b3695-6a9f-4eb8-8091-4cb179dc2e70.jpeg - as ./shoplook/data/images/date_night/9065657d19.jpg\n",
      "SUCCESS - saved https://d2bzx2vuetkzse.cloudfront.net/fit-in/0x450/unshoppable_producs/fc7c0ef4-3705-4243-9114-1606a0b41b1f.jpeg - as ./shoplook/data/images/date_night/41d086b360.jpg\n",
      "SUCCESS - saved https://d2bzx2vuetkzse.cloudfront.net/fit-in/0x450/unshoppable_producs/56f63581-f837-4aeb-b460-e07f76b72730.jpeg - as ./shoplook/data/images/date_night/d945203fc8.jpg\n",
      "SUCCESS - saved https://d2bzx2vuetkzse.cloudfront.net/fit-in/0x450/unshoppable_producs/0e0576e4-cf39-4bac-9b0f-3ebcb4b657d5.jpeg - as ./shoplook/data/images/date_night/9b9be6e399.jpg\n"
     ]
    },
    {
     "name": "stderr",
     "output_type": "stream",
     "text": [
      "\r",
      " 14%|█▍        | 43/300 [09:53<58:16, 13.60s/it]"
     ]
    },
    {
     "name": "stdout",
     "output_type": "stream",
     "text": [
      "SUCCESS - saved https://d2bzx2vuetkzse.cloudfront.net/fit-in/0x450/unshoppable_producs/164d7959-12a7-4b9e-9c36-b69514b5720b.jpeg - as ./shoplook/data/images/date_night/639d52ff89.jpg\n",
      "SUCCESS - saved https://d2bzx2vuetkzse.cloudfront.net/fit-in/0x450/unshoppable_producs/67a0c70a-51f3-4dee-b578-7441322d44f1.jpg - as ./shoplook/data/images/date_night/8eb2fdefdc.jpg\n",
      "SUCCESS - saved https://d2bzx2vuetkzse.cloudfront.net/fit-in/0x450/unshoppable_producs/7c9278d0-2edc-40f7-bc15-c807e3c520d1.jpg - as ./shoplook/data/images/date_night/1c03630d39.jpg\n",
      "SUCCESS - saved https://d2bzx2vuetkzse.cloudfront.net/fit-in/0x450/unshoppable_producs/2a2377b1-8b7b-4cf3-906f-94e79b32fcaa.jpg - as ./shoplook/data/images/date_night/5ab96ddf4f.jpg\n",
      "SUCCESS - saved https://d2bzx2vuetkzse.cloudfront.net/fit-in/0x450/unshoppable_producs/9da9e3d3-ae05-4660-8f52-bbca43156eff.jpg - as ./shoplook/data/images/date_night/a31b969f56.jpg\n",
      "SUCCESS - saved https://d2bzx2vuetkzse.cloudfront.net/fit-in/0x450/unshoppable_producs/abedf249-c41c-429d-a798-f2f97e84bffb.png - as ./shoplook/data/images/date_night/ab2b36fca2.jpg\n",
      "SUCCESS - saved https://d2bzx2vuetkzse.cloudfront.net/fit-in/0x450/unshoppable_producs/a08e4435-70cf-454f-8081-74e2eb2216e3.jpeg - as ./shoplook/data/images/date_night/c495d74e60.jpg\n",
      "SUCCESS - saved https://d2bzx2vuetkzse.cloudfront.net/fit-in/0x450/unshoppable_producs/e9651f37-279b-4e13-8eab-de4874545d6a.jpeg - as ./shoplook/data/images/date_night/07fa6d155a.jpg\n",
      "SUCCESS - saved https://d2bzx2vuetkzse.cloudfront.net/fit-in/0x450/unshoppable_producs/9d225400-3ee9-452e-930f-fec14af15622.png - as ./shoplook/data/images/date_night/56f93cd27b.jpg\n",
      "SUCCESS - saved https://d2bzx2vuetkzse.cloudfront.net/fit-in/0x450/unshoppable_producs/c3d33d98-26c0-4331-9150-48af9ca953a5.jpeg - as ./shoplook/data/images/date_night/a22bc66635.jpg\n",
      "SUCCESS - saved https://d2bzx2vuetkzse.cloudfront.net/fit-in/0x450/unshoppable_producs/2ddd9c4e-7e35-4662-bb6e-6ea2b6310cf3.jpeg - as ./shoplook/data/images/date_night/8850dfe96a.jpg\n",
      "SUCCESS - saved https://d2bzx2vuetkzse.cloudfront.net/fit-in/0x450/unshoppable_producs/4118cd5b-4a7f-4538-bb57-2ea557a30b37.jpeg - as ./shoplook/data/images/date_night/22820f29e7.jpg\n",
      "SUCCESS - saved https://d2bzx2vuetkzse.cloudfront.net/fit-in/0x450/unshoppable_producs/654f21d6-d47a-46e0-b84b-773d58d374be.jpeg - as ./shoplook/data/images/date_night/2451c0db6f.jpg\n",
      "SUCCESS - saved https://d2bzx2vuetkzse.cloudfront.net/fit-in/0x450/unshoppable_producs/5426e24f-f3f0-430f-aa70-9c4329c83ff2.webp - as ./shoplook/data/images/date_night/adad67117e.jpg\n",
      "SUCCESS - saved https://d2bzx2vuetkzse.cloudfront.net/fit-in/0x450/unshoppable_producs/a8616cb3-02f4-43d3-ab7e-83f7e46cd9ca.jpeg - as ./shoplook/data/images/date_night/28f608b546.jpg\n"
     ]
    },
    {
     "name": "stderr",
     "output_type": "stream",
     "text": [
      "\r",
      " 15%|█▍        | 44/300 [10:11<1:03:52, 14.97s/it]"
     ]
    },
    {
     "name": "stdout",
     "output_type": "stream",
     "text": [
      "SUCCESS - saved https://d2bzx2vuetkzse.cloudfront.net/fit-in/0x450/unshoppable_producs/07625d16-cbad-440b-85f4-056e1b8dc1b9.jpg - as ./shoplook/data/images/date_night/bec7f4627b.jpg\n",
      "SUCCESS - saved https://d2bzx2vuetkzse.cloudfront.net/fit-in/0x450/unshoppable_producs/3b92d0c8-f57b-473a-b31e-7cbacf8efbcd.jpg - as ./shoplook/data/images/date_night/1e36bdb7fa.jpg\n",
      "SUCCESS - saved https://d2bzx2vuetkzse.cloudfront.net/fit-in/0x450/unshoppable_producs/576c0fda-21a1-4fbc-8d0d-2910f8540e4f.jpeg - as ./shoplook/data/images/date_night/f1820bb8ca.jpg\n",
      "SUCCESS - saved https://d2bzx2vuetkzse.cloudfront.net/fit-in/0x450/unshoppable_producs/12a9d92e-522f-4e04-8c9d-5f210ab84cfb.jpeg - as ./shoplook/data/images/date_night/8e6da39a00.jpg\n",
      "SUCCESS - saved https://d2bzx2vuetkzse.cloudfront.net/fit-in/0x450/unshoppable_producs/d5a7d301-20ca-4b1f-a5d2-409ba4b45821.jpeg - as ./shoplook/data/images/date_night/8da7829996.jpg\n"
     ]
    },
    {
     "name": "stderr",
     "output_type": "stream",
     "text": [
      "\r",
      " 15%|█▌        | 45/300 [10:22<58:57, 13.87s/it]  "
     ]
    },
    {
     "name": "stdout",
     "output_type": "stream",
     "text": [
      "SUCCESS - saved https://d2bzx2vuetkzse.cloudfront.net/fit-in/0x450/unshoppable_producs/7af63794-4dce-4c36-a777-28e2616f6671.jpeg - as ./shoplook/data/images/date_night/981240e240.jpg\n",
      "SUCCESS - saved https://d2bzx2vuetkzse.cloudfront.net/fit-in/0x450/unshoppable_producs/232e4a14-1273-4d2d-b67e-4b13b4e0781f.jpg - as ./shoplook/data/images/date_night/f9e6eaabd2.jpg\n",
      "SUCCESS - saved https://d2bzx2vuetkzse.cloudfront.net/fit-in/0x450/unshoppable_producs/19473f9d-1d12-4af4-b86a-d181f6d567a3.jpg - as ./shoplook/data/images/date_night/c6d341e0d1.jpg\n",
      "SUCCESS - saved https://d2bzx2vuetkzse.cloudfront.net/fit-in/0x450/unshoppable_producs/cb9ffe48-5e62-4ae4-abdd-5001b4a8812a.jpeg - as ./shoplook/data/images/date_night/f3bbcba478.jpg\n",
      "SUCCESS - saved https://d2bzx2vuetkzse.cloudfront.net/fit-in/0x450/unshoppable_producs/74ae15a3-b8b7-4009-8771-e770a52a0b95.jpeg - as ./shoplook/data/images/date_night/0b940e5825.jpg\n"
     ]
    },
    {
     "name": "stderr",
     "output_type": "stream",
     "text": [
      "\r",
      " 15%|█▌        | 46/300 [10:33<55:04, 13.01s/it]"
     ]
    },
    {
     "name": "stdout",
     "output_type": "stream",
     "text": [
      "SUCCESS - saved https://d2bzx2vuetkzse.cloudfront.net/fit-in/0x450/unshoppable_producs/e10dc349-7721-4015-a115-f3d95d6417f7.png - as ./shoplook/data/images/date_night/86c2c1bd57.jpg\n",
      "SUCCESS - saved https://d2bzx2vuetkzse.cloudfront.net/fit-in/0x450/unshoppable_producs/499f330f-44cb-4336-a03c-5dc5503f0f06.jpeg - as ./shoplook/data/images/date_night/12d1a71c6d.jpg\n",
      "SUCCESS - saved https://d2bzx2vuetkzse.cloudfront.net/fit-in/0x450/unshoppable_producs/3a13e18d-8e20-4f64-b157-35d1ce93bf2f.jpg - as ./shoplook/data/images/date_night/2d0167e3ae.jpg\n",
      "SUCCESS - saved https://d2bzx2vuetkzse.cloudfront.net/fit-in/0x450/unshoppable_producs/dc0dfec0-ec5f-47f7-9d35-61b6a272bd07.jpeg - as ./shoplook/data/images/date_night/1f8cf86fe2.jpg\n",
      "SUCCESS - saved https://d2bzx2vuetkzse.cloudfront.net/fit-in/0x450/unshoppable_producs/8086a464-19e0-4a0f-9947-2a6ee9bbd9b4.jpeg - as ./shoplook/data/images/date_night/371ab1e6c5.jpg\n",
      "SUCCESS - saved https://d2bzx2vuetkzse.cloudfront.net/fit-in/0x450/unshoppable_producs/dd1026fd-aebb-453c-a26c-188d29c8bc62.jpeg - as ./shoplook/data/images/date_night/336dffd4a6.jpg\n"
     ]
    },
    {
     "name": "stderr",
     "output_type": "stream",
     "text": [
      "\r",
      " 16%|█▌        | 47/300 [10:43<50:38, 12.01s/it]"
     ]
    },
    {
     "name": "stdout",
     "output_type": "stream",
     "text": [
      "SUCCESS - saved https://d2bzx2vuetkzse.cloudfront.net/fit-in/0x450/unshoppable_producs/84b26b6e-733d-4b8f-b0bf-9d7f862ff896.jpeg - as ./shoplook/data/images/date_night/7e5cb07955.jpg\n",
      "SUCCESS - saved https://d2bzx2vuetkzse.cloudfront.net/fit-in/0x450/unshoppable_producs/6c3d613a-0c6b-4003-9628-d3fa6acf4b44.jpg - as ./shoplook/data/images/date_night/c579c78465.jpg\n",
      "SUCCESS - saved https://d2bzx2vuetkzse.cloudfront.net/fit-in/0x450/unshoppable_producs/05b9e5a5-2067-4daa-a108-00f8b5ffeee8.jpeg - as ./shoplook/data/images/date_night/461592d871.jpg\n",
      "SUCCESS - saved https://d2bzx2vuetkzse.cloudfront.net/fit-in/0x450/unshoppable_producs/f92c5008-d05f-4d1a-b6bb-4bb51f68af73.jpeg - as ./shoplook/data/images/date_night/638aaed473.jpg\n",
      "SUCCESS - saved https://d2bzx2vuetkzse.cloudfront.net/fit-in/0x450/unshoppable_producs/06d72775-a683-45d5-8a1a-fdc5ed3de4ab.jpeg - as ./shoplook/data/images/date_night/901077a07d.jpg\n",
      "SUCCESS - saved https://d2bzx2vuetkzse.cloudfront.net/fit-in/0x450/unshoppable_producs/55d596c8-4de4-47d5-9f86-e00023f40019.jpeg - as ./shoplook/data/images/date_night/5e166b7e15.jpg\n",
      "SUCCESS - saved https://d2bzx2vuetkzse.cloudfront.net/fit-in/0x450/unshoppable_producs/b0b7505c-a4ec-4b21-97b3-95ca78f1b718.jpeg - as ./shoplook/data/images/date_night/23e2aa8e04.jpg\n",
      "SUCCESS - saved https://d2bzx2vuetkzse.cloudfront.net/fit-in/0x450/unshoppable_producs/7d0b6910-3c54-4bf5-90d4-ec7a3aecdb22.jpeg - as ./shoplook/data/images/date_night/dba7433fdd.jpg\n",
      "SUCCESS - saved https://d2bzx2vuetkzse.cloudfront.net/fit-in/0x450/unshoppable_producs/8ad53d42-c595-408e-a0c8-ffd48d39d350.jpeg - as ./shoplook/data/images/date_night/5708f468ce.jpg\n",
      "SUCCESS - saved https://d2bzx2vuetkzse.cloudfront.net/fit-in/0x450/unshoppable_producs/973820e9-4a73-4d03-838b-f5ec929be29a.jpeg - as ./shoplook/data/images/date_night/efa894fb68.jpg\n",
      "SUCCESS - saved https://d2bzx2vuetkzse.cloudfront.net/fit-in/0x450/unshoppable_producs/37d17242-bcd5-4c09-9c20-32b57ff6ba1d.jpeg - as ./shoplook/data/images/date_night/798f11f585.jpg\n"
     ]
    },
    {
     "name": "stderr",
     "output_type": "stream",
     "text": [
      "\r",
      " 16%|█▌        | 48/300 [10:56<52:03, 12.40s/it]"
     ]
    },
    {
     "name": "stdout",
     "output_type": "stream",
     "text": [
      "SUCCESS - saved https://d2bzx2vuetkzse.cloudfront.net/fit-in/0x450/unshoppable_producs/c8e61b41-9755-40f0-a60c-eaac1219ea71.jpeg - as ./shoplook/data/images/date_night/e951ab8925.jpg\n",
      "SUCCESS - saved https://d2bzx2vuetkzse.cloudfront.net/fit-in/0x450/unshoppable_producs/206c0a11-859b-4ee1-8fbc-27c7fbf75c17.jpeg - as ./shoplook/data/images/date_night/149574772d.jpg\n",
      "SUCCESS - saved https://d2bzx2vuetkzse.cloudfront.net/fit-in/0x450/unshoppable_producs/9fdd0429-24a6-4ccc-b98c-a943bd3c7b1f.jpeg - as ./shoplook/data/images/date_night/fc86333a44.jpg\n",
      "SUCCESS - saved https://d2bzx2vuetkzse.cloudfront.net/fit-in/0x450/unshoppable_producs/f8968097-00ba-42f8-bbb4-dd6f4b11f7cf.jpeg - as ./shoplook/data/images/date_night/404b7d8da5.jpg\n",
      "SUCCESS - saved https://d2bzx2vuetkzse.cloudfront.net/fit-in/0x450/unshoppable_producs/9ed8ea6f-5fbb-4e8c-a220-e522ef004e52.jpeg - as ./shoplook/data/images/date_night/396e1d8188.jpg\n",
      "SUCCESS - saved https://d2bzx2vuetkzse.cloudfront.net/fit-in/0x450/unshoppable_producs/599bc2a5-39ab-48c5-86de-5295efda7847.jpeg - as ./shoplook/data/images/date_night/42f8c74c5a.jpg\n",
      "SUCCESS - saved https://d2bzx2vuetkzse.cloudfront.net/fit-in/0x450/unshoppable_producs/a16cad1f-ce13-4ee9-b3dc-3f57f0ba969c.jpeg - as ./shoplook/data/images/date_night/7bc83a75b0.jpg\n",
      "SUCCESS - saved https://d2bzx2vuetkzse.cloudfront.net/fit-in/0x450/unshoppable_producs/e25efd98-44d0-44bf-a45c-ad70a61875fb.jpeg - as ./shoplook/data/images/date_night/232e0b2387.jpg\n",
      "SUCCESS - saved https://d2bzx2vuetkzse.cloudfront.net/fit-in/0x450/unshoppable_producs/e8f55a53-6683-4a4c-906e-a4b86f90f1d0.jpeg - as ./shoplook/data/images/date_night/bff50f722d.jpg\n",
      "SUCCESS - saved https://d2bzx2vuetkzse.cloudfront.net/fit-in/0x450/unshoppable_producs/f0c5d595-a59c-4e8d-93c6-7700c8c609b5.jpeg - as ./shoplook/data/images/date_night/25595b9be0.jpg\n",
      "SUCCESS - saved https://d2bzx2vuetkzse.cloudfront.net/fit-in/0x450/unshoppable_producs/50732fbc-373a-43bd-932e-aca375173cff.jpeg - as ./shoplook/data/images/date_night/cba6bf3de2.jpg\n",
      "SUCCESS - saved https://d2bzx2vuetkzse.cloudfront.net/fit-in/0x450/unshoppable_producs/80468ab7-4d4f-4137-bf69-34216f3a4026.jpeg - as ./shoplook/data/images/date_night/c2b54f82c1.jpg\n",
      "SUCCESS - saved https://d2bzx2vuetkzse.cloudfront.net/fit-in/0x450/unshoppable_producs/dea37dac-9eaa-4041-8f38-00486e582359.jpeg - as ./shoplook/data/images/date_night/c614ddf17c.jpg\n",
      "SUCCESS - saved https://d2bzx2vuetkzse.cloudfront.net/fit-in/0x450/unshoppable_producs/d3007468-165c-4973-861f-e36014f94543.jpeg - as ./shoplook/data/images/date_night/f415daea9c.jpg\n",
      "SUCCESS - saved https://d2bzx2vuetkzse.cloudfront.net/fit-in/0x450/unshoppable_producs/a1fd0bcd-c089-442d-a71d-a14148a2d6d0.jpeg - as ./shoplook/data/images/date_night/453a9ca27f.jpg\n",
      "SUCCESS - saved https://d2bzx2vuetkzse.cloudfront.net/fit-in/0x450/unshoppable_producs/bd658d3e-77c0-4661-8883-56c2b9c8a92e.png - as ./shoplook/data/images/date_night/304d9f5049.jpg\n",
      "SUCCESS - saved https://d2bzx2vuetkzse.cloudfront.net/fit-in/0x450/unshoppable_producs/1b5e8ad6-b276-4231-9afd-1fbad5f5a75e.jpeg - as ./shoplook/data/images/date_night/91ec9c1aa1.jpg\n",
      "SUCCESS - saved https://d2bzx2vuetkzse.cloudfront.net/fit-in/0x450/unshoppable_producs/ae0b3594-bfe4-453f-b58b-380b8367b640.jpeg - as ./shoplook/data/images/date_night/9662c16261.jpg\n"
     ]
    },
    {
     "name": "stderr",
     "output_type": "stream",
     "text": [
      "\r",
      " 16%|█▋        | 49/300 [11:10<53:37, 12.82s/it]"
     ]
    },
    {
     "name": "stdout",
     "output_type": "stream",
     "text": [
      "SUCCESS - saved https://d2bzx2vuetkzse.cloudfront.net/fit-in/0x450/unshoppable_producs/eda5e617-7a5a-4444-a1ee-669dcbfa7055.jpeg - as ./shoplook/data/images/date_night/bb1bd7fa91.jpg\n",
      "SUCCESS - saved https://d2bzx2vuetkzse.cloudfront.net/fit-in/0x450/unshoppable_producs/6a765424-8ad3-47ca-b479-47b5be82a7c4.jpg - as ./shoplook/data/images/date_night/bbd9e60a93.jpg\n",
      "SUCCESS - saved https://d2bzx2vuetkzse.cloudfront.net/fit-in/0x450/unshoppable_producs/9631dbe9-d71f-48f4-be96-e19141c0d481.jpeg - as ./shoplook/data/images/date_night/1e2b253f85.jpg\n",
      "SUCCESS - saved https://d2bzx2vuetkzse.cloudfront.net/fit-in/0x450/unshoppable_producs/56c5ce72-6ef6-4323-bb10-822440b1314e.jpeg - as ./shoplook/data/images/date_night/d085b1108a.jpg\n",
      "SUCCESS - saved https://d2bzx2vuetkzse.cloudfront.net/fit-in/0x450/unshoppable_producs/41aa8826-3b25-477c-8d7f-dee9872670aa.jpeg - as ./shoplook/data/images/date_night/fe08bf8db1.jpg\n",
      "SUCCESS - saved https://d2bzx2vuetkzse.cloudfront.net/fit-in/0x450/unshoppable_producs/653d6997-4180-405c-822f-70be49d0bee4.jpeg - as ./shoplook/data/images/date_night/6afc8b43ff.jpg\n",
      "SUCCESS - saved https://d2bzx2vuetkzse.cloudfront.net/fit-in/0x450/unshoppable_producs/55bb3a04-cbba-4e39-8def-63b0f6f248a1.jpeg - as ./shoplook/data/images/date_night/9434133a3c.jpg\n"
     ]
    },
    {
     "name": "stderr",
     "output_type": "stream",
     "text": [
      "\r",
      " 17%|█▋        | 50/300 [11:22<52:27, 12.59s/it]"
     ]
    },
    {
     "name": "stdout",
     "output_type": "stream",
     "text": [
      "SUCCESS - saved https://d2bzx2vuetkzse.cloudfront.net/fit-in/0x450/unshoppable_producs/9ba13007-1252-4a80-8ca4-7945274a6377.jpeg - as ./shoplook/data/images/date_night/3e9919571f.jpg\n",
      "SUCCESS - saved https://d2bzx2vuetkzse.cloudfront.net/fit-in/0x450/unshoppable_producs/afb79946-4a1a-4695-b22a-16dd9020cf69.jpg - as ./shoplook/data/images/date_night/6633815057.jpg\n",
      "SUCCESS - saved https://d2bzx2vuetkzse.cloudfront.net/fit-in/0x450/unshoppable_producs/8f26765d-82ae-4698-8fd8-2beca7325d98.jpg - as ./shoplook/data/images/date_night/16f81816c6.jpg\n",
      "SUCCESS - saved https://d2bzx2vuetkzse.cloudfront.net/fit-in/0x450/unshoppable_producs/1a56323f-088f-4dca-be23-738551ba9c09.jpg - as ./shoplook/data/images/date_night/3fb207dde7.jpg\n",
      "SUCCESS - saved https://d2bzx2vuetkzse.cloudfront.net/fit-in/0x450/unshoppable_producs/457d312e-bef1-405a-a389-fa9a0f2bc706.jpeg - as ./shoplook/data/images/date_night/47d1ffcf9b.jpg\n",
      "SUCCESS - saved https://d2bzx2vuetkzse.cloudfront.net/fit-in/0x450/unshoppable_producs/d19c79a3-6e7c-495c-9230-fd54f8445a58.jpeg - as ./shoplook/data/images/date_night/ae2634d31e.jpg\n",
      "SUCCESS - saved https://d2bzx2vuetkzse.cloudfront.net/fit-in/0x450/unshoppable_producs/6305f272-3f35-491f-ac2e-7992345b28df.jpeg - as ./shoplook/data/images/date_night/43d4606020.jpg\n",
      "SUCCESS - saved https://d2bzx2vuetkzse.cloudfront.net/fit-in/0x450/unshoppable_producs/9be25a67-4f5a-484e-a893-c9512fc97517.jpeg - as ./shoplook/data/images/date_night/e98542fc95.jpg\n",
      "SUCCESS - saved https://d2bzx2vuetkzse.cloudfront.net/fit-in/0x450/unshoppable_producs/a0380351-24dd-4407-8711-37d40c896eeb.jpeg - as ./shoplook/data/images/date_night/7f07af0cc9.jpg\n",
      "SUCCESS - saved https://d2bzx2vuetkzse.cloudfront.net/fit-in/0x450/unshoppable_producs/9d6328db-f8ab-478b-876f-4824997a8218.jpeg - as ./shoplook/data/images/date_night/eab3922461.jpg\n",
      "SUCCESS - saved https://d2bzx2vuetkzse.cloudfront.net/fit-in/0x450/unshoppable_producs/81407d0b-0f20-4998-ba87-b0663c15bde5.jpeg - as ./shoplook/data/images/date_night/c136b313b3.jpg\n",
      "SUCCESS - saved https://d2bzx2vuetkzse.cloudfront.net/fit-in/0x450/unshoppable_producs/4176b479-aae1-4641-9fe6-3d75c6d81974.jpeg - as ./shoplook/data/images/date_night/613d25336c.jpg\n"
     ]
    },
    {
     "name": "stderr",
     "output_type": "stream",
     "text": [
      "\r",
      " 17%|█▋        | 51/300 [11:36<54:40, 13.17s/it]"
     ]
    },
    {
     "name": "stdout",
     "output_type": "stream",
     "text": [
      "SUCCESS - saved https://d2bzx2vuetkzse.cloudfront.net/fit-in/0x450/unshoppable_producs/2360ff87-ff49-4f35-acbf-3471d81c6e3b.jpeg - as ./shoplook/data/images/date_night/833cdf2a1a.jpg\n",
      "SUCCESS - saved https://d2bzx2vuetkzse.cloudfront.net/fit-in/0x450/unshoppable_producs/6bb1f405-4499-4c08-8c95-cb9af33fe6df.jpg - as ./shoplook/data/images/date_night/dcd8b4146e.jpg\n",
      "SUCCESS - saved https://d2bzx2vuetkzse.cloudfront.net/fit-in/0x450/unshoppable_producs/45b05fba-fb60-4de4-b77a-fe01fc1a508b.jpeg - as ./shoplook/data/images/date_night/e36d11ed05.jpg\n",
      "SUCCESS - saved https://d2bzx2vuetkzse.cloudfront.net/fit-in/0x450/unshoppable_producs/812f6387-e334-4ff1-9a20-1b28127aa492.jpeg - as ./shoplook/data/images/date_night/95b9f9f78d.jpg\n",
      "SUCCESS - saved https://d2bzx2vuetkzse.cloudfront.net/fit-in/0x450/unshoppable_producs/2ed3f066-31af-4896-9ec6-2bb9db6ff3c0.jpeg - as ./shoplook/data/images/date_night/e15a6cf49c.jpg\n",
      "SUCCESS - saved https://d2bzx2vuetkzse.cloudfront.net/fit-in/0x450/unshoppable_producs/fbbf2204-9835-4fac-9ee1-e5dd064d0f55.jpeg - as ./shoplook/data/images/date_night/ecb455365a.jpg\n",
      "SUCCESS - saved https://d2bzx2vuetkzse.cloudfront.net/fit-in/0x450/unshoppable_producs/28e586e8-4730-4e84-bf7c-5645708dab3e.jpeg - as ./shoplook/data/images/date_night/a1c90f83f1.jpg\n"
     ]
    },
    {
     "name": "stderr",
     "output_type": "stream",
     "text": [
      "\r",
      " 17%|█▋        | 52/300 [11:48<52:25, 12.68s/it]"
     ]
    },
    {
     "name": "stdout",
     "output_type": "stream",
     "text": [
      "SUCCESS - saved https://d2bzx2vuetkzse.cloudfront.net/fit-in/0x450/unshoppable_producs/0fb9acf2-e801-4b54-bcd9-a669d7d519dc.jpg - as ./shoplook/data/images/date_night/339d5ac648.jpg\n",
      "SUCCESS - saved https://d2bzx2vuetkzse.cloudfront.net/fit-in/0x450/unshoppable_producs/e25efd98-44d0-44bf-a45c-ad70a61875fb.jpeg - as ./shoplook/data/images/date_night/232e0b2387.jpg\n",
      "SUCCESS - saved https://d2bzx2vuetkzse.cloudfront.net/fit-in/0x450/unshoppable_producs/af23a5f5-b5c5-48dc-bd57-4a93810350f3.jpeg - as ./shoplook/data/images/date_night/205e4c9c06.jpg\n",
      "SUCCESS - saved https://d2bzx2vuetkzse.cloudfront.net/fit-in/0x450/unshoppable_producs/c879e71f-146d-46d9-a792-d86fa657006d.jpeg - as ./shoplook/data/images/date_night/c75bc6a2dd.jpg\n",
      "SUCCESS - saved https://d2bzx2vuetkzse.cloudfront.net/fit-in/0x450/unshoppable_producs/29112a7e-7d21-47e4-9cb0-a4b546c70dde.jpeg - as ./shoplook/data/images/date_night/94ec0c27b4.jpg\n",
      "SUCCESS - saved https://d2bzx2vuetkzse.cloudfront.net/fit-in/0x450/unshoppable_producs/9efa6b2e-ac72-4438-9676-0d9cfbfb9fb2.jpeg - as ./shoplook/data/images/date_night/0fa56b9d45.jpg\n"
     ]
    },
    {
     "name": "stderr",
     "output_type": "stream",
     "text": [
      "\r",
      " 18%|█▊        | 53/300 [12:00<51:11, 12.43s/it]"
     ]
    },
    {
     "name": "stdout",
     "output_type": "stream",
     "text": [
      "SUCCESS - saved https://d2bzx2vuetkzse.cloudfront.net/fit-in/0x450/unshoppable_producs/b6b0d11e-b4d3-4d39-8e9e-25a45def583b.jpeg - as ./shoplook/data/images/date_night/ff12dff59e.jpg\n",
      "SUCCESS - saved https://d2bzx2vuetkzse.cloudfront.net/fit-in/0x450/unshoppable_producs/e8b49090-0adf-47d4-8f5e-ae552d5c2134.jpg - as ./shoplook/data/images/date_night/b3dc3d58f3.jpg\n",
      "SUCCESS - saved https://d2bzx2vuetkzse.cloudfront.net/fit-in/0x450/unshoppable_producs/6ec30e84-61c4-4afa-9d85-2ed0b85d22b5.jpg - as ./shoplook/data/images/date_night/0d6c97c626.jpg\n",
      "SUCCESS - saved https://d2bzx2vuetkzse.cloudfront.net/fit-in/0x450/unshoppable_producs/a2ffe343-eb04-4366-9c17-a366adbb5305.jpg - as ./shoplook/data/images/date_night/8cbce74898.jpg\n",
      "SUCCESS - saved https://d2bzx2vuetkzse.cloudfront.net/fit-in/0x450/unshoppable_producs/f2d64af4-7023-4092-b942-35054e382e99.jpg - as ./shoplook/data/images/date_night/18bc2ec749.jpg\n",
      "SUCCESS - saved https://d2bzx2vuetkzse.cloudfront.net/fit-in/0x450/unshoppable_producs/9b1195a5-2748-4699-9fcc-3f1a01db4f82.jpg - as ./shoplook/data/images/date_night/668665f148.jpg\n",
      "SUCCESS - saved https://d2bzx2vuetkzse.cloudfront.net/fit-in/0x450/unshoppable_producs/b18acc4d-e564-4aa1-ab49-3a35b870212f.jpg - as ./shoplook/data/images/date_night/4fb697e762.jpg\n",
      "SUCCESS - saved https://d2bzx2vuetkzse.cloudfront.net/fit-in/0x450/unshoppable_producs/d8287927-9578-455f-a5ff-b3fa9fe7bd3f.jpeg - as ./shoplook/data/images/date_night/29817e2177.jpg\n",
      "SUCCESS - saved https://d2bzx2vuetkzse.cloudfront.net/fit-in/0x450/unshoppable_producs/0ad99c91-a81b-4a06-b53e-3dcadf8b1976.jpeg - as ./shoplook/data/images/date_night/f129e798ed.jpg\n",
      "SUCCESS - saved https://d2bzx2vuetkzse.cloudfront.net/fit-in/0x450/unshoppable_producs/a2c58a0d-5d70-4ba2-bec4-23c18b19d7d9.png - as ./shoplook/data/images/date_night/f1be08bfb7.jpg\n",
      "SUCCESS - saved https://d2bzx2vuetkzse.cloudfront.net/fit-in/0x450/unshoppable_producs/f7c5ff54-2caf-429d-8ce8-982133a3fc8f.jpeg - as ./shoplook/data/images/date_night/527f632f21.jpg\n"
     ]
    },
    {
     "name": "stderr",
     "output_type": "stream",
     "text": [
      "\r",
      " 18%|█▊        | 54/300 [12:12<51:19, 12.52s/it]"
     ]
    },
    {
     "name": "stdout",
     "output_type": "stream",
     "text": [
      "SUCCESS - saved https://d2bzx2vuetkzse.cloudfront.net/fit-in/0x450/unshoppable_producs/82e0275e-fc0a-41bb-abaf-60c21d65327e.jpg - as ./shoplook/data/images/date_night/d238a1f7c6.jpg\n",
      "SUCCESS - saved https://d2bzx2vuetkzse.cloudfront.net/fit-in/0x450/unshoppable_producs/6a765424-8ad3-47ca-b479-47b5be82a7c4.jpg - as ./shoplook/data/images/date_night/bbd9e60a93.jpg\n",
      "SUCCESS - saved https://d2bzx2vuetkzse.cloudfront.net/fit-in/0x450/unshoppable_producs/2d87e3e1-fc73-4ae8-bd2a-14458f024ffa.jpeg - as ./shoplook/data/images/date_night/7ce4dc0d34.jpg\n",
      "SUCCESS - saved https://d2bzx2vuetkzse.cloudfront.net/fit-in/0x450/unshoppable_producs/e3329517-1910-4fc0-9d74-ba6195bd0ce9.jpeg - as ./shoplook/data/images/date_night/4dbfd2a2ec.jpg\n",
      "SUCCESS - saved https://d2bzx2vuetkzse.cloudfront.net/fit-in/0x450/unshoppable_producs/3cc0a45b-86bb-4977-bcd9-d517b503acf1.jpeg - as ./shoplook/data/images/date_night/421c7eb64f.jpg\n",
      "SUCCESS - saved https://d2bzx2vuetkzse.cloudfront.net/fit-in/0x450/unshoppable_producs/c6bf5e6a-4a45-4008-a958-4ae659218c9c.jpeg - as ./shoplook/data/images/date_night/eef775b34f.jpg\n",
      "SUCCESS - saved https://d2bzx2vuetkzse.cloudfront.net/fit-in/0x450/unshoppable_producs/b5e677c5-28ac-4639-82ab-d6fa941d0c93.jpeg - as ./shoplook/data/images/date_night/22444b8686.jpg\n"
     ]
    },
    {
     "name": "stderr",
     "output_type": "stream",
     "text": [
      "\r",
      " 18%|█▊        | 55/300 [12:25<50:57, 12.48s/it]"
     ]
    },
    {
     "name": "stdout",
     "output_type": "stream",
     "text": [
      "SUCCESS - saved https://d2bzx2vuetkzse.cloudfront.net/fit-in/0x450/unshoppable_producs/751f013f-4db0-4ad7-afa5-1ee397b04ce4.jpeg - as ./shoplook/data/images/date_night/a77e1e812b.jpg\n",
      "SUCCESS - saved https://d2bzx2vuetkzse.cloudfront.net/fit-in/0x450/unshoppable_producs/5b194be9-7de8-4e36-9368-4a7752c6db34.jpg - as ./shoplook/data/images/date_night/a7f54ceb09.jpg\n",
      "SUCCESS - saved https://d2bzx2vuetkzse.cloudfront.net/fit-in/0x450/unshoppable_producs/bd231e9e-2a11-4194-83c9-37de915ae88d.jpg - as ./shoplook/data/images/date_night/557911406d.jpg\n",
      "SUCCESS - saved https://d2bzx2vuetkzse.cloudfront.net/fit-in/0x450/unshoppable_producs/ff7a99f4-fe33-41ec-9dd5-7b12f6004db7.jpg - as ./shoplook/data/images/date_night/328f9e3175.jpg\n",
      "SUCCESS - saved https://d2bzx2vuetkzse.cloudfront.net/fit-in/0x450/unshoppable_producs/fac739b3-0d44-428b-ac65-816187aafe7a.jpgsw2000sh2000smfit - as ./shoplook/data/images/date_night/d2c8ea38c2.jpg\n",
      "SUCCESS - saved https://d2bzx2vuetkzse.cloudfront.net/fit-in/0x450/unshoppable_producs/79cd41d6-4d72-4209-9a0d-05fd1bb96e98.jpeg - as ./shoplook/data/images/date_night/944add493e.jpg\n",
      "SUCCESS - saved https://d2bzx2vuetkzse.cloudfront.net/fit-in/0x450/unshoppable_producs/6f7c2117-190b-4598-9f36-836990a55ee3.jpeg - as ./shoplook/data/images/date_night/dec760bcad.jpg\n"
     ]
    },
    {
     "name": "stderr",
     "output_type": "stream",
     "text": [
      "\r",
      " 19%|█▊        | 56/300 [12:40<53:37, 13.19s/it]"
     ]
    },
    {
     "name": "stdout",
     "output_type": "stream",
     "text": [
      "SUCCESS - saved https://d2bzx2vuetkzse.cloudfront.net/fit-in/0x450/unshoppable_producs/e2a37495-50fc-496e-b0f9-d4ef6b674a23.jpeg - as ./shoplook/data/images/date_night/df632986f6.jpg\n",
      "SUCCESS - saved https://d2bzx2vuetkzse.cloudfront.net/fit-in/0x450/unshoppable_producs/cac44919-a76f-4bb4-bb8b-77dd51e34ff9.jpg - as ./shoplook/data/images/date_night/40bc4011c0.jpg\n",
      "SUCCESS - saved https://d2bzx2vuetkzse.cloudfront.net/fit-in/0x450/unshoppable_producs/74f3b412-2ea8-461a-a744-fcf78f8bbdb1.jpeg - as ./shoplook/data/images/date_night/c4d9705ef8.jpg\n",
      "SUCCESS - saved https://d2bzx2vuetkzse.cloudfront.net/fit-in/0x450/unshoppable_producs/5091e9cb-6e26-42c5-96a0-b5df9f348dc9.jpeg - as ./shoplook/data/images/date_night/0882138a41.jpg\n",
      "SUCCESS - saved https://d2bzx2vuetkzse.cloudfront.net/fit-in/0x450/unshoppable_producs/115a0721-4920-4487-8105-f905b11380f6.jpeg - as ./shoplook/data/images/date_night/678f773230.jpg\n",
      "SUCCESS - saved https://d2bzx2vuetkzse.cloudfront.net/fit-in/0x450/unshoppable_producs/6c978ba4-ea52-4b1d-a542-05d99468ffc7.jpeg - as ./shoplook/data/images/date_night/d4abb4bcd0.jpg\n",
      "SUCCESS - saved https://d2bzx2vuetkzse.cloudfront.net/fit-in/0x450/unshoppable_producs/5a1d0e4b-5ab2-4ab4-97c7-c35508380557.webp - as ./shoplook/data/images/date_night/5a19e09730.jpg\n",
      "SUCCESS - saved https://d2bzx2vuetkzse.cloudfront.net/fit-in/0x450/unshoppable_producs/812e0868-6173-414e-a2e6-3e8aee890ffb.jpeg - as ./shoplook/data/images/date_night/d01f1b5315.jpg\n",
      "SUCCESS - saved https://d2bzx2vuetkzse.cloudfront.net/fit-in/0x450/unshoppable_producs/0fd8a1b3-9b29-4d17-b8a3-ff27e9c64198.jpeg - as ./shoplook/data/images/date_night/5dae5594bb.jpg\n"
     ]
    },
    {
     "name": "stderr",
     "output_type": "stream",
     "text": [
      "\r",
      " 19%|█▉        | 57/300 [13:01<1:03:13, 15.61s/it]"
     ]
    },
    {
     "name": "stdout",
     "output_type": "stream",
     "text": [
      "SUCCESS - saved https://d2bzx2vuetkzse.cloudfront.net/fit-in/0x450/unshoppable_producs/95949755-a2c3-4281-8ae5-4c9d8a7032f9.jpeg - as ./shoplook/data/images/date_night/41a1b0b77a.jpg\n",
      "SUCCESS - saved https://d2bzx2vuetkzse.cloudfront.net/fit-in/0x450/unshoppable_producs/37a55de8-7370-4a91-a524-08e7eea62de2.jpg - as ./shoplook/data/images/date_night/ab10ae36e6.jpg\n",
      "SUCCESS - saved https://d2bzx2vuetkzse.cloudfront.net/fit-in/0x450/unshoppable_producs/b4c18714-8a23-44e5-a08e-576325ef04c8.jpeg - as ./shoplook/data/images/date_night/f11f801c29.jpg\n",
      "SUCCESS - saved https://d2bzx2vuetkzse.cloudfront.net/fit-in/0x450/unshoppable_producs/9d88a515-3bcb-4c5f-8d0f-cbb68cbfe04c.jpeg - as ./shoplook/data/images/date_night/f793e551d5.jpg\n",
      "SUCCESS - saved https://d2bzx2vuetkzse.cloudfront.net/fit-in/0x450/unshoppable_producs/f8499faf-01fd-4c18-81c8-0feab1c81882.jpeg - as ./shoplook/data/images/date_night/ad5dc28dbd.jpg\n"
     ]
    },
    {
     "name": "stderr",
     "output_type": "stream",
     "text": [
      "\r",
      " 19%|█▉        | 58/300 [13:14<59:40, 14.79s/it]  "
     ]
    },
    {
     "name": "stdout",
     "output_type": "stream",
     "text": [
      "SUCCESS - saved https://d2bzx2vuetkzse.cloudfront.net/fit-in/0x450/unshoppable_producs/583a2369-ff64-48b0-8472-9ccbf43953f7.jpeg - as ./shoplook/data/images/date_night/a6b11fb3a4.jpg\n",
      "SUCCESS - saved https://d2bzx2vuetkzse.cloudfront.net/fit-in/0x450/unshoppable_producs/3d1d72b4-8a8f-4326-8522-e2a8c91a9db1.jpg - as ./shoplook/data/images/date_night/cc5cc2abe1.jpg\n",
      "SUCCESS - saved https://d2bzx2vuetkzse.cloudfront.net/fit-in/0x450/unshoppable_producs/fed72da4-0264-4115-8fdb-9a59b3370846.jpg - as ./shoplook/data/images/date_night/62b353a8ff.jpg\n",
      "SUCCESS - saved https://d2bzx2vuetkzse.cloudfront.net/fit-in/0x450/unshoppable_producs/74b180fe-386b-48ac-9bcb-cf6a7b6a07d1.jpeg - as ./shoplook/data/images/date_night/0f425595ab.jpg\n",
      "SUCCESS - saved https://d2bzx2vuetkzse.cloudfront.net/fit-in/0x450/unshoppable_producs/cbdfad6a-0e63-4b47-915e-3f8c534d9110.jpeg - as ./shoplook/data/images/date_night/28ea82f1e4.jpg\n",
      "SUCCESS - saved https://d2bzx2vuetkzse.cloudfront.net/fit-in/0x450/unshoppable_producs/828203e4-603a-4cf3-9daf-77d5a1b4d1af.jpeg - as ./shoplook/data/images/date_night/f05c744765.jpg\n",
      "SUCCESS - saved https://d2bzx2vuetkzse.cloudfront.net/fit-in/0x450/unshoppable_producs/a2b13550-dd2e-4263-8876-e8c8b9767f77.jpeg - as ./shoplook/data/images/date_night/1db8558b68.jpg\n",
      "SUCCESS - saved https://d2bzx2vuetkzse.cloudfront.net/fit-in/0x450/unshoppable_producs/fcb90629-d0e3-4b72-8d01-8bab38dd44c3.jpeg - as ./shoplook/data/images/date_night/d3215b25d1.jpg\n"
     ]
    },
    {
     "name": "stderr",
     "output_type": "stream",
     "text": [
      "\r",
      " 20%|█▉        | 59/300 [13:37<1:09:41, 17.35s/it]"
     ]
    },
    {
     "name": "stdout",
     "output_type": "stream",
     "text": [
      "SUCCESS - saved https://d2bzx2vuetkzse.cloudfront.net/fit-in/0x450/unshoppable_producs/a457ebd9-267e-4541-9fd4-a2f33dd7e033.jpeg - as ./shoplook/data/images/date_night/a1a2b325c7.jpg\n",
      "SUCCESS - saved https://d2bzx2vuetkzse.cloudfront.net/fit-in/0x450/unshoppable_producs/6c3d613a-0c6b-4003-9628-d3fa6acf4b44.jpg - as ./shoplook/data/images/date_night/c579c78465.jpg\n",
      "SUCCESS - saved https://d2bzx2vuetkzse.cloudfront.net/fit-in/0x450/unshoppable_producs/6cb1932e-81de-4f26-9f3e-cf1644156fbb.jpeg - as ./shoplook/data/images/date_night/707c1c0d33.jpg\n",
      "SUCCESS - saved https://d2bzx2vuetkzse.cloudfront.net/fit-in/0x450/unshoppable_producs/f5e116de-e397-464a-b2e9-624f972be8ae.jpeg - as ./shoplook/data/images/date_night/197ed8f7da.jpg\n",
      "SUCCESS - saved https://d2bzx2vuetkzse.cloudfront.net/fit-in/0x450/unshoppable_producs/1d55882d-dd2c-4cf1-a77d-5136aeae1ad7.jpeg - as ./shoplook/data/images/date_night/84f9515cd1.jpg\n",
      "SUCCESS - saved https://d2bzx2vuetkzse.cloudfront.net/fit-in/0x450/unshoppable_producs/da8258bf-6435-466e-a482-61b25a24d58f.jpeg - as ./shoplook/data/images/date_night/c324452214.jpg\n",
      "SUCCESS - saved https://d2bzx2vuetkzse.cloudfront.net/fit-in/0x450/unshoppable_producs/f2042d89-adbe-49ed-bf28-cd80c57701b1.jpeg - as ./shoplook/data/images/date_night/e49277ff88.jpg\n"
     ]
    },
    {
     "name": "stderr",
     "output_type": "stream",
     "text": [
      "\r",
      " 20%|██        | 60/300 [14:06<1:22:58, 20.74s/it]"
     ]
    },
    {
     "name": "stdout",
     "output_type": "stream",
     "text": [
      "SUCCESS - saved https://d2bzx2vuetkzse.cloudfront.net/fit-in/0x450/unshoppable_producs/529e4e2e-4b73-45eb-83fb-e5eb93791f82.jpeg - as ./shoplook/data/images/date_night/d9694db136.jpg\n",
      "SUCCESS - saved https://d2bzx2vuetkzse.cloudfront.net/fit-in/0x450/unshoppable_producs/1ad75fb0-537b-4771-b531-12b2dc4302b4.jpeg - as ./shoplook/data/images/date_night/cbbf002a5d.jpg\n",
      "SUCCESS - saved https://d2bzx2vuetkzse.cloudfront.net/fit-in/0x450/unshoppable_producs/40a9ba90-f695-4dd3-9640-46876b7b250f.jpeg - as ./shoplook/data/images/date_night/96de0ac2d9.jpg\n"
     ]
    },
    {
     "name": "stderr",
     "output_type": "stream",
     "text": [
      "\r",
      " 20%|██        | 61/300 [14:30<1:26:19, 21.67s/it]"
     ]
    },
    {
     "name": "stdout",
     "output_type": "stream",
     "text": [
      "SUCCESS - saved https://d2bzx2vuetkzse.cloudfront.net/fit-in/0x450/unshoppable_producs/b09bae67-c3aa-495b-9592-b7a64faef225.jpeg - as ./shoplook/data/images/date_night/8fccc7fdb3.jpg\n",
      "SUCCESS - saved https://d2bzx2vuetkzse.cloudfront.net/fit-in/0x450/unshoppable_producs/4f19cb72-cbd1-413c-81be-676cfe4e8021.jpeg - as ./shoplook/data/images/date_night/7148ec750c.jpg\n",
      "SUCCESS - saved https://d2bzx2vuetkzse.cloudfront.net/fit-in/0x450/unshoppable_producs/2be1b970-b679-47f2-9e29-2f77bcf91a27.jpeg - as ./shoplook/data/images/date_night/e159805bf4.jpg\n",
      "SUCCESS - saved https://d2bzx2vuetkzse.cloudfront.net/fit-in/0x450/unshoppable_producs/7f46774d-6b18-4a36-a209-ff07b8f291da.jpg - as ./shoplook/data/images/date_night/443cd0fa4d.jpg\n",
      "SUCCESS - saved https://d2bzx2vuetkzse.cloudfront.net/fit-in/0x450/unshoppable_producs/596322f6-2528-4a9f-a961-6b112fe7ab25.jpeg - as ./shoplook/data/images/date_night/fda3f3c85a.jpg\n"
     ]
    },
    {
     "name": "stderr",
     "output_type": "stream",
     "text": [
      "\r",
      " 21%|██        | 62/300 [14:48<1:22:12, 20.73s/it]"
     ]
    },
    {
     "name": "stdout",
     "output_type": "stream",
     "text": [
      "SUCCESS - saved https://d2bzx2vuetkzse.cloudfront.net/fit-in/0x450/unshoppable_producs/7d381685-bf17-4650-bb6f-bf2e68c0f643.jpg - as ./shoplook/data/images/date_night/0cc81aad81.jpg\n",
      "SUCCESS - saved https://d2bzx2vuetkzse.cloudfront.net/fit-in/0x450/unshoppable_producs/5b4a00c3-3130-40e5-8bdb-16b61b23cfc3.jpeg - as ./shoplook/data/images/date_night/41ed603a47.jpg\n",
      "SUCCESS - saved https://d2bzx2vuetkzse.cloudfront.net/fit-in/0x450/unshoppable_producs/5ce3be71-b154-40a9-bf64-622d70ec633b.jpeg - as ./shoplook/data/images/date_night/5d6acfc58a.jpg\n",
      "SUCCESS - saved https://d2bzx2vuetkzse.cloudfront.net/fit-in/0x450/unshoppable_producs/dbe8b7cc-3e8b-4bbb-a59a-9544e0b76eb7.jpeg - as ./shoplook/data/images/date_night/fe0fb5a955.jpg\n",
      "SUCCESS - saved https://d2bzx2vuetkzse.cloudfront.net/fit-in/0x450/unshoppable_producs/cdc85e48-efc8-4268-801d-f61c41f86b41.jpeg - as ./shoplook/data/images/date_night/2439ec02a5.jpg\n",
      "SUCCESS - saved https://d2bzx2vuetkzse.cloudfront.net/fit-in/0x450/unshoppable_producs/6f61a14c-1cc2-4c06-bb92-b4aa1c66b552.jpeg - as ./shoplook/data/images/date_night/17e7ad2042.jpg\n",
      "SUCCESS - saved https://d2bzx2vuetkzse.cloudfront.net/fit-in/0x450/unshoppable_producs/e8c74d82-f93c-4730-b11c-4f77273215fd.webp - as ./shoplook/data/images/date_night/a4a3572a02.jpg\n"
     ]
    },
    {
     "name": "stderr",
     "output_type": "stream",
     "text": [
      "\r",
      " 21%|██        | 63/300 [15:04<1:16:35, 19.39s/it]"
     ]
    },
    {
     "name": "stdout",
     "output_type": "stream",
     "text": [
      "SUCCESS - saved https://d2bzx2vuetkzse.cloudfront.net/fit-in/0x450/unshoppable_producs/89370660-24f6-49fc-a0bf-ad2da4d16077.jpeg - as ./shoplook/data/images/date_night/7e517fb68f.jpg\n",
      "SUCCESS - saved https://d2bzx2vuetkzse.cloudfront.net/fit-in/0x450/unshoppable_producs/fe0dd7e7-8deb-4e1a-ae32-6459b71a4f6f.jpg - as ./shoplook/data/images/date_night/502ad74a22.jpg\n",
      "SUCCESS - saved https://d2bzx2vuetkzse.cloudfront.net/fit-in/0x450/unshoppable_producs/fe77217f-6a78-4b51-aa5e-15c35635c5f3.jpg - as ./shoplook/data/images/date_night/be98d6434d.jpg\n",
      "SUCCESS - saved https://d2bzx2vuetkzse.cloudfront.net/fit-in/0x450/unshoppable_producs/d7966343-8b77-40e2-b0a1-7c8b41bc8faa.jpeg - as ./shoplook/data/images/date_night/214ab31585.jpg\n",
      "SUCCESS - saved https://d2bzx2vuetkzse.cloudfront.net/fit-in/0x450/unshoppable_producs/12d131e6-a915-489b-a0dd-43d52ac3224e.jpeg - as ./shoplook/data/images/date_night/52be1a5311.jpg\n",
      "SUCCESS - saved https://d2bzx2vuetkzse.cloudfront.net/fit-in/0x450/unshoppable_producs/138c2bb7-d765-4cd6-a3e8-26c82ca3e268.jpeg - as ./shoplook/data/images/date_night/042299b6a0.jpg\n"
     ]
    },
    {
     "name": "stderr",
     "output_type": "stream",
     "text": [
      "\r",
      " 21%|██▏       | 64/300 [15:15<1:06:20, 16.87s/it]"
     ]
    },
    {
     "name": "stdout",
     "output_type": "stream",
     "text": [
      "SUCCESS - saved https://d2bzx2vuetkzse.cloudfront.net/fit-in/0x450/unshoppable_producs/36e55fc5-9f82-4120-bb5b-386e599aa571.jpg - as ./shoplook/data/images/date_night/19f8b12b1f.jpg\n",
      "SUCCESS - saved https://d2bzx2vuetkzse.cloudfront.net/fit-in/0x450/unshoppable_producs/7a4e2689-e020-4aed-b3b9-672e6a23e992.jpeg - as ./shoplook/data/images/date_night/847e91f20d.jpg\n",
      "SUCCESS - saved https://d2bzx2vuetkzse.cloudfront.net/fit-in/0x450/unshoppable_producs/30f0322e-cf86-4561-af82-0b156166e0c3.jpeg - as ./shoplook/data/images/date_night/14cac684a9.jpg\n",
      "SUCCESS - saved https://d2bzx2vuetkzse.cloudfront.net/fit-in/0x450/unshoppable_producs/e69e118e-4265-433a-8648-23c1b683030d.jpeg - as ./shoplook/data/images/date_night/6ec2cba5af.jpg\n",
      "SUCCESS - saved https://d2bzx2vuetkzse.cloudfront.net/fit-in/0x450/unshoppable_producs/e77ff83c-6ef2-4c4e-a9c9-1538baac3380.jpeg - as ./shoplook/data/images/date_night/5101b3f18a.jpg\n",
      "SUCCESS - saved https://d2bzx2vuetkzse.cloudfront.net/fit-in/0x450/unshoppable_producs/b0b8ac1d-0c67-47e0-ba3f-5c845027fdc2.jpeg - as ./shoplook/data/images/date_night/5cfd7dcbfa.jpg\n"
     ]
    },
    {
     "name": "stderr",
     "output_type": "stream",
     "text": [
      "\r",
      " 22%|██▏       | 65/300 [15:30<1:03:04, 16.10s/it]"
     ]
    },
    {
     "name": "stdout",
     "output_type": "stream",
     "text": [
      "SUCCESS - saved https://d2bzx2vuetkzse.cloudfront.net/fit-in/0x450/unshoppable_producs/a6b12d7d-4fe0-4482-bee5-e3ef333cf4c2.jpeg - as ./shoplook/data/images/date_night/e38fc7e3f8.jpg\n",
      "SUCCESS - saved https://d2bzx2vuetkzse.cloudfront.net/fit-in/0x450/unshoppable_producs/af7e16f0-859e-4d53-b6cd-2e3f1f5dec57.jpeg - as ./shoplook/data/images/date_night/c7a37a9439.jpg\n",
      "SUCCESS - saved https://d2bzx2vuetkzse.cloudfront.net/fit-in/0x450/unshoppable_producs/d9a53a08-1eca-48cc-971e-5e6fade3d3aa.jpeg - as ./shoplook/data/images/date_night/2e0158c21f.jpg\n",
      "SUCCESS - saved https://d2bzx2vuetkzse.cloudfront.net/fit-in/0x450/unshoppable_producs/72fe2437-fea0-4ffd-a98c-dc356afeef9f.jpeg - as ./shoplook/data/images/date_night/8a45b2b8f8.jpg\n",
      "SUCCESS - saved https://d2bzx2vuetkzse.cloudfront.net/fit-in/0x450/unshoppable_producs/ffb83abb-7f37-44d2-94ec-22295754dbb2.jpeg - as ./shoplook/data/images/date_night/25aedbc4cc.jpg\n",
      "SUCCESS - saved https://d2bzx2vuetkzse.cloudfront.net/fit-in/0x450/unshoppable_producs/314716f4-178b-4d59-bec8-1b12300bc9c6.jpeg - as ./shoplook/data/images/date_night/3337d1235a.jpg\n",
      "SUCCESS - saved https://d2bzx2vuetkzse.cloudfront.net/fit-in/0x450/unshoppable_producs/d2184ff8-010a-4013-a271-fcab087d8257.jpeg - as ./shoplook/data/images/date_night/b402ce993c.jpg\n",
      "SUCCESS - saved https://d2bzx2vuetkzse.cloudfront.net/fit-in/0x450/unshoppable_producs/d31a14a1-2841-4035-bf87-b929647adde4.jpeg - as ./shoplook/data/images/date_night/bcbc4d4746.jpg\n",
      "SUCCESS - saved https://d2bzx2vuetkzse.cloudfront.net/fit-in/0x450/unshoppable_producs/92998789-4b6d-4171-925d-d65e03b19ec9.jpeg - as ./shoplook/data/images/date_night/7ba1834d10.jpg\n"
     ]
    },
    {
     "name": "stderr",
     "output_type": "stream",
     "text": [
      "\r",
      " 22%|██▏       | 66/300 [15:42<58:49, 15.08s/it]  "
     ]
    },
    {
     "name": "stdout",
     "output_type": "stream",
     "text": [
      "SUCCESS - saved https://d2bzx2vuetkzse.cloudfront.net/fit-in/0x450/unshoppable_producs/a3356957-60fe-4a3c-9424-0706a5c6a501.jpeg - as ./shoplook/data/images/date_night/0848c1cc16.jpg\n",
      "SUCCESS - saved https://d2bzx2vuetkzse.cloudfront.net/fit-in/0x450/unshoppable_producs/9ab2d656-0827-40a2-a515-79d40c1c46f6.jpeg - as ./shoplook/data/images/date_night/da4c34ab48.jpg\n",
      "SUCCESS - saved https://d2bzx2vuetkzse.cloudfront.net/fit-in/0x450/unshoppable_producs/d92fffc5-b279-49a1-b226-69e406f8f37f.jpeg - as ./shoplook/data/images/date_night/0b8a7851f2.jpg\n",
      "SUCCESS - saved https://d2bzx2vuetkzse.cloudfront.net/fit-in/0x450/unshoppable_producs/639d3faf-baa6-4973-9a58-404268ce9911.jpeg - as ./shoplook/data/images/date_night/a407dd4926.jpg\n",
      "SUCCESS - saved https://d2bzx2vuetkzse.cloudfront.net/fit-in/0x450/unshoppable_producs/21fac091-00f7-46b3-8eb2-9e79c9a20a3c.jpeg - as ./shoplook/data/images/date_night/6ff7bf3fcd.jpg\n",
      "SUCCESS - saved https://d2bzx2vuetkzse.cloudfront.net/fit-in/0x450/unshoppable_producs/1c1479c9-85df-47c5-bbfe-0514ae4b4aca.jpeg - as ./shoplook/data/images/date_night/5c8119e6e2.jpg\n",
      "SUCCESS - saved https://d2bzx2vuetkzse.cloudfront.net/fit-in/0x450/unshoppable_producs/df5b7938-e5c7-4c7a-9b70-53a9506cdd64.jpeg - as ./shoplook/data/images/date_night/2d7e316b9b.jpg\n",
      "SUCCESS - saved https://d2bzx2vuetkzse.cloudfront.net/fit-in/0x450/unshoppable_producs/0328c87e-5466-4173-9093-fd115b950bb9.jpeg - as ./shoplook/data/images/date_night/4804c02eea.jpg\n"
     ]
    },
    {
     "name": "stderr",
     "output_type": "stream",
     "text": [
      "\r",
      " 22%|██▏       | 67/300 [15:55<55:38, 14.33s/it]"
     ]
    },
    {
     "name": "stdout",
     "output_type": "stream",
     "text": [
      "SUCCESS - saved https://d2bzx2vuetkzse.cloudfront.net/fit-in/0x450/unshoppable_producs/84d9f239-3fac-4576-bb48-8527a0ee8b7a.jpeg - as ./shoplook/data/images/date_night/4f0d6cb121.jpg\n",
      "SUCCESS - saved https://d2bzx2vuetkzse.cloudfront.net/fit-in/0x450/unshoppable_producs/3d266885-bffc-4ac1-bac8-a6723d729cbc.jpg - as ./shoplook/data/images/date_night/2ce17e562d.jpg\n",
      "SUCCESS - saved https://d2bzx2vuetkzse.cloudfront.net/fit-in/0x450/unshoppable_producs/ac37d590-d38e-4aa3-89f9-fabdf13cb6ae.jpeg - as ./shoplook/data/images/date_night/2630ba8f4b.jpg\n",
      "SUCCESS - saved https://d2bzx2vuetkzse.cloudfront.net/fit-in/0x450/unshoppable_producs/f67eb8f8-3cee-49e6-933d-b2f8aa3e6440.jpeg - as ./shoplook/data/images/date_night/c138a67a0c.jpg\n",
      "SUCCESS - saved https://d2bzx2vuetkzse.cloudfront.net/fit-in/0x450/unshoppable_producs/b95c1776-85e6-4152-a989-06365ab59488.jpeg - as ./shoplook/data/images/date_night/92261e8d2e.jpg\n",
      "SUCCESS - saved https://d2bzx2vuetkzse.cloudfront.net/fit-in/0x450/unshoppable_producs/64b76237-a517-4026-978a-564d9146323c.jpeg - as ./shoplook/data/images/date_night/e69ded0318.jpg\n"
     ]
    },
    {
     "name": "stderr",
     "output_type": "stream",
     "text": [
      "\r",
      " 23%|██▎       | 68/300 [16:11<57:35, 14.89s/it]"
     ]
    },
    {
     "name": "stdout",
     "output_type": "stream",
     "text": [
      "SUCCESS - saved https://d2bzx2vuetkzse.cloudfront.net/fit-in/0x450/unshoppable_producs/7ae9803e-583a-4ffc-90bc-3866469d9ce3.jpeg - as ./shoplook/data/images/date_night/3fd9cc7967.jpg\n",
      "SUCCESS - saved https://d2bzx2vuetkzse.cloudfront.net/fit-in/0x450/unshoppable_producs/e8b49090-0adf-47d4-8f5e-ae552d5c2134.jpg - as ./shoplook/data/images/date_night/b3dc3d58f3.jpg\n",
      "SUCCESS - saved https://d2bzx2vuetkzse.cloudfront.net/fit-in/0x450/unshoppable_producs/bb75d269-8a11-4393-a5c1-4101ee07a269.jpeg - as ./shoplook/data/images/date_night/e7ec540078.jpg\n",
      "SUCCESS - saved https://d2bzx2vuetkzse.cloudfront.net/fit-in/0x450/unshoppable_producs/d31b0a56-e451-4a6c-901e-bee6b2ce88dc.jpeg - as ./shoplook/data/images/date_night/80b9c15959.jpg\n",
      "SUCCESS - saved https://d2bzx2vuetkzse.cloudfront.net/fit-in/0x450/unshoppable_producs/c00da0cd-56e9-467f-a3a1-c5fe28920e4d.jpeg - as ./shoplook/data/images/date_night/8259d0bc8e.jpg\n",
      "SUCCESS - saved https://d2bzx2vuetkzse.cloudfront.net/fit-in/0x450/unshoppable_producs/ba23fc58-1872-4e91-be02-e9f494b5b080.jpg - as ./shoplook/data/images/date_night/c3aeb7588d.jpg\n",
      "SUCCESS - saved https://d2bzx2vuetkzse.cloudfront.net/fit-in/0x450/unshoppable_producs/f8339491-1e87-401e-ad04-3e02505d7c2b.jpeg - as ./shoplook/data/images/date_night/00606dfb19.jpg\n"
     ]
    },
    {
     "name": "stderr",
     "output_type": "stream",
     "text": [
      "\r",
      " 23%|██▎       | 69/300 [16:23<53:23, 13.87s/it]"
     ]
    },
    {
     "name": "stdout",
     "output_type": "stream",
     "text": [
      "SUCCESS - saved https://d2bzx2vuetkzse.cloudfront.net/fit-in/0x450/unshoppable_producs/4ceddd73-0064-42e1-8ac3-3cd9488a7691.jpeg - as ./shoplook/data/images/date_night/0f41f407d0.jpg\n",
      "SUCCESS - saved https://d2bzx2vuetkzse.cloudfront.net/fit-in/0x450/unshoppable_producs/6c764844-11f4-4ac3-ac08-b033b1681744.jpeg - as ./shoplook/data/images/date_night/2cb19d7378.jpg\n",
      "SUCCESS - saved https://d2bzx2vuetkzse.cloudfront.net/fit-in/0x450/unshoppable_producs/7cf6ecc0-f032-4212-a217-555e0a7840be.jpeg - as ./shoplook/data/images/date_night/9f191730f9.jpg\n",
      "SUCCESS - saved https://d2bzx2vuetkzse.cloudfront.net/fit-in/0x450/unshoppable_producs/291cd143-bbde-4af8-93bf-481173740ce0.jpeg - as ./shoplook/data/images/date_night/28a22ff07b.jpg\n"
     ]
    },
    {
     "name": "stderr",
     "output_type": "stream",
     "text": [
      "\r",
      " 23%|██▎       | 70/300 [16:35<50:58, 13.30s/it]"
     ]
    },
    {
     "name": "stdout",
     "output_type": "stream",
     "text": [
      "SUCCESS - saved https://d2bzx2vuetkzse.cloudfront.net/fit-in/0x450/unshoppable_producs/d7acc53d-3c82-42e2-8af3-571ec71fc287.jpeg - as ./shoplook/data/images/date_night/c6b98efd7f.jpg\n",
      "SUCCESS - saved https://d2bzx2vuetkzse.cloudfront.net/fit-in/0x450/unshoppable_producs/4ceddd73-0064-42e1-8ac3-3cd9488a7691.jpeg - as ./shoplook/data/images/date_night/0f41f407d0.jpg\n",
      "SUCCESS - saved https://d2bzx2vuetkzse.cloudfront.net/fit-in/0x450/unshoppable_producs/6c764844-11f4-4ac3-ac08-b033b1681744.jpeg - as ./shoplook/data/images/date_night/2cb19d7378.jpg\n",
      "SUCCESS - saved https://d2bzx2vuetkzse.cloudfront.net/fit-in/0x450/unshoppable_producs/7cf6ecc0-f032-4212-a217-555e0a7840be.jpeg - as ./shoplook/data/images/date_night/9f191730f9.jpg\n",
      "SUCCESS - saved https://d2bzx2vuetkzse.cloudfront.net/fit-in/0x450/unshoppable_producs/291cd143-bbde-4af8-93bf-481173740ce0.jpeg - as ./shoplook/data/images/date_night/28a22ff07b.jpg\n"
     ]
    },
    {
     "name": "stderr",
     "output_type": "stream",
     "text": [
      "\r",
      " 24%|██▎       | 71/300 [16:44<46:34, 12.20s/it]"
     ]
    },
    {
     "name": "stdout",
     "output_type": "stream",
     "text": [
      "SUCCESS - saved https://d2bzx2vuetkzse.cloudfront.net/fit-in/0x450/unshoppable_producs/d7acc53d-3c82-42e2-8af3-571ec71fc287.jpeg - as ./shoplook/data/images/date_night/c6b98efd7f.jpg\n",
      "SUCCESS - saved https://d2bzx2vuetkzse.cloudfront.net/fit-in/0x450/unshoppable_producs/e6215c85-075f-4e2a-8dd2-8177bb5838e8.jpg - as ./shoplook/data/images/date_night/fbfd1464f3.jpg\n",
      "SUCCESS - saved https://d2bzx2vuetkzse.cloudfront.net/fit-in/0x450/unshoppable_producs/2c6e9e20-daa6-4755-9231-9540fd7034be.jpg - as ./shoplook/data/images/date_night/c3b7509b5a.jpg\n",
      "SUCCESS - saved https://d2bzx2vuetkzse.cloudfront.net/fit-in/0x450/unshoppable_producs/c51aa0de-bb6e-487e-bb39-43e091240bfd.png - as ./shoplook/data/images/date_night/548ecbfdaa.jpg\n",
      "SUCCESS - saved https://d2bzx2vuetkzse.cloudfront.net/fit-in/0x450/unshoppable_producs/54da4ce9-5341-4d2d-821e-6df03735c7fb.jpg - as ./shoplook/data/images/date_night/dfb3f3a7f6.jpg\n",
      "SUCCESS - saved https://d2bzx2vuetkzse.cloudfront.net/fit-in/0x450/unshoppable_producs/a086db3a-acf0-47f3-80be-0c498d02e77f.jpg - as ./shoplook/data/images/date_night/fd0976e746.jpg\n",
      "SUCCESS - saved https://d2bzx2vuetkzse.cloudfront.net/fit-in/0x450/unshoppable_producs/124ea249-0073-4c56-bf01-f31e388fdbbe.jpeg - as ./shoplook/data/images/date_night/03b6ad8ab7.jpg\n",
      "SUCCESS - saved https://d2bzx2vuetkzse.cloudfront.net/fit-in/0x450/unshoppable_producs/584bc4b8-c748-46b8-89ff-b195e16a09f1.jpeg - as ./shoplook/data/images/date_night/eb2bc13477.jpg\n",
      "SUCCESS - saved https://d2bzx2vuetkzse.cloudfront.net/fit-in/0x450/unshoppable_producs/857f4d6e-5fdd-4d28-aff7-eb53df84f3f1.jpeg - as ./shoplook/data/images/date_night/55de95238a.jpg\n",
      "SUCCESS - saved https://d2bzx2vuetkzse.cloudfront.net/fit-in/0x450/unshoppable_producs/216c268e-106d-425a-a66c-d1737f0f4e6e.jpeg - as ./shoplook/data/images/date_night/6c159beea0.jpg\n"
     ]
    },
    {
     "name": "stderr",
     "output_type": "stream",
     "text": [
      "\r",
      " 24%|██▍       | 72/300 [17:00<49:59, 13.16s/it]"
     ]
    },
    {
     "name": "stdout",
     "output_type": "stream",
     "text": [
      "SUCCESS - saved https://d2bzx2vuetkzse.cloudfront.net/fit-in/0x450/unshoppable_producs/0b273706-490a-4104-910d-a1cc92592f2f.jpeg - as ./shoplook/data/images/date_night/e31213f3a9.jpg\n",
      "SUCCESS - saved https://d2bzx2vuetkzse.cloudfront.net/fit-in/0x450/unshoppable_producs/006dcc2e-9e9c-48b8-b35c-71db58a830a3.jpeg - as ./shoplook/data/images/date_night/50241b5a19.jpg\n",
      "SUCCESS - saved https://d2bzx2vuetkzse.cloudfront.net/fit-in/0x450/unshoppable_producs/e50e77bd-d4da-4e23-8a23-1a952f501a36.jpeg - as ./shoplook/data/images/date_night/126cc8d9a0.jpg\n",
      "SUCCESS - saved https://d2bzx2vuetkzse.cloudfront.net/fit-in/0x450/unshoppable_producs/e5ca3a75-2968-4e46-a96d-fd52e37df618.jpeg - as ./shoplook/data/images/date_night/462c607a5a.jpg\n"
     ]
    },
    {
     "name": "stderr",
     "output_type": "stream",
     "text": [
      "\r",
      " 24%|██▍       | 73/300 [17:10<46:27, 12.28s/it]"
     ]
    },
    {
     "name": "stdout",
     "output_type": "stream",
     "text": [
      "SUCCESS - saved https://d2bzx2vuetkzse.cloudfront.net/fit-in/0x450/unshoppable_producs/102e85f2-dd19-4262-8858-d369eca55208.jpg - as ./shoplook/data/images/date_night/74bf26aeea.jpg\n",
      "SUCCESS - saved https://d2bzx2vuetkzse.cloudfront.net/fit-in/0x450/unshoppable_producs/47fa4ef8-dae9-4a6f-9092-f88878612403.jpeg - as ./shoplook/data/images/date_night/5827839465.jpg\n",
      "SUCCESS - saved https://d2bzx2vuetkzse.cloudfront.net/fit-in/0x450/unshoppable_producs/955500f7-fad1-492c-823e-7b539607cdb0.jpeg - as ./shoplook/data/images/date_night/f7d935baf7.jpg\n",
      "SUCCESS - saved https://d2bzx2vuetkzse.cloudfront.net/fit-in/0x450/unshoppable_producs/e52aac3e-7ce7-4dc4-be85-370f06a45e7e.jpeg - as ./shoplook/data/images/date_night/98754a2c4c.jpg\n",
      "SUCCESS - saved https://d2bzx2vuetkzse.cloudfront.net/fit-in/0x450/unshoppable_producs/f624e320-50e5-4204-9d25-0b4e082b20f8.jpeg - as ./shoplook/data/images/date_night/b824e9ad3e.jpg\n",
      "SUCCESS - saved https://d2bzx2vuetkzse.cloudfront.net/fit-in/0x450/unshoppable_producs/bcedb5c4-6de3-4217-a8ef-8ec5c4b208ff.jpeg - as ./shoplook/data/images/date_night/1b172da292.jpg\n",
      "SUCCESS - saved https://d2bzx2vuetkzse.cloudfront.net/fit-in/0x450/unshoppable_producs/b9ef88db-dc1e-46b4-b1f8-4d2010e717f4.jpeg - as ./shoplook/data/images/date_night/7aab6ca3df.jpg\n"
     ]
    },
    {
     "name": "stderr",
     "output_type": "stream",
     "text": [
      "\r",
      " 25%|██▍       | 74/300 [17:23<47:16, 12.55s/it]"
     ]
    },
    {
     "name": "stdout",
     "output_type": "stream",
     "text": [
      "SUCCESS - saved https://d2bzx2vuetkzse.cloudfront.net/fit-in/0x450/unshoppable_producs/d0b5fd67-d58d-453c-80d7-380406f4b5f9.jpeg - as ./shoplook/data/images/date_night/34d86ba880.jpg\n",
      "SUCCESS - saved https://d2bzx2vuetkzse.cloudfront.net/fit-in/0x450/unshoppable_producs/d6f2bea9-a824-4ed3-9976-2ef6e08e00b5.webp - as ./shoplook/data/images/date_night/6f816173a2.jpg\n",
      "SUCCESS - saved https://d2bzx2vuetkzse.cloudfront.net/fit-in/0x450/unshoppable_producs/02fdbf92-3351-4b25-a623-3d098a3d365b.jpeg - as ./shoplook/data/images/date_night/642dc5b321.jpg\n",
      "SUCCESS - saved https://d2bzx2vuetkzse.cloudfront.net/fit-in/0x450/unshoppable_producs/812f6387-e334-4ff1-9a20-1b28127aa492.jpeg - as ./shoplook/data/images/date_night/95b9f9f78d.jpg\n",
      "SUCCESS - saved https://d2bzx2vuetkzse.cloudfront.net/fit-in/0x450/unshoppable_producs/c4c105c0-7b4d-438c-aedd-2bca9fda119e.jpeg - as ./shoplook/data/images/date_night/8f5ae41e58.jpg\n",
      "SUCCESS - saved https://d2bzx2vuetkzse.cloudfront.net/fit-in/0x450/unshoppable_producs/51f12a9e-59a6-442a-b31f-ee67378ec607.jpeg - as ./shoplook/data/images/date_night/74b137f464.jpg\n",
      "SUCCESS - saved https://d2bzx2vuetkzse.cloudfront.net/fit-in/0x450/unshoppable_producs/7fcb2cfb-9b89-4273-bc70-02d64d3d5429.jpeg - as ./shoplook/data/images/date_night/683705939d.jpg\n",
      "SUCCESS - saved https://d2bzx2vuetkzse.cloudfront.net/fit-in/0x450/unshoppable_producs/12769801-0e98-435a-a4fe-697827a7e7f8.jpeg - as ./shoplook/data/images/date_night/82e361577c.jpg\n",
      "SUCCESS - saved https://d2bzx2vuetkzse.cloudfront.net/fit-in/0x450/unshoppable_producs/e1d0b0ef-864f-4254-a7c0-2496530a1ca2.jpeg - as ./shoplook/data/images/date_night/74eb5e96e5.jpg\n",
      "SUCCESS - saved https://d2bzx2vuetkzse.cloudfront.net/fit-in/0x450/unshoppable_producs/256c1155-43eb-421c-93f8-dcca6d94f81b.jpeg - as ./shoplook/data/images/date_night/dcffb63e61.jpg\n"
     ]
    },
    {
     "name": "stderr",
     "output_type": "stream",
     "text": [
      "\r",
      " 25%|██▌       | 75/300 [17:35<46:20, 12.36s/it]"
     ]
    },
    {
     "name": "stdout",
     "output_type": "stream",
     "text": [
      "SUCCESS - saved https://d2bzx2vuetkzse.cloudfront.net/fit-in/0x450/unshoppable_producs/1288ff1b-f15a-454d-9cc2-1c511d5c666b.jpeg - as ./shoplook/data/images/date_night/0072a0bd9c.jpg\n",
      "SUCCESS - saved https://d2bzx2vuetkzse.cloudfront.net/fit-in/0x450/unshoppable_producs/5b9bd538-ecf0-4c0c-800b-0e68d7c1fdb2.jpg - as ./shoplook/data/images/date_night/187be5bf16.jpg\n",
      "SUCCESS - saved https://d2bzx2vuetkzse.cloudfront.net/fit-in/0x450/unshoppable_producs/8fa390e2-8729-4b9d-bc76-bc157ab96778.jpeg - as ./shoplook/data/images/date_night/31b7d772b2.jpg\n",
      "SUCCESS - saved https://d2bzx2vuetkzse.cloudfront.net/fit-in/0x450/unshoppable_producs/af23a5f5-b5c5-48dc-bd57-4a93810350f3.jpeg - as ./shoplook/data/images/date_night/205e4c9c06.jpg\n",
      "SUCCESS - saved https://d2bzx2vuetkzse.cloudfront.net/fit-in/0x450/unshoppable_producs/6ce54536-5945-4b7d-aa21-324b3509dee3.jpeg - as ./shoplook/data/images/date_night/6d47333abc.jpg\n",
      "SUCCESS - saved https://d2bzx2vuetkzse.cloudfront.net/fit-in/0x450/unshoppable_producs/bd8495c6-d63d-4522-897c-183707bead18.jpeg - as ./shoplook/data/images/date_night/05974983e0.jpg\n",
      "SUCCESS - saved https://d2bzx2vuetkzse.cloudfront.net/fit-in/0x450/unshoppable_producs/031de761-db58-4d87-9bab-f38f8c30c2ae.jpeg - as ./shoplook/data/images/date_night/f9fee9d37e.jpg\n",
      "SUCCESS - saved https://d2bzx2vuetkzse.cloudfront.net/fit-in/0x450/unshoppable_producs/7563a7b0-35cb-4f41-b8d8-4fe8eaa208f5.jpeg - as ./shoplook/data/images/date_night/de55841a4a.jpg\n",
      "SUCCESS - saved https://d2bzx2vuetkzse.cloudfront.net/fit-in/0x450/unshoppable_producs/982d4a6a-c9b3-43d5-9928-975d62d62512.webp - as ./shoplook/data/images/date_night/eddebec6c5.jpg\n"
     ]
    },
    {
     "name": "stderr",
     "output_type": "stream",
     "text": [
      "\r",
      " 25%|██▌       | 76/300 [17:46<44:18, 11.87s/it]"
     ]
    },
    {
     "name": "stdout",
     "output_type": "stream",
     "text": [
      "SUCCESS - saved https://d2bzx2vuetkzse.cloudfront.net/fit-in/0x450/unshoppable_producs/c601b84f-88fa-492a-9c80-0e94f5c21c1b.jpeg - as ./shoplook/data/images/date_night/fd4223c20c.jpg\n",
      "SUCCESS - saved https://d2bzx2vuetkzse.cloudfront.net/fit-in/0x450/unshoppable_producs/f697fc36-793b-4c45-8e28-506c6c7675d2.jpeg - as ./shoplook/data/images/date_night/32221a1e51.jpg\n",
      "SUCCESS - saved https://d2bzx2vuetkzse.cloudfront.net/fit-in/0x450/unshoppable_producs/aca77cc8-7234-4cea-9efe-f16c27a703db.jpeg - as ./shoplook/data/images/date_night/a566285045.jpg\n",
      "SUCCESS - saved https://d2bzx2vuetkzse.cloudfront.net/fit-in/0x450/unshoppable_producs/0aad719d-2a4d-497e-af14-b43e781947ce.jpeg - as ./shoplook/data/images/date_night/9b4d224a9e.jpg\n",
      "SUCCESS - saved https://d2bzx2vuetkzse.cloudfront.net/fit-in/0x450/unshoppable_producs/3a424435-ea76-48ea-8788-3ac210419dda.jpeg - as ./shoplook/data/images/date_night/183c393bac.jpg\n",
      "SUCCESS - saved https://d2bzx2vuetkzse.cloudfront.net/fit-in/0x450/unshoppable_producs/3b823109-ebe6-470b-a200-40ac08b75252.jpeg - as ./shoplook/data/images/date_night/afb5a5200f.jpg\n",
      "SUCCESS - saved https://d2bzx2vuetkzse.cloudfront.net/fit-in/0x450/unshoppable_producs/4fdaf286-773d-4067-8950-8d4be6b7b930.jpeg - as ./shoplook/data/images/date_night/03d41e01c8.jpg\n"
     ]
    },
    {
     "name": "stderr",
     "output_type": "stream",
     "text": [
      "\r",
      " 26%|██▌       | 77/300 [17:58<44:01, 11.84s/it]"
     ]
    },
    {
     "name": "stdout",
     "output_type": "stream",
     "text": [
      "SUCCESS - saved https://d2bzx2vuetkzse.cloudfront.net/fit-in/0x450/unshoppable_producs/8e6e2cac-7ad0-4709-a02c-a5e3b17e2f9e.jpg - as ./shoplook/data/images/date_night/b78ae15c4f.jpg\n",
      "SUCCESS - saved https://d2bzx2vuetkzse.cloudfront.net/fit-in/0x450/unshoppable_producs/161a93d1-9929-4a84-8010-a0588dfe5f61.jpg - as ./shoplook/data/images/date_night/5a317c22b9.jpg\n",
      "SUCCESS - saved https://d2bzx2vuetkzse.cloudfront.net/fit-in/0x450/unshoppable_producs/af7e16f0-859e-4d53-b6cd-2e3f1f5dec57.jpeg - as ./shoplook/data/images/date_night/c7a37a9439.jpg\n",
      "SUCCESS - saved https://d2bzx2vuetkzse.cloudfront.net/fit-in/0x450/unshoppable_producs/f9b23449-556a-4d05-ac9d-ddd246e42dc8.jpeg - as ./shoplook/data/images/date_night/3898804eba.jpg\n",
      "SUCCESS - saved https://d2bzx2vuetkzse.cloudfront.net/fit-in/0x450/unshoppable_producs/2d772ae7-effe-48cf-b222-c143cf6718f2.jpeg - as ./shoplook/data/images/date_night/cad3aedcda.jpg\n",
      "SUCCESS - saved https://d2bzx2vuetkzse.cloudfront.net/fit-in/0x450/unshoppable_producs/e47e429e-f49f-4de5-acf3-136203b59b06.jpg - as ./shoplook/data/images/date_night/5134e295f0.jpg\n"
     ]
    },
    {
     "name": "stderr",
     "output_type": "stream",
     "text": [
      "\r",
      " 26%|██▌       | 78/300 [18:08<42:25, 11.46s/it]"
     ]
    },
    {
     "name": "stdout",
     "output_type": "stream",
     "text": [
      "SUCCESS - saved https://d2bzx2vuetkzse.cloudfront.net/fit-in/0x450/unshoppable_producs/e36fa964-d345-4220-a094-e1fa20497efc.jpeg - as ./shoplook/data/images/date_night/49ee43c89f.jpg\n",
      "SUCCESS - saved https://d2bzx2vuetkzse.cloudfront.net/fit-in/0x450/unshoppable_producs/427cf325-a62c-435a-a384-b18159e6e08e.jpg - as ./shoplook/data/images/date_night/7131eb04ed.jpg\n",
      "SUCCESS - saved https://d2bzx2vuetkzse.cloudfront.net/fit-in/0x450/unshoppable_producs/4e60885f-5cf0-4b4e-93bc-43d789b509c0.jpeg - as ./shoplook/data/images/date_night/b7d8c5adff.jpg\n",
      "SUCCESS - saved https://d2bzx2vuetkzse.cloudfront.net/fit-in/0x450/unshoppable_producs/5dbf7a70-df93-4107-9aca-27056d172250.jpeg - as ./shoplook/data/images/date_night/18be7116b3.jpg\n",
      "SUCCESS - saved https://d2bzx2vuetkzse.cloudfront.net/fit-in/0x450/unshoppable_producs/9d9e0a8e-fc88-46b3-8d9b-3a316764d7e3.jpeg - as ./shoplook/data/images/date_night/09ca14b83d.jpg\n",
      "SUCCESS - saved https://d2bzx2vuetkzse.cloudfront.net/fit-in/0x450/unshoppable_producs/32122730-d6d6-4172-b0c4-9c3e26c3a87d.jpeg - as ./shoplook/data/images/date_night/a2bf522388.jpg\n",
      "SUCCESS - saved https://d2bzx2vuetkzse.cloudfront.net/fit-in/0x450/unshoppable_producs/a7dbc215-5f2e-490c-a3d0-19eba8f0ae7b.png - as ./shoplook/data/images/date_night/bf2d699dea.jpg\n",
      "SUCCESS - saved https://d2bzx2vuetkzse.cloudfront.net/fit-in/0x450/unshoppable_producs/318c8a23-f445-4c7a-9abd-cd76382f54d7.jpeg - as ./shoplook/data/images/date_night/0757e154ca.jpg\n",
      "SUCCESS - saved https://d2bzx2vuetkzse.cloudfront.net/fit-in/0x450/unshoppable_producs/ae3afd90-b2cc-444a-b97d-9103d6473dc1.jpeg - as ./shoplook/data/images/date_night/57d9877b10.jpg\n",
      "SUCCESS - saved https://d2bzx2vuetkzse.cloudfront.net/fit-in/0x450/unshoppable_producs/c98d8eef-0e10-4c87-9ebe-14619cf19741.jpeg - as ./shoplook/data/images/date_night/dd3eeb3ad5.jpg\n",
      "SUCCESS - saved https://d2bzx2vuetkzse.cloudfront.net/fit-in/0x450/unshoppable_producs/5db92983-af50-4abf-99fe-8b5d196f8331.png - as ./shoplook/data/images/date_night/8d471e8d1c.jpg\n",
      "SUCCESS - saved https://d2bzx2vuetkzse.cloudfront.net/fit-in/0x450/unshoppable_producs/54326b8d-448b-42b2-a4c7-443b1dff3eb3.jpeg - as ./shoplook/data/images/date_night/50e237b1df.jpg\n",
      "SUCCESS - saved https://d2bzx2vuetkzse.cloudfront.net/fit-in/0x450/unshoppable_producs/e711a1ee-68c9-42ca-aaa1-8d2013c5239c.jpeg - as ./shoplook/data/images/date_night/b409cd4945.jpg\n",
      "SUCCESS - saved https://d2bzx2vuetkzse.cloudfront.net/fit-in/0x450/unshoppable_producs/d28f9ddf-905c-4524-b58a-400d8c035003.jpeg - as ./shoplook/data/images/date_night/f05d62b3f1.jpg\n",
      "SUCCESS - saved https://d2bzx2vuetkzse.cloudfront.net/fit-in/0x450/unshoppable_producs/855c8ecb-aeb2-45ea-9a8a-084de1a0dc4a.jpg - as ./shoplook/data/images/date_night/a5a2181905.jpg\n",
      "SUCCESS - saved https://d2bzx2vuetkzse.cloudfront.net/fit-in/0x450/unshoppable_producs/710598ac-d96a-473e-b946-3a97e97b5d87.jpg - as ./shoplook/data/images/date_night/ac1d987410.jpg\n",
      "SUCCESS - saved https://d2bzx2vuetkzse.cloudfront.net/fit-in/0x450/unshoppable_producs/96e1e0e2-7253-445b-b56f-9baa67ecc48f.jpeg - as ./shoplook/data/images/date_night/6af8e620f6.jpg\n",
      "SUCCESS - saved https://d2bzx2vuetkzse.cloudfront.net/fit-in/0x450/unshoppable_producs/be847541-89f6-4093-9917-6af5ab7dcb5d.jpeg - as ./shoplook/data/images/date_night/5f1b2a4e71.jpg\n",
      "SUCCESS - saved https://d2bzx2vuetkzse.cloudfront.net/fit-in/0x450/unshoppable_producs/25a9f395-6afc-4589-ab7a-cb31f3f5f4a1.jpeg - as ./shoplook/data/images/date_night/9a17df67b3.jpg\n"
     ]
    },
    {
     "name": "stderr",
     "output_type": "stream",
     "text": [
      "\r",
      " 26%|██▋       | 79/300 [18:25<48:05, 13.06s/it]"
     ]
    },
    {
     "name": "stdout",
     "output_type": "stream",
     "text": [
      "SUCCESS - saved https://d2bzx2vuetkzse.cloudfront.net/fit-in/0x450/unshoppable_producs/19048b37-099e-4618-a6a0-c7134b4ecb9b.jpeg - as ./shoplook/data/images/date_night/5af6c0e771.jpg\n",
      "SUCCESS - saved https://d2bzx2vuetkzse.cloudfront.net/fit-in/0x450/unshoppable_producs/5b4a00c3-3130-40e5-8bdb-16b61b23cfc3.jpeg - as ./shoplook/data/images/date_night/41ed603a47.jpg\n",
      "SUCCESS - saved https://d2bzx2vuetkzse.cloudfront.net/fit-in/0x450/unshoppable_producs/1b1738a3-6223-4fcf-adfb-288868b2a78e.jpeg - as ./shoplook/data/images/date_night/7c1ad074ef.jpg\n",
      "SUCCESS - saved https://d2bzx2vuetkzse.cloudfront.net/fit-in/0x450/unshoppable_producs/ba732803-f980-4afc-a035-2d7a2d944a84.jpeg - as ./shoplook/data/images/date_night/124ecdc08c.jpg\n",
      "SUCCESS - saved https://d2bzx2vuetkzse.cloudfront.net/fit-in/0x450/unshoppable_producs/eb160dbf-5c54-4c83-91f0-c919d8aaa724.jpeg - as ./shoplook/data/images/date_night/0d6a117934.jpg\n",
      "SUCCESS - saved https://d2bzx2vuetkzse.cloudfront.net/fit-in/0x450/unshoppable_producs/9f6a872e-15c6-4c09-a99b-6f8fa2f586e1.jpeg - as ./shoplook/data/images/date_night/e363cc40ff.jpg\n"
     ]
    },
    {
     "name": "stderr",
     "output_type": "stream",
     "text": [
      "\r",
      " 27%|██▋       | 80/300 [18:41<51:18, 13.99s/it]"
     ]
    },
    {
     "name": "stdout",
     "output_type": "stream",
     "text": [
      "SUCCESS - saved https://d2bzx2vuetkzse.cloudfront.net/fit-in/0x450/unshoppable_producs/e3505356-057c-4773-a2b2-9eeeb85fa596.jpeg - as ./shoplook/data/images/date_night/02e5fdef3a.jpg\n",
      "SUCCESS - saved https://d2bzx2vuetkzse.cloudfront.net/fit-in/0x450/unshoppable_producs/206c0a11-859b-4ee1-8fbc-27c7fbf75c17.jpeg - as ./shoplook/data/images/date_night/149574772d.jpg\n",
      "SUCCESS - saved https://d2bzx2vuetkzse.cloudfront.net/fit-in/0x450/unshoppable_producs/4bc975d5-d491-4001-9ae1-0c4122817938.png - as ./shoplook/data/images/date_night/0f7aa7f208.jpg\n",
      "SUCCESS - saved https://d2bzx2vuetkzse.cloudfront.net/fit-in/0x450/unshoppable_producs/4e60885f-5cf0-4b4e-93bc-43d789b509c0.jpeg - as ./shoplook/data/images/date_night/b7d8c5adff.jpg\n",
      "SUCCESS - saved https://d2bzx2vuetkzse.cloudfront.net/fit-in/0x450/unshoppable_producs/3cb69812-8f1d-4632-afe3-ee375c17055b.jpeg - as ./shoplook/data/images/date_night/d574855e27.jpg\n",
      "SUCCESS - saved https://d2bzx2vuetkzse.cloudfront.net/fit-in/0x450/unshoppable_producs/ecb639c1-152b-409e-88f5-bab291589a76.jpeg - as ./shoplook/data/images/date_night/791cb5b62e.jpg\n",
      "SUCCESS - saved https://d2bzx2vuetkzse.cloudfront.net/fit-in/0x450/unshoppable_producs/cc46d858-0160-4024-8097-f426ace7305c.jpeg - as ./shoplook/data/images/date_night/29d2889c73.jpg\n",
      "SUCCESS - saved https://d2bzx2vuetkzse.cloudfront.net/fit-in/0x450/unshoppable_producs/b5ab3573-3532-49a2-8e9b-e69a3ca3b7f5.jpeg - as ./shoplook/data/images/date_night/09548546ba.jpg\n",
      "SUCCESS - saved https://d2bzx2vuetkzse.cloudfront.net/fit-in/0x450/unshoppable_producs/5b006430-1643-4482-b017-969c478b9a18.jpeg - as ./shoplook/data/images/date_night/1829826e28.jpg\n",
      "SUCCESS - saved https://d2bzx2vuetkzse.cloudfront.net/fit-in/0x450/unshoppable_producs/0f53e922-8139-45c0-a1e5-b11e6e589e2a.jpeg - as ./shoplook/data/images/date_night/51db50f0e6.jpg\n",
      "SUCCESS - saved https://d2bzx2vuetkzse.cloudfront.net/fit-in/0x450/unshoppable_producs/6dfd2958-dd6f-4959-8390-f5b4e3f1de41.jpeg - as ./shoplook/data/images/date_night/c451148f85.jpg\n",
      "SUCCESS - saved https://d2bzx2vuetkzse.cloudfront.net/fit-in/0x450/unshoppable_producs/8bec82f9-f9ae-4f13-a8fd-19d8847b6e43.png - as ./shoplook/data/images/date_night/6199583c24.jpg\n",
      "SUCCESS - saved https://d2bzx2vuetkzse.cloudfront.net/fit-in/0x450/unshoppable_producs/1dd776e2-08e3-4913-a2cb-b978d66b4c59.jpeg - as ./shoplook/data/images/date_night/6fbfb1ff97.jpg\n",
      "SUCCESS - saved https://d2bzx2vuetkzse.cloudfront.net/fit-in/0x450/unshoppable_producs/52225ce9-bb0d-47fb-b22f-4afe4e65778c.jpeg - as ./shoplook/data/images/date_night/b52d193fce.jpg\n",
      "SUCCESS - saved https://d2bzx2vuetkzse.cloudfront.net/fit-in/0x450/unshoppable_producs/8a5ccf37-d4b9-4be1-b1a6-49a699c4c213.jpeg - as ./shoplook/data/images/date_night/2069b4a779.jpg\n",
      "SUCCESS - saved https://d2bzx2vuetkzse.cloudfront.net/fit-in/0x450/unshoppable_producs/19d5afad-0d9e-4941-9196-d441aa1cbb12.jpeg - as ./shoplook/data/images/date_night/0169034d6f.jpg\n"
     ]
    },
    {
     "name": "stderr",
     "output_type": "stream",
     "text": [
      "\r",
      " 27%|██▋       | 81/300 [19:01<57:18, 15.70s/it]"
     ]
    },
    {
     "name": "stdout",
     "output_type": "stream",
     "text": [
      "SUCCESS - saved https://d2bzx2vuetkzse.cloudfront.net/fit-in/0x450/unshoppable_producs/13becfd2-0f58-4767-9204-6b1e25162077.jpeg - as ./shoplook/data/images/date_night/a95d36fff6.jpg\n"
     ]
    },
    {
     "name": "stderr",
     "output_type": "stream",
     "text": [
      " 27%|██▋       | 81/300 [19:04<51:34, 14.13s/it]\n"
     ]
    },
    {
     "ename": "KeyboardInterrupt",
     "evalue": "",
     "output_type": "error",
     "traceback": [
      "\u001b[0;31m---------------------------------------------------------------------------\u001b[0m",
      "\u001b[0;31mKeyboardInterrupt\u001b[0m                         Traceback (most recent call last)",
      "\u001b[0;32m<ipython-input-9-75118b949534>\u001b[0m in \u001b[0;36m<module>\u001b[0;34m\u001b[0m\n\u001b[1;32m     14\u001b[0m     \u001b[0mset_url\u001b[0m \u001b[0;34m=\u001b[0m \u001b[0;34m'https://shoplook.io'\u001b[0m \u001b[0;34m+\u001b[0m \u001b[0mhref\u001b[0m\u001b[0;34m\u001b[0m\u001b[0;34m\u001b[0m\u001b[0m\n\u001b[1;32m     15\u001b[0m     \u001b[0mdriver\u001b[0m \u001b[0;34m=\u001b[0m \u001b[0mwebdriver\u001b[0m\u001b[0;34m.\u001b[0m\u001b[0mChrome\u001b[0m\u001b[0;34m(\u001b[0m\u001b[0mchromedriver\u001b[0m\u001b[0;34m,\u001b[0m \u001b[0moptions\u001b[0m\u001b[0;34m=\u001b[0m\u001b[0moptions\u001b[0m\u001b[0;34m)\u001b[0m\u001b[0;34m\u001b[0m\u001b[0;34m\u001b[0m\u001b[0m\n\u001b[0;32m---> 16\u001b[0;31m     \u001b[0mdriver\u001b[0m\u001b[0;34m.\u001b[0m\u001b[0mget\u001b[0m\u001b[0;34m(\u001b[0m\u001b[0mset_url\u001b[0m\u001b[0;34m)\u001b[0m\u001b[0;34m\u001b[0m\u001b[0;34m\u001b[0m\u001b[0m\n\u001b[0m\u001b[1;32m     17\u001b[0m     \u001b[0mtime\u001b[0m\u001b[0;34m.\u001b[0m\u001b[0msleep\u001b[0m\u001b[0;34m(\u001b[0m\u001b[0;36m1\u001b[0m\u001b[0;34m)\u001b[0m\u001b[0;34m\u001b[0m\u001b[0;34m\u001b[0m\u001b[0m\n\u001b[1;32m     18\u001b[0m \u001b[0;34m\u001b[0m\u001b[0m\n",
      "\u001b[0;32m~/anaconda3/envs/metis/lib/python3.8/site-packages/selenium/webdriver/remote/webdriver.py\u001b[0m in \u001b[0;36mget\u001b[0;34m(self, url)\u001b[0m\n\u001b[1;32m    331\u001b[0m         \u001b[0mLoads\u001b[0m \u001b[0ma\u001b[0m \u001b[0mweb\u001b[0m \u001b[0mpage\u001b[0m \u001b[0;32min\u001b[0m \u001b[0mthe\u001b[0m \u001b[0mcurrent\u001b[0m \u001b[0mbrowser\u001b[0m \u001b[0msession\u001b[0m\u001b[0;34m.\u001b[0m\u001b[0;34m\u001b[0m\u001b[0;34m\u001b[0m\u001b[0m\n\u001b[1;32m    332\u001b[0m         \"\"\"\n\u001b[0;32m--> 333\u001b[0;31m         \u001b[0mself\u001b[0m\u001b[0;34m.\u001b[0m\u001b[0mexecute\u001b[0m\u001b[0;34m(\u001b[0m\u001b[0mCommand\u001b[0m\u001b[0;34m.\u001b[0m\u001b[0mGET\u001b[0m\u001b[0;34m,\u001b[0m \u001b[0;34m{\u001b[0m\u001b[0;34m'url'\u001b[0m\u001b[0;34m:\u001b[0m \u001b[0murl\u001b[0m\u001b[0;34m}\u001b[0m\u001b[0;34m)\u001b[0m\u001b[0;34m\u001b[0m\u001b[0;34m\u001b[0m\u001b[0m\n\u001b[0m\u001b[1;32m    334\u001b[0m \u001b[0;34m\u001b[0m\u001b[0m\n\u001b[1;32m    335\u001b[0m     \u001b[0;34m@\u001b[0m\u001b[0mproperty\u001b[0m\u001b[0;34m\u001b[0m\u001b[0;34m\u001b[0m\u001b[0m\n",
      "\u001b[0;32m~/anaconda3/envs/metis/lib/python3.8/site-packages/selenium/webdriver/remote/webdriver.py\u001b[0m in \u001b[0;36mexecute\u001b[0;34m(self, driver_command, params)\u001b[0m\n\u001b[1;32m    317\u001b[0m \u001b[0;34m\u001b[0m\u001b[0m\n\u001b[1;32m    318\u001b[0m         \u001b[0mparams\u001b[0m \u001b[0;34m=\u001b[0m \u001b[0mself\u001b[0m\u001b[0;34m.\u001b[0m\u001b[0m_wrap_value\u001b[0m\u001b[0;34m(\u001b[0m\u001b[0mparams\u001b[0m\u001b[0;34m)\u001b[0m\u001b[0;34m\u001b[0m\u001b[0;34m\u001b[0m\u001b[0m\n\u001b[0;32m--> 319\u001b[0;31m         \u001b[0mresponse\u001b[0m \u001b[0;34m=\u001b[0m \u001b[0mself\u001b[0m\u001b[0;34m.\u001b[0m\u001b[0mcommand_executor\u001b[0m\u001b[0;34m.\u001b[0m\u001b[0mexecute\u001b[0m\u001b[0;34m(\u001b[0m\u001b[0mdriver_command\u001b[0m\u001b[0;34m,\u001b[0m \u001b[0mparams\u001b[0m\u001b[0;34m)\u001b[0m\u001b[0;34m\u001b[0m\u001b[0;34m\u001b[0m\u001b[0m\n\u001b[0m\u001b[1;32m    320\u001b[0m         \u001b[0;32mif\u001b[0m \u001b[0mresponse\u001b[0m\u001b[0;34m:\u001b[0m\u001b[0;34m\u001b[0m\u001b[0;34m\u001b[0m\u001b[0m\n\u001b[1;32m    321\u001b[0m             \u001b[0mself\u001b[0m\u001b[0;34m.\u001b[0m\u001b[0merror_handler\u001b[0m\u001b[0;34m.\u001b[0m\u001b[0mcheck_response\u001b[0m\u001b[0;34m(\u001b[0m\u001b[0mresponse\u001b[0m\u001b[0;34m)\u001b[0m\u001b[0;34m\u001b[0m\u001b[0;34m\u001b[0m\u001b[0m\n",
      "\u001b[0;32m~/anaconda3/envs/metis/lib/python3.8/site-packages/selenium/webdriver/remote/remote_connection.py\u001b[0m in \u001b[0;36mexecute\u001b[0;34m(self, command, params)\u001b[0m\n\u001b[1;32m    372\u001b[0m         \u001b[0mdata\u001b[0m \u001b[0;34m=\u001b[0m \u001b[0mutils\u001b[0m\u001b[0;34m.\u001b[0m\u001b[0mdump_json\u001b[0m\u001b[0;34m(\u001b[0m\u001b[0mparams\u001b[0m\u001b[0;34m)\u001b[0m\u001b[0;34m\u001b[0m\u001b[0;34m\u001b[0m\u001b[0m\n\u001b[1;32m    373\u001b[0m         \u001b[0murl\u001b[0m \u001b[0;34m=\u001b[0m \u001b[0;34m'%s%s'\u001b[0m \u001b[0;34m%\u001b[0m \u001b[0;34m(\u001b[0m\u001b[0mself\u001b[0m\u001b[0;34m.\u001b[0m\u001b[0m_url\u001b[0m\u001b[0;34m,\u001b[0m \u001b[0mpath\u001b[0m\u001b[0;34m)\u001b[0m\u001b[0;34m\u001b[0m\u001b[0;34m\u001b[0m\u001b[0m\n\u001b[0;32m--> 374\u001b[0;31m         \u001b[0;32mreturn\u001b[0m \u001b[0mself\u001b[0m\u001b[0;34m.\u001b[0m\u001b[0m_request\u001b[0m\u001b[0;34m(\u001b[0m\u001b[0mcommand_info\u001b[0m\u001b[0;34m[\u001b[0m\u001b[0;36m0\u001b[0m\u001b[0;34m]\u001b[0m\u001b[0;34m,\u001b[0m \u001b[0murl\u001b[0m\u001b[0;34m,\u001b[0m \u001b[0mbody\u001b[0m\u001b[0;34m=\u001b[0m\u001b[0mdata\u001b[0m\u001b[0;34m)\u001b[0m\u001b[0;34m\u001b[0m\u001b[0;34m\u001b[0m\u001b[0m\n\u001b[0m\u001b[1;32m    375\u001b[0m \u001b[0;34m\u001b[0m\u001b[0m\n\u001b[1;32m    376\u001b[0m     \u001b[0;32mdef\u001b[0m \u001b[0m_request\u001b[0m\u001b[0;34m(\u001b[0m\u001b[0mself\u001b[0m\u001b[0;34m,\u001b[0m \u001b[0mmethod\u001b[0m\u001b[0;34m,\u001b[0m \u001b[0murl\u001b[0m\u001b[0;34m,\u001b[0m \u001b[0mbody\u001b[0m\u001b[0;34m=\u001b[0m\u001b[0;32mNone\u001b[0m\u001b[0;34m)\u001b[0m\u001b[0;34m:\u001b[0m\u001b[0;34m\u001b[0m\u001b[0;34m\u001b[0m\u001b[0m\n",
      "\u001b[0;32m~/anaconda3/envs/metis/lib/python3.8/site-packages/selenium/webdriver/remote/remote_connection.py\u001b[0m in \u001b[0;36m_request\u001b[0;34m(self, method, url, body)\u001b[0m\n\u001b[1;32m    395\u001b[0m \u001b[0;34m\u001b[0m\u001b[0m\n\u001b[1;32m    396\u001b[0m         \u001b[0;32mif\u001b[0m \u001b[0mself\u001b[0m\u001b[0;34m.\u001b[0m\u001b[0mkeep_alive\u001b[0m\u001b[0;34m:\u001b[0m\u001b[0;34m\u001b[0m\u001b[0;34m\u001b[0m\u001b[0m\n\u001b[0;32m--> 397\u001b[0;31m             \u001b[0mresp\u001b[0m \u001b[0;34m=\u001b[0m \u001b[0mself\u001b[0m\u001b[0;34m.\u001b[0m\u001b[0m_conn\u001b[0m\u001b[0;34m.\u001b[0m\u001b[0mrequest\u001b[0m\u001b[0;34m(\u001b[0m\u001b[0mmethod\u001b[0m\u001b[0;34m,\u001b[0m \u001b[0murl\u001b[0m\u001b[0;34m,\u001b[0m \u001b[0mbody\u001b[0m\u001b[0;34m=\u001b[0m\u001b[0mbody\u001b[0m\u001b[0;34m,\u001b[0m \u001b[0mheaders\u001b[0m\u001b[0;34m=\u001b[0m\u001b[0mheaders\u001b[0m\u001b[0;34m)\u001b[0m\u001b[0;34m\u001b[0m\u001b[0;34m\u001b[0m\u001b[0m\n\u001b[0m\u001b[1;32m    398\u001b[0m \u001b[0;34m\u001b[0m\u001b[0m\n\u001b[1;32m    399\u001b[0m             \u001b[0mstatuscode\u001b[0m \u001b[0;34m=\u001b[0m \u001b[0mresp\u001b[0m\u001b[0;34m.\u001b[0m\u001b[0mstatus\u001b[0m\u001b[0;34m\u001b[0m\u001b[0;34m\u001b[0m\u001b[0m\n",
      "\u001b[0;32m~/anaconda3/envs/metis/lib/python3.8/site-packages/urllib3/request.py\u001b[0m in \u001b[0;36mrequest\u001b[0;34m(self, method, url, fields, headers, **urlopen_kw)\u001b[0m\n\u001b[1;32m     77\u001b[0m             )\n\u001b[1;32m     78\u001b[0m         \u001b[0;32melse\u001b[0m\u001b[0;34m:\u001b[0m\u001b[0;34m\u001b[0m\u001b[0;34m\u001b[0m\u001b[0m\n\u001b[0;32m---> 79\u001b[0;31m             return self.request_encode_body(\n\u001b[0m\u001b[1;32m     80\u001b[0m                 \u001b[0mmethod\u001b[0m\u001b[0;34m,\u001b[0m \u001b[0murl\u001b[0m\u001b[0;34m,\u001b[0m \u001b[0mfields\u001b[0m\u001b[0;34m=\u001b[0m\u001b[0mfields\u001b[0m\u001b[0;34m,\u001b[0m \u001b[0mheaders\u001b[0m\u001b[0;34m=\u001b[0m\u001b[0mheaders\u001b[0m\u001b[0;34m,\u001b[0m \u001b[0;34m**\u001b[0m\u001b[0murlopen_kw\u001b[0m\u001b[0;34m\u001b[0m\u001b[0;34m\u001b[0m\u001b[0m\n\u001b[1;32m     81\u001b[0m             )\n",
      "\u001b[0;32m~/anaconda3/envs/metis/lib/python3.8/site-packages/urllib3/request.py\u001b[0m in \u001b[0;36mrequest_encode_body\u001b[0;34m(self, method, url, fields, headers, encode_multipart, multipart_boundary, **urlopen_kw)\u001b[0m\n\u001b[1;32m    169\u001b[0m         \u001b[0mextra_kw\u001b[0m\u001b[0;34m.\u001b[0m\u001b[0mupdate\u001b[0m\u001b[0;34m(\u001b[0m\u001b[0murlopen_kw\u001b[0m\u001b[0;34m)\u001b[0m\u001b[0;34m\u001b[0m\u001b[0;34m\u001b[0m\u001b[0m\n\u001b[1;32m    170\u001b[0m \u001b[0;34m\u001b[0m\u001b[0m\n\u001b[0;32m--> 171\u001b[0;31m         \u001b[0;32mreturn\u001b[0m \u001b[0mself\u001b[0m\u001b[0;34m.\u001b[0m\u001b[0murlopen\u001b[0m\u001b[0;34m(\u001b[0m\u001b[0mmethod\u001b[0m\u001b[0;34m,\u001b[0m \u001b[0murl\u001b[0m\u001b[0;34m,\u001b[0m \u001b[0;34m**\u001b[0m\u001b[0mextra_kw\u001b[0m\u001b[0;34m)\u001b[0m\u001b[0;34m\u001b[0m\u001b[0;34m\u001b[0m\u001b[0m\n\u001b[0m",
      "\u001b[0;32m~/anaconda3/envs/metis/lib/python3.8/site-packages/urllib3/poolmanager.py\u001b[0m in \u001b[0;36murlopen\u001b[0;34m(self, method, url, redirect, **kw)\u001b[0m\n\u001b[1;32m    334\u001b[0m             \u001b[0mresponse\u001b[0m \u001b[0;34m=\u001b[0m \u001b[0mconn\u001b[0m\u001b[0;34m.\u001b[0m\u001b[0murlopen\u001b[0m\u001b[0;34m(\u001b[0m\u001b[0mmethod\u001b[0m\u001b[0;34m,\u001b[0m \u001b[0murl\u001b[0m\u001b[0;34m,\u001b[0m \u001b[0;34m**\u001b[0m\u001b[0mkw\u001b[0m\u001b[0;34m)\u001b[0m\u001b[0;34m\u001b[0m\u001b[0;34m\u001b[0m\u001b[0m\n\u001b[1;32m    335\u001b[0m         \u001b[0;32melse\u001b[0m\u001b[0;34m:\u001b[0m\u001b[0;34m\u001b[0m\u001b[0;34m\u001b[0m\u001b[0m\n\u001b[0;32m--> 336\u001b[0;31m             \u001b[0mresponse\u001b[0m \u001b[0;34m=\u001b[0m \u001b[0mconn\u001b[0m\u001b[0;34m.\u001b[0m\u001b[0murlopen\u001b[0m\u001b[0;34m(\u001b[0m\u001b[0mmethod\u001b[0m\u001b[0;34m,\u001b[0m \u001b[0mu\u001b[0m\u001b[0;34m.\u001b[0m\u001b[0mrequest_uri\u001b[0m\u001b[0;34m,\u001b[0m \u001b[0;34m**\u001b[0m\u001b[0mkw\u001b[0m\u001b[0;34m)\u001b[0m\u001b[0;34m\u001b[0m\u001b[0;34m\u001b[0m\u001b[0m\n\u001b[0m\u001b[1;32m    337\u001b[0m \u001b[0;34m\u001b[0m\u001b[0m\n\u001b[1;32m    338\u001b[0m         \u001b[0mredirect_location\u001b[0m \u001b[0;34m=\u001b[0m \u001b[0mredirect\u001b[0m \u001b[0;32mand\u001b[0m \u001b[0mresponse\u001b[0m\u001b[0;34m.\u001b[0m\u001b[0mget_redirect_location\u001b[0m\u001b[0;34m(\u001b[0m\u001b[0;34m)\u001b[0m\u001b[0;34m\u001b[0m\u001b[0;34m\u001b[0m\u001b[0m\n",
      "\u001b[0;32m~/anaconda3/envs/metis/lib/python3.8/site-packages/urllib3/connectionpool.py\u001b[0m in \u001b[0;36murlopen\u001b[0;34m(self, method, url, body, headers, retries, redirect, assert_same_host, timeout, pool_timeout, release_conn, chunked, body_pos, **response_kw)\u001b[0m\n\u001b[1;32m    668\u001b[0m \u001b[0;34m\u001b[0m\u001b[0m\n\u001b[1;32m    669\u001b[0m             \u001b[0;31m# Make the request on the httplib connection object.\u001b[0m\u001b[0;34m\u001b[0m\u001b[0;34m\u001b[0m\u001b[0;34m\u001b[0m\u001b[0m\n\u001b[0;32m--> 670\u001b[0;31m             httplib_response = self._make_request(\n\u001b[0m\u001b[1;32m    671\u001b[0m                 \u001b[0mconn\u001b[0m\u001b[0;34m,\u001b[0m\u001b[0;34m\u001b[0m\u001b[0;34m\u001b[0m\u001b[0m\n\u001b[1;32m    672\u001b[0m                 \u001b[0mmethod\u001b[0m\u001b[0;34m,\u001b[0m\u001b[0;34m\u001b[0m\u001b[0;34m\u001b[0m\u001b[0m\n",
      "\u001b[0;32m~/anaconda3/envs/metis/lib/python3.8/site-packages/urllib3/connectionpool.py\u001b[0m in \u001b[0;36m_make_request\u001b[0;34m(self, conn, method, url, timeout, chunked, **httplib_request_kw)\u001b[0m\n\u001b[1;32m    424\u001b[0m                     \u001b[0;31m# Python 3 (including for exceptions like SystemExit).\u001b[0m\u001b[0;34m\u001b[0m\u001b[0;34m\u001b[0m\u001b[0;34m\u001b[0m\u001b[0m\n\u001b[1;32m    425\u001b[0m                     \u001b[0;31m# Otherwise it looks like a bug in the code.\u001b[0m\u001b[0;34m\u001b[0m\u001b[0;34m\u001b[0m\u001b[0;34m\u001b[0m\u001b[0m\n\u001b[0;32m--> 426\u001b[0;31m                     \u001b[0msix\u001b[0m\u001b[0;34m.\u001b[0m\u001b[0mraise_from\u001b[0m\u001b[0;34m(\u001b[0m\u001b[0me\u001b[0m\u001b[0;34m,\u001b[0m \u001b[0;32mNone\u001b[0m\u001b[0;34m)\u001b[0m\u001b[0;34m\u001b[0m\u001b[0;34m\u001b[0m\u001b[0m\n\u001b[0m\u001b[1;32m    427\u001b[0m         \u001b[0;32mexcept\u001b[0m \u001b[0;34m(\u001b[0m\u001b[0mSocketTimeout\u001b[0m\u001b[0;34m,\u001b[0m \u001b[0mBaseSSLError\u001b[0m\u001b[0;34m,\u001b[0m \u001b[0mSocketError\u001b[0m\u001b[0;34m)\u001b[0m \u001b[0;32mas\u001b[0m \u001b[0me\u001b[0m\u001b[0;34m:\u001b[0m\u001b[0;34m\u001b[0m\u001b[0;34m\u001b[0m\u001b[0m\n\u001b[1;32m    428\u001b[0m             \u001b[0mself\u001b[0m\u001b[0;34m.\u001b[0m\u001b[0m_raise_timeout\u001b[0m\u001b[0;34m(\u001b[0m\u001b[0merr\u001b[0m\u001b[0;34m=\u001b[0m\u001b[0me\u001b[0m\u001b[0;34m,\u001b[0m \u001b[0murl\u001b[0m\u001b[0;34m=\u001b[0m\u001b[0murl\u001b[0m\u001b[0;34m,\u001b[0m \u001b[0mtimeout_value\u001b[0m\u001b[0;34m=\u001b[0m\u001b[0mread_timeout\u001b[0m\u001b[0;34m)\u001b[0m\u001b[0;34m\u001b[0m\u001b[0;34m\u001b[0m\u001b[0m\n",
      "\u001b[0;32m~/anaconda3/envs/metis/lib/python3.8/site-packages/urllib3/packages/six.py\u001b[0m in \u001b[0;36mraise_from\u001b[0;34m(value, from_value)\u001b[0m\n",
      "\u001b[0;32m~/anaconda3/envs/metis/lib/python3.8/site-packages/urllib3/connectionpool.py\u001b[0m in \u001b[0;36m_make_request\u001b[0;34m(self, conn, method, url, timeout, chunked, **httplib_request_kw)\u001b[0m\n\u001b[1;32m    419\u001b[0m                 \u001b[0;31m# Python 3\u001b[0m\u001b[0;34m\u001b[0m\u001b[0;34m\u001b[0m\u001b[0;34m\u001b[0m\u001b[0m\n\u001b[1;32m    420\u001b[0m                 \u001b[0;32mtry\u001b[0m\u001b[0;34m:\u001b[0m\u001b[0;34m\u001b[0m\u001b[0;34m\u001b[0m\u001b[0m\n\u001b[0;32m--> 421\u001b[0;31m                     \u001b[0mhttplib_response\u001b[0m \u001b[0;34m=\u001b[0m \u001b[0mconn\u001b[0m\u001b[0;34m.\u001b[0m\u001b[0mgetresponse\u001b[0m\u001b[0;34m(\u001b[0m\u001b[0;34m)\u001b[0m\u001b[0;34m\u001b[0m\u001b[0;34m\u001b[0m\u001b[0m\n\u001b[0m\u001b[1;32m    422\u001b[0m                 \u001b[0;32mexcept\u001b[0m \u001b[0mBaseException\u001b[0m \u001b[0;32mas\u001b[0m \u001b[0me\u001b[0m\u001b[0;34m:\u001b[0m\u001b[0;34m\u001b[0m\u001b[0;34m\u001b[0m\u001b[0m\n\u001b[1;32m    423\u001b[0m                     \u001b[0;31m# Remove the TypeError from the exception chain in\u001b[0m\u001b[0;34m\u001b[0m\u001b[0;34m\u001b[0m\u001b[0;34m\u001b[0m\u001b[0m\n",
      "\u001b[0;32m~/anaconda3/envs/metis/lib/python3.8/http/client.py\u001b[0m in \u001b[0;36mgetresponse\u001b[0;34m(self)\u001b[0m\n\u001b[1;32m   1330\u001b[0m         \u001b[0;32mtry\u001b[0m\u001b[0;34m:\u001b[0m\u001b[0;34m\u001b[0m\u001b[0;34m\u001b[0m\u001b[0m\n\u001b[1;32m   1331\u001b[0m             \u001b[0;32mtry\u001b[0m\u001b[0;34m:\u001b[0m\u001b[0;34m\u001b[0m\u001b[0;34m\u001b[0m\u001b[0m\n\u001b[0;32m-> 1332\u001b[0;31m                 \u001b[0mresponse\u001b[0m\u001b[0;34m.\u001b[0m\u001b[0mbegin\u001b[0m\u001b[0;34m(\u001b[0m\u001b[0;34m)\u001b[0m\u001b[0;34m\u001b[0m\u001b[0;34m\u001b[0m\u001b[0m\n\u001b[0m\u001b[1;32m   1333\u001b[0m             \u001b[0;32mexcept\u001b[0m \u001b[0mConnectionError\u001b[0m\u001b[0;34m:\u001b[0m\u001b[0;34m\u001b[0m\u001b[0;34m\u001b[0m\u001b[0m\n\u001b[1;32m   1334\u001b[0m                 \u001b[0mself\u001b[0m\u001b[0;34m.\u001b[0m\u001b[0mclose\u001b[0m\u001b[0;34m(\u001b[0m\u001b[0;34m)\u001b[0m\u001b[0;34m\u001b[0m\u001b[0;34m\u001b[0m\u001b[0m\n",
      "\u001b[0;32m~/anaconda3/envs/metis/lib/python3.8/http/client.py\u001b[0m in \u001b[0;36mbegin\u001b[0;34m(self)\u001b[0m\n\u001b[1;32m    301\u001b[0m         \u001b[0;31m# read until we get a non-100 response\u001b[0m\u001b[0;34m\u001b[0m\u001b[0;34m\u001b[0m\u001b[0;34m\u001b[0m\u001b[0m\n\u001b[1;32m    302\u001b[0m         \u001b[0;32mwhile\u001b[0m \u001b[0;32mTrue\u001b[0m\u001b[0;34m:\u001b[0m\u001b[0;34m\u001b[0m\u001b[0;34m\u001b[0m\u001b[0m\n\u001b[0;32m--> 303\u001b[0;31m             \u001b[0mversion\u001b[0m\u001b[0;34m,\u001b[0m \u001b[0mstatus\u001b[0m\u001b[0;34m,\u001b[0m \u001b[0mreason\u001b[0m \u001b[0;34m=\u001b[0m \u001b[0mself\u001b[0m\u001b[0;34m.\u001b[0m\u001b[0m_read_status\u001b[0m\u001b[0;34m(\u001b[0m\u001b[0;34m)\u001b[0m\u001b[0;34m\u001b[0m\u001b[0;34m\u001b[0m\u001b[0m\n\u001b[0m\u001b[1;32m    304\u001b[0m             \u001b[0;32mif\u001b[0m \u001b[0mstatus\u001b[0m \u001b[0;34m!=\u001b[0m \u001b[0mCONTINUE\u001b[0m\u001b[0;34m:\u001b[0m\u001b[0;34m\u001b[0m\u001b[0;34m\u001b[0m\u001b[0m\n\u001b[1;32m    305\u001b[0m                 \u001b[0;32mbreak\u001b[0m\u001b[0;34m\u001b[0m\u001b[0;34m\u001b[0m\u001b[0m\n",
      "\u001b[0;32m~/anaconda3/envs/metis/lib/python3.8/http/client.py\u001b[0m in \u001b[0;36m_read_status\u001b[0;34m(self)\u001b[0m\n\u001b[1;32m    262\u001b[0m \u001b[0;34m\u001b[0m\u001b[0m\n\u001b[1;32m    263\u001b[0m     \u001b[0;32mdef\u001b[0m \u001b[0m_read_status\u001b[0m\u001b[0;34m(\u001b[0m\u001b[0mself\u001b[0m\u001b[0;34m)\u001b[0m\u001b[0;34m:\u001b[0m\u001b[0;34m\u001b[0m\u001b[0;34m\u001b[0m\u001b[0m\n\u001b[0;32m--> 264\u001b[0;31m         \u001b[0mline\u001b[0m \u001b[0;34m=\u001b[0m \u001b[0mstr\u001b[0m\u001b[0;34m(\u001b[0m\u001b[0mself\u001b[0m\u001b[0;34m.\u001b[0m\u001b[0mfp\u001b[0m\u001b[0;34m.\u001b[0m\u001b[0mreadline\u001b[0m\u001b[0;34m(\u001b[0m\u001b[0m_MAXLINE\u001b[0m \u001b[0;34m+\u001b[0m \u001b[0;36m1\u001b[0m\u001b[0;34m)\u001b[0m\u001b[0;34m,\u001b[0m \u001b[0;34m\"iso-8859-1\"\u001b[0m\u001b[0;34m)\u001b[0m\u001b[0;34m\u001b[0m\u001b[0;34m\u001b[0m\u001b[0m\n\u001b[0m\u001b[1;32m    265\u001b[0m         \u001b[0;32mif\u001b[0m \u001b[0mlen\u001b[0m\u001b[0;34m(\u001b[0m\u001b[0mline\u001b[0m\u001b[0;34m)\u001b[0m \u001b[0;34m>\u001b[0m \u001b[0m_MAXLINE\u001b[0m\u001b[0;34m:\u001b[0m\u001b[0;34m\u001b[0m\u001b[0;34m\u001b[0m\u001b[0m\n\u001b[1;32m    266\u001b[0m             \u001b[0;32mraise\u001b[0m \u001b[0mLineTooLong\u001b[0m\u001b[0;34m(\u001b[0m\u001b[0;34m\"status line\"\u001b[0m\u001b[0;34m)\u001b[0m\u001b[0;34m\u001b[0m\u001b[0;34m\u001b[0m\u001b[0m\n",
      "\u001b[0;32m~/anaconda3/envs/metis/lib/python3.8/socket.py\u001b[0m in \u001b[0;36mreadinto\u001b[0;34m(self, b)\u001b[0m\n\u001b[1;32m    667\u001b[0m         \u001b[0;32mwhile\u001b[0m \u001b[0;32mTrue\u001b[0m\u001b[0;34m:\u001b[0m\u001b[0;34m\u001b[0m\u001b[0;34m\u001b[0m\u001b[0m\n\u001b[1;32m    668\u001b[0m             \u001b[0;32mtry\u001b[0m\u001b[0;34m:\u001b[0m\u001b[0;34m\u001b[0m\u001b[0;34m\u001b[0m\u001b[0m\n\u001b[0;32m--> 669\u001b[0;31m                 \u001b[0;32mreturn\u001b[0m \u001b[0mself\u001b[0m\u001b[0;34m.\u001b[0m\u001b[0m_sock\u001b[0m\u001b[0;34m.\u001b[0m\u001b[0mrecv_into\u001b[0m\u001b[0;34m(\u001b[0m\u001b[0mb\u001b[0m\u001b[0;34m)\u001b[0m\u001b[0;34m\u001b[0m\u001b[0;34m\u001b[0m\u001b[0m\n\u001b[0m\u001b[1;32m    670\u001b[0m             \u001b[0;32mexcept\u001b[0m \u001b[0mtimeout\u001b[0m\u001b[0;34m:\u001b[0m\u001b[0;34m\u001b[0m\u001b[0;34m\u001b[0m\u001b[0m\n\u001b[1;32m    671\u001b[0m                 \u001b[0mself\u001b[0m\u001b[0;34m.\u001b[0m\u001b[0m_timeout_occurred\u001b[0m \u001b[0;34m=\u001b[0m \u001b[0;32mTrue\u001b[0m\u001b[0;34m\u001b[0m\u001b[0;34m\u001b[0m\u001b[0m\n",
      "\u001b[0;31mKeyboardInterrupt\u001b[0m: "
     ]
    }
   ],
   "source": [
    "from selenium.webdriver.chrome.options import Options\n",
    "import re\n",
    "\n",
    "options = Options()\n",
    "options.headless = True\n",
    "options.add_argument(\"--window-size=1920,1200\")\n",
    "\n",
    "data = []\n",
    "for href in tqdm(hrefs):\n",
    "    options = Options()\n",
    "    options.headless = True\n",
    "    options.add_argument(\"--window-size=1920,1200\")\n",
    "\n",
    "    set_url = 'https://shoplook.io' + href\n",
    "    driver = webdriver.Chrome(chromedriver, options=options)\n",
    "    driver.get(set_url)\n",
    "    time.sleep(1)\n",
    "\n",
    "    soup = BeautifulSoup(driver.page_source, 'lxml')\n",
    "    try:\n",
    "        name = soup.find('div', class_='info-header').get_text().strip()\n",
    "    except:\n",
    "        name = None\n",
    "\n",
    "    image_url = soup.img['src']\n",
    "    set_id = re.findall('[0-9]+', set_url)[0]\n",
    "\n",
    "    try:\n",
    "        likes = soup.find('div', class_='interactions-number').get_text()\n",
    "    except:\n",
    "        likes = None\n",
    "\n",
    "    try:\n",
    "        desc = soup.find('div', class_='tags').get_text().strip()\n",
    "\n",
    "    except:\n",
    "        desc = None\n",
    "\n",
    "    items = []\n",
    "    cxt_items = soup.find_all('app-product-container')\n",
    "    for i, cxt_item in enumerate(cxt_items, 1):\n",
    "        item = ContextItem(cxt_item)\n",
    "        item.get_data(i)\n",
    "        cxt_data = {'index': item.index, 'brand': item.brand, 'name': item.name, 'price': item.price, \n",
    "                'likes': item.likes, 'product_url': item.product_url, 'image_url': item.image_url,\n",
    "                'image_path': item.image_path, 'set_id': set_id}\n",
    "        items.append(cxt_data)\n",
    "        persist_image(f'./shoplook/data/images/date_night', item.image_url)\n",
    "\n",
    "    set_data = {'name': name, 'likes': likes, 'items': items, 'image_url': image_url,\n",
    "            'set_url': set_url, 'set_id': set_id, 'desc': desc, 'category': 'date_night'}\n",
    "\n",
    "    data.append(set_data)\n",
    "    driver.quit()\n",
    "    time.sleep(0.05)\n",
    "\n",
    "with open(f'./shoplook/data/date_night_data.json', 'w') as fout:\n",
    "    json.dump(data, fout)"
   ]
  },
  {
   "cell_type": "code",
   "execution_count": 10,
   "metadata": {
    "ExecuteTime": {
     "end_time": "2020-09-11T03:32:34.442573Z",
     "start_time": "2020-09-11T03:32:34.391402Z"
    }
   },
   "outputs": [],
   "source": [
    "with open(f'./shoplook/data/date_night_data.json', 'w') as fout:\n",
    "    json.dump(data, fout)\n",
    "    \n",
    "driver.quit()"
   ]
  },
  {
   "cell_type": "code",
   "execution_count": null,
   "metadata": {},
   "outputs": [],
   "source": []
  },
  {
   "cell_type": "code",
   "execution_count": 24,
   "metadata": {
    "ExecuteTime": {
     "end_time": "2020-09-09T23:34:56.523146Z",
     "start_time": "2020-09-09T23:34:43.837372Z"
    }
   },
   "outputs": [],
   "source": [
    "url = 'https://shoplook.io/discover/all/search?sort=trending&q=' + 'casual'\n",
    "driver = webdriver.Chrome(chromedriver)\n",
    "driver.get(url)\n",
    "time.sleep(1)"
   ]
  },
  {
   "cell_type": "code",
   "execution_count": 25,
   "metadata": {
    "ExecuteTime": {
     "end_time": "2020-09-09T23:35:31.449092Z",
     "start_time": "2020-09-09T23:35:30.881602Z"
    }
   },
   "outputs": [],
   "source": [
    "#scroll before running this cell!\n",
    "soup = BeautifulSoup(driver.page_source, 'lxml')\n",
    "items = soup.find_all('a', class_='feed-outfit')\n",
    "hrefs = list()\n",
    "for item in items:\n",
    "    hrefs.append(item.get('href'))"
   ]
  },
  {
   "cell_type": "code",
   "execution_count": 26,
   "metadata": {
    "ExecuteTime": {
     "end_time": "2020-09-09T23:35:31.942514Z",
     "start_time": "2020-09-09T23:35:31.933214Z"
    }
   },
   "outputs": [
    {
     "data": {
      "text/plain": [
       "250"
      ]
     },
     "execution_count": 26,
     "metadata": {},
     "output_type": "execute_result"
    }
   ],
   "source": [
    "len(hrefs)"
   ]
  },
  {
   "cell_type": "code",
   "execution_count": 28,
   "metadata": {
    "ExecuteTime": {
     "end_time": "2020-09-09T23:52:23.516059Z",
     "start_time": "2020-09-09T23:36:22.347625Z"
    },
    "scrolled": true
   },
   "outputs": [
    {
     "name": "stderr",
     "output_type": "stream",
     "text": [
      "\r",
      "  0%|          | 0/250 [00:00<?, ?it/s]"
     ]
    },
    {
     "name": "stdout",
     "output_type": "stream",
     "text": [
      "SUCCESS - saved https://d2bzx2vuetkzse.cloudfront.net/fit-in/0x450/unshoppable_producs/75e1d887-e308-4484-b0b7-68cdc2e71a1a.jpeg - as ./shoplook/data/images/casual/4d2ed9fcca.jpg\n",
      "SUCCESS - saved https://d2bzx2vuetkzse.cloudfront.net/fit-in/0x450/unshoppable_producs/0a6eefbc-512a-429e-8d20-2d987964b3db.jpeg - as ./shoplook/data/images/casual/06c1bb1183.jpg\n",
      "SUCCESS - saved https://d2bzx2vuetkzse.cloudfront.net/fit-in/0x450/unshoppable_producs/5edda2a8-b3b9-425a-b338-6bb1203c53f3.jpeg - as ./shoplook/data/images/casual/0d3173d352.jpg\n",
      "SUCCESS - saved https://d2bzx2vuetkzse.cloudfront.net/fit-in/0x450/unshoppable_producs/2839c608-2a3a-47b7-a069-a3e951a3b6ba.jpeg - as ./shoplook/data/images/casual/a9c6597490.jpg\n",
      "SUCCESS - saved https://d2bzx2vuetkzse.cloudfront.net/fit-in/0x450/unshoppable_producs/79d2cef6-0357-4e15-8091-2cfd28eee98f.jpeg - as ./shoplook/data/images/casual/af6c77f72b.jpg\n",
      "SUCCESS - saved https://d2bzx2vuetkzse.cloudfront.net/fit-in/0x450/unshoppable_producs/a14f24e3-cdeb-49a4-b3ec-529c037f2c9f.jpeg - as ./shoplook/data/images/casual/cfedf9ec6d.jpg\n"
     ]
    },
    {
     "name": "stderr",
     "output_type": "stream",
     "text": [
      "\r",
      "  0%|          | 1/250 [00:15<1:02:31, 15.07s/it]"
     ]
    },
    {
     "name": "stdout",
     "output_type": "stream",
     "text": [
      "SUCCESS - saved https://d2bzx2vuetkzse.cloudfront.net/fit-in/0x450/unshoppable_producs/01608eea-0131-4584-b9a9-5c80fefd28be.jpeg - as ./shoplook/data/images/casual/ce69c11132.jpg\n",
      "SUCCESS - saved https://d2bzx2vuetkzse.cloudfront.net/fit-in/0x450/unshoppable_producs/ad24ba67-e6cf-4911-b84c-0ba0a90858cc.jpeg - as ./shoplook/data/images/casual/5fe2ae83c0.jpg\n",
      "SUCCESS - saved https://d2bzx2vuetkzse.cloudfront.net/fit-in/0x450/unshoppable_producs/a9058fab-661d-494e-80b2-481d96776de9.jpeg - as ./shoplook/data/images/casual/8fb869fb6e.jpg\n",
      "SUCCESS - saved https://d2bzx2vuetkzse.cloudfront.net/fit-in/0x450/unshoppable_producs/bcade774-aa95-45ad-9dec-ac3e910c2344.webp - as ./shoplook/data/images/casual/a1e01cc180.jpg\n",
      "SUCCESS - saved https://d2bzx2vuetkzse.cloudfront.net/fit-in/0x450/unshoppable_producs/84f60239-e571-4a31-939f-fe6efee30f02.jpeg - as ./shoplook/data/images/casual/24d3aa5dbe.jpg\n",
      "SUCCESS - saved https://d2bzx2vuetkzse.cloudfront.net/fit-in/0x450/unshoppable_producs/cb08a6e4-8581-4c4e-ab5b-fca029f20a49.jpeg - as ./shoplook/data/images/casual/2a7d5ea288.jpg\n",
      "SUCCESS - saved https://d2bzx2vuetkzse.cloudfront.net/fit-in/0x450/unshoppable_producs/8c0807dc-5bde-400d-aca4-4f4d303d4807.jpeg - as ./shoplook/data/images/casual/fab5f82e1a.jpg\n"
     ]
    },
    {
     "name": "stderr",
     "output_type": "stream",
     "text": [
      "\r",
      "  1%|          | 2/250 [00:30<1:02:20, 15.08s/it]"
     ]
    },
    {
     "name": "stdout",
     "output_type": "stream",
     "text": [
      "SUCCESS - saved https://d2bzx2vuetkzse.cloudfront.net/fit-in/0x450/unshoppable_producs/a97a9b16-1bb5-4547-93e6-fbfe2f5d9b3b.jpeg - as ./shoplook/data/images/casual/ace394b673.jpg\n",
      "SUCCESS - saved https://d2bzx2vuetkzse.cloudfront.net/fit-in/0x450/unshoppable_producs/c84b5041-0efe-4b27-910c-a7f32a94677f.jpg - as ./shoplook/data/images/casual/955ae37e4e.jpg\n",
      "SUCCESS - saved https://d2bzx2vuetkzse.cloudfront.net/fit-in/0x450/unshoppable_producs/e1ab6ae0-4ec0-49ec-ac3c-ec56fea5de3d.jpg - as ./shoplook/data/images/casual/54b32f43f7.jpg\n",
      "SUCCESS - saved https://d2bzx2vuetkzse.cloudfront.net/fit-in/0x450/unshoppable_producs/2519c718-89d4-4a7f-8dd6-9ae2e018398a.jpeg - as ./shoplook/data/images/casual/048f2462fa.jpg\n",
      "SUCCESS - saved https://d2bzx2vuetkzse.cloudfront.net/fit-in/0x450/unshoppable_producs/7fc5aed3-aeef-45aa-b984-f24a5b1be3ab.jpeg - as ./shoplook/data/images/casual/be0516357c.jpg\n",
      "SUCCESS - saved https://d2bzx2vuetkzse.cloudfront.net/fit-in/0x450/unshoppable_producs/6576df6d-1cb3-4aa9-850b-950c52c512ef.jpeg - as ./shoplook/data/images/casual/481ec05437.jpg\n",
      "SUCCESS - saved https://d2bzx2vuetkzse.cloudfront.net/fit-in/0x450/unshoppable_producs/5b6cff4b-d01f-4251-8e18-949176d68bde.jpeg - as ./shoplook/data/images/casual/4436c0c86c.jpg\n",
      "SUCCESS - saved https://d2bzx2vuetkzse.cloudfront.net/fit-in/0x450/unshoppable_producs/bf22529a-5851-4af3-8024-fa098fa43461.jpg - as ./shoplook/data/images/casual/7707dfd88d.jpg\n",
      "SUCCESS - saved https://d2bzx2vuetkzse.cloudfront.net/fit-in/0x450/unshoppable_producs/6305b21e-d517-42ad-9cdf-d6fa05eb3bbf.jpeg - as ./shoplook/data/images/casual/610f687d2f.jpg\n",
      "SUCCESS - saved https://d2bzx2vuetkzse.cloudfront.net/fit-in/0x450/unshoppable_producs/6d44d95f-3fc2-48bb-88a2-040ae473439e.jpeg - as ./shoplook/data/images/casual/0c59a815fa.jpg\n"
     ]
    },
    {
     "name": "stderr",
     "output_type": "stream",
     "text": [
      "\r",
      "  1%|          | 3/250 [00:49<1:06:54, 16.25s/it]"
     ]
    },
    {
     "name": "stdout",
     "output_type": "stream",
     "text": [
      "SUCCESS - saved https://d2bzx2vuetkzse.cloudfront.net/fit-in/0x450/unshoppable_producs/5afa518d-9b16-40bb-89c3-9cb34ba9c345.jpeg - as ./shoplook/data/images/casual/0262e1c10b.jpg\n",
      "SUCCESS - saved https://d2bzx2vuetkzse.cloudfront.net/fit-in/0x450/unshoppable_producs/9caea0db-3e62-4e8c-9599-35e57e77dbff.1522345387 - as ./shoplook/data/images/casual/9f4d9a2105.jpg\n",
      "SUCCESS - saved https://d2bzx2vuetkzse.cloudfront.net/fit-in/0x450/unshoppable_producs/166d4b02-6655-4e9d-b1e0-e8e7cb13c5bb.jpeg - as ./shoplook/data/images/casual/496ec83e1e.jpg\n",
      "SUCCESS - saved https://d2bzx2vuetkzse.cloudfront.net/fit-in/0x450/unshoppable_producs/331e9254-2813-4333-a0ca-c902a39210a9.jpeg - as ./shoplook/data/images/casual/076e61e0ab.jpg\n",
      "SUCCESS - saved https://d2bzx2vuetkzse.cloudfront.net/fit-in/0x450/unshoppable_producs/45e117f8-fe53-40b7-8edf-a0ec73988263.png - as ./shoplook/data/images/casual/a5ef4576b1.jpg\n",
      "SUCCESS - saved https://d2bzx2vuetkzse.cloudfront.net/fit-in/0x450/unshoppable_producs/738d411a-635b-48fb-a5ab-270e9118a960.png - as ./shoplook/data/images/casual/1e9870d2d8.jpg\n",
      "SUCCESS - saved https://d2bzx2vuetkzse.cloudfront.net/fit-in/0x450/unshoppable_producs/606894ff-48c5-4f24-a67a-a52496a6d553.jpeg - as ./shoplook/data/images/casual/87f2bc3871.jpg\n",
      "SUCCESS - saved https://d2bzx2vuetkzse.cloudfront.net/fit-in/0x450/unshoppable_producs/712033a9-db9a-487e-92e7-a145ea99fe6b.jpeg - as ./shoplook/data/images/casual/7939a43b4b.jpg\n",
      "SUCCESS - saved https://d2bzx2vuetkzse.cloudfront.net/fit-in/0x450/unshoppable_producs/47f6e570-fcd7-4db1-b8f0-2070f1bd91a2.jpeg - as ./shoplook/data/images/casual/cbc060d540.jpg\n",
      "SUCCESS - saved https://d2bzx2vuetkzse.cloudfront.net/fit-in/0x450/unshoppable_producs/dda36966-98e0-4e01-ae88-9e3010a24881.jpeg - as ./shoplook/data/images/casual/2785cb8391.jpg\n",
      "SUCCESS - saved https://d2bzx2vuetkzse.cloudfront.net/fit-in/0x450/unshoppable_producs/b57cfe37-868f-4438-838e-e808d385e2d9.jpeg - as ./shoplook/data/images/casual/a59c515ba4.jpg\n",
      "SUCCESS - saved https://d2bzx2vuetkzse.cloudfront.net/fit-in/0x450/unshoppable_producs/36446df6-be25-44f6-8f58-81e34dd3e3b4.jpeg - as ./shoplook/data/images/casual/af28a200f4.jpg\n",
      "SUCCESS - saved https://d2bzx2vuetkzse.cloudfront.net/fit-in/0x450/unshoppable_producs/76b48799-4f83-4dbc-b2fe-d44f2129d27d.jpeg - as ./shoplook/data/images/casual/c6f5e8426b.jpg\n",
      "SUCCESS - saved https://d2bzx2vuetkzse.cloudfront.net/fit-in/0x450/unshoppable_producs/e493fcee-08b1-435f-9d33-ee669167aecd.jpeg - as ./shoplook/data/images/casual/22da38db88.jpg\n",
      "SUCCESS - saved https://d2bzx2vuetkzse.cloudfront.net/fit-in/0x450/unshoppable_producs/0eb2066a-d043-4388-a756-d7951b21499d.jpeg - as ./shoplook/data/images/casual/e86f14151f.jpg\n",
      "SUCCESS - saved https://d2bzx2vuetkzse.cloudfront.net/fit-in/0x450/unshoppable_producs/56d7c2a6-f8e5-454f-83c5-afeb23bd8e83.jpeg - as ./shoplook/data/images/casual/04077caa4b.jpg\n"
     ]
    },
    {
     "name": "stderr",
     "output_type": "stream",
     "text": [
      "\r",
      "  2%|▏         | 4/250 [01:07<1:09:23, 16.92s/it]"
     ]
    },
    {
     "name": "stdout",
     "output_type": "stream",
     "text": [
      "SUCCESS - saved https://d2bzx2vuetkzse.cloudfront.net/fit-in/0x450/unshoppable_producs/94aaf9e2-68fb-4643-8893-e01d1c69eb2a.jpeg - as ./shoplook/data/images/casual/1733c70d27.jpg\n",
      "SUCCESS - saved https://d2bzx2vuetkzse.cloudfront.net/fit-in/0x450/unshoppable_producs/169972bc-439f-4bd4-a287-5dd2b2f2cf8d.jpg - as ./shoplook/data/images/casual/aa7641d247.jpg\n",
      "SUCCESS - saved https://d2bzx2vuetkzse.cloudfront.net/fit-in/0x450/unshoppable_producs/81b176e3-c4c7-49e9-aad2-d838e2b76d11.png - as ./shoplook/data/images/casual/b38836741c.jpg\n",
      "SUCCESS - saved https://d2bzx2vuetkzse.cloudfront.net/fit-in/0x450/unshoppable_producs/f0c5d595-a59c-4e8d-93c6-7700c8c609b5.jpeg - as ./shoplook/data/images/casual/25595b9be0.jpg\n",
      "SUCCESS - saved https://d2bzx2vuetkzse.cloudfront.net/fit-in/0x450/unshoppable_producs/8ef31777-ae3f-4a90-824f-91bbc1e26680.png - as ./shoplook/data/images/casual/5d3c1a22d2.jpg\n",
      "SUCCESS - saved https://d2bzx2vuetkzse.cloudfront.net/fit-in/0x450/unshoppable_producs/a174446f-b98b-4c9d-8ce4-723b7a72577b.jpg - as ./shoplook/data/images/casual/1c1e92ac8f.jpg\n",
      "SUCCESS - saved https://d2bzx2vuetkzse.cloudfront.net/fit-in/0x450/unshoppable_producs/5f941580-8417-4eb1-8712-0d1ce59be67c.png - as ./shoplook/data/images/casual/0a403b56cd.jpg\n",
      "SUCCESS - saved https://d2bzx2vuetkzse.cloudfront.net/fit-in/0x450/unshoppable_producs/02443b95-3bcf-4561-8ca9-f695b0f46571.png - as ./shoplook/data/images/casual/e9e69a3ee3.jpg\n",
      "SUCCESS - saved https://d2bzx2vuetkzse.cloudfront.net/fit-in/0x450/unshoppable_producs/606894ff-48c5-4f24-a67a-a52496a6d553.jpeg - as ./shoplook/data/images/casual/87f2bc3871.jpg\n",
      "SUCCESS - saved https://d2bzx2vuetkzse.cloudfront.net/fit-in/0x450/unshoppable_producs/4a669d62-ca7e-4bfe-912f-54d8e453932c.jpg - as ./shoplook/data/images/casual/b1fd7bcbb4.jpg\n",
      "SUCCESS - saved https://d2bzx2vuetkzse.cloudfront.net/fit-in/0x450/unshoppable_producs/c20d4479-f80d-4037-819e-2eaeac13bcb9.jpeg - as ./shoplook/data/images/casual/e94748b9e3.jpg\n",
      "SUCCESS - saved https://d2bzx2vuetkzse.cloudfront.net/fit-in/0x450/unshoppable_producs/b60c12f7-1df7-4ae5-a0bc-68f7c07b1b13.jpeg - as ./shoplook/data/images/casual/7c01c155db.jpg\n",
      "SUCCESS - saved https://d2bzx2vuetkzse.cloudfront.net/fit-in/0x450/unshoppable_producs/c2dd0d27-115d-43c8-88cc-a18794630c25.jpeg - as ./shoplook/data/images/casual/88c968a246.jpg\n",
      "SUCCESS - saved https://d2bzx2vuetkzse.cloudfront.net/fit-in/0x450/unshoppable_producs/ce6274e5-1653-41f3-af72-c9ecd02229bb.jpeg - as ./shoplook/data/images/casual/650e9187b1.jpg\n",
      "SUCCESS - saved https://d2bzx2vuetkzse.cloudfront.net/fit-in/0x450/unshoppable_producs/d01cd397-0937-4a4e-a4eb-9d4a85f7235a.jpeg - as ./shoplook/data/images/casual/e082e1a25d.jpg\n",
      "SUCCESS - saved https://d2bzx2vuetkzse.cloudfront.net/fit-in/0x450/unshoppable_producs/dcb3d5e9-a7f9-48c2-88a6-fb71fc141041.jpeg - as ./shoplook/data/images/casual/9be9c4d6bf.jpg\n",
      "SUCCESS - saved https://d2bzx2vuetkzse.cloudfront.net/fit-in/0x450/unshoppable_producs/e5a504df-b005-4245-95dd-71543fe10fad.jpeg - as ./shoplook/data/images/casual/fcf23a7198.jpg\n",
      "SUCCESS - saved https://d2bzx2vuetkzse.cloudfront.net/fit-in/0x450/unshoppable_producs/ec28d628-72df-4b53-a9c2-f3fce780552b.jpeg - as ./shoplook/data/images/casual/0bd2d712c0.jpg\n",
      "SUCCESS - saved https://d2bzx2vuetkzse.cloudfront.net/fit-in/0x450/unshoppable_producs/ddfd748a-c6e1-4755-aa24-be3ba43de48f.jpeg - as ./shoplook/data/images/casual/46e4322aba.jpg\n"
     ]
    },
    {
     "name": "stderr",
     "output_type": "stream",
     "text": [
      "\r",
      "  2%|▏         | 5/250 [01:27<1:12:05, 17.66s/it]"
     ]
    },
    {
     "name": "stdout",
     "output_type": "stream",
     "text": [
      "SUCCESS - saved https://d2bzx2vuetkzse.cloudfront.net/fit-in/0x450/unshoppable_producs/81b176e3-c4c7-49e9-aad2-d838e2b76d11.png - as ./shoplook/data/images/casual/b38836741c.jpg\n",
      "SUCCESS - saved https://d2bzx2vuetkzse.cloudfront.net/fit-in/0x450/unshoppable_producs/f0c5d595-a59c-4e8d-93c6-7700c8c609b5.jpeg - as ./shoplook/data/images/casual/25595b9be0.jpg\n",
      "SUCCESS - saved https://d2bzx2vuetkzse.cloudfront.net/fit-in/0x450/unshoppable_producs/8ef31777-ae3f-4a90-824f-91bbc1e26680.png - as ./shoplook/data/images/casual/5d3c1a22d2.jpg\n",
      "SUCCESS - saved https://d2bzx2vuetkzse.cloudfront.net/fit-in/0x450/unshoppable_producs/9a3ad382-4885-4de3-9a12-08b07291821d.jpeg - as ./shoplook/data/images/casual/ecaec62330.jpg\n",
      "SUCCESS - saved https://d2bzx2vuetkzse.cloudfront.net/fit-in/0x450/unshoppable_producs/02443b95-3bcf-4561-8ca9-f695b0f46571.png - as ./shoplook/data/images/casual/e9e69a3ee3.jpg\n",
      "SUCCESS - saved https://d2bzx2vuetkzse.cloudfront.net/fit-in/0x450/unshoppable_producs/606894ff-48c5-4f24-a67a-a52496a6d553.jpeg - as ./shoplook/data/images/casual/87f2bc3871.jpg\n",
      "SUCCESS - saved https://d2bzx2vuetkzse.cloudfront.net/fit-in/0x450/unshoppable_producs/4a669d62-ca7e-4bfe-912f-54d8e453932c.jpg - as ./shoplook/data/images/casual/b1fd7bcbb4.jpg\n",
      "SUCCESS - saved https://d2bzx2vuetkzse.cloudfront.net/fit-in/0x450/unshoppable_producs/712033a9-db9a-487e-92e7-a145ea99fe6b.jpeg - as ./shoplook/data/images/casual/7939a43b4b.jpg\n",
      "SUCCESS - saved https://d2bzx2vuetkzse.cloudfront.net/fit-in/0x450/unshoppable_producs/c20d4479-f80d-4037-819e-2eaeac13bcb9.jpeg - as ./shoplook/data/images/casual/e94748b9e3.jpg\n",
      "SUCCESS - saved https://d2bzx2vuetkzse.cloudfront.net/fit-in/0x450/unshoppable_producs/256d00f4-59fd-4632-82df-4883ad3873cc.jpeg - as ./shoplook/data/images/casual/77df5371de.jpg\n",
      "SUCCESS - saved https://d2bzx2vuetkzse.cloudfront.net/fit-in/0x450/unshoppable_producs/af597b3e-4783-49ea-a575-8143655b2e43.jpeg - as ./shoplook/data/images/casual/3a82d04c73.jpg\n",
      "SUCCESS - saved https://d2bzx2vuetkzse.cloudfront.net/fit-in/0x450/unshoppable_producs/c2dd0d27-115d-43c8-88cc-a18794630c25.jpeg - as ./shoplook/data/images/casual/88c968a246.jpg\n",
      "SUCCESS - saved https://d2bzx2vuetkzse.cloudfront.net/fit-in/0x450/unshoppable_producs/ce6274e5-1653-41f3-af72-c9ecd02229bb.jpeg - as ./shoplook/data/images/casual/650e9187b1.jpg\n",
      "SUCCESS - saved https://d2bzx2vuetkzse.cloudfront.net/fit-in/0x450/unshoppable_producs/e5a504df-b005-4245-95dd-71543fe10fad.jpeg - as ./shoplook/data/images/casual/fcf23a7198.jpg\n",
      "SUCCESS - saved https://d2bzx2vuetkzse.cloudfront.net/fit-in/0x450/unshoppable_producs/3c78091e-047b-491a-8cd7-36fd38b7b31a.jpeg - as ./shoplook/data/images/casual/e7faca77f0.jpg\n"
     ]
    },
    {
     "name": "stderr",
     "output_type": "stream",
     "text": [
      "\r",
      "  2%|▏         | 6/250 [01:44<1:11:35, 17.60s/it]"
     ]
    },
    {
     "name": "stdout",
     "output_type": "stream",
     "text": [
      "SUCCESS - saved https://d2bzx2vuetkzse.cloudfront.net/fit-in/0x450/unshoppable_producs/9f551530-11d3-44b0-b8c3-37eae88aafec.jpeg - as ./shoplook/data/images/casual/a424319e2c.jpg\n",
      "SUCCESS - saved https://d2bzx2vuetkzse.cloudfront.net/fit-in/0x450/unshoppable_producs/81b176e3-c4c7-49e9-aad2-d838e2b76d11.png - as ./shoplook/data/images/casual/b38836741c.jpg\n",
      "SUCCESS - saved https://d2bzx2vuetkzse.cloudfront.net/fit-in/0x450/unshoppable_producs/f0c5d595-a59c-4e8d-93c6-7700c8c609b5.jpeg - as ./shoplook/data/images/casual/25595b9be0.jpg\n",
      "SUCCESS - saved https://d2bzx2vuetkzse.cloudfront.net/fit-in/0x450/unshoppable_producs/8ef31777-ae3f-4a90-824f-91bbc1e26680.png - as ./shoplook/data/images/casual/5d3c1a22d2.jpg\n",
      "SUCCESS - saved https://d2bzx2vuetkzse.cloudfront.net/fit-in/0x450/unshoppable_producs/a174446f-b98b-4c9d-8ce4-723b7a72577b.jpg - as ./shoplook/data/images/casual/1c1e92ac8f.jpg\n",
      "SUCCESS - saved https://d2bzx2vuetkzse.cloudfront.net/fit-in/0x450/unshoppable_producs/5f941580-8417-4eb1-8712-0d1ce59be67c.png - as ./shoplook/data/images/casual/0a403b56cd.jpg\n",
      "SUCCESS - saved https://d2bzx2vuetkzse.cloudfront.net/fit-in/0x450/unshoppable_producs/02443b95-3bcf-4561-8ca9-f695b0f46571.png - as ./shoplook/data/images/casual/e9e69a3ee3.jpg\n",
      "SUCCESS - saved https://d2bzx2vuetkzse.cloudfront.net/fit-in/0x450/unshoppable_producs/606894ff-48c5-4f24-a67a-a52496a6d553.jpeg - as ./shoplook/data/images/casual/87f2bc3871.jpg\n",
      "SUCCESS - saved https://d2bzx2vuetkzse.cloudfront.net/fit-in/0x450/unshoppable_producs/4a669d62-ca7e-4bfe-912f-54d8e453932c.jpg - as ./shoplook/data/images/casual/b1fd7bcbb4.jpg\n",
      "SUCCESS - saved https://d2bzx2vuetkzse.cloudfront.net/fit-in/0x450/unshoppable_producs/c20d4479-f80d-4037-819e-2eaeac13bcb9.jpeg - as ./shoplook/data/images/casual/e94748b9e3.jpg\n",
      "SUCCESS - saved https://d2bzx2vuetkzse.cloudfront.net/fit-in/0x450/unshoppable_producs/c2dd0d27-115d-43c8-88cc-a18794630c25.jpeg - as ./shoplook/data/images/casual/88c968a246.jpg\n",
      "SUCCESS - saved https://d2bzx2vuetkzse.cloudfront.net/fit-in/0x450/unshoppable_producs/b57cfe37-868f-4438-838e-e808d385e2d9.jpeg - as ./shoplook/data/images/casual/a59c515ba4.jpg\n",
      "SUCCESS - saved https://d2bzx2vuetkzse.cloudfront.net/fit-in/0x450/unshoppable_producs/ce6274e5-1653-41f3-af72-c9ecd02229bb.jpeg - as ./shoplook/data/images/casual/650e9187b1.jpg\n",
      "SUCCESS - saved https://d2bzx2vuetkzse.cloudfront.net/fit-in/0x450/unshoppable_producs/d01cd397-0937-4a4e-a4eb-9d4a85f7235a.jpeg - as ./shoplook/data/images/casual/e082e1a25d.jpg\n",
      "SUCCESS - saved https://d2bzx2vuetkzse.cloudfront.net/fit-in/0x450/unshoppable_producs/dee307be-4a91-4907-9923-40d8ee684f47.jpeg - as ./shoplook/data/images/casual/1aa671af97.jpg\n",
      "SUCCESS - saved https://d2bzx2vuetkzse.cloudfront.net/fit-in/0x450/unshoppable_producs/af6fbb9c-ccb7-4fd1-ba7e-ae25a025fe3e.jpeg - as ./shoplook/data/images/casual/16f069f5c3.jpg\n",
      "SUCCESS - saved https://d2bzx2vuetkzse.cloudfront.net/fit-in/0x450/unshoppable_producs/8f275d76-5ee2-4ed8-9c4c-c15fc5197594.jpeg - as ./shoplook/data/images/casual/b182b95250.jpg\n"
     ]
    },
    {
     "name": "stderr",
     "output_type": "stream",
     "text": [
      "\r",
      "  3%|▎         | 7/250 [02:02<1:12:17, 17.85s/it]"
     ]
    },
    {
     "name": "stdout",
     "output_type": "stream",
     "text": [
      "SUCCESS - saved https://d2bzx2vuetkzse.cloudfront.net/fit-in/0x450/unshoppable_producs/c72afb50-ba74-4be5-8a18-ca2195c08048.jpeg - as ./shoplook/data/images/casual/2ee8aeea0a.jpg\n",
      "SUCCESS - saved https://d2bzx2vuetkzse.cloudfront.net/fit-in/0x450/unshoppable_producs/a6fc9a54-1cd0-44a7-81ad-d951483ea019.jpeg - as ./shoplook/data/images/casual/07d605897d.jpg\n",
      "SUCCESS - saved https://d2bzx2vuetkzse.cloudfront.net/fit-in/0x450/unshoppable_producs/471dc79c-3627-4d50-acc2-5923c1f95eed.jpeg - as ./shoplook/data/images/casual/eba2e319d5.jpg\n",
      "SUCCESS - saved https://d2bzx2vuetkzse.cloudfront.net/fit-in/0x450/unshoppable_producs/4a99999c-3870-4a5e-9d3b-69d00c6f9862.jpeg - as ./shoplook/data/images/casual/38d757e121.jpg\n",
      "SUCCESS - saved https://d2bzx2vuetkzse.cloudfront.net/fit-in/0x450/unshoppable_producs/96395355-5427-470e-b748-9250fd06e3c8.jpeg - as ./shoplook/data/images/casual/32b4bf558c.jpg\n",
      "SUCCESS - saved https://d2bzx2vuetkzse.cloudfront.net/fit-in/0x450/unshoppable_producs/3752ca69-de29-49af-8993-7a142a3a2891.webp - as ./shoplook/data/images/casual/b04e652955.jpg\n"
     ]
    },
    {
     "name": "stderr",
     "output_type": "stream",
     "text": [
      "\r",
      "  3%|▎         | 8/250 [02:17<1:07:42, 16.79s/it]"
     ]
    },
    {
     "name": "stdout",
     "output_type": "stream",
     "text": [
      "SUCCESS - saved https://d2bzx2vuetkzse.cloudfront.net/fit-in/0x450/unshoppable_producs/0b84184e-6bf9-4bae-bb8f-ad42415c2e77.jpeg - as ./shoplook/data/images/casual/83c3efdc4f.jpg\n",
      "SUCCESS - saved https://d2bzx2vuetkzse.cloudfront.net/fit-in/0x450/unshoppable_producs/f697fc36-793b-4c45-8e28-506c6c7675d2.jpeg - as ./shoplook/data/images/casual/32221a1e51.jpg\n",
      "SUCCESS - saved https://d2bzx2vuetkzse.cloudfront.net/fit-in/0x450/unshoppable_producs/71d5d257-f06e-4f70-b702-244e3548df0d.jpeg - as ./shoplook/data/images/casual/944089d35b.jpg\n",
      "SUCCESS - saved https://d2bzx2vuetkzse.cloudfront.net/fit-in/0x450/unshoppable_producs/4402cc19-d718-4d83-aa24-1d7ae79f9b0c.jpeg - as ./shoplook/data/images/casual/2bf7f2946a.jpg\n",
      "SUCCESS - saved https://d2bzx2vuetkzse.cloudfront.net/fit-in/0x450/unshoppable_producs/0f247ae1-cc8b-44db-b87d-1df81bd2b211.jpeg - as ./shoplook/data/images/casual/5dea01f469.jpg\n",
      "SUCCESS - saved https://d2bzx2vuetkzse.cloudfront.net/fit-in/0x450/unshoppable_producs/407a442b-b99a-467a-a9aa-da47a222c930.jpeg - as ./shoplook/data/images/casual/4311e25d47.jpg\n",
      "SUCCESS - saved https://d2bzx2vuetkzse.cloudfront.net/fit-in/0x450/unshoppable_producs/a55bf249-46e9-4042-9ca3-f4c866a9d9af.jpeg - as ./shoplook/data/images/casual/13a1906a8f.jpg\n",
      "SUCCESS - saved https://d2bzx2vuetkzse.cloudfront.net/fit-in/0x450/unshoppable_producs/4d52b96a-9778-4594-8e50-851f76ca6b88.jpeg - as ./shoplook/data/images/casual/e1ae88cab6.jpg\n",
      "SUCCESS - saved https://d2bzx2vuetkzse.cloudfront.net/fit-in/0x450/unshoppable_producs/c7f1c5cf-4daf-4585-a66c-52233ff03a82.jpeg - as ./shoplook/data/images/casual/5d118fddaf.jpg\n",
      "SUCCESS - saved https://d2bzx2vuetkzse.cloudfront.net/fit-in/0x450/unshoppable_producs/d7a5879a-e4df-4699-a474-a432a440dd11.jpeg - as ./shoplook/data/images/casual/5cd8115c17.jpg\n"
     ]
    },
    {
     "name": "stderr",
     "output_type": "stream",
     "text": [
      "\r",
      "  4%|▎         | 9/250 [02:32<1:05:10, 16.23s/it]"
     ]
    },
    {
     "name": "stdout",
     "output_type": "stream",
     "text": [
      "SUCCESS - saved https://d2bzx2vuetkzse.cloudfront.net/fit-in/0x450/unshoppable_producs/f3c637af-503f-4d54-a5b0-759d6013793f.jpeg - as ./shoplook/data/images/casual/5856db68e2.jpg\n",
      "SUCCESS - saved https://d2bzx2vuetkzse.cloudfront.net/fit-in/0x450/unshoppable_producs/1aaccde3-062f-4d22-b4a6-245f50acfb46.jpeg - as ./shoplook/data/images/casual/cd21cc903b.jpg\n",
      "SUCCESS - saved https://d2bzx2vuetkzse.cloudfront.net/fit-in/0x450/unshoppable_producs/6f830af0-d8c7-4091-990b-a7ea822842d4.jpeg - as ./shoplook/data/images/casual/a52b1c1b36.jpg\n",
      "SUCCESS - saved https://d2bzx2vuetkzse.cloudfront.net/fit-in/0x450/unshoppable_producs/0b604a7b-5b93-4a79-b6ca-4d2c328820ad.jpeg - as ./shoplook/data/images/casual/10451d7b91.jpg\n",
      "SUCCESS - saved https://d2bzx2vuetkzse.cloudfront.net/fit-in/0x450/unshoppable_producs/47fda6c8-c970-4158-9cf7-d08ac8506046.jpeg - as ./shoplook/data/images/casual/fdf4e5467e.jpg\n",
      "SUCCESS - saved https://d2bzx2vuetkzse.cloudfront.net/fit-in/0x450/unshoppable_producs/c23da497-a04f-45ce-badf-def417de0363.jpeg - as ./shoplook/data/images/casual/4dc2ddfc68.jpg\n",
      "SUCCESS - saved https://d2bzx2vuetkzse.cloudfront.net/fit-in/0x450/unshoppable_producs/e0c29dd0-c624-4ef5-9d2a-4ce45dd83384.jpeg - as ./shoplook/data/images/casual/2e144cee8e.jpg\n",
      "SUCCESS - saved https://d2bzx2vuetkzse.cloudfront.net/fit-in/0x450/unshoppable_producs/dbe6a2c9-d561-4516-a2c4-fe0ab72745b7.jpeg - as ./shoplook/data/images/casual/5adbd110c4.jpg\n",
      "SUCCESS - saved https://d2bzx2vuetkzse.cloudfront.net/fit-in/0x450/unshoppable_producs/da594294-ea1e-4dd6-be6c-650577790142.jpeg - as ./shoplook/data/images/casual/240037382a.jpg\n",
      "SUCCESS - saved https://d2bzx2vuetkzse.cloudfront.net/fit-in/0x450/unshoppable_producs/c9cbfb7b-2800-41bc-bd7c-344581b73894.jpeg - as ./shoplook/data/images/casual/4ef38bac6f.jpg\n",
      "SUCCESS - saved https://d2bzx2vuetkzse.cloudfront.net/fit-in/0x450/unshoppable_producs/8178cb2c-0daa-4b64-886e-c369beef715c.jpeg - as ./shoplook/data/images/casual/0199e4f4b8.jpg\n",
      "SUCCESS - saved https://d2bzx2vuetkzse.cloudfront.net/fit-in/0x450/unshoppable_producs/2b8b555d-c93d-43a9-882d-de08a17123fc.jpeg - as ./shoplook/data/images/casual/21b3d06d62.jpg\n",
      "SUCCESS - saved https://d2bzx2vuetkzse.cloudfront.net/fit-in/0x450/unshoppable_producs/dd719e34-6fe6-455c-992e-15230380f1e1.jpeg - as ./shoplook/data/images/casual/60870d0048.jpg\n"
     ]
    },
    {
     "name": "stderr",
     "output_type": "stream",
     "text": [
      "\r",
      "  4%|▍         | 10/250 [02:47<1:03:55, 15.98s/it]"
     ]
    },
    {
     "name": "stdout",
     "output_type": "stream",
     "text": [
      "SUCCESS - saved https://d2bzx2vuetkzse.cloudfront.net/fit-in/0x450/unshoppable_producs/b190410f-5f33-4737-a1c7-88b25db06368.jpeg - as ./shoplook/data/images/casual/d3dbe12ed1.jpg\n",
      "SUCCESS - saved https://d2bzx2vuetkzse.cloudfront.net/fit-in/0x450/unshoppable_producs/5f229517-520e-47f0-8803-65cc4f71cada.jpeg - as ./shoplook/data/images/casual/2259c50b0e.jpg\n",
      "SUCCESS - saved https://d2bzx2vuetkzse.cloudfront.net/fit-in/0x450/unshoppable_producs/ad064893-b96b-4f2f-b387-67c4ec4462d7.jpeg - as ./shoplook/data/images/casual/d6462c5d5c.jpg\n",
      "SUCCESS - saved https://d2bzx2vuetkzse.cloudfront.net/fit-in/0x450/unshoppable_producs/7fb469fe-fbcc-42a4-99e1-256afc4ac134.png - as ./shoplook/data/images/casual/3636f8f384.jpg\n",
      "SUCCESS - saved https://d2bzx2vuetkzse.cloudfront.net/fit-in/0x450/unshoppable_producs/2b96f389-0cee-48e3-81cb-5be22085e366.jpeg - as ./shoplook/data/images/casual/3205817226.jpg\n",
      "SUCCESS - saved https://d2bzx2vuetkzse.cloudfront.net/fit-in/0x450/unshoppable_producs/c6f554f9-3961-405b-b1cc-e2256d5041db.jpeg - as ./shoplook/data/images/casual/c24df66391.jpg\n",
      "SUCCESS - saved https://d2bzx2vuetkzse.cloudfront.net/fit-in/0x450/unshoppable_producs/bc4b3c24-a2fe-40fb-a818-3581231ff00f.jpeg - as ./shoplook/data/images/casual/631b2aa4be.jpg\n"
     ]
    },
    {
     "name": "stderr",
     "output_type": "stream",
     "text": [
      "\r",
      "  4%|▍         | 11/250 [03:01<1:01:00, 15.32s/it]"
     ]
    },
    {
     "name": "stdout",
     "output_type": "stream",
     "text": [
      "SUCCESS - saved https://d2bzx2vuetkzse.cloudfront.net/fit-in/0x450/unshoppable_producs/b780609e-8431-42eb-a073-7efc0668e277.jpeg - as ./shoplook/data/images/casual/1389ee71bd.jpg\n",
      "SUCCESS - saved https://d2bzx2vuetkzse.cloudfront.net/fit-in/0x450/unshoppable_producs/76c99c67-beaf-40b4-ad2a-86720ca79066.jpg - as ./shoplook/data/images/casual/e4ef39eb23.jpg\n",
      "SUCCESS - saved https://d2bzx2vuetkzse.cloudfront.net/fit-in/0x450/unshoppable_producs/72f37ca1-68a5-4e36-aa99-efcb9710ba0f.jpeg - as ./shoplook/data/images/casual/1e5fa63220.jpg\n",
      "SUCCESS - saved https://d2bzx2vuetkzse.cloudfront.net/fit-in/0x450/unshoppable_producs/9b2ad74c-8c70-4119-b312-85071c88d1e9.jpeg - as ./shoplook/data/images/casual/1048215fd2.jpg\n",
      "SUCCESS - saved https://d2bzx2vuetkzse.cloudfront.net/fit-in/0x450/unshoppable_producs/a29c44ba-ca2b-4352-afb9-0a644b22f7d7.jpeg - as ./shoplook/data/images/casual/01f6056750.jpg\n",
      "SUCCESS - saved https://d2bzx2vuetkzse.cloudfront.net/fit-in/0x450/unshoppable_producs/a063700a-d3bc-45b4-a167-59948f073ce0.jpeg - as ./shoplook/data/images/casual/97671e83d7.jpg\n"
     ]
    },
    {
     "name": "stderr",
     "output_type": "stream",
     "text": [
      "\r",
      "  5%|▍         | 12/250 [03:16<1:00:27, 15.24s/it]"
     ]
    },
    {
     "name": "stdout",
     "output_type": "stream",
     "text": [
      "SUCCESS - saved https://d2bzx2vuetkzse.cloudfront.net/fit-in/0x450/unshoppable_producs/6fdf3860-858d-4c7f-952b-19d4cf4beca3.jpeg - as ./shoplook/data/images/casual/91fbfed868.jpg\n",
      "SUCCESS - saved https://d2bzx2vuetkzse.cloudfront.net/fit-in/0x450/unshoppable_producs/d2e3bff9-b730-402f-8ee2-66cdaa78c719.jpeg - as ./shoplook/data/images/casual/0cde368ce3.jpg\n",
      "SUCCESS - saved https://d2bzx2vuetkzse.cloudfront.net/fit-in/0x450/unshoppable_producs/c4c105c0-7b4d-438c-aedd-2bca9fda119e.jpeg - as ./shoplook/data/images/casual/8f5ae41e58.jpg\n",
      "SUCCESS - saved https://d2bzx2vuetkzse.cloudfront.net/fit-in/0x450/unshoppable_producs/64b0cd59-7c04-43b3-a7ec-fb25ffcbef24.jpeg - as ./shoplook/data/images/casual/87c052b515.jpg\n",
      "SUCCESS - saved https://d2bzx2vuetkzse.cloudfront.net/fit-in/0x450/unshoppable_producs/8f344493-fe92-44d3-bc51-1427c90258c3.jpeg - as ./shoplook/data/images/casual/5f1042009f.jpg\n",
      "SUCCESS - saved https://d2bzx2vuetkzse.cloudfront.net/fit-in/0x450/unshoppable_producs/2a9b9ff2-947a-4924-9dbf-7ced6b11e170.jpeg - as ./shoplook/data/images/casual/b2b189c3cf.jpg\n",
      "SUCCESS - saved https://d2bzx2vuetkzse.cloudfront.net/fit-in/0x450/unshoppable_producs/c1383341-caa1-4c8e-957f-3f6a0f0a5656.webp - as ./shoplook/data/images/casual/769b77423e.jpg\n"
     ]
    },
    {
     "name": "stderr",
     "output_type": "stream",
     "text": [
      "\r",
      "  5%|▌         | 13/250 [03:32<1:01:05, 15.46s/it]"
     ]
    },
    {
     "name": "stdout",
     "output_type": "stream",
     "text": [
      "SUCCESS - saved https://d2bzx2vuetkzse.cloudfront.net/fit-in/0x450/unshoppable_producs/cefd2bcb-c6f3-4174-b8ae-bd908d0cc95c.jpg - as ./shoplook/data/images/casual/7fac935866.jpg\n",
      "SUCCESS - saved https://d2bzx2vuetkzse.cloudfront.net/fit-in/0x450/unshoppable_producs/49395f9a-7a16-439e-9581-a0a356923c32.jpeg - as ./shoplook/data/images/casual/f906f476f2.jpg\n",
      "SUCCESS - saved https://d2bzx2vuetkzse.cloudfront.net/fit-in/0x450/unshoppable_producs/f9af00b2-f4d4-40e5-865a-dbcf1f594a2f.jpeg - as ./shoplook/data/images/casual/c1fffd84df.jpg\n",
      "SUCCESS - saved https://d2bzx2vuetkzse.cloudfront.net/fit-in/0x450/unshoppable_producs/3cffdf80-1daa-43f5-b5f2-949fc892f1be.jpeg - as ./shoplook/data/images/casual/9236908edf.jpg\n",
      "SUCCESS - saved https://d2bzx2vuetkzse.cloudfront.net/fit-in/0x450/unshoppable_producs/a4a286f0-6f80-47f5-a074-509fab96dee3.jpeg - as ./shoplook/data/images/casual/bcb5ed004f.jpg\n",
      "SUCCESS - saved https://d2bzx2vuetkzse.cloudfront.net/fit-in/0x450/unshoppable_producs/112732ac-b02f-4e05-ae3a-9be23457f9c7.jpeg - as ./shoplook/data/images/casual/67cb444d4d.jpg\n"
     ]
    },
    {
     "name": "stderr",
     "output_type": "stream",
     "text": [
      "\r",
      "  6%|▌         | 14/250 [03:47<1:00:32, 15.39s/it]"
     ]
    },
    {
     "name": "stdout",
     "output_type": "stream",
     "text": [
      "SUCCESS - saved https://d2bzx2vuetkzse.cloudfront.net/fit-in/0x450/unshoppable_producs/a8da57e7-0506-405b-bdaa-7add0b68c9c1.jpeg - as ./shoplook/data/images/casual/1dc2e3d774.jpg\n",
      "SUCCESS - saved https://d2bzx2vuetkzse.cloudfront.net/fit-in/0x450/unshoppable_producs/e3c3fc60-2516-49bd-aa12-1fc755d96892.jpg - as ./shoplook/data/images/casual/8bedf09108.jpg\n",
      "SUCCESS - saved https://d2bzx2vuetkzse.cloudfront.net/fit-in/0x450/unshoppable_producs/581f206e-9a20-48a7-aeaa-3ff6189d899d.jpeg - as ./shoplook/data/images/casual/d78c2b2ea2.jpg\n",
      "SUCCESS - saved https://d2bzx2vuetkzse.cloudfront.net/fit-in/0x450/unshoppable_producs/cce92a3c-0c6c-440f-8c56-83475ca8098c.jpeg - as ./shoplook/data/images/casual/8faec4c3c0.jpg\n",
      "SUCCESS - saved https://d2bzx2vuetkzse.cloudfront.net/fit-in/0x450/unshoppable_producs/bc47ebee-f883-4442-beae-d4cfcc5a2570.jpeg - as ./shoplook/data/images/casual/2fe7244c8e.jpg\n"
     ]
    },
    {
     "name": "stderr",
     "output_type": "stream",
     "text": [
      "\r",
      "  6%|▌         | 15/250 [04:01<58:08, 14.85s/it]  "
     ]
    },
    {
     "name": "stdout",
     "output_type": "stream",
     "text": [
      "SUCCESS - saved https://d2bzx2vuetkzse.cloudfront.net/fit-in/0x450/unshoppable_producs/ba1182ef-a352-49d5-9367-bc762394dfe8.jpeg - as ./shoplook/data/images/casual/74fe5403c6.jpg\n",
      "SUCCESS - saved https://d2bzx2vuetkzse.cloudfront.net/fit-in/0x450/unshoppable_producs/d64f0ea9-d1fd-48f2-b864-314bd85d2bc2.jpeg - as ./shoplook/data/images/casual/03fa6a3a30.jpg\n",
      "SUCCESS - saved https://d2bzx2vuetkzse.cloudfront.net/fit-in/0x450/unshoppable_producs/a04e16b4-95a3-4faf-b343-8f5f5c952c07.jpeg - as ./shoplook/data/images/casual/c9973381c1.jpg\n",
      "SUCCESS - saved https://d2bzx2vuetkzse.cloudfront.net/fit-in/0x450/unshoppable_producs/6df8667a-6e9b-43c1-8e74-d827bf89ff40.jpeg - as ./shoplook/data/images/casual/276fcfca55.jpg\n",
      "SUCCESS - saved https://d2bzx2vuetkzse.cloudfront.net/fit-in/0x450/unshoppable_producs/b453984a-6e33-4cfb-bb57-12ec28e3024a.jpeg - as ./shoplook/data/images/casual/ff8dad3df5.jpg\n",
      "SUCCESS - saved https://d2bzx2vuetkzse.cloudfront.net/fit-in/0x450/unshoppable_producs/a4f09aea-7e1d-4b69-8a57-f0d17c018756.jpeg - as ./shoplook/data/images/casual/7b8c3e6acf.jpg\n"
     ]
    },
    {
     "name": "stderr",
     "output_type": "stream",
     "text": [
      "\r",
      "  6%|▋         | 16/250 [04:15<56:48, 14.57s/it]"
     ]
    },
    {
     "name": "stdout",
     "output_type": "stream",
     "text": [
      "SUCCESS - saved https://d2bzx2vuetkzse.cloudfront.net/fit-in/0x450/unshoppable_producs/87e16981-ecf7-4768-af0b-ca23443118e4.jpeg - as ./shoplook/data/images/casual/8174906d86.jpg\n",
      "SUCCESS - saved https://d2bzx2vuetkzse.cloudfront.net/fit-in/0x450/unshoppable_producs/8ec8f9a8-e8b6-4c7e-884c-59453e149bdf.jpeg - as ./shoplook/data/images/casual/3af49c1025.jpg\n",
      "SUCCESS - saved https://d2bzx2vuetkzse.cloudfront.net/fit-in/0x450/unshoppable_producs/64db51d4-f52d-4849-ac9f-5f099094f67e.jpeg - as ./shoplook/data/images/casual/557b542a24.jpg\n",
      "SUCCESS - saved https://d2bzx2vuetkzse.cloudfront.net/fit-in/0x450/unshoppable_producs/7178e7d2-4f74-4951-b3c5-4ba4c2e3a671.jpeg - as ./shoplook/data/images/casual/b4fd73fa40.jpg\n",
      "SUCCESS - saved https://d2bzx2vuetkzse.cloudfront.net/fit-in/0x450/unshoppable_producs/e7ef7206-a1d0-4b1a-bf2f-0c07dd1801fb.jpeg - as ./shoplook/data/images/casual/750f735aaa.jpg\n",
      "SUCCESS - saved https://d2bzx2vuetkzse.cloudfront.net/fit-in/0x450/unshoppable_producs/df1ee68f-3284-4acc-8814-f42c3f4a02d1.jpeg - as ./shoplook/data/images/casual/eacd81e0d0.jpg\n",
      "SUCCESS - saved https://d2bzx2vuetkzse.cloudfront.net/fit-in/0x450/unshoppable_producs/87700ff3-8681-45aa-8848-3701f1b8ea18.webp - as ./shoplook/data/images/casual/a8a5d827f0.jpg\n",
      "SUCCESS - saved https://d2bzx2vuetkzse.cloudfront.net/fit-in/0x450/unshoppable_producs/7ae565a9-ff2b-4fcc-b476-e0cec22661fb.jpeg - as ./shoplook/data/images/casual/f9a7573c44.jpg\n"
     ]
    },
    {
     "name": "stderr",
     "output_type": "stream",
     "text": [
      "\r",
      "  7%|▋         | 17/250 [04:29<56:01, 14.42s/it]"
     ]
    },
    {
     "name": "stdout",
     "output_type": "stream",
     "text": [
      "SUCCESS - saved https://d2bzx2vuetkzse.cloudfront.net/fit-in/0x450/unshoppable_producs/c35d82dd-0110-41c6-bcd9-b45ec9e9fae9.jpeg - as ./shoplook/data/images/casual/3efd6c0030.jpg\n",
      "SUCCESS - saved https://d2bzx2vuetkzse.cloudfront.net/fit-in/0x450/unshoppable_producs/ce305975-cebc-4c96-83a4-58875efe6ca5.jpeg - as ./shoplook/data/images/casual/c1027deeca.jpg\n",
      "SUCCESS - saved https://d2bzx2vuetkzse.cloudfront.net/fit-in/0x450/unshoppable_producs/6d375e37-57b3-4dd4-8a18-1e844ba82422.jpeg - as ./shoplook/data/images/casual/78d80f1aa0.jpg\n",
      "SUCCESS - saved https://d2bzx2vuetkzse.cloudfront.net/fit-in/0x450/unshoppable_producs/006779d0-ec07-4dab-94cc-b3e5bee6e33b.jpeg - as ./shoplook/data/images/casual/68526715dc.jpg\n",
      "SUCCESS - saved https://d2bzx2vuetkzse.cloudfront.net/fit-in/0x450/unshoppable_producs/987fe066-26ce-4b01-b41e-c953ee193aa9.jpeg - as ./shoplook/data/images/casual/952d6c0074.jpg\n",
      "SUCCESS - saved https://d2bzx2vuetkzse.cloudfront.net/fit-in/0x450/unshoppable_producs/dbe78a20-49fa-4dc2-9acb-7be5b0e9bf34.jpeg - as ./shoplook/data/images/casual/07bba70ee8.jpg\n",
      "SUCCESS - saved https://d2bzx2vuetkzse.cloudfront.net/fit-in/0x450/unshoppable_producs/6ed3f210-6c60-4e76-a0a0-7243a343c7e0.jpeg - as ./shoplook/data/images/casual/30aa8a076f.jpg\n"
     ]
    },
    {
     "name": "stderr",
     "output_type": "stream",
     "text": [
      "\r",
      "  7%|▋         | 18/250 [04:43<55:06, 14.25s/it]"
     ]
    },
    {
     "name": "stdout",
     "output_type": "stream",
     "text": [
      "SUCCESS - saved https://d2bzx2vuetkzse.cloudfront.net/fit-in/0x450/unshoppable_producs/967f181f-259f-4c78-bc8e-e6577158c7b9.png - as ./shoplook/data/images/casual/0becdd5f76.jpg\n",
      "SUCCESS - saved https://d2bzx2vuetkzse.cloudfront.net/fit-in/0x450/unshoppable_producs/5f13cff3-b703-44a7-b74b-710b0b7eda24.png - as ./shoplook/data/images/casual/bedd9d8047.jpg\n",
      "SUCCESS - saved https://d2bzx2vuetkzse.cloudfront.net/fit-in/0x450/unshoppable_producs/6f0addae-d536-4edb-8970-26e33c6c55c8.jpeg - as ./shoplook/data/images/casual/9d1029cd7b.jpg\n",
      "SUCCESS - saved https://d2bzx2vuetkzse.cloudfront.net/fit-in/0x450/unshoppable_producs/09ee0326-f940-4aa8-9fa9-a75cb8c482ff.jpeg - as ./shoplook/data/images/casual/5555d08397.jpg\n",
      "SUCCESS - saved https://d2bzx2vuetkzse.cloudfront.net/fit-in/0x450/unshoppable_producs/36f071f6-7960-4d58-a4f7-3040120fcc99.jpeg - as ./shoplook/data/images/casual/05de7cea06.jpg\n",
      "SUCCESS - saved https://d2bzx2vuetkzse.cloudfront.net/fit-in/0x450/unshoppable_producs/061b10dc-637e-42e6-b29c-e86f5fc512bb.jpeg - as ./shoplook/data/images/casual/4e9c792b78.jpg\n",
      "SUCCESS - saved https://d2bzx2vuetkzse.cloudfront.net/fit-in/0x450/unshoppable_producs/428c374d-3d61-4e3d-82f0-1db58ca1775f.jpeg - as ./shoplook/data/images/casual/212392e77e.jpg\n",
      "SUCCESS - saved https://d2bzx2vuetkzse.cloudfront.net/fit-in/0x450/unshoppable_producs/8befe3d0-9920-43e2-b8c9-224f1cf2abed.jpeg - as ./shoplook/data/images/casual/13b246466b.jpg\n",
      "SUCCESS - saved https://d2bzx2vuetkzse.cloudfront.net/fit-in/0x450/unshoppable_producs/c1108946-5a96-488a-852e-bb26e6684a15.jpg - as ./shoplook/data/images/casual/375a06cbfb.jpg\n",
      "SUCCESS - saved https://d2bzx2vuetkzse.cloudfront.net/fit-in/0x450/unshoppable_producs/77cf3ea4-70d8-4f53-89b4-65bf39ea229a.jpeg - as ./shoplook/data/images/casual/f03670a0e8.jpg\n",
      "SUCCESS - saved https://d2bzx2vuetkzse.cloudfront.net/fit-in/0x450/unshoppable_producs/4a4f6667-de01-4c51-880b-39a993f1481f.jpeg - as ./shoplook/data/images/casual/0eebd6351c.jpg\n",
      "SUCCESS - saved https://d2bzx2vuetkzse.cloudfront.net/fit-in/0x450/unshoppable_producs/af4c1f78-4cac-4ec6-b5a3-4eabdc3838eb.png - as ./shoplook/data/images/casual/a98a3b3363.jpg\n",
      "SUCCESS - saved https://d2bzx2vuetkzse.cloudfront.net/fit-in/0x450/unshoppable_producs/c2a770aa-b8a8-421c-8921-a65ae1b2650f.jpeg - as ./shoplook/data/images/casual/d35c6b130a.jpg\n",
      "SUCCESS - saved https://d2bzx2vuetkzse.cloudfront.net/fit-in/0x450/unshoppable_producs/8b5754dd-7417-4489-8b52-78c8e6169f1d.png - as ./shoplook/data/images/casual/2b4b7e3bee.jpg\n",
      "SUCCESS - saved https://d2bzx2vuetkzse.cloudfront.net/fit-in/0x450/unshoppable_producs/390c6866-5d83-4f02-b2b0-5abc370f9137.png - as ./shoplook/data/images/casual/b7db38fd3f.jpg\n",
      "SUCCESS - saved https://d2bzx2vuetkzse.cloudfront.net/fit-in/0x450/unshoppable_producs/59d13368-5eb5-4244-864c-2fd6bff5c6a0.jpeg - as ./shoplook/data/images/casual/1a3e494382.jpg\n",
      "SUCCESS - saved https://d2bzx2vuetkzse.cloudfront.net/fit-in/0x450/unshoppable_producs/f3b88a90-d5f8-4e3e-9e0e-262026958fb2.jpeg - as ./shoplook/data/images/casual/8619ea2522.jpg\n",
      "SUCCESS - saved https://d2bzx2vuetkzse.cloudfront.net/fit-in/0x450/unshoppable_producs/f1bf1911-9f9c-4e96-a0bd-542420c23c74.png - as ./shoplook/data/images/casual/e968f46f32.jpg\n"
     ]
    },
    {
     "name": "stderr",
     "output_type": "stream",
     "text": [
      "\r",
      "  8%|▊         | 19/250 [05:00<59:01, 15.33s/it]"
     ]
    },
    {
     "name": "stdout",
     "output_type": "stream",
     "text": [
      "SUCCESS - saved https://d2bzx2vuetkzse.cloudfront.net/fit-in/0x450/unshoppable_producs/d2b45e29-f993-44b4-86de-4ec178548cae.jpeg - as ./shoplook/data/images/casual/40ada2327c.jpg\n",
      "SUCCESS - saved https://d2bzx2vuetkzse.cloudfront.net/fit-in/0x450/unshoppable_producs/454adc7c-d60e-4ebd-baed-78e6af0164db.png - as ./shoplook/data/images/casual/7b73db36ac.jpg\n",
      "SUCCESS - saved https://d2bzx2vuetkzse.cloudfront.net/fit-in/0x450/unshoppable_producs/8c6a357b-6804-46a9-ae02-bc1d280b8084.jpeg - as ./shoplook/data/images/casual/4e8542b97f.jpg\n",
      "SUCCESS - saved https://d2bzx2vuetkzse.cloudfront.net/fit-in/0x450/unshoppable_producs/331e9254-2813-4333-a0ca-c902a39210a9.jpeg - as ./shoplook/data/images/casual/076e61e0ab.jpg\n",
      "SUCCESS - saved https://d2bzx2vuetkzse.cloudfront.net/fit-in/0x450/unshoppable_producs/b593faef-f53b-4cd6-95e2-7b2543f8ea7d.png - as ./shoplook/data/images/casual/702adf8f62.jpg\n",
      "SUCCESS - saved https://d2bzx2vuetkzse.cloudfront.net/fit-in/0x450/unshoppable_producs/f141bb82-4104-4077-8ba1-5820be685473.jpeg - as ./shoplook/data/images/casual/b3fd13c466.jpg\n",
      "SUCCESS - saved https://d2bzx2vuetkzse.cloudfront.net/fit-in/0x450/unshoppable_producs/3a2e3f62-a467-403c-a803-67b03ebbb585.png - as ./shoplook/data/images/casual/4eb74be651.jpg\n",
      "SUCCESS - saved https://d2bzx2vuetkzse.cloudfront.net/fit-in/0x450/unshoppable_producs/9d282c73-9f4d-459b-ad01-d7874fdbaa5c.jpeg - as ./shoplook/data/images/casual/d0e5f18b85.jpg\n",
      "SUCCESS - saved https://d2bzx2vuetkzse.cloudfront.net/fit-in/0x450/unshoppable_producs/fcf260fb-d829-4e90-b24a-afd11c59fe29.jpeg - as ./shoplook/data/images/casual/f515a07735.jpg\n",
      "SUCCESS - saved https://d2bzx2vuetkzse.cloudfront.net/fit-in/0x450/unshoppable_producs/8f21269d-6bbf-4fee-8f9b-6890ffacca5a.jpeg - as ./shoplook/data/images/casual/fa62422994.jpg\n",
      "SUCCESS - saved https://d2bzx2vuetkzse.cloudfront.net/fit-in/0x450/unshoppable_producs/460e5bae-3692-407e-85b4-1b7235da0f2e.jpeg - as ./shoplook/data/images/casual/b4b7509091.jpg\n",
      "SUCCESS - saved https://d2bzx2vuetkzse.cloudfront.net/fit-in/0x450/unshoppable_producs/8e7ade5a-e927-4e23-9c32-ef6146868651.jpeg - as ./shoplook/data/images/casual/75b915c19c.jpg\n",
      "SUCCESS - saved https://d2bzx2vuetkzse.cloudfront.net/fit-in/0x450/unshoppable_producs/f3031688-b014-4812-881c-2947050cc919.jpeg - as ./shoplook/data/images/casual/7517f9643d.jpg\n",
      "SUCCESS - saved https://d2bzx2vuetkzse.cloudfront.net/fit-in/0x450/unshoppable_producs/4a71eafc-58c6-42c4-b00d-7a49414815c7.jpeg - as ./shoplook/data/images/casual/b319246431.jpg\n",
      "SUCCESS - saved https://d2bzx2vuetkzse.cloudfront.net/fit-in/0x450/unshoppable_producs/48fd500b-618f-4572-b50c-9bacad358f87.jpeg - as ./shoplook/data/images/casual/e5c5314269.jpg\n",
      "SUCCESS - saved https://d2bzx2vuetkzse.cloudfront.net/fit-in/0x450/unshoppable_producs/e8a08c28-07d9-4441-a610-f6c30f93ae59.jpeg - as ./shoplook/data/images/casual/707f197ea7.jpg\n"
     ]
    },
    {
     "name": "stderr",
     "output_type": "stream",
     "text": [
      "\r",
      "  8%|▊         | 20/250 [05:16<58:55, 15.37s/it]"
     ]
    },
    {
     "name": "stdout",
     "output_type": "stream",
     "text": [
      "SUCCESS - saved https://d2bzx2vuetkzse.cloudfront.net/fit-in/0x450/unshoppable_producs/c4fad3aa-bfd6-4289-b6c3-46e479e48bc7.jpeg - as ./shoplook/data/images/casual/4dfb2696dd.jpg\n",
      "SUCCESS - saved https://d2bzx2vuetkzse.cloudfront.net/fit-in/0x450/unshoppable_producs/f9255bb8-a768-4b6a-a14e-a816e87647b5.jpeg - as ./shoplook/data/images/casual/eed0dcb8ab.jpg\n",
      "SUCCESS - saved https://d2bzx2vuetkzse.cloudfront.net/fit-in/0x450/unshoppable_producs/7e485e3f-5456-42e5-a643-62c38fdbaee1.jpeg - as ./shoplook/data/images/casual/c47e86baf2.jpg\n",
      "SUCCESS - saved https://d2bzx2vuetkzse.cloudfront.net/fit-in/0x450/unshoppable_producs/2362452f-c702-43eb-9347-38b6d761923d.webp - as ./shoplook/data/images/casual/0e018edcce.jpg\n",
      "SUCCESS - saved https://d2bzx2vuetkzse.cloudfront.net/fit-in/0x450/unshoppable_producs/91e78c4a-edcc-43b1-bc44-9394c126f346.jpeg - as ./shoplook/data/images/casual/29d90f519c.jpg\n",
      "SUCCESS - saved https://d2bzx2vuetkzse.cloudfront.net/fit-in/0x450/unshoppable_producs/712f8584-695c-4ebb-b5f1-eea3b866bc67.webp - as ./shoplook/data/images/casual/f33fc463ac.jpg\n",
      "SUCCESS - saved https://d2bzx2vuetkzse.cloudfront.net/fit-in/0x450/unshoppable_producs/8b18cf08-8c0c-4cfc-9be5-4bfedfbb7d19.jpeg - as ./shoplook/data/images/casual/bbac1299d2.jpg\n"
     ]
    },
    {
     "name": "stderr",
     "output_type": "stream",
     "text": [
      "\r",
      "  8%|▊         | 21/250 [05:30<57:08, 14.97s/it]"
     ]
    },
    {
     "name": "stdout",
     "output_type": "stream",
     "text": [
      "SUCCESS - saved https://d2bzx2vuetkzse.cloudfront.net/fit-in/0x450/unshoppable_producs/d8bbd2f5-f35f-4597-82e1-93978bf02a79.jpeg - as ./shoplook/data/images/casual/6e0a1fd5ac.jpg\n",
      "SUCCESS - saved https://d2bzx2vuetkzse.cloudfront.net/fit-in/0x450/unshoppable_producs/76410625-c164-4b83-ba77-34e8364b6834.jpeg - as ./shoplook/data/images/casual/2cc633c497.jpg\n",
      "SUCCESS - saved https://d2bzx2vuetkzse.cloudfront.net/fit-in/0x450/unshoppable_producs/f8302276-fc88-4513-b759-a28b551d32e7.jpeg - as ./shoplook/data/images/casual/0176f55de6.jpg\n",
      "SUCCESS - saved https://d2bzx2vuetkzse.cloudfront.net/fit-in/0x450/unshoppable_producs/8c650c0d-691d-4806-ac3b-e799e573bad7.jpeg - as ./shoplook/data/images/casual/88b294ae61.jpg\n",
      "SUCCESS - saved https://d2bzx2vuetkzse.cloudfront.net/fit-in/0x450/unshoppable_producs/547e0868-3a6f-485f-9455-c16fcd65bf36.jpeg - as ./shoplook/data/images/casual/d0d71c3517.jpg\n",
      "SUCCESS - saved https://d2bzx2vuetkzse.cloudfront.net/fit-in/0x450/unshoppable_producs/6e1dae16-976b-40d5-8f68-cadd1ca1d30b.jpeg - as ./shoplook/data/images/casual/c28fbb3726.jpg\n"
     ]
    },
    {
     "name": "stderr",
     "output_type": "stream",
     "text": [
      "\r",
      "  9%|▉         | 22/250 [05:43<54:37, 14.37s/it]"
     ]
    },
    {
     "name": "stdout",
     "output_type": "stream",
     "text": [
      "SUCCESS - saved https://d2bzx2vuetkzse.cloudfront.net/fit-in/0x450/unshoppable_producs/99ab2e59-492e-4d32-ae66-5cede5a6bbe3.jpeg - as ./shoplook/data/images/casual/3b0dccdc6d.jpg\n",
      "SUCCESS - saved https://d2bzx2vuetkzse.cloudfront.net/fit-in/0x450/unshoppable_producs/82dc2222-c9c0-4f0f-b076-5ea6136b08c8.jpeg - as ./shoplook/data/images/casual/12ccadb25f.jpg\n",
      "SUCCESS - saved https://d2bzx2vuetkzse.cloudfront.net/fit-in/0x450/unshoppable_producs/f8302276-fc88-4513-b759-a28b551d32e7.jpeg - as ./shoplook/data/images/casual/0176f55de6.jpg\n",
      "SUCCESS - saved https://d2bzx2vuetkzse.cloudfront.net/fit-in/0x450/unshoppable_producs/b6d4b9e6-f000-4dcd-a628-988dd57f5fd7.jpeg - as ./shoplook/data/images/casual/8f8c7b497e.jpg\n",
      "SUCCESS - saved https://d2bzx2vuetkzse.cloudfront.net/fit-in/0x450/unshoppable_producs/3c1c3fd7-c782-41ba-8497-bf5b6c181231.jpeg - as ./shoplook/data/images/casual/b557cb5c65.jpg\n",
      "SUCCESS - saved https://d2bzx2vuetkzse.cloudfront.net/fit-in/0x450/unshoppable_producs/bc510f03-53a7-4cd3-8895-0c51e556215d.jpeg - as ./shoplook/data/images/casual/c895b4c433.jpg\n",
      "SUCCESS - saved https://d2bzx2vuetkzse.cloudfront.net/fit-in/0x450/unshoppable_producs/dc089cb6-de22-445a-a322-261d6623e562.jpeg - as ./shoplook/data/images/casual/309f481cbe.jpg\n"
     ]
    },
    {
     "name": "stderr",
     "output_type": "stream",
     "text": [
      "\r",
      "  9%|▉         | 23/250 [05:56<53:01, 14.01s/it]"
     ]
    },
    {
     "name": "stdout",
     "output_type": "stream",
     "text": [
      "SUCCESS - saved https://d2bzx2vuetkzse.cloudfront.net/fit-in/0x450/unshoppable_producs/abfae44f-b23e-4af2-bcc7-b8c63fc6425b.jpeg - as ./shoplook/data/images/casual/9509deae1c.jpg\n",
      "SUCCESS - saved https://d2bzx2vuetkzse.cloudfront.net/fit-in/0x450/unshoppable_producs/9d6feb5b-a4dc-43ea-8c62-51a3c8e40135.jpeg - as ./shoplook/data/images/casual/f08b023183.jpg\n",
      "SUCCESS - saved https://d2bzx2vuetkzse.cloudfront.net/fit-in/0x450/unshoppable_producs/4b7c49e1-be98-4151-bce1-a231df70ef40.jpeg - as ./shoplook/data/images/casual/bc0145ae31.jpg\n",
      "SUCCESS - saved https://d2bzx2vuetkzse.cloudfront.net/fit-in/0x450/unshoppable_producs/2264b1a1-1251-4f62-b07f-9a88d47e4496.jpeg - as ./shoplook/data/images/casual/06b710d1b0.jpg\n"
     ]
    },
    {
     "name": "stderr",
     "output_type": "stream",
     "text": [
      "\r",
      " 10%|▉         | 24/250 [06:08<50:54, 13.52s/it]"
     ]
    },
    {
     "name": "stdout",
     "output_type": "stream",
     "text": [
      "SUCCESS - saved https://d2bzx2vuetkzse.cloudfront.net/fit-in/0x450/unshoppable_producs/9f4e30a2-813a-4910-8118-4ff46369d851.jpeg - as ./shoplook/data/images/casual/4dd3e9aef7.jpg\n",
      "SUCCESS - saved https://d2bzx2vuetkzse.cloudfront.net/fit-in/0x450/unshoppable_producs/169972bc-439f-4bd4-a287-5dd2b2f2cf8d.jpg - as ./shoplook/data/images/casual/aa7641d247.jpg\n",
      "SUCCESS - saved https://d2bzx2vuetkzse.cloudfront.net/fit-in/0x450/unshoppable_producs/967f181f-259f-4c78-bc8e-e6577158c7b9.png - as ./shoplook/data/images/casual/0becdd5f76.jpg\n",
      "SUCCESS - saved https://d2bzx2vuetkzse.cloudfront.net/fit-in/0x450/unshoppable_producs/4fe0c46a-422b-40e3-ad07-b2c1ceff50f3.png - as ./shoplook/data/images/casual/f63157b5ce.jpg\n",
      "SUCCESS - saved https://d2bzx2vuetkzse.cloudfront.net/fit-in/0x450/unshoppable_producs/f0c5d595-a59c-4e8d-93c6-7700c8c609b5.jpeg - as ./shoplook/data/images/casual/25595b9be0.jpg\n",
      "SUCCESS - saved https://d2bzx2vuetkzse.cloudfront.net/fit-in/0x450/unshoppable_producs/3d65a222-16ce-49a2-a125-67315eaea860.jpeg - as ./shoplook/data/images/casual/214496044b.jpg\n",
      "SUCCESS - saved https://d2bzx2vuetkzse.cloudfront.net/fit-in/0x450/unshoppable_producs/02443b95-3bcf-4561-8ca9-f695b0f46571.png - as ./shoplook/data/images/casual/e9e69a3ee3.jpg\n",
      "SUCCESS - saved https://d2bzx2vuetkzse.cloudfront.net/fit-in/0x450/unshoppable_producs/d39441ec-8a3c-422b-844c-c71223d87125.jpeg - as ./shoplook/data/images/casual/abf72bb420.jpg\n",
      "SUCCESS - saved https://d2bzx2vuetkzse.cloudfront.net/fit-in/0x450/unshoppable_producs/4a669d62-ca7e-4bfe-912f-54d8e453932c.jpg - as ./shoplook/data/images/casual/b1fd7bcbb4.jpg\n",
      "SUCCESS - saved https://d2bzx2vuetkzse.cloudfront.net/fit-in/0x450/unshoppable_producs/712033a9-db9a-487e-92e7-a145ea99fe6b.jpeg - as ./shoplook/data/images/casual/7939a43b4b.jpg\n",
      "SUCCESS - saved https://d2bzx2vuetkzse.cloudfront.net/fit-in/0x450/unshoppable_producs/ad23721e-4cad-4c4d-8506-b7d2084632d5.jpeg - as ./shoplook/data/images/casual/52244a1014.jpg\n",
      "SUCCESS - saved https://d2bzx2vuetkzse.cloudfront.net/fit-in/0x450/unshoppable_producs/f9995804-1bc6-4c06-9a41-0fe805cd150b.jpeg - as ./shoplook/data/images/casual/da150b7ab7.jpg\n",
      "SUCCESS - saved https://d2bzx2vuetkzse.cloudfront.net/fit-in/0x450/unshoppable_producs/36317fbd-d43c-479b-9492-8a504a9d739a.png - as ./shoplook/data/images/casual/2849d59d9c.jpg\n",
      "SUCCESS - saved https://d2bzx2vuetkzse.cloudfront.net/fit-in/0x450/unshoppable_producs/16fa2330-ef70-427c-9e39-9f0d8a8b0112.jpeg - as ./shoplook/data/images/casual/58c5037807.jpg\n",
      "SUCCESS - saved https://d2bzx2vuetkzse.cloudfront.net/fit-in/0x450/unshoppable_producs/fcea6a75-eb78-40ee-a896-0d0bcb814c21.jpeg - as ./shoplook/data/images/casual/6925aac0eb.jpg\n",
      "SUCCESS - saved https://d2bzx2vuetkzse.cloudfront.net/fit-in/0x450/unshoppable_producs/f415bbb6-dd38-46ac-8949-1107cf39c954.jpeg - as ./shoplook/data/images/casual/e77f93ca08.jpg\n",
      "SUCCESS - saved https://d2bzx2vuetkzse.cloudfront.net/fit-in/0x450/unshoppable_producs/f18fa35f-d451-4fc9-adf5-826210bb5d62.png - as ./shoplook/data/images/casual/dc53f43ab5.jpg\n"
     ]
    },
    {
     "name": "stderr",
     "output_type": "stream",
     "text": [
      "\r",
      " 10%|█         | 25/250 [06:25<54:01, 14.41s/it]"
     ]
    },
    {
     "name": "stdout",
     "output_type": "stream",
     "text": [
      "SUCCESS - saved https://d2bzx2vuetkzse.cloudfront.net/fit-in/0x450/unshoppable_producs/5a759415-f7ae-4390-a406-f60fb7262584.png - as ./shoplook/data/images/casual/bf5725af62.jpg\n",
      "SUCCESS - saved https://d2bzx2vuetkzse.cloudfront.net/fit-in/0x450/unshoppable_producs/761ad02a-b2e7-4ae5-87aa-c3a935d229d7.jpg - as ./shoplook/data/images/casual/646170b1d2.jpg\n",
      "SUCCESS - saved https://d2bzx2vuetkzse.cloudfront.net/fit-in/0x450/unshoppable_producs/824ecf11-c54b-44a5-a385-11e74c73710e.webp - as ./shoplook/data/images/casual/da2582002e.jpg\n",
      "SUCCESS - saved https://d2bzx2vuetkzse.cloudfront.net/fit-in/0x450/unshoppable_producs/4e6c272b-7b74-4b49-8b99-9e166ea1415d.jpeg - as ./shoplook/data/images/casual/415c4b9fec.jpg\n",
      "SUCCESS - saved https://d2bzx2vuetkzse.cloudfront.net/fit-in/0x450/unshoppable_producs/ef827e06-64fe-484d-8e8b-7e3ca9b00329.jpeg - as ./shoplook/data/images/casual/3c66993e66.jpg\n",
      "SUCCESS - saved https://d2bzx2vuetkzse.cloudfront.net/fit-in/0x450/unshoppable_producs/ca8db68a-71a6-472b-920e-b003dce058ed.jpeg - as ./shoplook/data/images/casual/f4eb3e2053.jpg\n",
      "SUCCESS - saved https://d2bzx2vuetkzse.cloudfront.net/fit-in/0x450/unshoppable_producs/d54b6f3a-43a1-4aff-8911-cbb20200aedf.jpeg - as ./shoplook/data/images/casual/9b35024964.jpg\n",
      "SUCCESS - saved https://d2bzx2vuetkzse.cloudfront.net/fit-in/0x450/unshoppable_producs/d190a822-ddd3-47e5-8d29-d45a26af65ec.jpeg - as ./shoplook/data/images/casual/d1771eb318.jpg\n"
     ]
    },
    {
     "name": "stderr",
     "output_type": "stream",
     "text": [
      "\r",
      " 10%|█         | 26/250 [06:39<53:06, 14.22s/it]"
     ]
    },
    {
     "name": "stdout",
     "output_type": "stream",
     "text": [
      "SUCCESS - saved https://d2bzx2vuetkzse.cloudfront.net/fit-in/0x450/unshoppable_producs/8aaab850-763e-4ba5-bc6d-14d7aabf7151.jpeg - as ./shoplook/data/images/casual/05bf3a92e6.jpg\n",
      "SUCCESS - saved https://d2bzx2vuetkzse.cloudfront.net/fit-in/0x450/unshoppable_producs/20fa7090-59cb-40d1-a322-ec86b4b8682f.jpeg - as ./shoplook/data/images/casual/9c2ddd894c.jpg\n",
      "SUCCESS - saved https://d2bzx2vuetkzse.cloudfront.net/fit-in/0x450/unshoppable_producs/f0348a21-faca-49e9-9117-aeffe7d1719c.jpeg - as ./shoplook/data/images/casual/3320ff2fbe.jpg\n",
      "SUCCESS - saved https://d2bzx2vuetkzse.cloudfront.net/fit-in/0x450/unshoppable_producs/3199dd4c-5167-4534-90f3-62e087712f2c.jpeg - as ./shoplook/data/images/casual/e2d28c6fe5.jpg\n",
      "SUCCESS - saved https://d2bzx2vuetkzse.cloudfront.net/fit-in/0x450/unshoppable_producs/8fcfa5d9-636f-4856-b6ff-f0e60d4cfd8f.jpeg - as ./shoplook/data/images/casual/ef88fe6050.jpg\n",
      "SUCCESS - saved https://d2bzx2vuetkzse.cloudfront.net/fit-in/0x450/unshoppable_producs/515def5d-2da2-4dca-a985-bb09133c2f51.webp - as ./shoplook/data/images/casual/37c25ff6f4.jpg\n",
      "SUCCESS - saved https://d2bzx2vuetkzse.cloudfront.net/fit-in/0x450/unshoppable_producs/0aecd27d-bcac-41a8-9a3a-2677fe79bb7a.jpeg - as ./shoplook/data/images/casual/18e305021e.jpg\n",
      "SUCCESS - saved https://d2bzx2vuetkzse.cloudfront.net/fit-in/0x450/unshoppable_producs/2fb69087-92c6-4534-b29d-9ebb2411dabf.jpeg - as ./shoplook/data/images/casual/23701378f3.jpg\n"
     ]
    },
    {
     "name": "stderr",
     "output_type": "stream",
     "text": [
      "\r",
      " 11%|█         | 27/250 [06:52<51:36, 13.89s/it]"
     ]
    },
    {
     "name": "stdout",
     "output_type": "stream",
     "text": [
      "SUCCESS - saved https://d2bzx2vuetkzse.cloudfront.net/fit-in/0x450/unshoppable_producs/78ee2011-7bc7-4d82-b15a-e81589bd998f.jpeg - as ./shoplook/data/images/casual/34d0580a22.jpg\n",
      "SUCCESS - saved https://d2bzx2vuetkzse.cloudfront.net/fit-in/0x450/unshoppable_producs/a026ea10-44f3-46ff-909f-4dd2fbb37ae5.jpg - as ./shoplook/data/images/casual/24cb88323f.jpg\n",
      "SUCCESS - saved https://d2bzx2vuetkzse.cloudfront.net/fit-in/0x450/unshoppable_producs/6c764844-11f4-4ac3-ac08-b033b1681744.jpeg - as ./shoplook/data/images/casual/2cb19d7378.jpg\n",
      "SUCCESS - saved https://d2bzx2vuetkzse.cloudfront.net/fit-in/0x450/unshoppable_producs/5340ea07-1ed1-448f-a9bb-aa613e16c2a0.jpeg - as ./shoplook/data/images/casual/188774660f.jpg\n",
      "SUCCESS - saved https://d2bzx2vuetkzse.cloudfront.net/fit-in/0x450/unshoppable_producs/7f76d848-c8df-403d-9fa8-9e45ac36f94b.jpeg - as ./shoplook/data/images/casual/8ac800b1e4.jpg\n",
      "SUCCESS - saved https://d2bzx2vuetkzse.cloudfront.net/fit-in/0x450/unshoppable_producs/1a5ed9ca-dc85-4e2f-a35e-067df2cf8f7c.jpeg - as ./shoplook/data/images/casual/9053c00841.jpg\n",
      "SUCCESS - saved https://d2bzx2vuetkzse.cloudfront.net/fit-in/0x450/unshoppable_producs/c08f55ad-0b15-4359-8b2f-9a1222a01045.jpeg - as ./shoplook/data/images/casual/8ffec81e6d.jpg\n"
     ]
    },
    {
     "name": "stderr",
     "output_type": "stream",
     "text": [
      "\r",
      " 11%|█         | 28/250 [07:06<51:19, 13.87s/it]"
     ]
    },
    {
     "name": "stdout",
     "output_type": "stream",
     "text": [
      "SUCCESS - saved https://d2bzx2vuetkzse.cloudfront.net/fit-in/0x450/unshoppable_producs/d37af04f-4be8-4d62-a4ec-ca975f4c94fb.jpg - as ./shoplook/data/images/casual/b99fdd992b.jpg\n",
      "SUCCESS - saved https://d2bzx2vuetkzse.cloudfront.net/fit-in/0x450/unshoppable_producs/aa5d76af-8f16-4483-8509-7a18b71c010d.jpeg - as ./shoplook/data/images/casual/1fb1b47d28.jpg\n",
      "SUCCESS - saved https://d2bzx2vuetkzse.cloudfront.net/fit-in/0x450/unshoppable_producs/8ac466f7-84a0-4c41-8543-f23b6dc0b189.jpeg - as ./shoplook/data/images/casual/b72edb5bc5.jpg\n",
      "SUCCESS - saved https://d2bzx2vuetkzse.cloudfront.net/fit-in/0x450/unshoppable_producs/78143c25-b298-4fe6-b471-e6e2690c921a.jpeg - as ./shoplook/data/images/casual/773c86d6a8.jpg\n",
      "SUCCESS - saved https://d2bzx2vuetkzse.cloudfront.net/fit-in/0x450/unshoppable_producs/5aa4463d-cd41-41a0-b00b-269120b35507.jpeg - as ./shoplook/data/images/casual/e5a7cd1503.jpg\n",
      "SUCCESS - saved https://d2bzx2vuetkzse.cloudfront.net/fit-in/0x450/unshoppable_producs/3a09eead-63f4-4f86-936d-79a6f69be7f5.jpeg - as ./shoplook/data/images/casual/170f7707cb.jpg\n"
     ]
    },
    {
     "name": "stderr",
     "output_type": "stream",
     "text": [
      "\r",
      " 12%|█▏        | 29/250 [07:17<48:05, 13.06s/it]"
     ]
    },
    {
     "name": "stdout",
     "output_type": "stream",
     "text": [
      "SUCCESS - saved https://d2bzx2vuetkzse.cloudfront.net/fit-in/0x450/unshoppable_producs/1b48fc6e-a08c-4d3c-b352-29a3620637c6.jpeg - as ./shoplook/data/images/casual/a2c0958221.jpg\n",
      "SUCCESS - saved https://d2bzx2vuetkzse.cloudfront.net/fit-in/0x450/unshoppable_producs/69a47438-d275-49fb-9129-afbdb2935517.jpg - as ./shoplook/data/images/casual/31f5722a83.jpg\n",
      "SUCCESS - saved https://d2bzx2vuetkzse.cloudfront.net/fit-in/0x450/unshoppable_producs/a43af35d-3e86-4f18-a455-cb8e7ab690a1.jpeg - as ./shoplook/data/images/casual/7e25da2552.jpg\n",
      "SUCCESS - saved https://d2bzx2vuetkzse.cloudfront.net/fit-in/0x450/unshoppable_producs/7973dadf-0015-4cc5-a3f5-78a50074235b.jpeg - as ./shoplook/data/images/casual/d183c9e305.jpg\n",
      "SUCCESS - saved https://d2bzx2vuetkzse.cloudfront.net/fit-in/0x450/unshoppable_producs/487fce71-763b-4688-9455-a0e25081ddd6.jpeg - as ./shoplook/data/images/casual/1ba307ba4b.jpg\n",
      "SUCCESS - saved https://d2bzx2vuetkzse.cloudfront.net/fit-in/0x450/unshoppable_producs/266f2104-0fbf-4161-8018-9211d60fad17.jpeg - as ./shoplook/data/images/casual/25891d6ef3.jpg\n",
      "SUCCESS - saved https://d2bzx2vuetkzse.cloudfront.net/fit-in/0x450/unshoppable_producs/133bfebc-0991-4613-a6ef-ff3c5057c830.jpeg - as ./shoplook/data/images/casual/b5007cc987.jpg\n",
      "SUCCESS - saved https://d2bzx2vuetkzse.cloudfront.net/fit-in/0x450/unshoppable_producs/53c62b5a-0872-4f19-982b-7132ca5b7ccc.jpeg - as ./shoplook/data/images/casual/22e2fb4c74.jpg\n",
      "SUCCESS - saved https://d2bzx2vuetkzse.cloudfront.net/fit-in/0x450/unshoppable_producs/ee75893f-8b09-438d-a43d-577bd0ec2e99.jpeg - as ./shoplook/data/images/casual/0a26fe6244.jpg\n",
      "SUCCESS - saved https://d2bzx2vuetkzse.cloudfront.net/fit-in/0x450/unshoppable_producs/69acf037-d857-43ec-b63f-616715d689f9.jpeg - as ./shoplook/data/images/casual/d232af27b0.jpg\n",
      "SUCCESS - saved https://d2bzx2vuetkzse.cloudfront.net/fit-in/0x450/unshoppable_producs/75ba84bb-f520-41d8-a3ed-43f60eaf0c6d.jpeg - as ./shoplook/data/images/casual/8c2bfbf6a5.jpg\n",
      "SUCCESS - saved https://d2bzx2vuetkzse.cloudfront.net/fit-in/0x450/unshoppable_producs/751dc0b0-3220-46e8-a3fd-42a5881d5494.jpeg - as ./shoplook/data/images/casual/34d91bd729.jpg\n"
     ]
    },
    {
     "name": "stderr",
     "output_type": "stream",
     "text": [
      "\r",
      " 12%|█▏        | 30/250 [07:35<53:31, 14.60s/it]"
     ]
    },
    {
     "name": "stdout",
     "output_type": "stream",
     "text": [
      "SUCCESS - saved https://d2bzx2vuetkzse.cloudfront.net/fit-in/0x450/unshoppable_producs/63f96758-5a2e-4f24-b23f-111561a15a89.jpg - as ./shoplook/data/images/casual/a2a4f9dc83.jpg\n",
      "SUCCESS - saved https://d2bzx2vuetkzse.cloudfront.net/fit-in/0x450/unshoppable_producs/b04b8b21-c014-4b1f-b390-6f7f30b2e255.jpg - as ./shoplook/data/images/casual/2abfce2b48.jpg\n",
      "SUCCESS - saved https://d2bzx2vuetkzse.cloudfront.net/fit-in/0x450/unshoppable_producs/c5aa1000-29ce-4e6f-8c10-c164fc80abae.jpeg - as ./shoplook/data/images/casual/fb52ae9330.jpg\n",
      "SUCCESS - saved https://d2bzx2vuetkzse.cloudfront.net/fit-in/0x450/unshoppable_producs/c0adcb58-e480-44ee-8a63-e6dde17ee7f2.jpeg - as ./shoplook/data/images/casual/0dbaf74c7a.jpg\n",
      "SUCCESS - saved https://d2bzx2vuetkzse.cloudfront.net/fit-in/0x450/unshoppable_producs/b09dbe21-d251-488e-9b0b-5b86494d3dbd.jpeg - as ./shoplook/data/images/casual/b573da6df5.jpg\n",
      "SUCCESS - saved https://d2bzx2vuetkzse.cloudfront.net/fit-in/0x450/unshoppable_producs/313cb1c6-bd33-45c9-8dc2-0d2d5c58ccc6.jpeg - as ./shoplook/data/images/casual/64ee1d7600.jpg\n",
      "SUCCESS - saved https://d2bzx2vuetkzse.cloudfront.net/fit-in/0x450/unshoppable_producs/68c7f793-4302-4ab6-b8a6-a513909b246c.jpeg - as ./shoplook/data/images/casual/18e27e4f03.jpg\n"
     ]
    },
    {
     "name": "stderr",
     "output_type": "stream",
     "text": [
      "\r",
      " 12%|█▏        | 31/250 [07:51<54:29, 14.93s/it]"
     ]
    },
    {
     "name": "stdout",
     "output_type": "stream",
     "text": [
      "SUCCESS - saved https://d2bzx2vuetkzse.cloudfront.net/fit-in/0x450/unshoppable_producs/1aa2a6d8-9b75-433d-b457-467b2dff8aef.jpeg - as ./shoplook/data/images/casual/45479b169d.jpg\n",
      "SUCCESS - saved https://d2bzx2vuetkzse.cloudfront.net/fit-in/0x450/unshoppable_producs/6c3d613a-0c6b-4003-9628-d3fa6acf4b44.jpg - as ./shoplook/data/images/casual/c579c78465.jpg\n",
      "SUCCESS - saved https://d2bzx2vuetkzse.cloudfront.net/fit-in/0x450/unshoppable_producs/5b9bd538-ecf0-4c0c-800b-0e68d7c1fdb2.jpg - as ./shoplook/data/images/casual/187be5bf16.jpg\n",
      "SUCCESS - saved https://d2bzx2vuetkzse.cloudfront.net/fit-in/0x450/unshoppable_producs/0d64527d-ebd3-4777-915a-461ad67edde5.jpg - as ./shoplook/data/images/casual/23641e5793.jpg\n",
      "SUCCESS - saved https://d2bzx2vuetkzse.cloudfront.net/fit-in/0x450/unshoppable_producs/9d01a021-0661-423a-b95e-7c8b35f5cfb0.jpg - as ./shoplook/data/images/casual/7a5d527213.jpg\n",
      "SUCCESS - saved https://d2bzx2vuetkzse.cloudfront.net/fit-in/0x450/unshoppable_producs/eb8af78f-5b30-452d-83a0-dcbf785904cc.jpeg - as ./shoplook/data/images/casual/a2e1d055e7.jpg\n",
      "SUCCESS - saved https://d2bzx2vuetkzse.cloudfront.net/fit-in/0x450/unshoppable_producs/32f81446-ef45-4b02-8a3e-39f2d4634fc2.jpg - as ./shoplook/data/images/casual/0c7bdf34ab.jpg\n",
      "SUCCESS - saved https://d2bzx2vuetkzse.cloudfront.net/fit-in/0x450/unshoppable_producs/38463251-3c7c-48ba-8ca1-7d042beb9cf6.jpeg - as ./shoplook/data/images/casual/0267da3d1b.jpg\n",
      "SUCCESS - saved https://d2bzx2vuetkzse.cloudfront.net/fit-in/0x450/unshoppable_producs/c727c95f-130b-449e-ba57-f85f6041d6d5.png - as ./shoplook/data/images/casual/a6dafc518b.jpg\n",
      "SUCCESS - saved https://d2bzx2vuetkzse.cloudfront.net/fit-in/0x450/unshoppable_producs/a16cad1f-ce13-4ee9-b3dc-3f57f0ba969c.jpeg - as ./shoplook/data/images/casual/7bc83a75b0.jpg\n",
      "SUCCESS - saved https://d2bzx2vuetkzse.cloudfront.net/fit-in/0x450/unshoppable_producs/9abefdae-ed88-4bdd-92cb-6907466d2ccd.jpeg - as ./shoplook/data/images/casual/c392ab8953.jpg\n",
      "SUCCESS - saved https://d2bzx2vuetkzse.cloudfront.net/fit-in/0x450/unshoppable_producs/829ff3da-b968-4ed1-bb43-ffdbe558ea1b.jpg - as ./shoplook/data/images/casual/9dca8acb36.jpg\n",
      "SUCCESS - saved https://d2bzx2vuetkzse.cloudfront.net/fit-in/0x450/unshoppable_producs/2c117965-5f06-473e-b028-4b0952efdc71.jpeg - as ./shoplook/data/images/casual/abb40d601c.jpg\n",
      "SUCCESS - saved https://d2bzx2vuetkzse.cloudfront.net/fit-in/0x450/unshoppable_producs/4a9469c2-7217-403d-b33a-7ba408731403.jpeg - as ./shoplook/data/images/casual/8887c72623.jpg\n",
      "SUCCESS - saved https://d2bzx2vuetkzse.cloudfront.net/fit-in/0x450/unshoppable_producs/d9f1f62a-3f1c-4790-ba13-6bb1fda1f7f1.jpg - as ./shoplook/data/images/casual/24d5935d91.jpg\n",
      "SUCCESS - saved https://d2bzx2vuetkzse.cloudfront.net/fit-in/0x450/unshoppable_producs/0391ee14-68fe-47c5-880f-9e4649f980f6.jpeg - as ./shoplook/data/images/casual/c7a16d22ae.jpg\n",
      "SUCCESS - saved https://d2bzx2vuetkzse.cloudfront.net/fit-in/0x450/unshoppable_producs/b4512a58-d957-48ac-b596-17738112ee13.png - as ./shoplook/data/images/casual/34c951d5ed.jpg\n",
      "SUCCESS - saved https://d2bzx2vuetkzse.cloudfront.net/fit-in/0x450/unshoppable_producs/0d9335ea-0128-4db8-8191-bdaaac2f1f9d.png - as ./shoplook/data/images/casual/c80b7e1501.jpg\n",
      "SUCCESS - saved https://d2bzx2vuetkzse.cloudfront.net/fit-in/0x450/unshoppable_producs/0fa0f68e-8104-4c65-8a97-162221af61d7.jpeg - as ./shoplook/data/images/casual/705e9ca24a.jpg\n",
      "SUCCESS - saved https://d2bzx2vuetkzse.cloudfront.net/fit-in/0x450/unshoppable_producs/401f78ef-85a7-4a73-ad45-8ec399627f85.jpeg - as ./shoplook/data/images/casual/60605bf7ec.jpg\n",
      "SUCCESS - saved https://d2bzx2vuetkzse.cloudfront.net/fit-in/0x450/unshoppable_producs/d6f4b3e5-a82e-42ab-9f02-6e5c6cae6cc3.jpeg - as ./shoplook/data/images/casual/a425527fc4.jpg\n",
      "SUCCESS - saved https://d2bzx2vuetkzse.cloudfront.net/fit-in/0x450/unshoppable_producs/27cc15d2-a34e-4a7f-b93e-f5d01366b8a0.png - as ./shoplook/data/images/casual/5ebb3f41e7.jpg\n",
      "SUCCESS - saved https://d2bzx2vuetkzse.cloudfront.net/fit-in/0x450/unshoppable_producs/8fff4b1a-d40e-4a8c-9d9b-57af92f13226.jpg - as ./shoplook/data/images/casual/ae216273e3.jpg\n",
      "SUCCESS - saved https://d2bzx2vuetkzse.cloudfront.net/fit-in/0x450/unshoppable_producs/3d64476f-fbc5-481e-a9cf-a28f006e9a48.png - as ./shoplook/data/images/casual/7139967d8c.jpg\n",
      "SUCCESS - saved https://d2bzx2vuetkzse.cloudfront.net/fit-in/0x450/unshoppable_producs/dc453a95-6c4e-40fc-9463-3b34750355c2.png - as ./shoplook/data/images/casual/419427ccef.jpg\n",
      "SUCCESS - saved https://d2bzx2vuetkzse.cloudfront.net/fit-in/0x450/unshoppable_producs/b6b298c6-0a0a-4f53-ac28-e7d7fe310e62.jpeg - as ./shoplook/data/images/casual/52aaff0e93.jpg\n",
      "SUCCESS - saved https://d2bzx2vuetkzse.cloudfront.net/fit-in/0x450/unshoppable_producs/a1b1a367-506e-4b3a-aed5-6134e38b2e26.jpeg - as ./shoplook/data/images/casual/986f455fe8.jpg\n",
      "SUCCESS - saved https://d2bzx2vuetkzse.cloudfront.net/fit-in/0x450/unshoppable_producs/20d2abf7-520c-4458-bf40-3b4dde0b01e7.jpeg - as ./shoplook/data/images/casual/c2ad2e37b4.jpg\n",
      "SUCCESS - saved https://d2bzx2vuetkzse.cloudfront.net/fit-in/0x450/unshoppable_producs/b7a2d0b5-1818-42c7-9206-e668ef6491f7.jpeg - as ./shoplook/data/images/casual/7c6228d488.jpg\n",
      "SUCCESS - saved https://d2bzx2vuetkzse.cloudfront.net/fit-in/0x450/unshoppable_producs/44cf06f9-2539-48f5-be6f-9317d4bba5d5.jpeg - as ./shoplook/data/images/casual/ab96bd850f.jpg\n",
      "SUCCESS - saved https://d2bzx2vuetkzse.cloudfront.net/fit-in/0x450/unshoppable_producs/42be2fd8-f8b2-4b1f-bebc-bda9c4348d5f.jpeg - as ./shoplook/data/images/casual/2bcbbfb4ab.jpg\n",
      "SUCCESS - saved https://d2bzx2vuetkzse.cloudfront.net/fit-in/0x450/unshoppable_producs/a3876e5f-2997-489e-a1d4-1f7b327dfee9.jpeg - as ./shoplook/data/images/casual/d19ecb3935.jpg\n",
      "SUCCESS - saved https://d2bzx2vuetkzse.cloudfront.net/fit-in/0x450/unshoppable_producs/c1813df5-a22e-48b3-9d3b-37a392dfc704.png - as ./shoplook/data/images/casual/67378d041b.jpg\n",
      "SUCCESS - saved https://d2bzx2vuetkzse.cloudfront.net/fit-in/0x450/unshoppable_producs/b33d5d8b-08f5-4fad-acc2-a2b5f828966d.jpeg - as ./shoplook/data/images/casual/e6e3f391bf.jpg\n",
      "SUCCESS - saved https://d2bzx2vuetkzse.cloudfront.net/fit-in/0x450/unshoppable_producs/1457da96-d590-47f8-8749-6304df8fc731.jpeg - as ./shoplook/data/images/casual/0691cb2c54.jpg\n",
      "SUCCESS - saved https://d2bzx2vuetkzse.cloudfront.net/fit-in/0x450/unshoppable_producs/86d550bb-38f1-4df1-91cf-fd5eb1ed8d7d.png - as ./shoplook/data/images/casual/67740e17ce.jpg\n",
      "SUCCESS - saved https://d2bzx2vuetkzse.cloudfront.net/fit-in/0x450/unshoppable_producs/0703a868-7501-4288-b2a8-5b7a2f855f6b.png - as ./shoplook/data/images/casual/b16f7ec54e.jpg\n",
      "SUCCESS - saved https://d2bzx2vuetkzse.cloudfront.net/fit-in/0x450/unshoppable_producs/57638a4f-ac1d-40f7-887d-fd1fbc16b14f.jpeg - as ./shoplook/data/images/casual/549fd5f7ce.jpg\n",
      "SUCCESS - saved https://d2bzx2vuetkzse.cloudfront.net/fit-in/0x450/unshoppable_producs/8c156a64-17e4-4c04-b8b1-03198d0067df.jpeg - as ./shoplook/data/images/casual/6ef98ff0ad.jpg\n",
      "SUCCESS - saved https://d2bzx2vuetkzse.cloudfront.net/fit-in/0x450/unshoppable_producs/e84a3eb1-6f6f-40ea-8c40-9807c5e50a88.jpeg - as ./shoplook/data/images/casual/f354023379.jpg\n",
      "SUCCESS - saved https://d2bzx2vuetkzse.cloudfront.net/fit-in/0x450/unshoppable_producs/88a5e661-fd90-4cf1-a9a2-2b1871baca66.jpeg - as ./shoplook/data/images/casual/7fc66768ee.jpg\n",
      "SUCCESS - saved https://d2bzx2vuetkzse.cloudfront.net/fit-in/0x450/unshoppable_producs/3cf6c9ea-94a7-43f2-82b3-54b4b8d85a98.jpeg - as ./shoplook/data/images/casual/bca4536f28.jpg\n",
      "SUCCESS - saved https://d2bzx2vuetkzse.cloudfront.net/fit-in/0x450/unshoppable_producs/6306b48a-4698-4eba-855f-f962239d39bd.jpeg - as ./shoplook/data/images/casual/b3e3b6f96b.jpg\n"
     ]
    },
    {
     "name": "stderr",
     "output_type": "stream",
     "text": [
      "\r",
      " 13%|█▎        | 32/250 [08:17<1:06:17, 18.24s/it]"
     ]
    },
    {
     "name": "stdout",
     "output_type": "stream",
     "text": [
      "SUCCESS - saved https://d2bzx2vuetkzse.cloudfront.net/fit-in/0x450/unshoppable_producs/6400ee95-c4a9-4c60-babb-f58ac1838a8b.jpeg - as ./shoplook/data/images/casual/e087311ccf.jpg\n",
      "SUCCESS - saved https://d2bzx2vuetkzse.cloudfront.net/fit-in/0x450/unshoppable_producs/6c3d613a-0c6b-4003-9628-d3fa6acf4b44.jpg - as ./shoplook/data/images/casual/c579c78465.jpg\n",
      "SUCCESS - saved https://d2bzx2vuetkzse.cloudfront.net/fit-in/0x450/unshoppable_producs/d33f61d6-f2fb-4be3-9655-043ff0d31f9e.jpg - as ./shoplook/data/images/casual/f0096905d4.jpg\n",
      "SUCCESS - saved https://d2bzx2vuetkzse.cloudfront.net/fit-in/0x450/unshoppable_producs/a56ec6b9-bc58-4385-a368-bf033911f6c6.jpg - as ./shoplook/data/images/casual/a18af9fe47.jpg\n",
      "SUCCESS - saved https://d2bzx2vuetkzse.cloudfront.net/fit-in/0x450/unshoppable_producs/5b9bd538-ecf0-4c0c-800b-0e68d7c1fdb2.jpg - as ./shoplook/data/images/casual/187be5bf16.jpg\n",
      "SUCCESS - saved https://d2bzx2vuetkzse.cloudfront.net/fit-in/0x450/unshoppable_producs/4de4f052-510e-480d-a208-78f0fbb2845d.jpg - as ./shoplook/data/images/casual/84483ecd0c.jpg\n",
      "SUCCESS - saved https://d2bzx2vuetkzse.cloudfront.net/fit-in/0x450/unshoppable_producs/a6d2a68e-66ed-4c81-a28a-916cf092ff21.jpeg - as ./shoplook/data/images/casual/ba53d0df69.jpg\n",
      "SUCCESS - saved https://d2bzx2vuetkzse.cloudfront.net/fit-in/0x450/unshoppable_producs/9677ad08-e641-4ce0-bdac-ff3c5a7ca6e8.jpeg - as ./shoplook/data/images/casual/86b83ff754.jpg\n",
      "SUCCESS - saved https://d2bzx2vuetkzse.cloudfront.net/fit-in/0x450/unshoppable_producs/a16cad1f-ce13-4ee9-b3dc-3f57f0ba969c.jpeg - as ./shoplook/data/images/casual/7bc83a75b0.jpg\n",
      "SUCCESS - saved https://d2bzx2vuetkzse.cloudfront.net/fit-in/0x450/unshoppable_producs/ec9b9fdc-9680-4ff0-a8c6-56bae394e457.jpg - as ./shoplook/data/images/casual/ff594ae71f.jpg\n",
      "SUCCESS - saved https://d2bzx2vuetkzse.cloudfront.net/fit-in/0x450/unshoppable_producs/a31c43ed-b716-424b-b15b-f7fabc4f14e3.jpg - as ./shoplook/data/images/casual/44c0c75e3b.jpg\n",
      "SUCCESS - saved https://d2bzx2vuetkzse.cloudfront.net/fit-in/0x450/unshoppable_producs/510a9bac-4165-489b-ab44-b47e98c1ffb6.jpeg - as ./shoplook/data/images/casual/2653667fba.jpg\n",
      "SUCCESS - saved https://d2bzx2vuetkzse.cloudfront.net/fit-in/0x450/unshoppable_producs/4a9469c2-7217-403d-b33a-7ba408731403.jpeg - as ./shoplook/data/images/casual/8887c72623.jpg\n",
      "SUCCESS - saved https://d2bzx2vuetkzse.cloudfront.net/fit-in/0x450/unshoppable_producs/6801e22d-8fc1-4e38-ac1a-4c10e961bd3f.jpeg - as ./shoplook/data/images/casual/3707341619.jpg\n",
      "SUCCESS - saved https://d2bzx2vuetkzse.cloudfront.net/fit-in/0x450/unshoppable_producs/53965232-306b-4d54-b8e0-29cf478da442.jpg - as ./shoplook/data/images/casual/522510d31d.jpg\n",
      "SUCCESS - saved https://d2bzx2vuetkzse.cloudfront.net/fit-in/0x450/unshoppable_producs/401f78ef-85a7-4a73-ad45-8ec399627f85.jpeg - as ./shoplook/data/images/casual/60605bf7ec.jpg\n",
      "SUCCESS - saved https://d2bzx2vuetkzse.cloudfront.net/fit-in/0x450/unshoppable_producs/08efb58e-5238-4d1c-a206-df992f11c891.jpg - as ./shoplook/data/images/casual/ed5d368e7d.jpg\n",
      "SUCCESS - saved https://d2bzx2vuetkzse.cloudfront.net/fit-in/0x450/unshoppable_producs/ef02d616-4ceb-472e-a0d4-3e470a373e01.jpeg - as ./shoplook/data/images/casual/a9045154a2.jpg\n",
      "SUCCESS - saved https://d2bzx2vuetkzse.cloudfront.net/fit-in/0x450/unshoppable_producs/68b035ec-3956-4c43-bcd2-b797138d7ecf.jpeg - as ./shoplook/data/images/casual/b59abc0b95.jpg\n",
      "SUCCESS - saved https://d2bzx2vuetkzse.cloudfront.net/fit-in/0x450/unshoppable_producs/a938dd8b-a0e9-4db0-85c1-e907a8f1c7cf.png - as ./shoplook/data/images/casual/238fb3c66e.jpg\n",
      "SUCCESS - saved https://d2bzx2vuetkzse.cloudfront.net/fit-in/0x450/unshoppable_producs/a2156ff6-47ff-4d89-8e7b-b35207fca486.webp - as ./shoplook/data/images/casual/1e86736a34.jpg\n",
      "SUCCESS - saved https://d2bzx2vuetkzse.cloudfront.net/fit-in/0x450/unshoppable_producs/b6a309a1-361f-492f-8563-bc25c7b8bdff.jpeg - as ./shoplook/data/images/casual/be31ae1a98.jpg\n",
      "SUCCESS - saved https://d2bzx2vuetkzse.cloudfront.net/fit-in/0x450/unshoppable_producs/09239908-01cd-4033-843d-b8f7d02abfdd.jpeg - as ./shoplook/data/images/casual/986b6631bc.jpg\n",
      "SUCCESS - saved https://d2bzx2vuetkzse.cloudfront.net/fit-in/0x450/unshoppable_producs/57fb11c5-0ab0-4cb4-9854-d7c4908f9988.png - as ./shoplook/data/images/casual/c422e38b83.jpg\n",
      "SUCCESS - saved https://d2bzx2vuetkzse.cloudfront.net/fit-in/0x450/unshoppable_producs/44921527-6961-4321-9564-e656b7c2893c.jpeg - as ./shoplook/data/images/casual/b1d08d7ab2.jpg\n",
      "SUCCESS - saved https://d2bzx2vuetkzse.cloudfront.net/fit-in/0x450/unshoppable_producs/ac5be108-90ad-4b27-9284-e144e00c441c.png - as ./shoplook/data/images/casual/6314272d4d.jpg\n",
      "SUCCESS - saved https://d2bzx2vuetkzse.cloudfront.net/fit-in/0x450/unshoppable_producs/e8dc2ea9-a3c4-4403-8d22-7d7a4473a902.jpeg - as ./shoplook/data/images/casual/4bda3185c7.jpg\n",
      "SUCCESS - saved https://d2bzx2vuetkzse.cloudfront.net/fit-in/0x450/unshoppable_producs/eb0f2097-3ca7-4013-8b50-cfe31b39e946.jpg - as ./shoplook/data/images/casual/2c512c4907.jpg\n",
      "SUCCESS - saved https://d2bzx2vuetkzse.cloudfront.net/fit-in/0x450/unshoppable_producs/e6e0556e-c3da-444e-8e11-7fb1c6282806.jpeg - as ./shoplook/data/images/casual/c68bdb2440.jpg\n",
      "SUCCESS - saved https://d2bzx2vuetkzse.cloudfront.net/fit-in/0x450/unshoppable_producs/76410625-c164-4b83-ba77-34e8364b6834.jpeg - as ./shoplook/data/images/casual/2cc633c497.jpg\n",
      "SUCCESS - saved https://d2bzx2vuetkzse.cloudfront.net/fit-in/0x450/unshoppable_producs/69d2a569-f0de-4ab4-a41d-568a4ca232c6.jpeg - as ./shoplook/data/images/casual/615b40b0ba.jpg\n",
      "SUCCESS - saved https://d2bzx2vuetkzse.cloudfront.net/fit-in/0x450/unshoppable_producs/b762398c-2ef7-40f8-8b94-cc5f1a006904.jpeg - as ./shoplook/data/images/casual/98a6dd08f9.jpg\n",
      "SUCCESS - saved https://d2bzx2vuetkzse.cloudfront.net/fit-in/0x450/unshoppable_producs/ac37d590-d38e-4aa3-89f9-fabdf13cb6ae.jpeg - as ./shoplook/data/images/casual/2630ba8f4b.jpg\n",
      "SUCCESS - saved https://d2bzx2vuetkzse.cloudfront.net/fit-in/0x450/unshoppable_producs/989dc012-58a1-4bcc-aa14-7c228de43282.jpeg - as ./shoplook/data/images/casual/1685d342f5.jpg\n",
      "SUCCESS - saved https://d2bzx2vuetkzse.cloudfront.net/fit-in/0x450/unshoppable_producs/c12bd80d-2758-4dad-8a84-8291183afe95.jpeg - as ./shoplook/data/images/casual/c22946033b.jpg\n",
      "SUCCESS - saved https://d2bzx2vuetkzse.cloudfront.net/fit-in/0x450/unshoppable_producs/3b7ec53c-65b7-4255-bd9f-d2a5d2b05588.jpeg - as ./shoplook/data/images/casual/573fc70f1d.jpg\n",
      "SUCCESS - saved https://d2bzx2vuetkzse.cloudfront.net/fit-in/0x450/unshoppable_producs/9b7415df-09ba-41be-9e1b-6d16ed20c0a6.jpeg - as ./shoplook/data/images/casual/c6c46d28cc.jpg\n",
      "SUCCESS - saved https://d2bzx2vuetkzse.cloudfront.net/fit-in/0x450/unshoppable_producs/611827a2-7f50-4ed3-bd68-7c30391527fc.jpeg - as ./shoplook/data/images/casual/26655afb14.jpg\n",
      "SUCCESS - saved https://d2bzx2vuetkzse.cloudfront.net/fit-in/0x450/unshoppable_producs/6f9e9fcc-afd6-4c2d-8d25-e73fd038db1b.jpeg - as ./shoplook/data/images/casual/09bd5d9e3b.jpg\n",
      "SUCCESS - saved https://d2bzx2vuetkzse.cloudfront.net/fit-in/0x450/unshoppable_producs/f1bf3e4d-d310-4a4e-93ad-5df0d9a1f68e.jpeg - as ./shoplook/data/images/casual/8015b1c204.jpg\n",
      "SUCCESS - saved https://d2bzx2vuetkzse.cloudfront.net/fit-in/0x450/unshoppable_producs/05c7524b-580c-4d57-83bb-bc9ba6f12866.jpeg - as ./shoplook/data/images/casual/d4e020a0f3.jpg\n",
      "SUCCESS - saved https://d2bzx2vuetkzse.cloudfront.net/fit-in/0x450/unshoppable_producs/ca2bbd67-0164-470a-83bb-9313b9408f62.jpeg - as ./shoplook/data/images/casual/a103220f2d.jpg\n",
      "SUCCESS - saved https://d2bzx2vuetkzse.cloudfront.net/fit-in/0x450/unshoppable_producs/2074fe73-6347-48a7-a2c0-e1710821c0b0.jpeg - as ./shoplook/data/images/casual/084f344deb.jpg\n",
      "SUCCESS - saved https://d2bzx2vuetkzse.cloudfront.net/fit-in/0x450/unshoppable_producs/e84a3eb1-6f6f-40ea-8c40-9807c5e50a88.jpeg - as ./shoplook/data/images/casual/f354023379.jpg\n",
      "SUCCESS - saved https://d2bzx2vuetkzse.cloudfront.net/fit-in/0x450/unshoppable_producs/fde3d131-2391-413f-bee8-a17fe54d6eb2.webp - as ./shoplook/data/images/casual/d526b78b41.jpg\n"
     ]
    },
    {
     "name": "stderr",
     "output_type": "stream",
     "text": [
      "\r",
      " 13%|█▎        | 33/250 [08:40<1:11:10, 19.68s/it]"
     ]
    },
    {
     "name": "stdout",
     "output_type": "stream",
     "text": [
      "SUCCESS - saved https://d2bzx2vuetkzse.cloudfront.net/fit-in/0x450/unshoppable_producs/42a7c96a-90b9-4dde-933e-02c30fb69e4f.jpeg - as ./shoplook/data/images/casual/76450f517a.jpg\n",
      "SUCCESS - saved https://d2bzx2vuetkzse.cloudfront.net/fit-in/0x450/unshoppable_producs/2834044d-d284-494b-af02-3b86a31ab5c1.jpg - as ./shoplook/data/images/casual/797a0e63fe.jpg\n",
      "SUCCESS - saved https://d2bzx2vuetkzse.cloudfront.net/fit-in/0x450/unshoppable_producs/de1db1cb-2e1b-4c07-991f-2a6c1120a4e0.jpeg - as ./shoplook/data/images/casual/b9031e26f3.jpg\n",
      "SUCCESS - saved https://d2bzx2vuetkzse.cloudfront.net/fit-in/0x450/unshoppable_producs/16944512-ee55-4f2f-8afa-bf768f9c0499.jpeg - as ./shoplook/data/images/casual/64ceb24c43.jpg\n",
      "SUCCESS - saved https://d2bzx2vuetkzse.cloudfront.net/fit-in/0x450/unshoppable_producs/616bad5e-0270-476a-86cd-9d534398729b.jpeg - as ./shoplook/data/images/casual/b2a8fe2a09.jpg\n",
      "SUCCESS - saved https://d2bzx2vuetkzse.cloudfront.net/fit-in/0x450/unshoppable_producs/e3909669-3597-40f3-8cfd-6f8c35d044fa.jpeg - as ./shoplook/data/images/casual/7a667d1929.jpg\n"
     ]
    },
    {
     "name": "stderr",
     "output_type": "stream",
     "text": [
      "\r",
      " 14%|█▎        | 34/250 [08:51<1:02:03, 17.24s/it]"
     ]
    },
    {
     "name": "stdout",
     "output_type": "stream",
     "text": [
      "SUCCESS - saved https://d2bzx2vuetkzse.cloudfront.net/fit-in/0x450/unshoppable_producs/9f75c3b2-0bcd-45a2-9c77-d104e599a655.jpeg - as ./shoplook/data/images/casual/ef7bbdfc45.jpg\n",
      "SUCCESS - saved https://d2bzx2vuetkzse.cloudfront.net/fit-in/0x450/unshoppable_producs/ae472a11-b543-4519-95df-516f75746479.jpeg - as ./shoplook/data/images/casual/10aac3496a.jpg\n",
      "SUCCESS - saved https://d2bzx2vuetkzse.cloudfront.net/fit-in/0x450/unshoppable_producs/325d616d-c400-4cd7-9b0c-a1ad9c31a1ea.jpeg - as ./shoplook/data/images/casual/09da548ea2.jpg\n",
      "SUCCESS - saved https://d2bzx2vuetkzse.cloudfront.net/fit-in/0x450/unshoppable_producs/43c8b0fe-12f2-461d-af62-eae26ae85037.jpeg - as ./shoplook/data/images/casual/802980502f.jpg\n",
      "SUCCESS - saved https://d2bzx2vuetkzse.cloudfront.net/fit-in/0x450/unshoppable_producs/b31ede34-1404-4d5a-a96c-0f87cc7c2bb5.jpegcharsetUTF-8 - as ./shoplook/data/images/casual/697a5b329a.jpg\n",
      "SUCCESS - saved https://d2bzx2vuetkzse.cloudfront.net/fit-in/0x450/unshoppable_producs/27da6c15-531c-4f3a-9aaf-94ec6376ac41.jpeg - as ./shoplook/data/images/casual/345dbbb508.jpg\n",
      "SUCCESS - saved https://d2bzx2vuetkzse.cloudfront.net/fit-in/0x450/unshoppable_producs/a2ffda17-3249-42f3-a4e8-e86d8ef44103.jpeg - as ./shoplook/data/images/casual/e858135ba3.jpg\n",
      "SUCCESS - saved https://d2bzx2vuetkzse.cloudfront.net/fit-in/0x450/unshoppable_producs/fb18236d-c16f-42be-b561-7154fbd8e94b.jpeg - as ./shoplook/data/images/casual/7947cb1a5e.jpg\n"
     ]
    },
    {
     "name": "stderr",
     "output_type": "stream",
     "text": [
      "\r",
      " 14%|█▍        | 35/250 [09:04<56:47, 15.85s/it]  "
     ]
    },
    {
     "name": "stdout",
     "output_type": "stream",
     "text": [
      "SUCCESS - saved https://d2bzx2vuetkzse.cloudfront.net/fit-in/0x450/unshoppable_producs/3e5d658b-25ad-4a58-a9c5-3f3b018d35e7.jpeg - as ./shoplook/data/images/casual/3b858eb32d.jpg\n",
      "SUCCESS - saved https://d2bzx2vuetkzse.cloudfront.net/fit-in/0x450/unshoppable_producs/0a0414de-9a88-42a4-943d-eec25c1243e8.jpg - as ./shoplook/data/images/casual/37f73e720b.jpg\n",
      "SUCCESS - saved https://d2bzx2vuetkzse.cloudfront.net/fit-in/0x450/unshoppable_producs/0cbaff59-d97d-46a6-b50b-a0970326f740.jpeg - as ./shoplook/data/images/casual/79e8d271aa.jpg\n",
      "SUCCESS - saved https://d2bzx2vuetkzse.cloudfront.net/fit-in/0x450/unshoppable_producs/b7d8c9c8-c6d4-4b2f-9cc7-9440d8525694.jpg - as ./shoplook/data/images/casual/0f9b37d482.jpg\n",
      "SUCCESS - saved https://d2bzx2vuetkzse.cloudfront.net/fit-in/0x450/unshoppable_producs/f93e27c2-7505-491b-b2fc-d0e518910593.jpeg - as ./shoplook/data/images/casual/78479b5534.jpg\n",
      "SUCCESS - saved https://d2bzx2vuetkzse.cloudfront.net/fit-in/0x450/unshoppable_producs/f812615c-d146-4444-80b0-65834fbfc1ce.jpeg - as ./shoplook/data/images/casual/72c796d3e4.jpg\n",
      "SUCCESS - saved https://d2bzx2vuetkzse.cloudfront.net/fit-in/0x450/unshoppable_producs/7af4bcdc-c86b-40ed-9b86-935e25c3992b.jpeg - as ./shoplook/data/images/casual/12bc4dd268.jpg\n"
     ]
    },
    {
     "name": "stderr",
     "output_type": "stream",
     "text": [
      "\r",
      " 14%|█▍        | 36/250 [09:15<51:08, 14.34s/it]"
     ]
    },
    {
     "name": "stdout",
     "output_type": "stream",
     "text": [
      "SUCCESS - saved https://d2bzx2vuetkzse.cloudfront.net/fit-in/0x450/unshoppable_producs/049a27b0-5888-4b86-8eec-1e4b90752b9b.jpeg - as ./shoplook/data/images/casual/4849385146.jpg\n",
      "SUCCESS - saved https://d2bzx2vuetkzse.cloudfront.net/fit-in/0x450/unshoppable_producs/d775e6aa-4bb2-4177-862c-409f85a4f052.jpeg - as ./shoplook/data/images/casual/151053725d.jpg\n",
      "SUCCESS - saved https://d2bzx2vuetkzse.cloudfront.net/fit-in/0x450/unshoppable_producs/5e184b01-13f7-45af-941a-6cd6e28cb33e.jpeg - as ./shoplook/data/images/casual/e9a7253f35.jpg\n",
      "SUCCESS - saved https://d2bzx2vuetkzse.cloudfront.net/fit-in/0x450/unshoppable_producs/6350a5b5-8b18-4b80-9631-819dce7f8cbf.jpeg - as ./shoplook/data/images/casual/a19de316d3.jpg\n"
     ]
    },
    {
     "name": "stderr",
     "output_type": "stream",
     "text": [
      "\r",
      " 15%|█▍        | 37/250 [09:26<47:35, 13.40s/it]"
     ]
    },
    {
     "name": "stdout",
     "output_type": "stream",
     "text": [
      "SUCCESS - saved https://d2bzx2vuetkzse.cloudfront.net/fit-in/0x450/unshoppable_producs/84749ae4-a0ae-4a06-ba3f-ab18c701c5b2.jpeg - as ./shoplook/data/images/casual/14f3800d0c.jpg\n",
      "SUCCESS - saved https://d2bzx2vuetkzse.cloudfront.net/fit-in/0x450/unshoppable_producs/f9ac737f-5f1f-4d83-96c9-d6a24edab684.jpeg - as ./shoplook/data/images/casual/7495f6329f.jpg\n",
      "SUCCESS - saved https://d2bzx2vuetkzse.cloudfront.net/fit-in/0x450/unshoppable_producs/f6d27a77-6125-4101-a522-cb82382a5545.jpeg - as ./shoplook/data/images/casual/e2ca2effea.jpg\n",
      "SUCCESS - saved https://d2bzx2vuetkzse.cloudfront.net/fit-in/0x450/unshoppable_producs/39807960-b534-4dcd-98cf-7aeb09d0386f.jpeg - as ./shoplook/data/images/casual/7b407a5538.jpg\n",
      "SUCCESS - saved https://d2bzx2vuetkzse.cloudfront.net/fit-in/0x450/unshoppable_producs/b9e72ea3-3775-47fc-9917-e740f5825e86.jpeg - as ./shoplook/data/images/casual/e5dce6665c.jpg\n",
      "SUCCESS - saved https://d2bzx2vuetkzse.cloudfront.net/fit-in/0x450/unshoppable_producs/4b902f25-4a37-4dcb-a5a3-965e7d88a2f8.jpeg - as ./shoplook/data/images/casual/2b684584c2.jpg\n",
      "SUCCESS - saved https://d2bzx2vuetkzse.cloudfront.net/fit-in/0x450/unshoppable_producs/e64b644c-4308-4e04-a9bf-8b87d04f3ab3.jpeg - as ./shoplook/data/images/casual/97ec3c606e.jpg\n",
      "SUCCESS - saved https://d2bzx2vuetkzse.cloudfront.net/fit-in/0x450/unshoppable_producs/f85c137e-d607-40a0-9c50-b3cd12c14211.jpeg - as ./shoplook/data/images/casual/b4db87f630.jpg\n",
      "SUCCESS - saved https://d2bzx2vuetkzse.cloudfront.net/fit-in/0x450/unshoppable_producs/5701fe21-7898-4d6c-a9ef-e7cf511acdf3.jpeg - as ./shoplook/data/images/casual/f40edc8e43.jpg\n",
      "SUCCESS - saved https://d2bzx2vuetkzse.cloudfront.net/fit-in/0x450/unshoppable_producs/266d29be-cc05-4397-b93e-10597e3338d9.jpeg - as ./shoplook/data/images/casual/9a86f006c5.jpg\n",
      "SUCCESS - saved https://d2bzx2vuetkzse.cloudfront.net/fit-in/0x450/unshoppable_producs/93abf698-3475-4d03-8ed6-889b0a124582.jpeg - as ./shoplook/data/images/casual/b06e4ea97a.jpg\n",
      "SUCCESS - saved https://d2bzx2vuetkzse.cloudfront.net/fit-in/0x450/unshoppable_producs/9c892df8-bfd3-479e-aeb7-d0484c75dcaf.jpeg - as ./shoplook/data/images/casual/16ea8672c0.jpg\n",
      "SUCCESS - saved https://d2bzx2vuetkzse.cloudfront.net/fit-in/0x450/unshoppable_producs/42965bba-9625-4123-99a5-85d9812fa466.jpeg - as ./shoplook/data/images/casual/461b9f02c0.jpg\n"
     ]
    },
    {
     "name": "stderr",
     "output_type": "stream",
     "text": [
      "\r",
      " 15%|█▌        | 38/250 [09:40<48:35, 13.75s/it]"
     ]
    },
    {
     "name": "stdout",
     "output_type": "stream",
     "text": [
      "SUCCESS - saved https://d2bzx2vuetkzse.cloudfront.net/fit-in/0x450/unshoppable_producs/70bfb831-9bff-40c9-9c44-9a0b4efe9dfb.jpeg - as ./shoplook/data/images/casual/292867bdb8.jpg\n",
      "SUCCESS - saved https://d2bzx2vuetkzse.cloudfront.net/fit-in/0x450/unshoppable_producs/d6ba7ef9-c758-40db-aa00-e0431ed6ac79.png - as ./shoplook/data/images/casual/4bf6f4e796.jpg\n",
      "SUCCESS - saved https://d2bzx2vuetkzse.cloudfront.net/fit-in/0x450/unshoppable_producs/b797c801-4d0f-4aa7-8ae6-b7bd96dd112c.png - as ./shoplook/data/images/casual/b8515af519.jpg\n",
      "SUCCESS - saved https://d2bzx2vuetkzse.cloudfront.net/fit-in/0x450/unshoppable_producs/5f13cff3-b703-44a7-b74b-710b0b7eda24.png - as ./shoplook/data/images/casual/bedd9d8047.jpg\n",
      "SUCCESS - saved https://d2bzx2vuetkzse.cloudfront.net/fit-in/0x450/unshoppable_producs/f2f30d7f-5080-4de3-b015-c5540e7e022e.jpeg - as ./shoplook/data/images/casual/af3a619b94.jpg\n",
      "SUCCESS - saved https://d2bzx2vuetkzse.cloudfront.net/fit-in/0x450/unshoppable_producs/f762d7fa-4248-4b5f-b869-3f0fd1e82437.jpeg - as ./shoplook/data/images/casual/5c640181e6.jpg\n",
      "SUCCESS - saved https://d2bzx2vuetkzse.cloudfront.net/fit-in/0x450/unshoppable_producs/28fd82f5-9b35-48bd-ad1d-ded4d0261e1e.png - as ./shoplook/data/images/casual/cbb63c5fb8.jpg\n",
      "SUCCESS - saved https://d2bzx2vuetkzse.cloudfront.net/fit-in/0x450/unshoppable_producs/278395ea-770f-48e2-92b8-61955e7f68ec.jpeg - as ./shoplook/data/images/casual/60bf9125c5.jpg\n",
      "SUCCESS - saved https://d2bzx2vuetkzse.cloudfront.net/fit-in/0x450/unshoppable_producs/f561a990-f76c-47be-9614-3319663c3775.png - as ./shoplook/data/images/casual/d5bef12b01.jpg\n",
      "SUCCESS - saved https://d2bzx2vuetkzse.cloudfront.net/fit-in/0x450/unshoppable_producs/290187ac-05fc-4b02-899d-ec1657564537.jpeg - as ./shoplook/data/images/casual/4ee7775056.jpg\n",
      "SUCCESS - saved https://d2bzx2vuetkzse.cloudfront.net/fit-in/0x450/unshoppable_producs/4b458a4a-ae32-43fc-be66-ffa7d5a5fc4e.png - as ./shoplook/data/images/casual/9a6be908c8.jpg\n",
      "SUCCESS - saved https://d2bzx2vuetkzse.cloudfront.net/fit-in/0x450/unshoppable_producs/a2bcd79b-df8b-43eb-825c-0a3b1fc37ceb.jpeg - as ./shoplook/data/images/casual/f64fa34e1b.jpg\n",
      "SUCCESS - saved https://d2bzx2vuetkzse.cloudfront.net/fit-in/0x450/unshoppable_producs/1486f9ba-451c-4efb-9ed2-ca966be2497d.jpeg - as ./shoplook/data/images/casual/b0937243d8.jpg\n",
      "SUCCESS - saved https://d2bzx2vuetkzse.cloudfront.net/fit-in/0x450/unshoppable_producs/d3b0d8c8-f466-47d4-babb-980675fc44b7.png - as ./shoplook/data/images/casual/58d1cb515b.jpg\n",
      "SUCCESS - saved https://d2bzx2vuetkzse.cloudfront.net/fit-in/0x450/unshoppable_producs/53f902c2-7f1b-452e-a23a-7c6213ec9d06.jpeg - as ./shoplook/data/images/casual/7ed4d4314a.jpg\n",
      "SUCCESS - saved https://d2bzx2vuetkzse.cloudfront.net/fit-in/0x450/unshoppable_producs/cddbaa0a-c43f-4ce8-a840-5eb91a3e3e06.jpeg - as ./shoplook/data/images/casual/7f6143e980.jpg\n"
     ]
    },
    {
     "name": "stderr",
     "output_type": "stream",
     "text": [
      "\r",
      " 16%|█▌        | 39/250 [09:56<50:39, 14.40s/it]"
     ]
    },
    {
     "name": "stdout",
     "output_type": "stream",
     "text": [
      "SUCCESS - saved https://d2bzx2vuetkzse.cloudfront.net/fit-in/0x450/unshoppable_producs/2f338a1a-f25f-4141-8acc-89ae904bdd89.jpeg - as ./shoplook/data/images/casual/8bf33e2f56.jpg\n",
      "SUCCESS - saved https://d2bzx2vuetkzse.cloudfront.net/fit-in/0x450/unshoppable_producs/b63316df-c621-49ed-89c6-69ae9bc3d632.jpg - as ./shoplook/data/images/casual/ef92a2d3c2.jpg\n",
      "SUCCESS - saved https://d2bzx2vuetkzse.cloudfront.net/fit-in/0x450/unshoppable_producs/08878593-6505-4639-be42-c0f2efca265f.jpg - as ./shoplook/data/images/casual/0f689d2a6e.jpg\n",
      "SUCCESS - saved https://d2bzx2vuetkzse.cloudfront.net/fit-in/0x450/unshoppable_producs/79484462-6424-41c9-bee0-ce7bfe7d8f72.jpeg - as ./shoplook/data/images/casual/f76abfb9b0.jpg\n",
      "SUCCESS - saved https://d2bzx2vuetkzse.cloudfront.net/fit-in/0x450/unshoppable_producs/3b7f2733-38bb-4195-8a0d-154ab4f68caa.jpeg - as ./shoplook/data/images/casual/d97d7bf5b1.jpg\n",
      "SUCCESS - saved https://d2bzx2vuetkzse.cloudfront.net/fit-in/0x450/unshoppable_producs/1cfc48d4-adf8-4ee3-a722-e24615e370b0.jpeg - as ./shoplook/data/images/casual/f1499f6841.jpg\n",
      "SUCCESS - saved https://d2bzx2vuetkzse.cloudfront.net/fit-in/0x450/unshoppable_producs/18e97e4f-4b76-43d8-9c4e-e3f72b3bb5ce.jpeg - as ./shoplook/data/images/casual/30c07b1caa.jpg\n",
      "SUCCESS - saved https://d2bzx2vuetkzse.cloudfront.net/fit-in/0x450/unshoppable_producs/4b6517ae-6c22-4130-8a86-6dec46a4439a.jpeg - as ./shoplook/data/images/casual/cba9402c54.jpg\n",
      "SUCCESS - saved https://d2bzx2vuetkzse.cloudfront.net/fit-in/0x450/unshoppable_producs/a3c67c1b-f6c8-46f7-a58d-94651e4a2230.jpeg - as ./shoplook/data/images/casual/c81ae1949b.jpg\n",
      "SUCCESS - saved https://d2bzx2vuetkzse.cloudfront.net/fit-in/0x450/unshoppable_producs/4ee77046-b73f-4cb3-aacd-86f64b887372.jpeg - as ./shoplook/data/images/casual/8ff7e81549.jpg\n",
      "SUCCESS - saved https://d2bzx2vuetkzse.cloudfront.net/fit-in/0x450/unshoppable_producs/d4dde02d-e443-4290-bb91-b416c81e2b12.jpeg - as ./shoplook/data/images/casual/f730d2e346.jpg\n",
      "SUCCESS - saved https://d2bzx2vuetkzse.cloudfront.net/fit-in/0x450/unshoppable_producs/dce58b1f-0417-47a9-a5bc-d9c147d28d63.jpeg - as ./shoplook/data/images/casual/ec8ee04abf.jpg\n"
     ]
    },
    {
     "name": "stderr",
     "output_type": "stream",
     "text": [
      "\r",
      " 16%|█▌        | 40/250 [10:13<53:04, 15.17s/it]"
     ]
    },
    {
     "name": "stdout",
     "output_type": "stream",
     "text": [
      "SUCCESS - saved https://d2bzx2vuetkzse.cloudfront.net/fit-in/0x450/unshoppable_producs/3fa8e6e4-41cb-4bb2-bc1f-0e17871c1d0a.jpeg - as ./shoplook/data/images/casual/6c4f0cb35d.jpg\n",
      "SUCCESS - saved https://d2bzx2vuetkzse.cloudfront.net/fit-in/0x450/unshoppable_producs/94fdd4be-5429-4669-9883-7cb9856c1b6c.jpeg - as ./shoplook/data/images/casual/6304fd1fe4.jpg\n",
      "SUCCESS - saved https://d2bzx2vuetkzse.cloudfront.net/fit-in/0x450/unshoppable_producs/800c83e1-4ef7-4448-82ba-063f075bf884.jpeg - as ./shoplook/data/images/casual/9c2d5e8229.jpg\n",
      "SUCCESS - saved https://d2bzx2vuetkzse.cloudfront.net/fit-in/0x450/unshoppable_producs/05379603-d872-4e45-9d0c-173a5d8da0d2.jpeg - as ./shoplook/data/images/casual/eb6dbc71e8.jpg\n",
      "SUCCESS - saved https://d2bzx2vuetkzse.cloudfront.net/fit-in/0x450/unshoppable_producs/398cf607-2b44-48ea-bb38-d3fb3bfa55bb.jpg - as ./shoplook/data/images/casual/dc29b5a2ea.jpg\n",
      "SUCCESS - saved https://d2bzx2vuetkzse.cloudfront.net/fit-in/0x450/unshoppable_producs/09c9ceb8-3f47-426f-92ee-5d4cfa4a5587.jpeg - as ./shoplook/data/images/casual/e37ce633a7.jpg\n"
     ]
    },
    {
     "name": "stderr",
     "output_type": "stream",
     "text": [
      "\r",
      " 16%|█▋        | 41/250 [10:25<49:10, 14.12s/it]"
     ]
    },
    {
     "name": "stdout",
     "output_type": "stream",
     "text": [
      "SUCCESS - saved https://d2bzx2vuetkzse.cloudfront.net/fit-in/0x450/unshoppable_producs/3f40778d-bba3-43d6-bb5d-f24dbcbb74ad.jpeg - as ./shoplook/data/images/casual/eea6ef06bc.jpg\n",
      "SUCCESS - saved https://d2bzx2vuetkzse.cloudfront.net/fit-in/0x450/unshoppable_producs/9e28a756-773c-4677-a438-32a72309e042.jpg - as ./shoplook/data/images/casual/9b3867dc0a.jpg\n",
      "SUCCESS - saved https://d2bzx2vuetkzse.cloudfront.net/fit-in/0x450/unshoppable_producs/faef0c34-5d6d-4ceb-a38b-e1ff4f261b8c.jpg - as ./shoplook/data/images/casual/50aa9cf980.jpg\n",
      "SUCCESS - saved https://d2bzx2vuetkzse.cloudfront.net/fit-in/0x450/unshoppable_producs/a5ad3254-7430-4f10-a04f-6ebcb6352b3d.jpeg - as ./shoplook/data/images/casual/d45de6ff5e.jpg\n",
      "SUCCESS - saved https://d2bzx2vuetkzse.cloudfront.net/fit-in/0x450/unshoppable_producs/6630d992-bcb2-4d78-8ab5-d7b7130d6bed.png - as ./shoplook/data/images/casual/0171bf9b19.jpg\n",
      "SUCCESS - saved https://d2bzx2vuetkzse.cloudfront.net/fit-in/0x450/unshoppable_producs/d2b958a3-1ab4-4c68-b7e0-3c9ad48e3d13.jpeg - as ./shoplook/data/images/casual/a9b40a4675.jpg\n",
      "SUCCESS - saved https://d2bzx2vuetkzse.cloudfront.net/fit-in/0x450/unshoppable_producs/9631dbe9-d71f-48f4-be96-e19141c0d481.jpeg - as ./shoplook/data/images/casual/1e2b253f85.jpg\n",
      "SUCCESS - saved https://d2bzx2vuetkzse.cloudfront.net/fit-in/0x450/unshoppable_producs/39b202de-fcf4-45e8-b2c7-d882d50b6f60.jpeg - as ./shoplook/data/images/casual/9945d04444.jpg\n",
      "SUCCESS - saved https://d2bzx2vuetkzse.cloudfront.net/fit-in/0x450/unshoppable_producs/85760a0b-ed74-4cc0-81ad-1c5f1240c88f.jpeg - as ./shoplook/data/images/casual/07b9bdb9af.jpg\n",
      "SUCCESS - saved https://d2bzx2vuetkzse.cloudfront.net/fit-in/0x450/unshoppable_producs/cd4a2d34-a0c3-4a84-a0b8-23a91b731136.jpeg - as ./shoplook/data/images/casual/8485d8982c.jpg\n",
      "SUCCESS - saved https://d2bzx2vuetkzse.cloudfront.net/fit-in/0x450/unshoppable_producs/d987d1d4-ac6d-478d-92bf-1fa41feed862.jpeg - as ./shoplook/data/images/casual/73bb89cbf4.jpg\n",
      "SUCCESS - saved https://d2bzx2vuetkzse.cloudfront.net/fit-in/0x450/unshoppable_producs/100e9854-65f6-44a7-8a3b-fec7ff5e14d9.jpeg - as ./shoplook/data/images/casual/5c39565106.jpg\n"
     ]
    },
    {
     "name": "stderr",
     "output_type": "stream",
     "text": [
      "\r",
      " 17%|█▋        | 42/250 [10:43<52:42, 15.20s/it]"
     ]
    },
    {
     "name": "stdout",
     "output_type": "stream",
     "text": [
      "SUCCESS - saved https://d2bzx2vuetkzse.cloudfront.net/fit-in/0x450/unshoppable_producs/e9f35bc6-b72f-4482-9859-a4a3a8de997d.jpeg - as ./shoplook/data/images/casual/2f082e21eb.jpg\n",
      "SUCCESS - saved https://d2bzx2vuetkzse.cloudfront.net/fit-in/0x450/unshoppable_producs/fef26ebc-b603-40bb-bf4a-45966b3ff860.jpeg - as ./shoplook/data/images/casual/0baeabed6f.jpg\n",
      "SUCCESS - saved https://d2bzx2vuetkzse.cloudfront.net/fit-in/0x450/unshoppable_producs/320cd640-7254-4849-b76b-ecf16fca0eb2.jpeg - as ./shoplook/data/images/casual/2753480f13.jpg\n",
      "SUCCESS - saved https://d2bzx2vuetkzse.cloudfront.net/fit-in/0x450/unshoppable_producs/4204e95c-bb19-47c7-aee6-475771e12269.jpeg - as ./shoplook/data/images/casual/7da1bc8331.jpg\n",
      "SUCCESS - saved https://d2bzx2vuetkzse.cloudfront.net/fit-in/0x450/unshoppable_producs/9db8dc25-530e-40de-b84b-f819ec835707.jpeg - as ./shoplook/data/images/casual/e2535057f1.jpg\n",
      "SUCCESS - saved https://d2bzx2vuetkzse.cloudfront.net/fit-in/0x450/unshoppable_producs/1180abfd-b268-4ccb-bc97-7d5f7cc8600a.jpeg - as ./shoplook/data/images/casual/a765432418.jpg\n",
      "SUCCESS - saved https://d2bzx2vuetkzse.cloudfront.net/fit-in/0x450/unshoppable_producs/cff51240-3965-4d01-972a-536a9b9df168.jpeg - as ./shoplook/data/images/casual/5bcec1ae17.jpg\n",
      "SUCCESS - saved https://d2bzx2vuetkzse.cloudfront.net/fit-in/0x450/unshoppable_producs/a86652bc-719c-44a0-9a01-31dbe809e7aa.jpeg - as ./shoplook/data/images/casual/dbb7ae09a0.jpg\n",
      "SUCCESS - saved https://d2bzx2vuetkzse.cloudfront.net/fit-in/0x450/unshoppable_producs/548d7989-c95e-49fc-9c25-1e9feb4b8a25.png - as ./shoplook/data/images/casual/b4ee1512ab.jpg\n"
     ]
    },
    {
     "name": "stderr",
     "output_type": "stream",
     "text": [
      "\r",
      " 17%|█▋        | 43/250 [10:54<48:50, 14.16s/it]"
     ]
    },
    {
     "name": "stdout",
     "output_type": "stream",
     "text": [
      "SUCCESS - saved https://d2bzx2vuetkzse.cloudfront.net/fit-in/0x450/unshoppable_producs/0cdb18a8-e0ce-49c2-8008-5dcbb1eeb0c8.webp - as ./shoplook/data/images/casual/5ae553af44.jpg\n",
      "SUCCESS - saved https://d2bzx2vuetkzse.cloudfront.net/fit-in/0x450/unshoppable_producs/f175ce38-9ae6-4fba-a568-4f58d07a0085.jpeg - as ./shoplook/data/images/casual/18a00ae74c.jpg\n",
      "SUCCESS - saved https://d2bzx2vuetkzse.cloudfront.net/fit-in/0x450/unshoppable_producs/b6f69380-621f-4a07-972e-9e2a88dfb95a.jpeg - as ./shoplook/data/images/casual/699a1f5921.jpg\n",
      "SUCCESS - saved https://d2bzx2vuetkzse.cloudfront.net/fit-in/0x450/unshoppable_producs/3c58dc26-3002-41e8-a852-26aee70169e5.jpeg - as ./shoplook/data/images/casual/f10e544f93.jpg\n",
      "SUCCESS - saved https://d2bzx2vuetkzse.cloudfront.net/fit-in/0x450/unshoppable_producs/510e38b5-215a-4e96-9f5b-95074cace005.jpeg - as ./shoplook/data/images/casual/2f5d2ef6a4.jpg\n",
      "SUCCESS - saved https://d2bzx2vuetkzse.cloudfront.net/fit-in/0x450/unshoppable_producs/20db2858-be30-45a7-af14-0f3014e81176.jpeg - as ./shoplook/data/images/casual/a306eabcb2.jpg\n",
      "SUCCESS - saved https://d2bzx2vuetkzse.cloudfront.net/fit-in/0x450/unshoppable_producs/bebf34e7-4a37-4f1c-ad7e-bbe67c9e985f.jpeg - as ./shoplook/data/images/casual/e97491a155.jpg\n"
     ]
    },
    {
     "name": "stderr",
     "output_type": "stream",
     "text": [
      "\r",
      " 18%|█▊        | 44/250 [11:08<48:18, 14.07s/it]"
     ]
    },
    {
     "name": "stdout",
     "output_type": "stream",
     "text": [
      "SUCCESS - saved https://d2bzx2vuetkzse.cloudfront.net/fit-in/0x450/unshoppable_producs/84c7e734-6657-4f90-92df-772069bbd81d.jpeg - as ./shoplook/data/images/casual/02bc279986.jpg\n",
      "SUCCESS - saved https://d2bzx2vuetkzse.cloudfront.net/fit-in/0x450/unshoppable_producs/5f66c463-eb9e-4a63-9c2d-0c613b26a4bd.jpg - as ./shoplook/data/images/casual/dfe9f5330b.jpg\n",
      "SUCCESS - saved https://d2bzx2vuetkzse.cloudfront.net/fit-in/0x450/unshoppable_producs/64f03a44-6bb8-4bba-9629-1869af7e0433.jpeg - as ./shoplook/data/images/casual/cf582d03a3.jpg\n",
      "SUCCESS - saved https://d2bzx2vuetkzse.cloudfront.net/fit-in/0x450/unshoppable_producs/d396a4be-a5a1-4d07-aba1-ecaf636873d4.jpeg - as ./shoplook/data/images/casual/8cc9fa838c.jpg\n",
      "SUCCESS - saved https://d2bzx2vuetkzse.cloudfront.net/fit-in/0x450/unshoppable_producs/acf3d46f-c860-400f-be6c-ddeb00729f4e.jpeg - as ./shoplook/data/images/casual/fad0dac5c9.jpg\n",
      "SUCCESS - saved https://d2bzx2vuetkzse.cloudfront.net/fit-in/0x450/unshoppable_producs/27158651-8ed2-46d6-be22-c04ea3e53ddb.jpeg - as ./shoplook/data/images/casual/5f7ff3e129.jpg\n",
      "SUCCESS - saved https://d2bzx2vuetkzse.cloudfront.net/fit-in/0x450/unshoppable_producs/0b75d6b2-4433-4735-b7dc-3d3509b2cf71.jpeg - as ./shoplook/data/images/casual/621b3d290b.jpg\n"
     ]
    },
    {
     "name": "stderr",
     "output_type": "stream",
     "text": [
      "\r",
      " 18%|█▊        | 45/250 [11:22<47:14, 13.82s/it]"
     ]
    },
    {
     "name": "stdout",
     "output_type": "stream",
     "text": [
      "SUCCESS - saved https://d2bzx2vuetkzse.cloudfront.net/fit-in/0x450/unshoppable_producs/f205a8ab-220b-4568-aa54-8501f90a80b1.jpeg - as ./shoplook/data/images/casual/e6fe657fae.jpg\n",
      "SUCCESS - saved https://d2bzx2vuetkzse.cloudfront.net/fit-in/0x450/unshoppable_producs/39ef6cb9-df63-4559-83d6-de227da5f62c.jpeg - as ./shoplook/data/images/casual/6a0295075c.jpg\n",
      "SUCCESS - saved https://d2bzx2vuetkzse.cloudfront.net/fit-in/0x450/unshoppable_producs/422f9b59-30e5-40a2-a643-bd85c68b29a9.jpeg - as ./shoplook/data/images/casual/eac8dd5079.jpg\n",
      "SUCCESS - saved https://d2bzx2vuetkzse.cloudfront.net/fit-in/0x450/unshoppable_producs/098a91b4-9dca-4cc3-99f8-779d61a01a45.jpeg - as ./shoplook/data/images/casual/8332853fa7.jpg\n",
      "SUCCESS - saved https://d2bzx2vuetkzse.cloudfront.net/fit-in/0x450/unshoppable_producs/c9d7c268-1c78-4390-988c-16592aa9f8fd.jpeg - as ./shoplook/data/images/casual/1e122a8ece.jpg\n",
      "SUCCESS - saved https://d2bzx2vuetkzse.cloudfront.net/fit-in/0x450/unshoppable_producs/61c99f23-51c8-4314-9ec0-4f3661f047f5.jpeg - as ./shoplook/data/images/casual/1e20662a3e.jpg\n"
     ]
    },
    {
     "name": "stderr",
     "output_type": "stream",
     "text": [
      "\r",
      " 18%|█▊        | 46/250 [11:35<46:45, 13.75s/it]"
     ]
    },
    {
     "name": "stdout",
     "output_type": "stream",
     "text": [
      "SUCCESS - saved https://d2bzx2vuetkzse.cloudfront.net/fit-in/0x450/unshoppable_producs/43f1af88-9e44-4624-933c-a708370327f3.jpeg - as ./shoplook/data/images/casual/8676dd10a7.jpg\n",
      "SUCCESS - saved https://d2bzx2vuetkzse.cloudfront.net/fit-in/0x450/unshoppable_producs/81b176e3-c4c7-49e9-aad2-d838e2b76d11.png - as ./shoplook/data/images/casual/b38836741c.jpg\n",
      "SUCCESS - saved https://d2bzx2vuetkzse.cloudfront.net/fit-in/0x450/unshoppable_producs/5997e189-33eb-4c95-8555-6d3e537fd3b3.jpeg - as ./shoplook/data/images/casual/74163caf3b.jpg\n",
      "SUCCESS - saved https://d2bzx2vuetkzse.cloudfront.net/fit-in/0x450/unshoppable_producs/f0c5d595-a59c-4e8d-93c6-7700c8c609b5.jpeg - as ./shoplook/data/images/casual/25595b9be0.jpg\n",
      "SUCCESS - saved https://d2bzx2vuetkzse.cloudfront.net/fit-in/0x450/unshoppable_producs/8ef31777-ae3f-4a90-824f-91bbc1e26680.png - as ./shoplook/data/images/casual/5d3c1a22d2.jpg\n",
      "SUCCESS - saved https://d2bzx2vuetkzse.cloudfront.net/fit-in/0x450/unshoppable_producs/5f941580-8417-4eb1-8712-0d1ce59be67c.png - as ./shoplook/data/images/casual/0a403b56cd.jpg\n",
      "SUCCESS - saved https://d2bzx2vuetkzse.cloudfront.net/fit-in/0x450/unshoppable_producs/02443b95-3bcf-4561-8ca9-f695b0f46571.png - as ./shoplook/data/images/casual/e9e69a3ee3.jpg\n",
      "SUCCESS - saved https://d2bzx2vuetkzse.cloudfront.net/fit-in/0x450/unshoppable_producs/606894ff-48c5-4f24-a67a-a52496a6d553.jpeg - as ./shoplook/data/images/casual/87f2bc3871.jpg\n",
      "SUCCESS - saved https://d2bzx2vuetkzse.cloudfront.net/fit-in/0x450/unshoppable_producs/4a669d62-ca7e-4bfe-912f-54d8e453932c.jpg - as ./shoplook/data/images/casual/b1fd7bcbb4.jpg\n",
      "SUCCESS - saved https://d2bzx2vuetkzse.cloudfront.net/fit-in/0x450/unshoppable_producs/9d6feb5b-a4dc-43ea-8c62-51a3c8e40135.jpeg - as ./shoplook/data/images/casual/f08b023183.jpg\n",
      "SUCCESS - saved https://d2bzx2vuetkzse.cloudfront.net/fit-in/0x450/unshoppable_producs/c20d4479-f80d-4037-819e-2eaeac13bcb9.jpeg - as ./shoplook/data/images/casual/e94748b9e3.jpg\n",
      "SUCCESS - saved https://d2bzx2vuetkzse.cloudfront.net/fit-in/0x450/unshoppable_producs/c2dd0d27-115d-43c8-88cc-a18794630c25.jpeg - as ./shoplook/data/images/casual/88c968a246.jpg\n",
      "SUCCESS - saved https://d2bzx2vuetkzse.cloudfront.net/fit-in/0x450/unshoppable_producs/ce6274e5-1653-41f3-af72-c9ecd02229bb.jpeg - as ./shoplook/data/images/casual/650e9187b1.jpg\n",
      "SUCCESS - saved https://d2bzx2vuetkzse.cloudfront.net/fit-in/0x450/unshoppable_producs/969e76e1-5a3b-412c-b879-d4a27ba7563e.jpeg - as ./shoplook/data/images/casual/e7d7d91d19.jpg\n",
      "SUCCESS - saved https://d2bzx2vuetkzse.cloudfront.net/fit-in/0x450/unshoppable_producs/2644722b-46d3-4b19-9604-7ea553b6c8c1.jpeg - as ./shoplook/data/images/casual/c07e2d69de.jpg\n",
      "SUCCESS - saved https://d2bzx2vuetkzse.cloudfront.net/fit-in/0x450/unshoppable_producs/c315e2c3-649f-4e65-ac74-1b93f6fa6b28.jpeg - as ./shoplook/data/images/casual/74f61d5463.jpg\n",
      "SUCCESS - saved https://d2bzx2vuetkzse.cloudfront.net/fit-in/0x450/unshoppable_producs/8f275d76-5ee2-4ed8-9c4c-c15fc5197594.jpeg - as ./shoplook/data/images/casual/b182b95250.jpg\n"
     ]
    },
    {
     "name": "stderr",
     "output_type": "stream",
     "text": [
      "\r",
      " 19%|█▉        | 47/250 [11:53<50:54, 15.05s/it]"
     ]
    },
    {
     "name": "stdout",
     "output_type": "stream",
     "text": [
      "SUCCESS - saved https://d2bzx2vuetkzse.cloudfront.net/fit-in/0x450/unshoppable_producs/f1ea5227-8f39-4b1b-a590-d305bcf971ca.jpeg - as ./shoplook/data/images/casual/0630e213ca.jpg\n",
      "SUCCESS - saved https://d2bzx2vuetkzse.cloudfront.net/fit-in/0x450/unshoppable_producs/98ae6871-5ee8-4a8b-8d9e-1d4c7bde8bcf.jpg - as ./shoplook/data/images/casual/6d9676be6f.jpg\n",
      "SUCCESS - saved https://d2bzx2vuetkzse.cloudfront.net/fit-in/0x450/unshoppable_producs/1e22d984-578a-4cdc-a8ea-480d50dfdd66.jpg - as ./shoplook/data/images/casual/d6791f8e38.jpg\n",
      "SUCCESS - saved https://d2bzx2vuetkzse.cloudfront.net/fit-in/0x450/unshoppable_producs/9a3ad382-4885-4de3-9a12-08b07291821d.jpeg - as ./shoplook/data/images/casual/ecaec62330.jpg\n",
      "SUCCESS - saved https://d2bzx2vuetkzse.cloudfront.net/fit-in/0x450/unshoppable_producs/f0348a21-faca-49e9-9117-aeffe7d1719c.jpeg - as ./shoplook/data/images/casual/3320ff2fbe.jpg\n",
      "SUCCESS - saved https://d2bzx2vuetkzse.cloudfront.net/fit-in/0x450/unshoppable_producs/cb85367c-6a7b-456e-8b52-a43fff8c4f6c.jpeg - as ./shoplook/data/images/casual/8c1aff876e.jpg\n"
     ]
    },
    {
     "name": "stderr",
     "output_type": "stream",
     "text": [
      "\r",
      " 19%|█▉        | 48/250 [12:06<48:26, 14.39s/it]"
     ]
    },
    {
     "name": "stdout",
     "output_type": "stream",
     "text": [
      "SUCCESS - saved https://d2bzx2vuetkzse.cloudfront.net/fit-in/0x450/unshoppable_producs/81b176e3-c4c7-49e9-aad2-d838e2b76d11.png - as ./shoplook/data/images/casual/b38836741c.jpg\n",
      "SUCCESS - saved https://d2bzx2vuetkzse.cloudfront.net/fit-in/0x450/unshoppable_producs/f0c5d595-a59c-4e8d-93c6-7700c8c609b5.jpeg - as ./shoplook/data/images/casual/25595b9be0.jpg\n",
      "SUCCESS - saved https://d2bzx2vuetkzse.cloudfront.net/fit-in/0x450/unshoppable_producs/8ef31777-ae3f-4a90-824f-91bbc1e26680.png - as ./shoplook/data/images/casual/5d3c1a22d2.jpg\n",
      "SUCCESS - saved https://d2bzx2vuetkzse.cloudfront.net/fit-in/0x450/unshoppable_producs/a174446f-b98b-4c9d-8ce4-723b7a72577b.jpg - as ./shoplook/data/images/casual/1c1e92ac8f.jpg\n",
      "SUCCESS - saved https://d2bzx2vuetkzse.cloudfront.net/fit-in/0x450/unshoppable_producs/5f941580-8417-4eb1-8712-0d1ce59be67c.png - as ./shoplook/data/images/casual/0a403b56cd.jpg\n",
      "SUCCESS - saved https://d2bzx2vuetkzse.cloudfront.net/fit-in/0x450/unshoppable_producs/02443b95-3bcf-4561-8ca9-f695b0f46571.png - as ./shoplook/data/images/casual/e9e69a3ee3.jpg\n",
      "SUCCESS - saved https://d2bzx2vuetkzse.cloudfront.net/fit-in/0x450/unshoppable_producs/606894ff-48c5-4f24-a67a-a52496a6d553.jpeg - as ./shoplook/data/images/casual/87f2bc3871.jpg\n",
      "SUCCESS - saved https://d2bzx2vuetkzse.cloudfront.net/fit-in/0x450/unshoppable_producs/4a669d62-ca7e-4bfe-912f-54d8e453932c.jpg - as ./shoplook/data/images/casual/b1fd7bcbb4.jpg\n",
      "SUCCESS - saved https://d2bzx2vuetkzse.cloudfront.net/fit-in/0x450/unshoppable_producs/8b5d05d1-a9df-4c62-9924-c8b3e6f17025.jpeg - as ./shoplook/data/images/casual/4fddfd574b.jpg\n",
      "SUCCESS - saved https://d2bzx2vuetkzse.cloudfront.net/fit-in/0x450/unshoppable_producs/ad5abcf9-43d9-4847-ad62-d9de089c91a7.jpeg - as ./shoplook/data/images/casual/1233f9aa73.jpg\n",
      "SUCCESS - saved https://d2bzx2vuetkzse.cloudfront.net/fit-in/0x450/unshoppable_producs/c20d4479-f80d-4037-819e-2eaeac13bcb9.jpeg - as ./shoplook/data/images/casual/e94748b9e3.jpg\n",
      "SUCCESS - saved https://d2bzx2vuetkzse.cloudfront.net/fit-in/0x450/unshoppable_producs/c969511b-8584-484e-a678-39c54f603090.jpeg - as ./shoplook/data/images/casual/4c0fdeb348.jpg\n",
      "SUCCESS - saved https://d2bzx2vuetkzse.cloudfront.net/fit-in/0x450/unshoppable_producs/c2dd0d27-115d-43c8-88cc-a18794630c25.jpeg - as ./shoplook/data/images/casual/88c968a246.jpg\n",
      "SUCCESS - saved https://d2bzx2vuetkzse.cloudfront.net/fit-in/0x450/unshoppable_producs/b57cfe37-868f-4438-838e-e808d385e2d9.jpeg - as ./shoplook/data/images/casual/a59c515ba4.jpg\n",
      "SUCCESS - saved https://d2bzx2vuetkzse.cloudfront.net/fit-in/0x450/unshoppable_producs/ce6274e5-1653-41f3-af72-c9ecd02229bb.jpeg - as ./shoplook/data/images/casual/650e9187b1.jpg\n",
      "SUCCESS - saved https://d2bzx2vuetkzse.cloudfront.net/fit-in/0x450/unshoppable_producs/c315e2c3-649f-4e65-ac74-1b93f6fa6b28.jpeg - as ./shoplook/data/images/casual/74f61d5463.jpg\n",
      "SUCCESS - saved https://d2bzx2vuetkzse.cloudfront.net/fit-in/0x450/unshoppable_producs/f1ea5227-8f39-4b1b-a590-d305bcf971ca.jpeg - as ./shoplook/data/images/casual/0630e213ca.jpg\n"
     ]
    },
    {
     "name": "stderr",
     "output_type": "stream",
     "text": [
      "\r",
      " 20%|█▉        | 49/250 [12:23<50:17, 15.01s/it]"
     ]
    },
    {
     "name": "stdout",
     "output_type": "stream",
     "text": [
      "SUCCESS - saved https://d2bzx2vuetkzse.cloudfront.net/fit-in/0x450/unshoppable_producs/269a5943-fb14-4aa1-8ccb-8c52cbc3ce63.jpg - as ./shoplook/data/images/casual/d21bcc6bc4.jpg\n",
      "SUCCESS - saved https://d2bzx2vuetkzse.cloudfront.net/fit-in/0x450/unshoppable_producs/0380a1aa-f750-435e-832d-56fa3cfe23d1.jpg - as ./shoplook/data/images/casual/350f5495f5.jpg\n",
      "SUCCESS - saved https://d2bzx2vuetkzse.cloudfront.net/fit-in/0x450/unshoppable_producs/51202df2-f3fd-4d7a-ba1c-2ee6cd2c5897.jpg - as ./shoplook/data/images/casual/d73e4fd206.jpg\n",
      "SUCCESS - saved https://d2bzx2vuetkzse.cloudfront.net/fit-in/0x450/unshoppable_producs/d8217f7c-7af7-47b1-9140-f4092b572dc0.jpeg - as ./shoplook/data/images/casual/190df0e9dd.jpg\n",
      "SUCCESS - saved https://d2bzx2vuetkzse.cloudfront.net/fit-in/0x450/unshoppable_producs/2a5233a0-61ea-46bd-afd1-36cc3a774913.jpeg - as ./shoplook/data/images/casual/9d5f355cc8.jpg\n"
     ]
    },
    {
     "name": "stderr",
     "output_type": "stream",
     "text": [
      "\r",
      " 20%|██        | 50/250 [12:35<47:54, 14.37s/it]"
     ]
    },
    {
     "name": "stdout",
     "output_type": "stream",
     "text": [
      "SUCCESS - saved https://d2bzx2vuetkzse.cloudfront.net/fit-in/0x450/unshoppable_producs/cccc9299-55dc-4ac7-91d6-c0877c01b9d7.jpeg - as ./shoplook/data/images/casual/e6206ecb91.jpg\n",
      "SUCCESS - saved https://d2bzx2vuetkzse.cloudfront.net/fit-in/0x450/unshoppable_producs/5f2cb998-f336-44a1-abe6-7e9b4e98143d.jpg - as ./shoplook/data/images/casual/4a34b7ef33.jpg\n",
      "SUCCESS - saved https://d2bzx2vuetkzse.cloudfront.net/fit-in/0x450/unshoppable_producs/1b426051-274f-4126-89c1-19ed101d1049.jpg - as ./shoplook/data/images/casual/c0d7000b46.jpg\n",
      "SUCCESS - saved https://d2bzx2vuetkzse.cloudfront.net/fit-in/0x450/unshoppable_producs/2cacce25-353f-4efa-acf4-502a4253826d.jpeg - as ./shoplook/data/images/casual/30de4cb4ef.jpg\n",
      "SUCCESS - saved https://d2bzx2vuetkzse.cloudfront.net/fit-in/0x450/unshoppable_producs/621e8db0-0044-4f34-b291-03812d26ad26.jpeg - as ./shoplook/data/images/casual/a9b0fbc583.jpg\n",
      "SUCCESS - saved https://d2bzx2vuetkzse.cloudfront.net/fit-in/0x450/unshoppable_producs/9085dc22-1324-4c88-89d0-0507888f20c4.jpeg - as ./shoplook/data/images/casual/ab3a458a09.jpg\n"
     ]
    },
    {
     "name": "stderr",
     "output_type": "stream",
     "text": [
      "\r",
      " 20%|██        | 51/250 [12:48<46:02, 13.88s/it]"
     ]
    },
    {
     "name": "stdout",
     "output_type": "stream",
     "text": [
      "SUCCESS - saved https://d2bzx2vuetkzse.cloudfront.net/fit-in/0x450/unshoppable_producs/7e463f15-4b9c-4d14-acb6-36806bf8f43b.jpg - as ./shoplook/data/images/casual/e702eb11e2.jpg\n",
      "SUCCESS - saved https://d2bzx2vuetkzse.cloudfront.net/fit-in/0x450/unshoppable_producs/81b176e3-c4c7-49e9-aad2-d838e2b76d11.png - as ./shoplook/data/images/casual/b38836741c.jpg\n",
      "SUCCESS - saved https://d2bzx2vuetkzse.cloudfront.net/fit-in/0x450/unshoppable_producs/f0c5d595-a59c-4e8d-93c6-7700c8c609b5.jpeg - as ./shoplook/data/images/casual/25595b9be0.jpg\n",
      "SUCCESS - saved https://d2bzx2vuetkzse.cloudfront.net/fit-in/0x450/unshoppable_producs/8ef31777-ae3f-4a90-824f-91bbc1e26680.png - as ./shoplook/data/images/casual/5d3c1a22d2.jpg\n",
      "SUCCESS - saved https://d2bzx2vuetkzse.cloudfront.net/fit-in/0x450/unshoppable_producs/5f941580-8417-4eb1-8712-0d1ce59be67c.png - as ./shoplook/data/images/casual/0a403b56cd.jpg\n",
      "SUCCESS - saved https://d2bzx2vuetkzse.cloudfront.net/fit-in/0x450/unshoppable_producs/02443b95-3bcf-4561-8ca9-f695b0f46571.png - as ./shoplook/data/images/casual/e9e69a3ee3.jpg\n",
      "SUCCESS - saved https://d2bzx2vuetkzse.cloudfront.net/fit-in/0x450/unshoppable_producs/606894ff-48c5-4f24-a67a-a52496a6d553.jpeg - as ./shoplook/data/images/casual/87f2bc3871.jpg\n",
      "SUCCESS - saved https://d2bzx2vuetkzse.cloudfront.net/fit-in/0x450/unshoppable_producs/3bf933e4-1a79-4138-87ef-6fc3c0152dec.jpeg - as ./shoplook/data/images/casual/64564a97b9.jpg\n",
      "SUCCESS - saved https://d2bzx2vuetkzse.cloudfront.net/fit-in/0x450/unshoppable_producs/4a669d62-ca7e-4bfe-912f-54d8e453932c.jpg - as ./shoplook/data/images/casual/b1fd7bcbb4.jpg\n",
      "SUCCESS - saved https://d2bzx2vuetkzse.cloudfront.net/fit-in/0x450/unshoppable_producs/c20d4479-f80d-4037-819e-2eaeac13bcb9.jpeg - as ./shoplook/data/images/casual/e94748b9e3.jpg\n",
      "SUCCESS - saved https://d2bzx2vuetkzse.cloudfront.net/fit-in/0x450/unshoppable_producs/af597b3e-4783-49ea-a575-8143655b2e43.jpeg - as ./shoplook/data/images/casual/3a82d04c73.jpg\n",
      "SUCCESS - saved https://d2bzx2vuetkzse.cloudfront.net/fit-in/0x450/unshoppable_producs/c2dd0d27-115d-43c8-88cc-a18794630c25.jpeg - as ./shoplook/data/images/casual/88c968a246.jpg\n",
      "SUCCESS - saved https://d2bzx2vuetkzse.cloudfront.net/fit-in/0x450/unshoppable_producs/b57cfe37-868f-4438-838e-e808d385e2d9.jpeg - as ./shoplook/data/images/casual/a59c515ba4.jpg\n",
      "SUCCESS - saved https://d2bzx2vuetkzse.cloudfront.net/fit-in/0x450/unshoppable_producs/ce6274e5-1653-41f3-af72-c9ecd02229bb.jpeg - as ./shoplook/data/images/casual/650e9187b1.jpg\n",
      "SUCCESS - saved https://d2bzx2vuetkzse.cloudfront.net/fit-in/0x450/unshoppable_producs/ad23721e-4cad-4c4d-8506-b7d2084632d5.jpeg - as ./shoplook/data/images/casual/52244a1014.jpg\n",
      "SUCCESS - saved https://d2bzx2vuetkzse.cloudfront.net/fit-in/0x450/unshoppable_producs/1b718997-cf93-4be3-a80f-40f48f5a687c.jpeg - as ./shoplook/data/images/casual/890856137c.jpg\n",
      "SUCCESS - saved https://d2bzx2vuetkzse.cloudfront.net/fit-in/0x450/unshoppable_producs/9f551530-11d3-44b0-b8c3-37eae88aafec.jpeg - as ./shoplook/data/images/casual/a424319e2c.jpg\n"
     ]
    },
    {
     "name": "stderr",
     "output_type": "stream",
     "text": [
      "\r",
      " 21%|██        | 52/250 [13:01<44:48, 13.58s/it]"
     ]
    },
    {
     "name": "stdout",
     "output_type": "stream",
     "text": [
      "SUCCESS - saved https://d2bzx2vuetkzse.cloudfront.net/fit-in/0x450/unshoppable_producs/967f181f-259f-4c78-bc8e-e6577158c7b9.png - as ./shoplook/data/images/casual/0becdd5f76.jpg\n",
      "SUCCESS - saved https://d2bzx2vuetkzse.cloudfront.net/fit-in/0x450/unshoppable_producs/4fe0c46a-422b-40e3-ad07-b2c1ceff50f3.png - as ./shoplook/data/images/casual/f63157b5ce.jpg\n",
      "SUCCESS - saved https://d2bzx2vuetkzse.cloudfront.net/fit-in/0x450/unshoppable_producs/9416727e-7d31-4c7a-94ad-2ddb41ca55e6.jpeg - as ./shoplook/data/images/casual/765933fb55.jpg\n",
      "SUCCESS - saved https://d2bzx2vuetkzse.cloudfront.net/fit-in/0x450/unshoppable_producs/e05b50a6-745f-4998-8a6b-c04b5b7e0fb5.png - as ./shoplook/data/images/casual/f96fdc9a93.jpg\n",
      "SUCCESS - saved https://d2bzx2vuetkzse.cloudfront.net/fit-in/0x450/unshoppable_producs/8c6a357b-6804-46a9-ae02-bc1d280b8084.jpeg - as ./shoplook/data/images/casual/4e8542b97f.jpg\n",
      "SUCCESS - saved https://d2bzx2vuetkzse.cloudfront.net/fit-in/0x450/unshoppable_producs/a174446f-b98b-4c9d-8ce4-723b7a72577b.jpg - as ./shoplook/data/images/casual/1c1e92ac8f.jpg\n",
      "SUCCESS - saved https://d2bzx2vuetkzse.cloudfront.net/fit-in/0x450/unshoppable_producs/b797c801-4d0f-4aa7-8ae6-b7bd96dd112c.png - as ./shoplook/data/images/casual/b8515af519.jpg\n",
      "SUCCESS - saved https://d2bzx2vuetkzse.cloudfront.net/fit-in/0x450/unshoppable_producs/331e9254-2813-4333-a0ca-c902a39210a9.jpeg - as ./shoplook/data/images/casual/076e61e0ab.jpg\n",
      "SUCCESS - saved https://d2bzx2vuetkzse.cloudfront.net/fit-in/0x450/unshoppable_producs/02443b95-3bcf-4561-8ca9-f695b0f46571.png - as ./shoplook/data/images/casual/e9e69a3ee3.jpg\n",
      "SUCCESS - saved https://d2bzx2vuetkzse.cloudfront.net/fit-in/0x450/unshoppable_producs/d897bcb8-b92a-42ee-836e-63f75ad344ab.jpeg - as ./shoplook/data/images/casual/9605f39d4d.jpg\n",
      "SUCCESS - saved https://d2bzx2vuetkzse.cloudfront.net/fit-in/0x450/unshoppable_producs/31c4102f-0884-4880-a03f-af198bc6b72a.jpeg - as ./shoplook/data/images/casual/8107c95720.jpg\n",
      "SUCCESS - saved https://d2bzx2vuetkzse.cloudfront.net/fit-in/0x450/unshoppable_producs/b593faef-f53b-4cd6-95e2-7b2543f8ea7d.png - as ./shoplook/data/images/casual/702adf8f62.jpg\n",
      "SUCCESS - saved https://d2bzx2vuetkzse.cloudfront.net/fit-in/0x450/unshoppable_producs/3a2e3f62-a467-403c-a803-67b03ebbb585.png - as ./shoplook/data/images/casual/4eb74be651.jpg\n",
      "SUCCESS - saved https://d2bzx2vuetkzse.cloudfront.net/fit-in/0x450/unshoppable_producs/36317fbd-d43c-479b-9492-8a504a9d739a.png - as ./shoplook/data/images/casual/2849d59d9c.jpg\n",
      "SUCCESS - saved https://d2bzx2vuetkzse.cloudfront.net/fit-in/0x450/unshoppable_producs/5b36fc85-07e5-4d9e-9895-deac89843bee.jpeg - as ./shoplook/data/images/casual/ea0c03de6d.jpg\n",
      "SUCCESS - saved https://d2bzx2vuetkzse.cloudfront.net/fit-in/0x450/unshoppable_producs/f18fa35f-d451-4fc9-adf5-826210bb5d62.png - as ./shoplook/data/images/casual/dc53f43ab5.jpg\n",
      "SUCCESS - saved https://d2bzx2vuetkzse.cloudfront.net/fit-in/0x450/unshoppable_producs/8cf0a48b-b0da-43cf-8c86-df10ae0f4644.png - as ./shoplook/data/images/casual/87244d90bc.jpg\n",
      "SUCCESS - saved https://d2bzx2vuetkzse.cloudfront.net/fit-in/0x450/unshoppable_producs/a3d8f866-12ff-4441-9eec-6ce3147bf120.jpeg - as ./shoplook/data/images/casual/90c9857b9a.jpg\n"
     ]
    },
    {
     "name": "stderr",
     "output_type": "stream",
     "text": [
      "\r",
      " 21%|██        | 53/250 [13:17<46:50, 14.27s/it]"
     ]
    },
    {
     "name": "stdout",
     "output_type": "stream",
     "text": [
      "SUCCESS - saved https://d2bzx2vuetkzse.cloudfront.net/fit-in/0x450/unshoppable_producs/49528e79-c43a-46e0-94e4-1981c36dd69e.png - as ./shoplook/data/images/casual/51f7206168.jpg\n",
      "SUCCESS - saved https://d2bzx2vuetkzse.cloudfront.net/fit-in/0x450/unshoppable_producs/4567ca80-b45a-47e5-b27e-81a8db9999db.jpg - as ./shoplook/data/images/casual/233db9f775.jpg\n",
      "SUCCESS - saved https://d2bzx2vuetkzse.cloudfront.net/fit-in/0x450/unshoppable_producs/540bcbf3-51fd-4d56-b981-1aa0af51847f.jpeg - as ./shoplook/data/images/casual/920c1c3065.jpg\n",
      "SUCCESS - saved https://d2bzx2vuetkzse.cloudfront.net/fit-in/0x450/unshoppable_producs/a1dc5aae-cbf7-4658-b584-28988568b257.jpgv1504287337 - as ./shoplook/data/images/casual/404a547914.jpg\n",
      "SUCCESS - saved https://d2bzx2vuetkzse.cloudfront.net/fit-in/0x450/unshoppable_producs/4da3d33b-f1d3-4f34-b87d-6725364b948d.jpeg - as ./shoplook/data/images/casual/1e0a4e2d8c.jpg\n",
      "SUCCESS - saved https://d2bzx2vuetkzse.cloudfront.net/fit-in/0x450/unshoppable_producs/3438c52b-d6ef-4032-ada9-f7d44025cbc1.jpeg - as ./shoplook/data/images/casual/0e6230e10b.jpg\n",
      "SUCCESS - saved https://d2bzx2vuetkzse.cloudfront.net/fit-in/0x450/unshoppable_producs/1dd01fc1-2d04-4f64-81fb-9231a622f218.webp - as ./shoplook/data/images/casual/78114c580b.jpg\n",
      "SUCCESS - saved https://d2bzx2vuetkzse.cloudfront.net/fit-in/0x450/unshoppable_producs/3daa7b2c-f458-4250-9e94-61335a6d98a6.jpeg - as ./shoplook/data/images/casual/2b6259d1a3.jpg\n"
     ]
    },
    {
     "name": "stderr",
     "output_type": "stream",
     "text": [
      "\r",
      " 22%|██▏       | 54/250 [13:34<49:04, 15.02s/it]"
     ]
    },
    {
     "name": "stdout",
     "output_type": "stream",
     "text": [
      "SUCCESS - saved https://d2bzx2vuetkzse.cloudfront.net/fit-in/0x450/unshoppable_producs/bac5041a-e793-4bf1-a963-537473a71056.jpeg - as ./shoplook/data/images/casual/727ccbd60d.jpg\n",
      "SUCCESS - saved https://d2bzx2vuetkzse.cloudfront.net/fit-in/0x450/unshoppable_producs/20d51a19-e28a-4140-923f-432702ad2822.jpeg - as ./shoplook/data/images/casual/f3cb4fe2a9.jpg\n",
      "SUCCESS - saved https://d2bzx2vuetkzse.cloudfront.net/fit-in/0x450/unshoppable_producs/6bd1b64a-9e9f-4c3b-b9ac-d8402bb71522.jpeg - as ./shoplook/data/images/casual/0f2511e12e.jpg\n",
      "SUCCESS - saved https://d2bzx2vuetkzse.cloudfront.net/fit-in/0x450/unshoppable_producs/a2444578-9bed-4224-bc90-b527776529fc.jpeg - as ./shoplook/data/images/casual/d187c444e0.jpg\n",
      "SUCCESS - saved https://d2bzx2vuetkzse.cloudfront.net/fit-in/0x450/unshoppable_producs/28b5cafa-9f6c-4d5f-8e0a-a23609849f47.webp - as ./shoplook/data/images/casual/9ce4fdb25a.jpg\n",
      "SUCCESS - saved https://d2bzx2vuetkzse.cloudfront.net/fit-in/0x450/unshoppable_producs/afaf4669-fdbf-4ffb-a1e1-fecb21550a8c.webp - as ./shoplook/data/images/casual/f4b43c05be.jpg\n",
      "SUCCESS - saved https://d2bzx2vuetkzse.cloudfront.net/fit-in/0x450/unshoppable_producs/420981b3-3d5a-42ce-aca5-15dbc89267f2.jpeg - as ./shoplook/data/images/casual/6e4142b03c.jpg\n",
      "SUCCESS - saved https://d2bzx2vuetkzse.cloudfront.net/fit-in/0x450/unshoppable_producs/221f1de9-7ca9-40aa-8146-6c8679e6603e.jpeg - as ./shoplook/data/images/casual/5f2c6a103a.jpg\n"
     ]
    },
    {
     "name": "stderr",
     "output_type": "stream",
     "text": [
      "\r",
      " 22%|██▏       | 55/250 [13:47<47:04, 14.48s/it]"
     ]
    },
    {
     "name": "stdout",
     "output_type": "stream",
     "text": [
      "SUCCESS - saved https://d2bzx2vuetkzse.cloudfront.net/fit-in/0x450/unshoppable_producs/01683c82-4c24-4f65-b9d4-d75efc83ab53.jpeg - as ./shoplook/data/images/casual/c2fcdd7c57.jpg\n",
      "SUCCESS - saved https://d2bzx2vuetkzse.cloudfront.net/fit-in/0x450/unshoppable_producs/9e39324c-0697-480f-ba26-e48e6b0ec4c0.jpeg - as ./shoplook/data/images/casual/0d8bbc0bc6.jpg\n",
      "SUCCESS - saved https://d2bzx2vuetkzse.cloudfront.net/fit-in/0x450/unshoppable_producs/895cf648-d882-4a97-8535-64f7e810cf8e.jpeg - as ./shoplook/data/images/casual/d9e5fc4615.jpg\n",
      "SUCCESS - saved https://d2bzx2vuetkzse.cloudfront.net/fit-in/0x450/unshoppable_producs/325193a6-5f3e-432c-8102-6d719ffc9dff.jpeg - as ./shoplook/data/images/casual/af09a200a2.jpg\n",
      "SUCCESS - saved https://d2bzx2vuetkzse.cloudfront.net/fit-in/0x450/unshoppable_producs/ecf849a8-0366-4cc5-9091-d3613ef8eb94.jpeg - as ./shoplook/data/images/casual/905e86fc8e.jpg\n"
     ]
    },
    {
     "name": "stderr",
     "output_type": "stream",
     "text": [
      "\r",
      " 22%|██▏       | 56/250 [13:58<43:31, 13.46s/it]"
     ]
    },
    {
     "name": "stdout",
     "output_type": "stream",
     "text": [
      "SUCCESS - saved https://d2bzx2vuetkzse.cloudfront.net/fit-in/0x450/unshoppable_producs/6e88f70d-6c71-4dc1-b321-f7a39491d1d6.jpeg - as ./shoplook/data/images/casual/20ea7dd3a9.jpg\n",
      "SUCCESS - saved https://d2bzx2vuetkzse.cloudfront.net/fit-in/0x450/unshoppable_producs/c99c48e8-4647-4537-88e5-96bea4aa8348.jpeg - as ./shoplook/data/images/casual/bfca7eb521.jpg\n",
      "SUCCESS - saved https://d2bzx2vuetkzse.cloudfront.net/fit-in/0x450/unshoppable_producs/3184e9d9-c553-431b-a55f-454393c848a9.jpeg - as ./shoplook/data/images/casual/1cec1e2099.jpg\n",
      "SUCCESS - saved https://d2bzx2vuetkzse.cloudfront.net/fit-in/0x450/unshoppable_producs/ea515da3-7f14-4da3-b186-c3b8762a3180.jpeg - as ./shoplook/data/images/casual/61154c4898.jpg\n",
      "SUCCESS - saved https://d2bzx2vuetkzse.cloudfront.net/fit-in/0x450/unshoppable_producs/34833690-459a-4cc6-8d85-3196168e3863.jpeg - as ./shoplook/data/images/casual/447984eb45.jpg\n",
      "SUCCESS - saved https://d2bzx2vuetkzse.cloudfront.net/fit-in/0x450/unshoppable_producs/adfc9eb8-91e9-45b6-9454-a6995b8b428c.jpeg - as ./shoplook/data/images/casual/2e57f14b09.jpg\n",
      "SUCCESS - saved https://d2bzx2vuetkzse.cloudfront.net/fit-in/0x450/unshoppable_producs/2e8e0016-fb50-4d7e-bc9c-93a039e15c02.jpeg - as ./shoplook/data/images/casual/5bcac16588.jpg\n"
     ]
    },
    {
     "name": "stderr",
     "output_type": "stream",
     "text": [
      "\r",
      " 23%|██▎       | 57/250 [14:12<44:19, 13.78s/it]"
     ]
    },
    {
     "name": "stdout",
     "output_type": "stream",
     "text": [
      "SUCCESS - saved https://d2bzx2vuetkzse.cloudfront.net/fit-in/0x450/unshoppable_producs/78cc6e19-e6ad-43aa-92d9-c229dc6ed174.jpeg - as ./shoplook/data/images/casual/9e0d4f12fe.jpg\n",
      "SUCCESS - saved https://d2bzx2vuetkzse.cloudfront.net/fit-in/0x450/unshoppable_producs/e8b4b693-e76d-4051-b0d1-029a2ff26a82.jpg - as ./shoplook/data/images/casual/a50e8ecb30.jpg\n",
      "SUCCESS - saved https://d2bzx2vuetkzse.cloudfront.net/fit-in/0x450/unshoppable_producs/6e78752e-fb63-4076-bce5-9d1a47fdb237.jpeg - as ./shoplook/data/images/casual/65b88e336a.jpg\n",
      "SUCCESS - saved https://d2bzx2vuetkzse.cloudfront.net/fit-in/0x450/unshoppable_producs/60be44a7-dfab-42fe-a16e-d9771095ed6c.jpeg - as ./shoplook/data/images/casual/1f046531a5.jpg\n",
      "SUCCESS - saved https://d2bzx2vuetkzse.cloudfront.net/fit-in/0x450/unshoppable_producs/1c5f95b2-9adf-4f83-9d2e-594b12ee1331.jpeg - as ./shoplook/data/images/casual/a603a13cd9.jpg\n",
      "SUCCESS - saved https://d2bzx2vuetkzse.cloudfront.net/fit-in/0x450/unshoppable_producs/9437bde6-6f3a-4609-a66e-d576b6bbd2b1.jpeg - as ./shoplook/data/images/casual/57a0eda9f9.jpg\n",
      "SUCCESS - saved https://d2bzx2vuetkzse.cloudfront.net/fit-in/0x450/unshoppable_producs/c34e8db0-163a-439f-a6ed-c07c10d8862d.jpeg - as ./shoplook/data/images/casual/9ab2707831.jpg\n"
     ]
    },
    {
     "name": "stderr",
     "output_type": "stream",
     "text": [
      "\r",
      " 23%|██▎       | 58/250 [14:28<45:30, 14.22s/it]"
     ]
    },
    {
     "name": "stdout",
     "output_type": "stream",
     "text": [
      "SUCCESS - saved https://d2bzx2vuetkzse.cloudfront.net/fit-in/0x450/unshoppable_producs/90a14160-fb94-4b02-9ae8-2d291dee1dbf.jpeg - as ./shoplook/data/images/casual/9e8948c8db.jpg\n",
      "SUCCESS - saved https://d2bzx2vuetkzse.cloudfront.net/fit-in/0x450/unshoppable_producs/f2a9d96f-9a0d-40b0-b68c-056b0cf4c7b4.jpeg - as ./shoplook/data/images/casual/220208fd57.jpg\n",
      "SUCCESS - saved https://d2bzx2vuetkzse.cloudfront.net/fit-in/0x450/unshoppable_producs/d64b8fef-400c-4a48-98be-81af1e9bbe51.webp - as ./shoplook/data/images/casual/aaf4741699.jpg\n",
      "SUCCESS - saved https://d2bzx2vuetkzse.cloudfront.net/fit-in/0x450/unshoppable_producs/f244692f-1dd6-46c7-90a5-fe467d39fb19.jpeg - as ./shoplook/data/images/casual/4134224827.jpg\n",
      "SUCCESS - saved https://d2bzx2vuetkzse.cloudfront.net/fit-in/0x450/unshoppable_producs/913e5fc9-0060-4c02-bc4c-459cf4eed8a9.jpeg - as ./shoplook/data/images/casual/8264ed22ae.jpg\n",
      "SUCCESS - saved https://d2bzx2vuetkzse.cloudfront.net/fit-in/0x450/unshoppable_producs/0e2f5a15-ae61-429f-8003-78eca923412f.jpeg - as ./shoplook/data/images/casual/f318c165ca.jpg\n"
     ]
    },
    {
     "name": "stderr",
     "output_type": "stream",
     "text": [
      "\r",
      " 24%|██▎       | 59/250 [14:40<43:37, 13.70s/it]"
     ]
    },
    {
     "name": "stdout",
     "output_type": "stream",
     "text": [
      "SUCCESS - saved https://d2bzx2vuetkzse.cloudfront.net/fit-in/0x450/unshoppable_producs/42c9f66c-04e8-4b24-afcf-29ae046f400b.jpeg - as ./shoplook/data/images/casual/a05022ce6a.jpg\n",
      "SUCCESS - saved https://d2bzx2vuetkzse.cloudfront.net/fit-in/0x450/unshoppable_producs/6c3d613a-0c6b-4003-9628-d3fa6acf4b44.jpg - as ./shoplook/data/images/casual/c579c78465.jpg\n",
      "SUCCESS - saved https://d2bzx2vuetkzse.cloudfront.net/fit-in/0x450/unshoppable_producs/e25efd98-44d0-44bf-a45c-ad70a61875fb.jpeg - as ./shoplook/data/images/casual/232e0b2387.jpg\n",
      "SUCCESS - saved https://d2bzx2vuetkzse.cloudfront.net/fit-in/0x450/unshoppable_producs/e0df1543-0260-4358-8753-aad78a40146b.jpeg - as ./shoplook/data/images/casual/d64e9e20b3.jpg\n",
      "SUCCESS - saved https://d2bzx2vuetkzse.cloudfront.net/fit-in/0x450/unshoppable_producs/e128c3f6-fba2-4047-8c7e-4853ae9b3597.jpeg - as ./shoplook/data/images/casual/c3de602fd5.jpg\n",
      "SUCCESS - saved https://d2bzx2vuetkzse.cloudfront.net/fit-in/0x450/unshoppable_producs/d2bc79ed-d862-42d8-a7f3-6bcb419b0d81.jpeg - as ./shoplook/data/images/casual/6a2d19b5f3.jpg\n",
      "SUCCESS - saved https://d2bzx2vuetkzse.cloudfront.net/fit-in/0x450/unshoppable_producs/0a906100-b363-4752-a5ac-313410568814.jpeg - as ./shoplook/data/images/casual/3b8dfaf24d.jpg\n",
      "SUCCESS - saved https://d2bzx2vuetkzse.cloudfront.net/fit-in/0x450/unshoppable_producs/407af3ac-3bf2-4479-a90b-aeb7fcf2bdca.jpeg - as ./shoplook/data/images/casual/378e851643.jpg\n"
     ]
    },
    {
     "name": "stderr",
     "output_type": "stream",
     "text": [
      "\r",
      " 24%|██▍       | 60/250 [14:54<43:23, 13.70s/it]"
     ]
    },
    {
     "name": "stdout",
     "output_type": "stream",
     "text": [
      "SUCCESS - saved https://d2bzx2vuetkzse.cloudfront.net/fit-in/0x450/unshoppable_producs/381346f4-5b97-4e71-a7e9-82290752d7bd.jpeg - as ./shoplook/data/images/casual/c13ed13f2c.jpg\n",
      "SUCCESS - saved https://d2bzx2vuetkzse.cloudfront.net/fit-in/0x450/unshoppable_producs/1abb54e1-52c7-47a9-abb3-75aac602ca03.jpeg - as ./shoplook/data/images/casual/b4a7926a37.jpg\n",
      "SUCCESS - saved https://d2bzx2vuetkzse.cloudfront.net/fit-in/0x450/unshoppable_producs/cbeb3129-ba7f-4f32-ac6f-b58e63c2498c.jpeg - as ./shoplook/data/images/casual/77705d13cc.jpg\n",
      "SUCCESS - saved https://d2bzx2vuetkzse.cloudfront.net/fit-in/0x450/unshoppable_producs/e8bd448a-4eb0-4ac5-bddc-11a8520ffc64.jpeg - as ./shoplook/data/images/casual/c299f4f6f0.jpg\n",
      "SUCCESS - saved https://d2bzx2vuetkzse.cloudfront.net/fit-in/0x450/unshoppable_producs/f28a501c-8171-409e-b296-fb9df6ce88eb.jpeg - as ./shoplook/data/images/casual/52be3db921.jpg\n"
     ]
    },
    {
     "name": "stderr",
     "output_type": "stream",
     "text": [
      "\r",
      " 24%|██▍       | 61/250 [15:13<48:21, 15.35s/it]"
     ]
    },
    {
     "name": "stdout",
     "output_type": "stream",
     "text": [
      "SUCCESS - saved https://d2bzx2vuetkzse.cloudfront.net/fit-in/0x450/unshoppable_producs/0195c639-a248-4513-a46b-f5741a03e958.jpeg - as ./shoplook/data/images/casual/11cc1c7c84.jpg\n",
      "SUCCESS - saved https://d2bzx2vuetkzse.cloudfront.net/fit-in/0x450/unshoppable_producs/4de3df4c-99dd-4f60-af46-b21c0ffbabc3.jpg - as ./shoplook/data/images/casual/c2df11e095.jpg\n",
      "SUCCESS - saved https://d2bzx2vuetkzse.cloudfront.net/fit-in/0x450/unshoppable_producs/621b2fd3-9345-44ef-96f6-763eb36aa925.jpg - as ./shoplook/data/images/casual/43c7417c5c.jpg\n",
      "SUCCESS - saved https://d2bzx2vuetkzse.cloudfront.net/fit-in/0x450/unshoppable_producs/83cf0c2a-e670-46f6-9c17-a3a3f4eccec4.jpeg - as ./shoplook/data/images/casual/baee2e4fe6.jpg\n",
      "SUCCESS - saved https://d2bzx2vuetkzse.cloudfront.net/fit-in/0x450/unshoppable_producs/5bd255a9-0bc5-4c8e-a0d2-6569d4091335.jpeg - as ./shoplook/data/images/casual/64877efb62.jpg\n",
      "SUCCESS - saved https://d2bzx2vuetkzse.cloudfront.net/fit-in/0x450/unshoppable_producs/101ac564-44d4-4856-b8cd-ec9c36b20c8c.jpeg - as ./shoplook/data/images/casual/b3bd2bea4e.jpg\n",
      "SUCCESS - saved https://d2bzx2vuetkzse.cloudfront.net/fit-in/0x450/unshoppable_producs/8f182c4b-026c-45cb-baf2-60948cc790d5.jpeg - as ./shoplook/data/images/casual/14a62c28cd.jpg\n",
      "SUCCESS - saved https://d2bzx2vuetkzse.cloudfront.net/fit-in/0x450/unshoppable_producs/47c658d7-47b5-4186-a06c-822a8f4ac7cc.jpeg - as ./shoplook/data/images/casual/fdc69b53ec.jpg\n",
      "SUCCESS - saved https://d2bzx2vuetkzse.cloudfront.net/fit-in/0x450/unshoppable_producs/b40768b8-e1db-4c04-b334-cf5d03ceb2bb.jpeg - as ./shoplook/data/images/casual/c4b35a02ae.jpg\n",
      "SUCCESS - saved https://d2bzx2vuetkzse.cloudfront.net/fit-in/0x450/unshoppable_producs/ae940c83-73bb-4edb-b29a-f86e6b3061a4.webp - as ./shoplook/data/images/casual/5bc7cd9d71.jpg\n"
     ]
    },
    {
     "name": "stderr",
     "output_type": "stream",
     "text": [
      "\r",
      " 25%|██▍       | 62/250 [15:27<46:57, 14.99s/it]"
     ]
    },
    {
     "name": "stdout",
     "output_type": "stream",
     "text": [
      "SUCCESS - saved https://d2bzx2vuetkzse.cloudfront.net/fit-in/0x450/unshoppable_producs/667b8b42-005e-4009-89f5-84a33ca6932a.jpeg - as ./shoplook/data/images/casual/ad50b86043.jpg\n",
      "SUCCESS - saved https://d2bzx2vuetkzse.cloudfront.net/fit-in/0x450/unshoppable_producs/51e687f7-4956-4fc1-b0e5-f5c5d6ebfb90.jpeg - as ./shoplook/data/images/casual/34aa52cd85.jpg\n",
      "SUCCESS - saved https://d2bzx2vuetkzse.cloudfront.net/fit-in/0x450/unshoppable_producs/4402cc19-d718-4d83-aa24-1d7ae79f9b0c.jpeg - as ./shoplook/data/images/casual/2bf7f2946a.jpg\n",
      "SUCCESS - saved https://d2bzx2vuetkzse.cloudfront.net/fit-in/0x450/unshoppable_producs/8178cb2c-0daa-4b64-886e-c369beef715c.jpeg - as ./shoplook/data/images/casual/0199e4f4b8.jpg\n",
      "SUCCESS - saved https://d2bzx2vuetkzse.cloudfront.net/fit-in/0x450/unshoppable_producs/1efbbb52-d17c-4904-8285-c35e1c0ebb1f.jpeg - as ./shoplook/data/images/casual/a87f599a9f.jpg\n",
      "SUCCESS - saved https://d2bzx2vuetkzse.cloudfront.net/fit-in/0x450/unshoppable_producs/55474ac2-9fd0-4409-8e50-e000e1e15ffc.jpeg - as ./shoplook/data/images/casual/79812e9d71.jpg\n",
      "SUCCESS - saved https://d2bzx2vuetkzse.cloudfront.net/fit-in/0x450/unshoppable_producs/1cf4a16a-7e00-482f-a8e6-a9991c1c7509.jpeg - as ./shoplook/data/images/casual/0735b4b01b.jpg\n",
      "SUCCESS - saved https://d2bzx2vuetkzse.cloudfront.net/fit-in/0x450/unshoppable_producs/0fb70ad2-0c08-436b-9436-b1810346c0d5.jpeg - as ./shoplook/data/images/casual/f47d6d173c.jpg\n",
      "SUCCESS - saved https://d2bzx2vuetkzse.cloudfront.net/fit-in/0x450/unshoppable_producs/4d195612-a11a-49da-b0c0-d53d8b73918e.jpeg - as ./shoplook/data/images/casual/322a09e39e.jpg\n"
     ]
    },
    {
     "name": "stderr",
     "output_type": "stream",
     "text": [
      " 25%|██▌       | 63/250 [16:01<47:32, 15.25s/it]\n"
     ]
    },
    {
     "ename": "KeyboardInterrupt",
     "evalue": "",
     "output_type": "error",
     "traceback": [
      "\u001b[0;31m---------------------------------------------------------------------------\u001b[0m",
      "\u001b[0;31mKeyboardInterrupt\u001b[0m                         Traceback (most recent call last)",
      "\u001b[0;32m<ipython-input-28-e72bd37c4de0>\u001b[0m in \u001b[0;36m<module>\u001b[0;34m\u001b[0m\n\u001b[1;32m     14\u001b[0m     \u001b[0mset_url\u001b[0m \u001b[0;34m=\u001b[0m \u001b[0;34m'https://shoplook.io'\u001b[0m \u001b[0;34m+\u001b[0m \u001b[0mhref\u001b[0m\u001b[0;34m\u001b[0m\u001b[0;34m\u001b[0m\u001b[0m\n\u001b[1;32m     15\u001b[0m     \u001b[0mdriver\u001b[0m \u001b[0;34m=\u001b[0m \u001b[0mwebdriver\u001b[0m\u001b[0;34m.\u001b[0m\u001b[0mChrome\u001b[0m\u001b[0;34m(\u001b[0m\u001b[0mchromedriver\u001b[0m\u001b[0;34m,\u001b[0m \u001b[0moptions\u001b[0m\u001b[0;34m=\u001b[0m\u001b[0moptions\u001b[0m\u001b[0;34m)\u001b[0m\u001b[0;34m\u001b[0m\u001b[0;34m\u001b[0m\u001b[0m\n\u001b[0;32m---> 16\u001b[0;31m     \u001b[0mdriver\u001b[0m\u001b[0;34m.\u001b[0m\u001b[0mget\u001b[0m\u001b[0;34m(\u001b[0m\u001b[0mset_url\u001b[0m\u001b[0;34m)\u001b[0m\u001b[0;34m\u001b[0m\u001b[0;34m\u001b[0m\u001b[0m\n\u001b[0m\u001b[1;32m     17\u001b[0m     \u001b[0mtime\u001b[0m\u001b[0;34m.\u001b[0m\u001b[0msleep\u001b[0m\u001b[0;34m(\u001b[0m\u001b[0;36m1\u001b[0m\u001b[0;34m)\u001b[0m\u001b[0;34m\u001b[0m\u001b[0;34m\u001b[0m\u001b[0m\n\u001b[1;32m     18\u001b[0m \u001b[0;34m\u001b[0m\u001b[0m\n",
      "\u001b[0;32m~/anaconda3/envs/metis/lib/python3.8/site-packages/selenium/webdriver/remote/webdriver.py\u001b[0m in \u001b[0;36mget\u001b[0;34m(self, url)\u001b[0m\n\u001b[1;32m    331\u001b[0m         \u001b[0mLoads\u001b[0m \u001b[0ma\u001b[0m \u001b[0mweb\u001b[0m \u001b[0mpage\u001b[0m \u001b[0;32min\u001b[0m \u001b[0mthe\u001b[0m \u001b[0mcurrent\u001b[0m \u001b[0mbrowser\u001b[0m \u001b[0msession\u001b[0m\u001b[0;34m.\u001b[0m\u001b[0;34m\u001b[0m\u001b[0;34m\u001b[0m\u001b[0m\n\u001b[1;32m    332\u001b[0m         \"\"\"\n\u001b[0;32m--> 333\u001b[0;31m         \u001b[0mself\u001b[0m\u001b[0;34m.\u001b[0m\u001b[0mexecute\u001b[0m\u001b[0;34m(\u001b[0m\u001b[0mCommand\u001b[0m\u001b[0;34m.\u001b[0m\u001b[0mGET\u001b[0m\u001b[0;34m,\u001b[0m \u001b[0;34m{\u001b[0m\u001b[0;34m'url'\u001b[0m\u001b[0;34m:\u001b[0m \u001b[0murl\u001b[0m\u001b[0;34m}\u001b[0m\u001b[0;34m)\u001b[0m\u001b[0;34m\u001b[0m\u001b[0;34m\u001b[0m\u001b[0m\n\u001b[0m\u001b[1;32m    334\u001b[0m \u001b[0;34m\u001b[0m\u001b[0m\n\u001b[1;32m    335\u001b[0m     \u001b[0;34m@\u001b[0m\u001b[0mproperty\u001b[0m\u001b[0;34m\u001b[0m\u001b[0;34m\u001b[0m\u001b[0m\n",
      "\u001b[0;32m~/anaconda3/envs/metis/lib/python3.8/site-packages/selenium/webdriver/remote/webdriver.py\u001b[0m in \u001b[0;36mexecute\u001b[0;34m(self, driver_command, params)\u001b[0m\n\u001b[1;32m    317\u001b[0m \u001b[0;34m\u001b[0m\u001b[0m\n\u001b[1;32m    318\u001b[0m         \u001b[0mparams\u001b[0m \u001b[0;34m=\u001b[0m \u001b[0mself\u001b[0m\u001b[0;34m.\u001b[0m\u001b[0m_wrap_value\u001b[0m\u001b[0;34m(\u001b[0m\u001b[0mparams\u001b[0m\u001b[0;34m)\u001b[0m\u001b[0;34m\u001b[0m\u001b[0;34m\u001b[0m\u001b[0m\n\u001b[0;32m--> 319\u001b[0;31m         \u001b[0mresponse\u001b[0m \u001b[0;34m=\u001b[0m \u001b[0mself\u001b[0m\u001b[0;34m.\u001b[0m\u001b[0mcommand_executor\u001b[0m\u001b[0;34m.\u001b[0m\u001b[0mexecute\u001b[0m\u001b[0;34m(\u001b[0m\u001b[0mdriver_command\u001b[0m\u001b[0;34m,\u001b[0m \u001b[0mparams\u001b[0m\u001b[0;34m)\u001b[0m\u001b[0;34m\u001b[0m\u001b[0;34m\u001b[0m\u001b[0m\n\u001b[0m\u001b[1;32m    320\u001b[0m         \u001b[0;32mif\u001b[0m \u001b[0mresponse\u001b[0m\u001b[0;34m:\u001b[0m\u001b[0;34m\u001b[0m\u001b[0;34m\u001b[0m\u001b[0m\n\u001b[1;32m    321\u001b[0m             \u001b[0mself\u001b[0m\u001b[0;34m.\u001b[0m\u001b[0merror_handler\u001b[0m\u001b[0;34m.\u001b[0m\u001b[0mcheck_response\u001b[0m\u001b[0;34m(\u001b[0m\u001b[0mresponse\u001b[0m\u001b[0;34m)\u001b[0m\u001b[0;34m\u001b[0m\u001b[0;34m\u001b[0m\u001b[0m\n",
      "\u001b[0;32m~/anaconda3/envs/metis/lib/python3.8/site-packages/selenium/webdriver/remote/remote_connection.py\u001b[0m in \u001b[0;36mexecute\u001b[0;34m(self, command, params)\u001b[0m\n\u001b[1;32m    372\u001b[0m         \u001b[0mdata\u001b[0m \u001b[0;34m=\u001b[0m \u001b[0mutils\u001b[0m\u001b[0;34m.\u001b[0m\u001b[0mdump_json\u001b[0m\u001b[0;34m(\u001b[0m\u001b[0mparams\u001b[0m\u001b[0;34m)\u001b[0m\u001b[0;34m\u001b[0m\u001b[0;34m\u001b[0m\u001b[0m\n\u001b[1;32m    373\u001b[0m         \u001b[0murl\u001b[0m \u001b[0;34m=\u001b[0m \u001b[0;34m'%s%s'\u001b[0m \u001b[0;34m%\u001b[0m \u001b[0;34m(\u001b[0m\u001b[0mself\u001b[0m\u001b[0;34m.\u001b[0m\u001b[0m_url\u001b[0m\u001b[0;34m,\u001b[0m \u001b[0mpath\u001b[0m\u001b[0;34m)\u001b[0m\u001b[0;34m\u001b[0m\u001b[0;34m\u001b[0m\u001b[0m\n\u001b[0;32m--> 374\u001b[0;31m         \u001b[0;32mreturn\u001b[0m \u001b[0mself\u001b[0m\u001b[0;34m.\u001b[0m\u001b[0m_request\u001b[0m\u001b[0;34m(\u001b[0m\u001b[0mcommand_info\u001b[0m\u001b[0;34m[\u001b[0m\u001b[0;36m0\u001b[0m\u001b[0;34m]\u001b[0m\u001b[0;34m,\u001b[0m \u001b[0murl\u001b[0m\u001b[0;34m,\u001b[0m \u001b[0mbody\u001b[0m\u001b[0;34m=\u001b[0m\u001b[0mdata\u001b[0m\u001b[0;34m)\u001b[0m\u001b[0;34m\u001b[0m\u001b[0;34m\u001b[0m\u001b[0m\n\u001b[0m\u001b[1;32m    375\u001b[0m \u001b[0;34m\u001b[0m\u001b[0m\n\u001b[1;32m    376\u001b[0m     \u001b[0;32mdef\u001b[0m \u001b[0m_request\u001b[0m\u001b[0;34m(\u001b[0m\u001b[0mself\u001b[0m\u001b[0;34m,\u001b[0m \u001b[0mmethod\u001b[0m\u001b[0;34m,\u001b[0m \u001b[0murl\u001b[0m\u001b[0;34m,\u001b[0m \u001b[0mbody\u001b[0m\u001b[0;34m=\u001b[0m\u001b[0;32mNone\u001b[0m\u001b[0;34m)\u001b[0m\u001b[0;34m:\u001b[0m\u001b[0;34m\u001b[0m\u001b[0;34m\u001b[0m\u001b[0m\n",
      "\u001b[0;32m~/anaconda3/envs/metis/lib/python3.8/site-packages/selenium/webdriver/remote/remote_connection.py\u001b[0m in \u001b[0;36m_request\u001b[0;34m(self, method, url, body)\u001b[0m\n\u001b[1;32m    395\u001b[0m \u001b[0;34m\u001b[0m\u001b[0m\n\u001b[1;32m    396\u001b[0m         \u001b[0;32mif\u001b[0m \u001b[0mself\u001b[0m\u001b[0;34m.\u001b[0m\u001b[0mkeep_alive\u001b[0m\u001b[0;34m:\u001b[0m\u001b[0;34m\u001b[0m\u001b[0;34m\u001b[0m\u001b[0m\n\u001b[0;32m--> 397\u001b[0;31m             \u001b[0mresp\u001b[0m \u001b[0;34m=\u001b[0m \u001b[0mself\u001b[0m\u001b[0;34m.\u001b[0m\u001b[0m_conn\u001b[0m\u001b[0;34m.\u001b[0m\u001b[0mrequest\u001b[0m\u001b[0;34m(\u001b[0m\u001b[0mmethod\u001b[0m\u001b[0;34m,\u001b[0m \u001b[0murl\u001b[0m\u001b[0;34m,\u001b[0m \u001b[0mbody\u001b[0m\u001b[0;34m=\u001b[0m\u001b[0mbody\u001b[0m\u001b[0;34m,\u001b[0m \u001b[0mheaders\u001b[0m\u001b[0;34m=\u001b[0m\u001b[0mheaders\u001b[0m\u001b[0;34m)\u001b[0m\u001b[0;34m\u001b[0m\u001b[0;34m\u001b[0m\u001b[0m\n\u001b[0m\u001b[1;32m    398\u001b[0m \u001b[0;34m\u001b[0m\u001b[0m\n\u001b[1;32m    399\u001b[0m             \u001b[0mstatuscode\u001b[0m \u001b[0;34m=\u001b[0m \u001b[0mresp\u001b[0m\u001b[0;34m.\u001b[0m\u001b[0mstatus\u001b[0m\u001b[0;34m\u001b[0m\u001b[0;34m\u001b[0m\u001b[0m\n",
      "\u001b[0;32m~/anaconda3/envs/metis/lib/python3.8/site-packages/urllib3/request.py\u001b[0m in \u001b[0;36mrequest\u001b[0;34m(self, method, url, fields, headers, **urlopen_kw)\u001b[0m\n\u001b[1;32m     77\u001b[0m             )\n\u001b[1;32m     78\u001b[0m         \u001b[0;32melse\u001b[0m\u001b[0;34m:\u001b[0m\u001b[0;34m\u001b[0m\u001b[0;34m\u001b[0m\u001b[0m\n\u001b[0;32m---> 79\u001b[0;31m             return self.request_encode_body(\n\u001b[0m\u001b[1;32m     80\u001b[0m                 \u001b[0mmethod\u001b[0m\u001b[0;34m,\u001b[0m \u001b[0murl\u001b[0m\u001b[0;34m,\u001b[0m \u001b[0mfields\u001b[0m\u001b[0;34m=\u001b[0m\u001b[0mfields\u001b[0m\u001b[0;34m,\u001b[0m \u001b[0mheaders\u001b[0m\u001b[0;34m=\u001b[0m\u001b[0mheaders\u001b[0m\u001b[0;34m,\u001b[0m \u001b[0;34m**\u001b[0m\u001b[0murlopen_kw\u001b[0m\u001b[0;34m\u001b[0m\u001b[0;34m\u001b[0m\u001b[0m\n\u001b[1;32m     81\u001b[0m             )\n",
      "\u001b[0;32m~/anaconda3/envs/metis/lib/python3.8/site-packages/urllib3/request.py\u001b[0m in \u001b[0;36mrequest_encode_body\u001b[0;34m(self, method, url, fields, headers, encode_multipart, multipart_boundary, **urlopen_kw)\u001b[0m\n\u001b[1;32m    169\u001b[0m         \u001b[0mextra_kw\u001b[0m\u001b[0;34m.\u001b[0m\u001b[0mupdate\u001b[0m\u001b[0;34m(\u001b[0m\u001b[0murlopen_kw\u001b[0m\u001b[0;34m)\u001b[0m\u001b[0;34m\u001b[0m\u001b[0;34m\u001b[0m\u001b[0m\n\u001b[1;32m    170\u001b[0m \u001b[0;34m\u001b[0m\u001b[0m\n\u001b[0;32m--> 171\u001b[0;31m         \u001b[0;32mreturn\u001b[0m \u001b[0mself\u001b[0m\u001b[0;34m.\u001b[0m\u001b[0murlopen\u001b[0m\u001b[0;34m(\u001b[0m\u001b[0mmethod\u001b[0m\u001b[0;34m,\u001b[0m \u001b[0murl\u001b[0m\u001b[0;34m,\u001b[0m \u001b[0;34m**\u001b[0m\u001b[0mextra_kw\u001b[0m\u001b[0;34m)\u001b[0m\u001b[0;34m\u001b[0m\u001b[0;34m\u001b[0m\u001b[0m\n\u001b[0m",
      "\u001b[0;32m~/anaconda3/envs/metis/lib/python3.8/site-packages/urllib3/poolmanager.py\u001b[0m in \u001b[0;36murlopen\u001b[0;34m(self, method, url, redirect, **kw)\u001b[0m\n\u001b[1;32m    334\u001b[0m             \u001b[0mresponse\u001b[0m \u001b[0;34m=\u001b[0m \u001b[0mconn\u001b[0m\u001b[0;34m.\u001b[0m\u001b[0murlopen\u001b[0m\u001b[0;34m(\u001b[0m\u001b[0mmethod\u001b[0m\u001b[0;34m,\u001b[0m \u001b[0murl\u001b[0m\u001b[0;34m,\u001b[0m \u001b[0;34m**\u001b[0m\u001b[0mkw\u001b[0m\u001b[0;34m)\u001b[0m\u001b[0;34m\u001b[0m\u001b[0;34m\u001b[0m\u001b[0m\n\u001b[1;32m    335\u001b[0m         \u001b[0;32melse\u001b[0m\u001b[0;34m:\u001b[0m\u001b[0;34m\u001b[0m\u001b[0;34m\u001b[0m\u001b[0m\n\u001b[0;32m--> 336\u001b[0;31m             \u001b[0mresponse\u001b[0m \u001b[0;34m=\u001b[0m \u001b[0mconn\u001b[0m\u001b[0;34m.\u001b[0m\u001b[0murlopen\u001b[0m\u001b[0;34m(\u001b[0m\u001b[0mmethod\u001b[0m\u001b[0;34m,\u001b[0m \u001b[0mu\u001b[0m\u001b[0;34m.\u001b[0m\u001b[0mrequest_uri\u001b[0m\u001b[0;34m,\u001b[0m \u001b[0;34m**\u001b[0m\u001b[0mkw\u001b[0m\u001b[0;34m)\u001b[0m\u001b[0;34m\u001b[0m\u001b[0;34m\u001b[0m\u001b[0m\n\u001b[0m\u001b[1;32m    337\u001b[0m \u001b[0;34m\u001b[0m\u001b[0m\n\u001b[1;32m    338\u001b[0m         \u001b[0mredirect_location\u001b[0m \u001b[0;34m=\u001b[0m \u001b[0mredirect\u001b[0m \u001b[0;32mand\u001b[0m \u001b[0mresponse\u001b[0m\u001b[0;34m.\u001b[0m\u001b[0mget_redirect_location\u001b[0m\u001b[0;34m(\u001b[0m\u001b[0;34m)\u001b[0m\u001b[0;34m\u001b[0m\u001b[0;34m\u001b[0m\u001b[0m\n",
      "\u001b[0;32m~/anaconda3/envs/metis/lib/python3.8/site-packages/urllib3/connectionpool.py\u001b[0m in \u001b[0;36murlopen\u001b[0;34m(self, method, url, body, headers, retries, redirect, assert_same_host, timeout, pool_timeout, release_conn, chunked, body_pos, **response_kw)\u001b[0m\n\u001b[1;32m    668\u001b[0m \u001b[0;34m\u001b[0m\u001b[0m\n\u001b[1;32m    669\u001b[0m             \u001b[0;31m# Make the request on the httplib connection object.\u001b[0m\u001b[0;34m\u001b[0m\u001b[0;34m\u001b[0m\u001b[0;34m\u001b[0m\u001b[0m\n\u001b[0;32m--> 670\u001b[0;31m             httplib_response = self._make_request(\n\u001b[0m\u001b[1;32m    671\u001b[0m                 \u001b[0mconn\u001b[0m\u001b[0;34m,\u001b[0m\u001b[0;34m\u001b[0m\u001b[0;34m\u001b[0m\u001b[0m\n\u001b[1;32m    672\u001b[0m                 \u001b[0mmethod\u001b[0m\u001b[0;34m,\u001b[0m\u001b[0;34m\u001b[0m\u001b[0;34m\u001b[0m\u001b[0m\n",
      "\u001b[0;32m~/anaconda3/envs/metis/lib/python3.8/site-packages/urllib3/connectionpool.py\u001b[0m in \u001b[0;36m_make_request\u001b[0;34m(self, conn, method, url, timeout, chunked, **httplib_request_kw)\u001b[0m\n\u001b[1;32m    424\u001b[0m                     \u001b[0;31m# Python 3 (including for exceptions like SystemExit).\u001b[0m\u001b[0;34m\u001b[0m\u001b[0;34m\u001b[0m\u001b[0;34m\u001b[0m\u001b[0m\n\u001b[1;32m    425\u001b[0m                     \u001b[0;31m# Otherwise it looks like a bug in the code.\u001b[0m\u001b[0;34m\u001b[0m\u001b[0;34m\u001b[0m\u001b[0;34m\u001b[0m\u001b[0m\n\u001b[0;32m--> 426\u001b[0;31m                     \u001b[0msix\u001b[0m\u001b[0;34m.\u001b[0m\u001b[0mraise_from\u001b[0m\u001b[0;34m(\u001b[0m\u001b[0me\u001b[0m\u001b[0;34m,\u001b[0m \u001b[0;32mNone\u001b[0m\u001b[0;34m)\u001b[0m\u001b[0;34m\u001b[0m\u001b[0;34m\u001b[0m\u001b[0m\n\u001b[0m\u001b[1;32m    427\u001b[0m         \u001b[0;32mexcept\u001b[0m \u001b[0;34m(\u001b[0m\u001b[0mSocketTimeout\u001b[0m\u001b[0;34m,\u001b[0m \u001b[0mBaseSSLError\u001b[0m\u001b[0;34m,\u001b[0m \u001b[0mSocketError\u001b[0m\u001b[0;34m)\u001b[0m \u001b[0;32mas\u001b[0m \u001b[0me\u001b[0m\u001b[0;34m:\u001b[0m\u001b[0;34m\u001b[0m\u001b[0;34m\u001b[0m\u001b[0m\n\u001b[1;32m    428\u001b[0m             \u001b[0mself\u001b[0m\u001b[0;34m.\u001b[0m\u001b[0m_raise_timeout\u001b[0m\u001b[0;34m(\u001b[0m\u001b[0merr\u001b[0m\u001b[0;34m=\u001b[0m\u001b[0me\u001b[0m\u001b[0;34m,\u001b[0m \u001b[0murl\u001b[0m\u001b[0;34m=\u001b[0m\u001b[0murl\u001b[0m\u001b[0;34m,\u001b[0m \u001b[0mtimeout_value\u001b[0m\u001b[0;34m=\u001b[0m\u001b[0mread_timeout\u001b[0m\u001b[0;34m)\u001b[0m\u001b[0;34m\u001b[0m\u001b[0;34m\u001b[0m\u001b[0m\n",
      "\u001b[0;32m~/anaconda3/envs/metis/lib/python3.8/site-packages/urllib3/packages/six.py\u001b[0m in \u001b[0;36mraise_from\u001b[0;34m(value, from_value)\u001b[0m\n",
      "\u001b[0;32m~/anaconda3/envs/metis/lib/python3.8/site-packages/urllib3/connectionpool.py\u001b[0m in \u001b[0;36m_make_request\u001b[0;34m(self, conn, method, url, timeout, chunked, **httplib_request_kw)\u001b[0m\n\u001b[1;32m    419\u001b[0m                 \u001b[0;31m# Python 3\u001b[0m\u001b[0;34m\u001b[0m\u001b[0;34m\u001b[0m\u001b[0;34m\u001b[0m\u001b[0m\n\u001b[1;32m    420\u001b[0m                 \u001b[0;32mtry\u001b[0m\u001b[0;34m:\u001b[0m\u001b[0;34m\u001b[0m\u001b[0;34m\u001b[0m\u001b[0m\n\u001b[0;32m--> 421\u001b[0;31m                     \u001b[0mhttplib_response\u001b[0m \u001b[0;34m=\u001b[0m \u001b[0mconn\u001b[0m\u001b[0;34m.\u001b[0m\u001b[0mgetresponse\u001b[0m\u001b[0;34m(\u001b[0m\u001b[0;34m)\u001b[0m\u001b[0;34m\u001b[0m\u001b[0;34m\u001b[0m\u001b[0m\n\u001b[0m\u001b[1;32m    422\u001b[0m                 \u001b[0;32mexcept\u001b[0m \u001b[0mBaseException\u001b[0m \u001b[0;32mas\u001b[0m \u001b[0me\u001b[0m\u001b[0;34m:\u001b[0m\u001b[0;34m\u001b[0m\u001b[0;34m\u001b[0m\u001b[0m\n\u001b[1;32m    423\u001b[0m                     \u001b[0;31m# Remove the TypeError from the exception chain in\u001b[0m\u001b[0;34m\u001b[0m\u001b[0;34m\u001b[0m\u001b[0;34m\u001b[0m\u001b[0m\n",
      "\u001b[0;32m~/anaconda3/envs/metis/lib/python3.8/http/client.py\u001b[0m in \u001b[0;36mgetresponse\u001b[0;34m(self)\u001b[0m\n\u001b[1;32m   1330\u001b[0m         \u001b[0;32mtry\u001b[0m\u001b[0;34m:\u001b[0m\u001b[0;34m\u001b[0m\u001b[0;34m\u001b[0m\u001b[0m\n\u001b[1;32m   1331\u001b[0m             \u001b[0;32mtry\u001b[0m\u001b[0;34m:\u001b[0m\u001b[0;34m\u001b[0m\u001b[0;34m\u001b[0m\u001b[0m\n\u001b[0;32m-> 1332\u001b[0;31m                 \u001b[0mresponse\u001b[0m\u001b[0;34m.\u001b[0m\u001b[0mbegin\u001b[0m\u001b[0;34m(\u001b[0m\u001b[0;34m)\u001b[0m\u001b[0;34m\u001b[0m\u001b[0;34m\u001b[0m\u001b[0m\n\u001b[0m\u001b[1;32m   1333\u001b[0m             \u001b[0;32mexcept\u001b[0m \u001b[0mConnectionError\u001b[0m\u001b[0;34m:\u001b[0m\u001b[0;34m\u001b[0m\u001b[0;34m\u001b[0m\u001b[0m\n\u001b[1;32m   1334\u001b[0m                 \u001b[0mself\u001b[0m\u001b[0;34m.\u001b[0m\u001b[0mclose\u001b[0m\u001b[0;34m(\u001b[0m\u001b[0;34m)\u001b[0m\u001b[0;34m\u001b[0m\u001b[0;34m\u001b[0m\u001b[0m\n",
      "\u001b[0;32m~/anaconda3/envs/metis/lib/python3.8/http/client.py\u001b[0m in \u001b[0;36mbegin\u001b[0;34m(self)\u001b[0m\n\u001b[1;32m    301\u001b[0m         \u001b[0;31m# read until we get a non-100 response\u001b[0m\u001b[0;34m\u001b[0m\u001b[0;34m\u001b[0m\u001b[0;34m\u001b[0m\u001b[0m\n\u001b[1;32m    302\u001b[0m         \u001b[0;32mwhile\u001b[0m \u001b[0;32mTrue\u001b[0m\u001b[0;34m:\u001b[0m\u001b[0;34m\u001b[0m\u001b[0;34m\u001b[0m\u001b[0m\n\u001b[0;32m--> 303\u001b[0;31m             \u001b[0mversion\u001b[0m\u001b[0;34m,\u001b[0m \u001b[0mstatus\u001b[0m\u001b[0;34m,\u001b[0m \u001b[0mreason\u001b[0m \u001b[0;34m=\u001b[0m \u001b[0mself\u001b[0m\u001b[0;34m.\u001b[0m\u001b[0m_read_status\u001b[0m\u001b[0;34m(\u001b[0m\u001b[0;34m)\u001b[0m\u001b[0;34m\u001b[0m\u001b[0;34m\u001b[0m\u001b[0m\n\u001b[0m\u001b[1;32m    304\u001b[0m             \u001b[0;32mif\u001b[0m \u001b[0mstatus\u001b[0m \u001b[0;34m!=\u001b[0m \u001b[0mCONTINUE\u001b[0m\u001b[0;34m:\u001b[0m\u001b[0;34m\u001b[0m\u001b[0;34m\u001b[0m\u001b[0m\n\u001b[1;32m    305\u001b[0m                 \u001b[0;32mbreak\u001b[0m\u001b[0;34m\u001b[0m\u001b[0;34m\u001b[0m\u001b[0m\n",
      "\u001b[0;32m~/anaconda3/envs/metis/lib/python3.8/http/client.py\u001b[0m in \u001b[0;36m_read_status\u001b[0;34m(self)\u001b[0m\n\u001b[1;32m    262\u001b[0m \u001b[0;34m\u001b[0m\u001b[0m\n\u001b[1;32m    263\u001b[0m     \u001b[0;32mdef\u001b[0m \u001b[0m_read_status\u001b[0m\u001b[0;34m(\u001b[0m\u001b[0mself\u001b[0m\u001b[0;34m)\u001b[0m\u001b[0;34m:\u001b[0m\u001b[0;34m\u001b[0m\u001b[0;34m\u001b[0m\u001b[0m\n\u001b[0;32m--> 264\u001b[0;31m         \u001b[0mline\u001b[0m \u001b[0;34m=\u001b[0m \u001b[0mstr\u001b[0m\u001b[0;34m(\u001b[0m\u001b[0mself\u001b[0m\u001b[0;34m.\u001b[0m\u001b[0mfp\u001b[0m\u001b[0;34m.\u001b[0m\u001b[0mreadline\u001b[0m\u001b[0;34m(\u001b[0m\u001b[0m_MAXLINE\u001b[0m \u001b[0;34m+\u001b[0m \u001b[0;36m1\u001b[0m\u001b[0;34m)\u001b[0m\u001b[0;34m,\u001b[0m \u001b[0;34m\"iso-8859-1\"\u001b[0m\u001b[0;34m)\u001b[0m\u001b[0;34m\u001b[0m\u001b[0;34m\u001b[0m\u001b[0m\n\u001b[0m\u001b[1;32m    265\u001b[0m         \u001b[0;32mif\u001b[0m \u001b[0mlen\u001b[0m\u001b[0;34m(\u001b[0m\u001b[0mline\u001b[0m\u001b[0;34m)\u001b[0m \u001b[0;34m>\u001b[0m \u001b[0m_MAXLINE\u001b[0m\u001b[0;34m:\u001b[0m\u001b[0;34m\u001b[0m\u001b[0;34m\u001b[0m\u001b[0m\n\u001b[1;32m    266\u001b[0m             \u001b[0;32mraise\u001b[0m \u001b[0mLineTooLong\u001b[0m\u001b[0;34m(\u001b[0m\u001b[0;34m\"status line\"\u001b[0m\u001b[0;34m)\u001b[0m\u001b[0;34m\u001b[0m\u001b[0;34m\u001b[0m\u001b[0m\n",
      "\u001b[0;32m~/anaconda3/envs/metis/lib/python3.8/socket.py\u001b[0m in \u001b[0;36mreadinto\u001b[0;34m(self, b)\u001b[0m\n\u001b[1;32m    667\u001b[0m         \u001b[0;32mwhile\u001b[0m \u001b[0;32mTrue\u001b[0m\u001b[0;34m:\u001b[0m\u001b[0;34m\u001b[0m\u001b[0;34m\u001b[0m\u001b[0m\n\u001b[1;32m    668\u001b[0m             \u001b[0;32mtry\u001b[0m\u001b[0;34m:\u001b[0m\u001b[0;34m\u001b[0m\u001b[0;34m\u001b[0m\u001b[0m\n\u001b[0;32m--> 669\u001b[0;31m                 \u001b[0;32mreturn\u001b[0m \u001b[0mself\u001b[0m\u001b[0;34m.\u001b[0m\u001b[0m_sock\u001b[0m\u001b[0;34m.\u001b[0m\u001b[0mrecv_into\u001b[0m\u001b[0;34m(\u001b[0m\u001b[0mb\u001b[0m\u001b[0;34m)\u001b[0m\u001b[0;34m\u001b[0m\u001b[0;34m\u001b[0m\u001b[0m\n\u001b[0m\u001b[1;32m    670\u001b[0m             \u001b[0;32mexcept\u001b[0m \u001b[0mtimeout\u001b[0m\u001b[0;34m:\u001b[0m\u001b[0;34m\u001b[0m\u001b[0;34m\u001b[0m\u001b[0m\n\u001b[1;32m    671\u001b[0m                 \u001b[0mself\u001b[0m\u001b[0;34m.\u001b[0m\u001b[0m_timeout_occurred\u001b[0m \u001b[0;34m=\u001b[0m \u001b[0;32mTrue\u001b[0m\u001b[0;34m\u001b[0m\u001b[0;34m\u001b[0m\u001b[0m\n",
      "\u001b[0;31mKeyboardInterrupt\u001b[0m: "
     ]
    }
   ],
   "source": [
    "from selenium.webdriver.chrome.options import Options\n",
    "import re\n",
    "\n",
    "options = Options()\n",
    "options.headless = True\n",
    "options.add_argument(\"--window-size=1920,1200\")\n",
    "\n",
    "data = []\n",
    "for href in tqdm(hrefs):\n",
    "    options = Options()\n",
    "    options.headless = True\n",
    "    options.add_argument(\"--window-size=1920,1200\")\n",
    "\n",
    "    set_url = 'https://shoplook.io' + href\n",
    "    driver = webdriver.Chrome(chromedriver, options=options)\n",
    "    driver.get(set_url)\n",
    "    time.sleep(1)\n",
    "\n",
    "    soup = BeautifulSoup(driver.page_source, 'lxml')\n",
    "    try:\n",
    "        name = soup.find('div', class_='info-header').get_text().strip()\n",
    "    except:\n",
    "        name = None\n",
    "\n",
    "    image_url = soup.img['src']\n",
    "    set_id = re.findall('[0-9]+', set_url)[0]\n",
    "\n",
    "    try:\n",
    "        likes = soup.find('div', class_='interactions-number').get_text()\n",
    "    except:\n",
    "        likes = None\n",
    "\n",
    "    try:\n",
    "        desc = soup.find('div', class_='tags').get_text().strip()\n",
    "\n",
    "    except:\n",
    "        desc = None\n",
    "\n",
    "    items = []\n",
    "    cxt_items = soup.find_all('app-product-container')\n",
    "    for i, cxt_item in enumerate(cxt_items, 1):\n",
    "        item = ContextItem(cxt_item)\n",
    "        item.get_data(i)\n",
    "        cxt_data = {'index': item.index, 'brand': item.brand, 'name': item.name, 'price': item.price, \n",
    "                'likes': item.likes, 'product_url': item.product_url, 'image_url': item.image_url,\n",
    "                'image_path': item.image_path, 'set_id': set_id}\n",
    "        items.append(cxt_data)\n",
    "        persist_image(f'./shoplook/data/images/casual', item.image_url)\n",
    "\n",
    "    set_data = {'name': name, 'likes': likes, 'items': items, 'image_url': image_url,\n",
    "            'set_url': set_url, 'set_id': set_id, 'desc': desc, 'category': 'casual'}\n",
    "\n",
    "    data.append(set_data)\n",
    "    driver.quit()\n",
    "    time.sleep(0.05)\n",
    "\n",
    "with open(f'./shoplook/data/casual_data.json', 'w') as fout:\n",
    "    json.dump(data, fout)"
   ]
  },
  {
   "cell_type": "code",
   "execution_count": 30,
   "metadata": {
    "ExecuteTime": {
     "end_time": "2020-09-09T23:54:30.584749Z",
     "start_time": "2020-09-09T23:54:30.480871Z"
    }
   },
   "outputs": [],
   "source": [
    "with open(f'./shoplook/data/casual_data.json', 'w') as fout:\n",
    "    json.dump(data, fout)"
   ]
  },
  {
   "cell_type": "code",
   "execution_count": null,
   "metadata": {},
   "outputs": [],
   "source": []
  }
 ],
 "metadata": {
  "kernelspec": {
   "display_name": "Python [conda env:metis] *",
   "language": "python",
   "name": "conda-env-metis-py"
  },
  "language_info": {
   "codemirror_mode": {
    "name": "ipython",
    "version": 3
   },
   "file_extension": ".py",
   "mimetype": "text/x-python",
   "name": "python",
   "nbconvert_exporter": "python",
   "pygments_lexer": "ipython3",
   "version": "3.8.3"
  },
  "toc": {
   "base_numbering": 1,
   "nav_menu": {},
   "number_sections": true,
   "sideBar": true,
   "skip_h1_title": false,
   "title_cell": "Table of Contents",
   "title_sidebar": "Contents",
   "toc_cell": false,
   "toc_position": {
    "height": "calc(100% - 180px)",
    "left": "10px",
    "top": "150px",
    "width": "165px"
   },
   "toc_section_display": true,
   "toc_window_display": false
  }
 },
 "nbformat": 4,
 "nbformat_minor": 4
}
